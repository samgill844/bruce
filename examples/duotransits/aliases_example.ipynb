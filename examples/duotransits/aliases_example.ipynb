{
 "cells": [
  {
   "cell_type": "markdown",
   "id": "a9847369",
   "metadata": {},
   "source": [
    "# Imports"
   ]
  },
  {
   "cell_type": "code",
   "execution_count": 1,
   "id": "a3e19f46",
   "metadata": {},
   "outputs": [],
   "source": [
    "import bruce, numpy as np, matplotlib.pyplot as plt, os\n",
    "from astropy.table import Table\n",
    "from astropy.stats import sigma_clip"
   ]
  },
  {
   "cell_type": "markdown",
   "id": "d0606724",
   "metadata": {},
   "source": [
    "# Load the tics\n",
    "\n",
    "Data should have the form of (ascii or CSV, your choice). t_zero is in full BJD, width is in days, depth is in normalised flux. If you ue SPOCFIT, if you fit a single transit you will see 3 reported values on the bottom row which are these values for each event (t_zero, width, depth).\n",
    "\n",
    "tic_id,\tt_zero_1,\twidth_1,\tdepth_1,\tt_zero_2,\twidth_2,\tdepth_2,"
   ]
  },
  {
   "cell_type": "code",
   "execution_count": 10,
   "id": "5ebbe077",
   "metadata": {},
   "outputs": [
    {
     "name": "stdout",
     "output_type": "stream",
     "text": [
      "  tic_id      t_zero_1     width_1     depth_1       t_zero_2     width_2     depth_2  \n",
      "--------- --------------- ---------- ----------- --------------- ---------- -----------\n",
      "207501148 2459007.7301472 0.16433394 0.007730663 2459671.8785803 0.13967475 0.007416805\n"
     ]
    }
   ],
   "source": [
    "duos = Table.read('duos.csv')\n",
    "print(duos)"
   ]
  },
  {
   "cell_type": "markdown",
   "id": "46ae682c",
   "metadata": {},
   "source": [
    "# Now the main worker function\n",
    "\n",
    "This function does the following:\n",
    "-  Load the latest TESS data\n",
    "-  Flatten the lightcurve\n",
    "-  Fit the events\n",
    "-  Calcualte the aliases\n",
    "-  Plot the permissable aliases\n",
    "-  Create a report"
   ]
  },
  {
   "cell_type": "code",
   "execution_count": null,
   "id": "c6e4891b",
   "metadata": {
    "scrolled": false
   },
   "outputs": [
    {
     "name": "stdout",
     "output_type": "stream",
     "text": [
      "INFO: Found cached file /Users/sam/Software/bruce/examples/duotransits/207501148/mastDownload/HLSP/hlsp_tess-spoc_tess_phot_0000000207501148-s0016_tess_v1_tp/hlsp_tess-spoc_tess_phot_0000000207501148-s0016_tess_v1_lc.fits with expected size 149760. [astroquery.query]\n"
     ]
    },
    {
     "name": "stderr",
     "output_type": "stream",
     "text": [
      "WARNING: UnitsWarning: 'BJD - 2457000, days' did not parse as fits unit: At col 0, Unit 'BJD' not supported by the FITS standard.  If this is meant to be a custom unit, define it with 'u.def_unit'. To have it recognized inside a file reader or other code, enable it with 'u.add_enabled_units'. For details, see https://docs.astropy.org/en/latest/units/combining_and_defining.html [astropy.units.core]\n",
      "WARNING: UnitsWarning: 'e-/s' did not parse as fits unit: At col 0, Unit 'e' not supported by the FITS standard.  If this is meant to be a custom unit, define it with 'u.def_unit'. To have it recognized inside a file reader or other code, enable it with 'u.add_enabled_units'. For details, see https://docs.astropy.org/en/latest/units/combining_and_defining.html [astropy.units.core]\n",
      "WARNING: UnitsWarning: 'pixels' did not parse as fits unit: At col 0, Unit 'pixels' not supported by the FITS standard. Did you mean pixel? If this is meant to be a custom unit, define it with 'u.def_unit'. To have it recognized inside a file reader or other code, enable it with 'u.add_enabled_units'. For details, see https://docs.astropy.org/en/latest/units/combining_and_defining.html [astropy.units.core]\n"
     ]
    },
    {
     "name": "stdout",
     "output_type": "stream",
     "text": [
      "INFO: Found cached file /Users/sam/Software/bruce/examples/duotransits/207501148/mastDownload/HLSP/hlsp_tess-spoc_tess_phot_0000000207501148-s0019_tess_v1_tp/hlsp_tess-spoc_tess_phot_0000000207501148-s0019_tess_v1_lc.fits with expected size 149760. [astroquery.query]\n"
     ]
    },
    {
     "name": "stderr",
     "output_type": "stream",
     "text": [
      "WARNING: UnitsWarning: 'BJD - 2457000, days' did not parse as fits unit: At col 0, Unit 'BJD' not supported by the FITS standard.  If this is meant to be a custom unit, define it with 'u.def_unit'. To have it recognized inside a file reader or other code, enable it with 'u.add_enabled_units'. For details, see https://docs.astropy.org/en/latest/units/combining_and_defining.html [astropy.units.core]\n",
      "WARNING: UnitsWarning: 'e-/s' did not parse as fits unit: At col 0, Unit 'e' not supported by the FITS standard.  If this is meant to be a custom unit, define it with 'u.def_unit'. To have it recognized inside a file reader or other code, enable it with 'u.add_enabled_units'. For details, see https://docs.astropy.org/en/latest/units/combining_and_defining.html [astropy.units.core]\n",
      "WARNING: UnitsWarning: 'pixels' did not parse as fits unit: At col 0, Unit 'pixels' not supported by the FITS standard. Did you mean pixel? If this is meant to be a custom unit, define it with 'u.def_unit'. To have it recognized inside a file reader or other code, enable it with 'u.add_enabled_units'. For details, see https://docs.astropy.org/en/latest/units/combining_and_defining.html [astropy.units.core]\n"
     ]
    },
    {
     "name": "stdout",
     "output_type": "stream",
     "text": [
      "INFO: Found cached file /Users/sam/Software/bruce/examples/duotransits/207501148/mastDownload/HLSP/hlsp_tess-spoc_tess_phot_0000000207501148-s0022_tess_v1_tp/hlsp_tess-spoc_tess_phot_0000000207501148-s0022_tess_v1_lc.fits with expected size 161280. [astroquery.query]\n"
     ]
    },
    {
     "name": "stderr",
     "output_type": "stream",
     "text": [
      "WARNING: UnitsWarning: 'BJD - 2457000, days' did not parse as fits unit: At col 0, Unit 'BJD' not supported by the FITS standard.  If this is meant to be a custom unit, define it with 'u.def_unit'. To have it recognized inside a file reader or other code, enable it with 'u.add_enabled_units'. For details, see https://docs.astropy.org/en/latest/units/combining_and_defining.html [astropy.units.core]\n",
      "WARNING: UnitsWarning: 'e-/s' did not parse as fits unit: At col 0, Unit 'e' not supported by the FITS standard.  If this is meant to be a custom unit, define it with 'u.def_unit'. To have it recognized inside a file reader or other code, enable it with 'u.add_enabled_units'. For details, see https://docs.astropy.org/en/latest/units/combining_and_defining.html [astropy.units.core]\n",
      "WARNING: UnitsWarning: 'pixels' did not parse as fits unit: At col 0, Unit 'pixels' not supported by the FITS standard. Did you mean pixel? If this is meant to be a custom unit, define it with 'u.def_unit'. To have it recognized inside a file reader or other code, enable it with 'u.add_enabled_units'. For details, see https://docs.astropy.org/en/latest/units/combining_and_defining.html [astropy.units.core]\n"
     ]
    },
    {
     "name": "stdout",
     "output_type": "stream",
     "text": [
      "INFO: Found cached file /Users/sam/Software/bruce/examples/duotransits/207501148/mastDownload/HLSP/hlsp_tess-spoc_tess_phot_0000000207501148-s0023_tess_v1_tp/hlsp_tess-spoc_tess_phot_0000000207501148-s0023_tess_v1_lc.fits with expected size 158400. [astroquery.query]\n"
     ]
    },
    {
     "name": "stderr",
     "output_type": "stream",
     "text": [
      "WARNING: UnitsWarning: 'BJD - 2457000, days' did not parse as fits unit: At col 0, Unit 'BJD' not supported by the FITS standard.  If this is meant to be a custom unit, define it with 'u.def_unit'. To have it recognized inside a file reader or other code, enable it with 'u.add_enabled_units'. For details, see https://docs.astropy.org/en/latest/units/combining_and_defining.html [astropy.units.core]\n",
      "WARNING: UnitsWarning: 'e-/s' did not parse as fits unit: At col 0, Unit 'e' not supported by the FITS standard.  If this is meant to be a custom unit, define it with 'u.def_unit'. To have it recognized inside a file reader or other code, enable it with 'u.add_enabled_units'. For details, see https://docs.astropy.org/en/latest/units/combining_and_defining.html [astropy.units.core]\n",
      "WARNING: UnitsWarning: 'pixels' did not parse as fits unit: At col 0, Unit 'pixels' not supported by the FITS standard. Did you mean pixel? If this is meant to be a custom unit, define it with 'u.def_unit'. To have it recognized inside a file reader or other code, enable it with 'u.add_enabled_units'. For details, see https://docs.astropy.org/en/latest/units/combining_and_defining.html [astropy.units.core]\n"
     ]
    },
    {
     "name": "stdout",
     "output_type": "stream",
     "text": [
      "INFO: Found cached file /Users/sam/Software/bruce/examples/duotransits/207501148/mastDownload/HLSP/hlsp_tess-spoc_tess_phot_0000000207501148-s0024_tess_v1_tp/hlsp_tess-spoc_tess_phot_0000000207501148-s0024_tess_v1_lc.fits with expected size 158400. [astroquery.query]\n"
     ]
    },
    {
     "name": "stderr",
     "output_type": "stream",
     "text": [
      "WARNING: UnitsWarning: 'BJD - 2457000, days' did not parse as fits unit: At col 0, Unit 'BJD' not supported by the FITS standard.  If this is meant to be a custom unit, define it with 'u.def_unit'. To have it recognized inside a file reader or other code, enable it with 'u.add_enabled_units'. For details, see https://docs.astropy.org/en/latest/units/combining_and_defining.html [astropy.units.core]\n",
      "WARNING: UnitsWarning: 'e-/s' did not parse as fits unit: At col 0, Unit 'e' not supported by the FITS standard.  If this is meant to be a custom unit, define it with 'u.def_unit'. To have it recognized inside a file reader or other code, enable it with 'u.add_enabled_units'. For details, see https://docs.astropy.org/en/latest/units/combining_and_defining.html [astropy.units.core]\n",
      "WARNING: UnitsWarning: 'pixels' did not parse as fits unit: At col 0, Unit 'pixels' not supported by the FITS standard. Did you mean pixel? If this is meant to be a custom unit, define it with 'u.def_unit'. To have it recognized inside a file reader or other code, enable it with 'u.add_enabled_units'. For details, see https://docs.astropy.org/en/latest/units/combining_and_defining.html [astropy.units.core]\n"
     ]
    },
    {
     "name": "stdout",
     "output_type": "stream",
     "text": [
      "INFO: Found cached file /Users/sam/Software/bruce/examples/duotransits/207501148/mastDownload/HLSP/hlsp_tess-spoc_tess_phot_0000000207501148-s0025_tess_v1_tp/hlsp_tess-spoc_tess_phot_0000000207501148-s0025_tess_v1_lc.fits with expected size 152640. [astroquery.query]\n"
     ]
    },
    {
     "name": "stderr",
     "output_type": "stream",
     "text": [
      "WARNING: UnitsWarning: 'BJD - 2457000, days' did not parse as fits unit: At col 0, Unit 'BJD' not supported by the FITS standard.  If this is meant to be a custom unit, define it with 'u.def_unit'. To have it recognized inside a file reader or other code, enable it with 'u.add_enabled_units'. For details, see https://docs.astropy.org/en/latest/units/combining_and_defining.html [astropy.units.core]\n",
      "WARNING: UnitsWarning: 'e-/s' did not parse as fits unit: At col 0, Unit 'e' not supported by the FITS standard.  If this is meant to be a custom unit, define it with 'u.def_unit'. To have it recognized inside a file reader or other code, enable it with 'u.add_enabled_units'. For details, see https://docs.astropy.org/en/latest/units/combining_and_defining.html [astropy.units.core]\n",
      "WARNING: UnitsWarning: 'pixels' did not parse as fits unit: At col 0, Unit 'pixels' not supported by the FITS standard. Did you mean pixel? If this is meant to be a custom unit, define it with 'u.def_unit'. To have it recognized inside a file reader or other code, enable it with 'u.add_enabled_units'. For details, see https://docs.astropy.org/en/latest/units/combining_and_defining.html [astropy.units.core]\n"
     ]
    },
    {
     "name": "stdout",
     "output_type": "stream",
     "text": [
      "INFO: Found cached file /Users/sam/Software/bruce/examples/duotransits/207501148/mastDownload/HLSP/hlsp_tess-spoc_tess_phot_0000000207501148-s0049_tess_v1_tp/hlsp_tess-spoc_tess_phot_0000000207501148-s0049_tess_v1_lc.fits with expected size 417600. [astroquery.query]\n"
     ]
    },
    {
     "name": "stderr",
     "output_type": "stream",
     "text": [
      "WARNING: UnitsWarning: 'BJD - 2457000, days' did not parse as fits unit: At col 0, Unit 'BJD' not supported by the FITS standard.  If this is meant to be a custom unit, define it with 'u.def_unit'. To have it recognized inside a file reader or other code, enable it with 'u.add_enabled_units'. For details, see https://docs.astropy.org/en/latest/units/combining_and_defining.html [astropy.units.core]\n",
      "WARNING: UnitsWarning: 'e-/s' did not parse as fits unit: At col 0, Unit 'e' not supported by the FITS standard.  If this is meant to be a custom unit, define it with 'u.def_unit'. To have it recognized inside a file reader or other code, enable it with 'u.add_enabled_units'. For details, see https://docs.astropy.org/en/latest/units/combining_and_defining.html [astropy.units.core]\n",
      "WARNING: UnitsWarning: 'pixels' did not parse as fits unit: At col 0, Unit 'pixels' not supported by the FITS standard. Did you mean pixel? If this is meant to be a custom unit, define it with 'u.def_unit'. To have it recognized inside a file reader or other code, enable it with 'u.add_enabled_units'. For details, see https://docs.astropy.org/en/latest/units/combining_and_defining.html [astropy.units.core]\n"
     ]
    },
    {
     "name": "stdout",
     "output_type": "stream",
     "text": [
      "INFO: Found cached file /Users/sam/Software/bruce/examples/duotransits/207501148/mastDownload/HLSP/hlsp_tess-spoc_tess_phot_0000000207501148-s0050_tess_v1_tp/hlsp_tess-spoc_tess_phot_0000000207501148-s0050_tess_v1_lc.fits with expected size 408960. [astroquery.query]\n"
     ]
    },
    {
     "name": "stderr",
     "output_type": "stream",
     "text": [
      "WARNING: UnitsWarning: 'BJD - 2457000, days' did not parse as fits unit: At col 0, Unit 'BJD' not supported by the FITS standard.  If this is meant to be a custom unit, define it with 'u.def_unit'. To have it recognized inside a file reader or other code, enable it with 'u.add_enabled_units'. For details, see https://docs.astropy.org/en/latest/units/combining_and_defining.html [astropy.units.core]\n",
      "WARNING: UnitsWarning: 'e-/s' did not parse as fits unit: At col 0, Unit 'e' not supported by the FITS standard.  If this is meant to be a custom unit, define it with 'u.def_unit'. To have it recognized inside a file reader or other code, enable it with 'u.add_enabled_units'. For details, see https://docs.astropy.org/en/latest/units/combining_and_defining.html [astropy.units.core]\n",
      "WARNING: UnitsWarning: 'pixels' did not parse as fits unit: At col 0, Unit 'pixels' not supported by the FITS standard. Did you mean pixel? If this is meant to be a custom unit, define it with 'u.def_unit'. To have it recognized inside a file reader or other code, enable it with 'u.add_enabled_units'. For details, see https://docs.astropy.org/en/latest/units/combining_and_defining.html [astropy.units.core]\n"
     ]
    },
    {
     "name": "stdout",
     "output_type": "stream",
     "text": [
      "INFO: Found cached file /Users/sam/Software/bruce/examples/duotransits/207501148/mastDownload/HLSP/hlsp_tess-spoc_tess_phot_0000000207501148-s0051_tess_v1_tp/hlsp_tess-spoc_tess_phot_0000000207501148-s0051_tess_v1_lc.fits with expected size 383040. [astroquery.query]\n"
     ]
    },
    {
     "name": "stderr",
     "output_type": "stream",
     "text": [
      "WARNING: UnitsWarning: 'BJD - 2457000, days' did not parse as fits unit: At col 0, Unit 'BJD' not supported by the FITS standard.  If this is meant to be a custom unit, define it with 'u.def_unit'. To have it recognized inside a file reader or other code, enable it with 'u.add_enabled_units'. For details, see https://docs.astropy.org/en/latest/units/combining_and_defining.html [astropy.units.core]\n",
      "WARNING: UnitsWarning: 'e-/s' did not parse as fits unit: At col 0, Unit 'e' not supported by the FITS standard.  If this is meant to be a custom unit, define it with 'u.def_unit'. To have it recognized inside a file reader or other code, enable it with 'u.add_enabled_units'. For details, see https://docs.astropy.org/en/latest/units/combining_and_defining.html [astropy.units.core]\n",
      "WARNING: UnitsWarning: 'pixels' did not parse as fits unit: At col 0, Unit 'pixels' not supported by the FITS standard. Did you mean pixel? If this is meant to be a custom unit, define it with 'u.def_unit'. To have it recognized inside a file reader or other code, enable it with 'u.add_enabled_units'. For details, see https://docs.astropy.org/en/latest/units/combining_and_defining.html [astropy.units.core]\n"
     ]
    },
    {
     "name": "stdout",
     "output_type": "stream",
     "text": [
      "INFO: Found cached file /Users/sam/Software/bruce/examples/duotransits/207501148/mastDownload/HLSP/hlsp_tess-spoc_tess_phot_0000000207501148-s0052_tess_v1_tp/hlsp_tess-spoc_tess_phot_0000000207501148-s0052_tess_v1_lc.fits with expected size 383040. [astroquery.query]\n"
     ]
    },
    {
     "name": "stderr",
     "output_type": "stream",
     "text": [
      "WARNING: UnitsWarning: 'BJD - 2457000, days' did not parse as fits unit: At col 0, Unit 'BJD' not supported by the FITS standard.  If this is meant to be a custom unit, define it with 'u.def_unit'. To have it recognized inside a file reader or other code, enable it with 'u.add_enabled_units'. For details, see https://docs.astropy.org/en/latest/units/combining_and_defining.html [astropy.units.core]\n",
      "WARNING: UnitsWarning: 'e-/s' did not parse as fits unit: At col 0, Unit 'e' not supported by the FITS standard.  If this is meant to be a custom unit, define it with 'u.def_unit'. To have it recognized inside a file reader or other code, enable it with 'u.add_enabled_units'. For details, see https://docs.astropy.org/en/latest/units/combining_and_defining.html [astropy.units.core]\n",
      "WARNING: UnitsWarning: 'pixels' did not parse as fits unit: At col 0, Unit 'pixels' not supported by the FITS standard. Did you mean pixel? If this is meant to be a custom unit, define it with 'u.def_unit'. To have it recognized inside a file reader or other code, enable it with 'u.add_enabled_units'. For details, see https://docs.astropy.org/en/latest/units/combining_and_defining.html [astropy.units.core]\n"
     ]
    },
    {
     "name": "stdout",
     "output_type": "stream",
     "text": [
      "INFO: Found cached file /Users/sam/Software/bruce/examples/duotransits/207501148/mastDownload/HLSP/hlsp_tess-spoc_tess_phot_0000000207501148-s0056_tess_v1_tp/hlsp_tess-spoc_tess_phot_0000000207501148-s0056_tess_v1_lc.fits with expected size 1235520. [astroquery.query]\n"
     ]
    },
    {
     "name": "stderr",
     "output_type": "stream",
     "text": [
      "WARNING: UnitsWarning: 'BJD - 2457000, days' did not parse as fits unit: At col 0, Unit 'BJD' not supported by the FITS standard.  If this is meant to be a custom unit, define it with 'u.def_unit'. To have it recognized inside a file reader or other code, enable it with 'u.add_enabled_units'. For details, see https://docs.astropy.org/en/latest/units/combining_and_defining.html [astropy.units.core]\n",
      "WARNING: UnitsWarning: 'e-/s' did not parse as fits unit: At col 0, Unit 'e' not supported by the FITS standard.  If this is meant to be a custom unit, define it with 'u.def_unit'. To have it recognized inside a file reader or other code, enable it with 'u.add_enabled_units'. For details, see https://docs.astropy.org/en/latest/units/combining_and_defining.html [astropy.units.core]\n",
      "WARNING: UnitsWarning: 'pixels' did not parse as fits unit: At col 0, Unit 'pixels' not supported by the FITS standard. Did you mean pixel? If this is meant to be a custom unit, define it with 'u.def_unit'. To have it recognized inside a file reader or other code, enable it with 'u.add_enabled_units'. For details, see https://docs.astropy.org/en/latest/units/combining_and_defining.html [astropy.units.core]\n"
     ]
    },
    {
     "name": "stdout",
     "output_type": "stream",
     "text": [
      "INFO: Found cached file /Users/sam/Software/bruce/examples/duotransits/207501148/mastDownload/HLSP/hlsp_tess-spoc_tess_phot_0000000207501148-s0059_tess_v1_tp/hlsp_tess-spoc_tess_phot_0000000207501148-s0059_tess_v1_lc.fits with expected size 1172160. [astroquery.query]\n"
     ]
    },
    {
     "name": "stderr",
     "output_type": "stream",
     "text": [
      "WARNING: UnitsWarning: 'BJD - 2457000, days' did not parse as fits unit: At col 0, Unit 'BJD' not supported by the FITS standard.  If this is meant to be a custom unit, define it with 'u.def_unit'. To have it recognized inside a file reader or other code, enable it with 'u.add_enabled_units'. For details, see https://docs.astropy.org/en/latest/units/combining_and_defining.html [astropy.units.core]\n",
      "WARNING: UnitsWarning: 'e-/s' did not parse as fits unit: At col 0, Unit 'e' not supported by the FITS standard.  If this is meant to be a custom unit, define it with 'u.def_unit'. To have it recognized inside a file reader or other code, enable it with 'u.add_enabled_units'. For details, see https://docs.astropy.org/en/latest/units/combining_and_defining.html [astropy.units.core]\n",
      "WARNING: UnitsWarning: 'pixels' did not parse as fits unit: At col 0, Unit 'pixels' not supported by the FITS standard. Did you mean pixel? If this is meant to be a custom unit, define it with 'u.def_unit'. To have it recognized inside a file reader or other code, enable it with 'u.add_enabled_units'. For details, see https://docs.astropy.org/en/latest/units/combining_and_defining.html [astropy.units.core]\n"
     ]
    },
    {
     "name": "stdout",
     "output_type": "stream",
     "text": [
      "INFO: Found cached file /Users/sam/Software/bruce/examples/duotransits/207501148/mastDownload/HLSP/hlsp_tess-spoc_tess_phot_0000000207501148-s0076_tess_v1_tp/hlsp_tess-spoc_tess_phot_0000000207501148-s0076_tess_v1_lc.fits with expected size 1200960. [astroquery.query]\n"
     ]
    },
    {
     "name": "stderr",
     "output_type": "stream",
     "text": [
      "WARNING: UnitsWarning: 'BJD - 2457000, days' did not parse as fits unit: At col 0, Unit 'BJD' not supported by the FITS standard.  If this is meant to be a custom unit, define it with 'u.def_unit'. To have it recognized inside a file reader or other code, enable it with 'u.add_enabled_units'. For details, see https://docs.astropy.org/en/latest/units/combining_and_defining.html [astropy.units.core]\n",
      "WARNING: UnitsWarning: 'e-/s' did not parse as fits unit: At col 0, Unit 'e' not supported by the FITS standard.  If this is meant to be a custom unit, define it with 'u.def_unit'. To have it recognized inside a file reader or other code, enable it with 'u.add_enabled_units'. For details, see https://docs.astropy.org/en/latest/units/combining_and_defining.html [astropy.units.core]\n",
      "WARNING: UnitsWarning: 'pixels' did not parse as fits unit: At col 0, Unit 'pixels' not supported by the FITS standard. Did you mean pixel? If this is meant to be a custom unit, define it with 'u.def_unit'. To have it recognized inside a file reader or other code, enable it with 'u.add_enabled_units'. For details, see https://docs.astropy.org/en/latest/units/combining_and_defining.html [astropy.units.core]\n"
     ]
    },
    {
     "name": "stdout",
     "output_type": "stream",
     "text": [
      "INFO: Found cached file /Users/sam/Software/bruce/examples/duotransits/207501148/mastDownload/HLSP/hlsp_tess-spoc_tess_phot_0000000207501148-s0077_tess_v1_tp/hlsp_tess-spoc_tess_phot_0000000207501148-s0077_tess_v1_lc.fits with expected size 1244160. [astroquery.query]\n"
     ]
    },
    {
     "name": "stderr",
     "output_type": "stream",
     "text": [
      "WARNING: UnitsWarning: 'BJD - 2457000, days' did not parse as fits unit: At col 0, Unit 'BJD' not supported by the FITS standard.  If this is meant to be a custom unit, define it with 'u.def_unit'. To have it recognized inside a file reader or other code, enable it with 'u.add_enabled_units'. For details, see https://docs.astropy.org/en/latest/units/combining_and_defining.html [astropy.units.core]\n",
      "WARNING: UnitsWarning: 'e-/s' did not parse as fits unit: At col 0, Unit 'e' not supported by the FITS standard.  If this is meant to be a custom unit, define it with 'u.def_unit'. To have it recognized inside a file reader or other code, enable it with 'u.add_enabled_units'. For details, see https://docs.astropy.org/en/latest/units/combining_and_defining.html [astropy.units.core]\n",
      "WARNING: UnitsWarning: 'pixels' did not parse as fits unit: At col 0, Unit 'pixels' not supported by the FITS standard. Did you mean pixel? If this is meant to be a custom unit, define it with 'u.def_unit'. To have it recognized inside a file reader or other code, enable it with 'u.add_enabled_units'. For details, see https://docs.astropy.org/en/latest/units/combining_and_defining.html [astropy.units.core]\n"
     ]
    },
    {
     "name": "stdout",
     "output_type": "stream",
     "text": [
      "INFO: Found cached file /Users/sam/Software/bruce/examples/duotransits/207501148/mastDownload/TESS/tess2024114025118-s0078-0000000207501148-0273-s/tess2024114025118-s0078-0000000207501148-0273-s_lc.fits with expected size 1330560. [astroquery.query]\n"
     ]
    },
    {
     "name": "stderr",
     "output_type": "stream",
     "text": [
      "WARNING: UnitsWarning: 'BJD - 2457000, days' did not parse as fits unit: At col 0, Unit 'BJD' not supported by the FITS standard.  If this is meant to be a custom unit, define it with 'u.def_unit'. To have it recognized inside a file reader or other code, enable it with 'u.add_enabled_units'. For details, see https://docs.astropy.org/en/latest/units/combining_and_defining.html [astropy.units.core]\n",
      "WARNING: UnitsWarning: 'e-/s' did not parse as fits unit: At col 0, Unit 'e' not supported by the FITS standard.  If this is meant to be a custom unit, define it with 'u.def_unit'. To have it recognized inside a file reader or other code, enable it with 'u.add_enabled_units'. For details, see https://docs.astropy.org/en/latest/units/combining_and_defining.html [astropy.units.core]\n",
      "WARNING: UnitsWarning: 'pixels' did not parse as fits unit: At col 0, Unit 'pixels' not supported by the FITS standard. Did you mean pixel? If this is meant to be a custom unit, define it with 'u.def_unit'. To have it recognized inside a file reader or other code, enable it with 'u.add_enabled_units'. For details, see https://docs.astropy.org/en/latest/units/combining_and_defining.html [astropy.units.core]\n"
     ]
    },
    {
     "name": "stdout",
     "output_type": "stream",
     "text": [
      "INFO: Found cached file /Users/sam/Software/bruce/examples/duotransits/207501148/mastDownload/TESS/tess2024142205832-s0079-0000000207501148-0274-s/tess2024142205832-s0079-0000000207501148-0274-s_lc.fits with expected size 1984320. [astroquery.query]\n"
     ]
    },
    {
     "name": "stderr",
     "output_type": "stream",
     "text": [
      "WARNING: UnitsWarning: 'BJD - 2457000, days' did not parse as fits unit: At col 0, Unit 'BJD' not supported by the FITS standard.  If this is meant to be a custom unit, define it with 'u.def_unit'. To have it recognized inside a file reader or other code, enable it with 'u.add_enabled_units'. For details, see https://docs.astropy.org/en/latest/units/combining_and_defining.html [astropy.units.core]\n",
      "WARNING: UnitsWarning: 'e-/s' did not parse as fits unit: At col 0, Unit 'e' not supported by the FITS standard.  If this is meant to be a custom unit, define it with 'u.def_unit'. To have it recognized inside a file reader or other code, enable it with 'u.add_enabled_units'. For details, see https://docs.astropy.org/en/latest/units/combining_and_defining.html [astropy.units.core]\n",
      "WARNING: UnitsWarning: 'pixels' did not parse as fits unit: At col 0, Unit 'pixels' not supported by the FITS standard. Did you mean pixel? If this is meant to be a custom unit, define it with 'u.def_unit'. To have it recognized inside a file reader or other code, enable it with 'u.add_enabled_units'. For details, see https://docs.astropy.org/en/latest/units/combining_and_defining.html [astropy.units.core]\n"
     ]
    },
    {
     "name": "stdout",
     "output_type": "stream",
     "text": [
      "INFO: Found cached file /Users/sam/Software/bruce/examples/duotransits/207501148/mastDownload/TESS/tess2024249191853-s0083-0000000207501148-0280-s/tess2024249191853-s0083-0000000207501148-0280-s_lc.fits with expected size 1825920. [astroquery.query]\n"
     ]
    },
    {
     "name": "stderr",
     "output_type": "stream",
     "text": [
      "WARNING: UnitsWarning: 'BJD - 2457000, days' did not parse as fits unit: At col 0, Unit 'BJD' not supported by the FITS standard.  If this is meant to be a custom unit, define it with 'u.def_unit'. To have it recognized inside a file reader or other code, enable it with 'u.add_enabled_units'. For details, see https://docs.astropy.org/en/latest/units/combining_and_defining.html [astropy.units.core]\n",
      "WARNING: UnitsWarning: 'e-/s' did not parse as fits unit: At col 0, Unit 'e' not supported by the FITS standard.  If this is meant to be a custom unit, define it with 'u.def_unit'. To have it recognized inside a file reader or other code, enable it with 'u.add_enabled_units'. For details, see https://docs.astropy.org/en/latest/units/combining_and_defining.html [astropy.units.core]\n",
      "WARNING: UnitsWarning: 'pixels' did not parse as fits unit: At col 0, Unit 'pixels' not supported by the FITS standard. Did you mean pixel? If this is meant to be a custom unit, define it with 'u.def_unit'. To have it recognized inside a file reader or other code, enable it with 'u.add_enabled_units'. For details, see https://docs.astropy.org/en/latest/units/combining_and_defining.html [astropy.units.core]\n"
     ]
    },
    {
     "name": "stdout",
     "output_type": "stream",
     "text": [
      "INFO: Found cached file /Users/sam/Software/bruce/examples/duotransits/207501148/mastDownload/TESS/tess2024326142117-s0086-0000000207501148-0283-s/tess2024326142117-s0086-0000000207501148-0283-s_lc.fits with expected size 1944000. [astroquery.query]\n",
      "W :  1001\n"
     ]
    },
    {
     "name": "stderr",
     "output_type": "stream",
     "text": [
      "WARNING: UnitsWarning: 'BJD - 2457000, days' did not parse as fits unit: At col 0, Unit 'BJD' not supported by the FITS standard.  If this is meant to be a custom unit, define it with 'u.def_unit'. To have it recognized inside a file reader or other code, enable it with 'u.add_enabled_units'. For details, see https://docs.astropy.org/en/latest/units/combining_and_defining.html [astropy.units.core]\n",
      "WARNING: UnitsWarning: 'e-/s' did not parse as fits unit: At col 0, Unit 'e' not supported by the FITS standard.  If this is meant to be a custom unit, define it with 'u.def_unit'. To have it recognized inside a file reader or other code, enable it with 'u.add_enabled_units'. For details, see https://docs.astropy.org/en/latest/units/combining_and_defining.html [astropy.units.core]\n",
      "WARNING: UnitsWarning: 'pixels' did not parse as fits unit: At col 0, Unit 'pixels' not supported by the FITS standard. Did you mean pixel? If this is meant to be a custom unit, define it with 'u.def_unit'. To have it recognized inside a file reader or other code, enable it with 'u.add_enabled_units'. For details, see https://docs.astropy.org/en/latest/units/combining_and_defining.html [astropy.units.core]\n"
     ]
    },
    {
     "name": "stdout",
     "output_type": "stream",
     "text": [
      "W :  1001\n",
      "W :  1000\n",
      "W :  1000\n",
      "W :  1000\n",
      "W :  1000\n",
      "W :  1000\n",
      "W :  1000\n",
      "W :  400\n",
      "W :  1000\n",
      "W :  1000\n",
      "W :  1001\n",
      "W :  1000\n",
      "W :  1001\n",
      "W :  1001\n",
      "W :  1001\n",
      "W :  1001\n",
      "W :  1002\n",
      "W :  1002\n",
      "W :  1002\n",
      "W :  1002\n",
      "W :  1002\n",
      "W :  1002\n",
      "W :  1002\n",
      "W :  1002\n",
      "W :  1002\n",
      "W :  1002\n",
      "W :  1002\n",
      "W :  1002\n",
      "W :  1002\n",
      "W :  1002\n",
      "W :  1002\n",
      "W :  1002\n",
      "W :  1002\n",
      "W :  1002\n",
      "W :  1002\n",
      "W :  1002\n",
      "W :  1002\n",
      "W :  1002\n",
      "W :  1002\n",
      "W :  1002\n",
      "W :  1002\n",
      "W :  1002\n",
      "W :  1001\n",
      "W :  1001\n",
      "W :  1002\n",
      "W :  1002\n",
      "W :  1002\n",
      "W :  1002\n",
      "W :  1002\n",
      "W :  1002\n",
      "W :  1002\n",
      "W :  1002\n",
      "W :  1002\n",
      "W :  1002\n",
      "W :  1002\n",
      "W :  1002\n",
      "W :  1002\n",
      "W :  1002\n",
      "W :  1002\n",
      "W :  250\n",
      "W :  501\n",
      "W :  1002\n",
      "W :  1002\n",
      "W :  1002\n",
      "W :  1002\n",
      "Initial Chi-Sqaured : 1031.28 [red 23.98]\n",
      "Fitted parameters for TIC-207501148:\n",
      "t_zero : 2459007.728495915\n",
      "radius_1 : 0.031075756033523277\n",
      "k : 0.08903077066142523\n",
      "b : 0.8994095156743517\n",
      "Final Chi-Sqaured : 156.03 [red 3.63]\n",
      "Initial Chi-Sqaured : 3151.75 [red 95.51]\n",
      "Fitted parameters for TIC-207501148:\n",
      "t_zero : 2459671.88671243\n",
      "radius_1 : 0.015983562056725797\n",
      "k : 0.08281409189438015\n",
      "b : 0.7846775379912009\n",
      "Final Chi-Sqaured : 2443.21 [red 74.04]\n",
      "1 45 1 44.277214434339356 664.1582165150903 15 15.094504920797506\n",
      "0 -7.727436419597382\n",
      "1 -7.72743641896286\n",
      "2 -7.727436419497508\n",
      "3 -7.727436419178183\n",
      "4 -1639.59460131733\n",
      "5 -7.727436419635438\n",
      "6 -1188.3931762061907\n",
      "7 -3277.953338809499\n",
      "8 -934.5816282176855\n",
      "9 -1639.5946013179182\n",
      "10 -2528.2399215328232\n",
      "11 -1638.5107289452505\n",
      "12 -5214.419250627875\n",
      "13 -2886.5252632000106\n",
      "14 -6462.913545785161\n",
      "15 -5039.044077937116\n",
      "16 -1264.7901807701528\n",
      "17 -1978.399002806305\n",
      "18 -5901.551188168962\n",
      "19 -5124.238970363089\n",
      "20 -6061.422597014804\n",
      "21 -9816.03027477521\n",
      "22 -12235.555485252446\n",
      "23 -8482.330658333316\n",
      "24 -13947.297666139419\n",
      "25 -19577.464068499703\n",
      "26 -16232.359191975536\n",
      "27 -23580.741270360246\n",
      "28 -16099.09267214384\n",
      "29 -13922.4784630838\n",
      "30 -8695.562810016318\n",
      "31 -10702.254913115654\n",
      "32 -9022.81368243599\n",
      "33 -16248.974370595146\n",
      "34 -22891.230492692448\n",
      "35 -15353.247588474032\n",
      "36 -57384.08295873518\n",
      "37 -14267.070991197434\n",
      "38 -46638.29711280818\n",
      "39 -36616.87599262742\n",
      "40 -36311.61034605724\n",
      "41 -34124.01770216068\n",
      "42 -55914.52939969917\n",
      "43 -56991.75819119042\n"
     ]
    },
    {
     "name": "stderr",
     "output_type": "stream",
     "text": [
      "100%|█████████████████████████████████████████████████████████| 44/44 [00:39<00:00,  1.12it/s]\n"
     ]
    }
   ],
   "source": [
    "i=0\n",
    "\n",
    "\n",
    "# Create the output dir (we'll use this as cache for the data too)\n",
    "output_dir = os.getcwd() + '/{:}'.format(duos['tic_id'][i])\n",
    "os.system('mkdir -p {:}'.format(output_dir))\n",
    "\n",
    "# Now load the TESS data (SPOC, QLP)\n",
    "# We are not making our own here like TESSTPF, not yet anyway...\n",
    "# for data_type\n",
    "#   single_product -> all sectors together\n",
    "#   per_sector -> list of per-sector lightcurves\n",
    "#   northern_duos -> YEARS 2 and 4, then a list of other sectors \n",
    "#   southern -> YEARS 1 and 3, then a list of other sectors (NOT IMPLEMENTED YET) \n",
    "data, data_labels =  bruce.ambiguous_period.get_tess_data(duos['tic_id'][i], \n",
    "                                                          download_dir=output_dir, \n",
    "                                                          max_sector=np.inf, \n",
    "                                                          data_type='per_sector',\n",
    "                                                         bin_length=0.5/24,\n",
    "                                                         sigma=None)\n",
    "\n",
    "# Now flatten the data\n",
    "for j, k in zip(data, data_labels):\n",
    "    # Flatten the data by SG filter, we need an odd kernel legth based on cadence\n",
    "    cadence = np.median(np.gradient(j.time))*1440 # Cadence in minutes\n",
    "    if cadence > 20 : window_length = 101 # For 30 minute data\n",
    "    elif cadence > 5 : window_length = 303# for 10 minute data \n",
    "    else : window_length = 2003 # for eventual 120-s data \n",
    "    sigmaclip=3\n",
    "    window_length=1001\n",
    "\n",
    "    # We can cheat like this if we need to tailor a kernel to a specific target\n",
    "    # if duos['tic_id'][i]==130714841:\n",
    "    #     window_length = 503\n",
    "\n",
    "    # Now flatten\n",
    "    j.w = np.ones(len(j.flux))\n",
    "    j.flatten_data_old(window_length=window_length, sigmaclip=sigmaclip, dx_lim=0.1)\n",
    "    \n",
    "    for seg in bruce.data.find_nights_from_data(j.time, dx_lim=0.2):\n",
    "        j.w = np.ones(j.time.shape[0])*np.median(j.flux)\n",
    "\n",
    "    # Optinally save the data\n",
    "    j.write_data(output_dir + '/' +'TESS_DATA_{:}.txt'.format(k))\n",
    "    fig, ax = j.plot_segments(dx_lim=0.5)\n",
    "    fig.savefig(output_dir + '/' + 'TESS_DATA_{:}.png'.format(k))\n",
    "    plt.close(fig)\n",
    "\n",
    "# # Now re-order_datasets based on epochs given\n",
    "# We will unpack now, (data with transits, and data without)\n",
    "# We may need to change this for it to work properly (Sam is working on it)\n",
    "# Its worth noting we can incorparate ground based data here too\n",
    "# data_from_ground = bruce.ambiguous_period.mono_event.photometry_time_series(time, flux, flux_err, w = norm_model)\n",
    "# Then this can go in data_other_sectors\n",
    "data, data_labels = bruce.ambiguous_period.group_data_by_epochs(data, data_labels, duos['t_zero_1'][i], duos['t_zero_2'][i])\n",
    "data, data_other_sectors = data[0], data[1:]\n",
    "\n",
    "\n",
    "\n",
    "############################\n",
    "# FIT EVENT 1\n",
    "############################\n",
    "# Mask data and create the mono_event object\n",
    "nmask = 3\n",
    "mask1 = (data.time > (duos['t_zero_1'][i] - nmask*duos['width_1'][i])) &  (data.time < (duos['t_zero_1'][i] + nmask*duos['width_1'][i]))\n",
    "data_event_1 = bruce.ambiguous_period.photometry_time_series(data.time[mask1], data.flux[mask1], data.flux_err[mask1], w=data.w[mask1]) #np.percentile(data.flux[mask1], 50)*np.ones(data.time[mask1].shape[0])\n",
    "m1 = bruce.ambiguous_period.mono_event(duos['t_zero_1'][i], duos['width_1'][i], duos['depth_1'][i], data_event_1, name='TIC-{:}'.format(duos['tic_id'][i]), median_bin_size = None,convolve_bin_size = 3)\n",
    "\n",
    "# Fit the event and report plots\n",
    "fig_initial, ax_initial, fig_final, ax_final, return_data_1 = m1.fit_event_with_fixed_period(fit_period=30., plot=True, )\n",
    "fig_initial.tight_layout()\n",
    "fig_final.tight_layout()\n",
    "fig_initial.savefig(output_dir + '/' + 'TIC-{:}_EVENT_1_INITIAL_INITIAL.png'.format(duos['tic_id'][i]))\n",
    "fig_final.savefig(output_dir + '/' + 'TIC-{:}_EVENT_1_INITIAL_FINAL.png'.format(duos['tic_id'][i]))\n",
    "plt.close(fig_initial); plt.close(fig_final)\n",
    "\n",
    "\n",
    "############################\n",
    "# FIT EVENT 2\n",
    "############################\n",
    "# Mask data and create the mono_event object\n",
    "mask2 = (data.time > (duos['t_zero_2'][i] - nmask*duos['width_2'][i])) &  (data.time < (duos['t_zero_2'][i] + nmask*duos['width_2'][i]))\n",
    "data_event_2 = bruce.ambiguous_period.photometry_time_series(data.time[mask2], data.flux[mask2], data.flux_err[mask2], w=data.w[mask2]) #np.percentile(data.flux[mask2], 50)*np.ones(data.time[mask2].shape[0])\n",
    "m2 = bruce.ambiguous_period.mono_event(duos['t_zero_2'][i], duos['width_2'][i], duos['depth_2'][i], data_event_2, name='TIC-{:}'.format(duos['tic_id'][i]), median_bin_size = None,convolve_bin_size = 3)\n",
    "\n",
    "# Fit the event and report plots\n",
    "fig_initial, ax_initial, fig_final, ax_final, return_data_2 = m2.fit_event_with_fixed_period(fit_period=30., plot=True, )\n",
    "fig_initial.tight_layout()\n",
    "fig_final.tight_layout()\n",
    "fig_initial.savefig(output_dir + '/' + 'TIC-{:}_EVENT_2_INITIAL_INITIAL.png'.format(duos['tic_id'][i]))\n",
    "fig_final.savefig(output_dir + '/' + 'TIC-{:}_EVENT_2_INITIAL_FINAL.png'.format(duos['tic_id'][i]))\n",
    "plt.close(fig_initial); plt.close(fig_final)\n",
    "\n",
    "# We are going to make a nice plot of the two events with their models\n",
    "fig, ax = plt.subplots(1,2, gridspec_kw={'hspace' : 0, 'wspace' : 0}, figsize = (6.4, 3.8))\n",
    "ax[0].errorbar(return_data_1[0], return_data_1[1], yerr=return_data_1[2], fmt='k.', alpha = 0.1)\n",
    "ax[0].plot(return_data_1[3], return_data_1[4], c='orange')\n",
    "ax[1].errorbar(return_data_2[0], return_data_2[1], yerr=return_data_2[2], fmt='k.', alpha = 0.1)\n",
    "ax[1].plot(return_data_2[3], return_data_2[4], c='orange')\n",
    "ax[1].set(yticks=[])\n",
    "ylim1 = ax[0].get_ylim()\n",
    "ylim2 = ax[1].get_ylim()\n",
    "ylim = [min(ylim1[0],ylim2[0]), max(ylim1[1], ylim2[1])]\n",
    "ax[0].set_ylim(ylim)\n",
    "ax[1].set_ylim(ylim)\n",
    "fig.supxlabel('Time from Transit [d]', fontsize=18, x=0.55, y = -0.005)\n",
    "fig.supylabel('Flux', fontsize=18)\n",
    "fig.suptitle(m2.name, y=0.95, x=0.55, bbox=dict(facecolor='white', edgecolor='black', boxstyle='round,pad=0.3', alpha=1.0), ha='center', fontsize=18)\n",
    "plt.subplots_adjust(right=0.99, top=0.99, bottom=0.13)\n",
    "fig.savefig(output_dir + '/' + 'TIC-{:}_BOTH_EVENTS.png'.format(duos['tic_id'][i]))\n",
    "plt.close(fig)\n",
    "\n",
    "########################################################\n",
    "# CREATE THE AMBIGUOUS PERIOD OBJECT\n",
    "########################################################\n",
    "p = bruce.ambiguous_period.ambiguous_period(data, events=[m1,m2], name='TIC-{:}'.format(duos['tic_id'][i]),\n",
    "                    median_bin_size = 2,convolve_bin_size = 2)\n",
    "\n",
    "# Now mask and filter \n",
    "p.mask_and_filter_events()\n",
    "\n",
    "# Calculate aliases\n",
    "# Do not use nsolutions_events here (that is superceeded later)\n",
    "nsolutions_events = p.calcualte_aliases(dx_lim=0.03, min_period=15)\n",
    "\n",
    "# Now calcualte whether we saw a transit by comparing the model to a flat line\n",
    "delta_L_data = p.calcualte_data_delta_L(data)\n",
    "#delta_L_data = delta_L_data + 100 # THIS FUDGE IS OFTEN NEEDED\n",
    "for j in range(delta_L_data.shape[0]):\n",
    "    print(j, delta_L_data[j])\n",
    "delta_L_data_from_other_sectors_or_others = [p.calcualte_data_delta_L(j) for j in data_other_sectors]\n",
    "p.delta_L = np.array([delta_L_data, *delta_L_data_from_other_sectors_or_others])\n",
    "\n",
    "\n",
    "########################################################\n",
    "# Plot the aliases\n",
    "########################################################\n",
    "fig, ax  = p.plot_aliases(phot_data=data_other_sectors, phot_data_labels=data_labels)\n",
    "fig.savefig(output_dir + '/' + 'TIC-{:}_ALIASES.png'.format(duos['tic_id'][i]), dpi=300)\n",
    "plt.close(fig)\n",
    "\n",
    "        \n",
    "        "
   ]
  },
  {
   "cell_type": "code",
   "execution_count": 4,
   "id": "f74e0d56",
   "metadata": {},
   "outputs": [
    {
     "ename": "TypeError",
     "evalue": "'photometry_time_series' object is not subscriptable",
     "output_type": "error",
     "traceback": [
      "\u001b[0;31m---------------------------------------------------------------------------\u001b[0m",
      "\u001b[0;31mTypeError\u001b[0m                                 Traceback (most recent call last)",
      "\u001b[0;32m/var/folders/fs/c4gpqhmx5tbcbsv_cbs0yhn80000gn/T/ipykernel_16184/1565744308.py\u001b[0m in \u001b[0;36m<module>\u001b[0;34m\u001b[0m\n\u001b[0;32m----> 1\u001b[0;31m \u001b[0mdata\u001b[0m\u001b[0;34m[\u001b[0m\u001b[0;36m5\u001b[0m\u001b[0;34m]\u001b[0m\u001b[0;34m.\u001b[0m\u001b[0mtime\u001b[0m\u001b[0;34m\u001b[0m\u001b[0;34m\u001b[0m\u001b[0m\n\u001b[0m",
      "\u001b[0;31mTypeError\u001b[0m: 'photometry_time_series' object is not subscriptable"
     ]
    }
   ],
   "source": [
    "data[5].time"
   ]
  },
  {
   "cell_type": "code",
   "execution_count": null,
   "id": "58954947",
   "metadata": {},
   "outputs": [],
   "source": [
    "data_labels"
   ]
  },
  {
   "cell_type": "code",
   "execution_count": null,
   "id": "59e6a59e",
   "metadata": {},
   "outputs": [],
   "source": [
    "data, data_labels =  bruce.ambiguous_period.get_tess_data(duos['tic_id'][i], \n",
    "                                                          download_dir=output_dir, \n",
    "                                                          max_sector=np.inf, \n",
    "                                                          data_type='per_sector',\n",
    "                                                         bin_length=0.5/24,\n",
    "                                                         sigma=3)"
   ]
  },
  {
   "cell_type": "code",
   "execution_count": null,
   "id": "f2b72bff",
   "metadata": {},
   "outputs": [],
   "source": [
    "d = data[0]\n"
   ]
  },
  {
   "cell_type": "code",
   "execution_count": null,
   "id": "05aa7bc5",
   "metadata": {},
   "outputs": [],
   "source": [
    "data[1].time"
   ]
  },
  {
   "cell_type": "code",
   "execution_count": null,
   "id": "16d33b5b",
   "metadata": {},
   "outputs": [],
   "source": []
  }
 ],
 "metadata": {
  "kernelspec": {
   "display_name": "Python 3 (ipykernel)",
   "language": "python",
   "name": "python3"
  },
  "language_info": {
   "codemirror_mode": {
    "name": "ipython",
    "version": 3
   },
   "file_extension": ".py",
   "mimetype": "text/x-python",
   "name": "python",
   "nbconvert_exporter": "python",
   "pygments_lexer": "ipython3",
   "version": "3.9.13"
  }
 },
 "nbformat": 4,
 "nbformat_minor": 5
}
