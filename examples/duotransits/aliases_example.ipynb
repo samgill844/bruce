{
 "cells": [
  {
   "cell_type": "markdown",
   "id": "a9847369",
   "metadata": {},
   "source": [
    "# Imports"
   ]
  },
  {
   "cell_type": "code",
   "execution_count": 9,
   "id": "a3e19f46",
   "metadata": {},
   "outputs": [],
   "source": [
    "import bruce, numpy as np, matplotlib.pyplot as plt, os\n",
    "from astropy.table import Table, Column\n",
    "from astropy.stats import sigma_clip\n",
    "from astropy.time import Time , TimeDelta\n",
    "from astropy import units as u"
   ]
  },
  {
   "cell_type": "markdown",
   "id": "d0606724",
   "metadata": {},
   "source": [
    "# Load the tics\n",
    "\n",
    "Data should have the form of (ascii or CSV, your choice). t_zero is in full BJD, width is in days, depth is in normalised flux. If you ue SPOCFIT, if you fit a single transit you will see 3 reported values on the bottom row which are these values for each event (t_zero, width, depth).\n",
    "\n",
    "tic_id,\tt_zero_1,\twidth_1,\tdepth_1,\tt_zero_2,\twidth_2,\tdepth_2,"
   ]
  },
  {
   "cell_type": "code",
   "execution_count": 4,
   "id": "5ebbe077",
   "metadata": {},
   "outputs": [
    {
     "name": "stdout",
     "output_type": "stream",
     "text": [
      "  TIC ID  Linked TIC ID ...   tic_id \n",
      "--------- ------------- ... ---------\n",
      "  7145074       7145074 ...   7145074\n",
      " 20904104      20904104 ...  20904104\n",
      " 22317640      22317640 ...  22317640\n",
      " 32179255      32179255 ...  32179255\n",
      " 42428568      42428568 ...  42428568\n",
      " 52195587      52195587 ...  52195587\n",
      "      ...           ... ...       ...\n",
      " 39904176      39904176 ...  39904176\n",
      "116261487     116261487 ... 116261487\n",
      "  5267885       5267885 ...   5267885\n",
      "275267824     275267824 ... 275267824\n",
      "286969201     286969201 ... 286969201\n",
      "103095888     103095888 ... 103095888\n",
      "Length = 86 rows\n"
     ]
    }
   ],
   "source": [
    "duos = Table.read('duos.csv')\n",
    "duos['tic_id'] = duos['TIC ID']\n",
    "print(duos)"
   ]
  },
  {
   "cell_type": "markdown",
   "id": "46ae682c",
   "metadata": {},
   "source": [
    "# Now the main worker function\n",
    "\n",
    "This function does the following:\n",
    "-  Load the latest TESS data\n",
    "-  Flatten the lightcurve\n",
    "-  Fit the events\n",
    "-  Calcualte the aliases\n",
    "-  Plot the permissable aliases\n",
    "-  Create a report"
   ]
  },
  {
   "cell_type": "code",
   "execution_count": null,
   "id": "c6e4891b",
   "metadata": {
    "scrolled": true
   },
   "outputs": [
    {
     "name": "stdout",
     "output_type": "stream",
     "text": [
      "\n",
      "📂 Download directory: /var/folders/fs/c4gpqhmx5tbcbsv_cbs0yhn80000gn/T/tmpa69cwvqv\n",
      "\n",
      "Querying TIC 118339710 from MAST...\n",
      "Downloading URL https://mast.stsci.edu/api/v0.1/Download/file?uri=mast:HLSP/tess-spoc/s0008/target/0000/0001/1833/9710/hlsp_tess-spoc_tess_phot_0000000118339710-s0008_tess_v1_lc.fits to ./mastDownload/HLSP/hlsp_tess-spoc_tess_phot_0000000118339710-s0008_tess_v1_tp/hlsp_tess-spoc_tess_phot_0000000118339710-s0008_tess_v1_lc.fits ... [Done]\n"
     ]
    },
    {
     "name": "stderr",
     "output_type": "stream",
     "text": [
      "WARNING: UnitsWarning: 'BJD - 2457000, days' did not parse as fits unit: At col 0, Unit 'BJD' not supported by the FITS standard.  If this is meant to be a custom unit, define it with 'u.def_unit'. To have it recognized inside a file reader or other code, enable it with 'u.add_enabled_units'. For details, see https://docs.astropy.org/en/latest/units/combining_and_defining.html [astropy.units.core]\n",
      "WARNING: UnitsWarning: 'e-/s' did not parse as fits unit: At col 0, Unit 'e' not supported by the FITS standard.  If this is meant to be a custom unit, define it with 'u.def_unit'. To have it recognized inside a file reader or other code, enable it with 'u.add_enabled_units'. For details, see https://docs.astropy.org/en/latest/units/combining_and_defining.html [astropy.units.core]\n",
      "WARNING: UnitsWarning: 'pixels' did not parse as fits unit: At col 0, Unit 'pixels' not supported by the FITS standard. Did you mean pixel? If this is meant to be a custom unit, define it with 'u.def_unit'. To have it recognized inside a file reader or other code, enable it with 'u.add_enabled_units'. For details, see https://docs.astropy.org/en/latest/units/combining_and_defining.html [astropy.units.core]\n"
     ]
    },
    {
     "name": "stdout",
     "output_type": "stream",
     "text": [
      "Downloading URL https://mast.stsci.edu/api/v0.1/Download/file?uri=mast:TESS/product/tess2021014023720-s0034-0000000118339710-0204-s_lc.fits to ./mastDownload/TESS/tess2021014023720-s0034-0000000118339710-0204-s/tess2021014023720-s0034-0000000118339710-0204-s_lc.fits ... [Done]\n"
     ]
    },
    {
     "name": "stderr",
     "output_type": "stream",
     "text": [
      "WARNING: UnitsWarning: 'BJD - 2457000, days' did not parse as fits unit: At col 0, Unit 'BJD' not supported by the FITS standard.  If this is meant to be a custom unit, define it with 'u.def_unit'. To have it recognized inside a file reader or other code, enable it with 'u.add_enabled_units'. For details, see https://docs.astropy.org/en/latest/units/combining_and_defining.html [astropy.units.core]\n",
      "WARNING: UnitsWarning: 'e-/s' did not parse as fits unit: At col 0, Unit 'e' not supported by the FITS standard.  If this is meant to be a custom unit, define it with 'u.def_unit'. To have it recognized inside a file reader or other code, enable it with 'u.add_enabled_units'. For details, see https://docs.astropy.org/en/latest/units/combining_and_defining.html [astropy.units.core]\n",
      "WARNING: UnitsWarning: 'pixels' did not parse as fits unit: At col 0, Unit 'pixels' not supported by the FITS standard. Did you mean pixel? If this is meant to be a custom unit, define it with 'u.def_unit'. To have it recognized inside a file reader or other code, enable it with 'u.add_enabled_units'. For details, see https://docs.astropy.org/en/latest/units/combining_and_defining.html [astropy.units.core]\n"
     ]
    },
    {
     "name": "stdout",
     "output_type": "stream",
     "text": [
      "Downloading URL https://mast.stsci.edu/api/v0.1/Download/file?uri=mast:TESS/product/tess2021039152502-s0035-0000000118339710-0205-s_lc.fits to ./mastDownload/TESS/tess2021039152502-s0035-0000000118339710-0205-s/tess2021039152502-s0035-0000000118339710-0205-s_lc.fits ... [Done]\n"
     ]
    },
    {
     "name": "stderr",
     "output_type": "stream",
     "text": [
      "WARNING: UnitsWarning: 'BJD - 2457000, days' did not parse as fits unit: At col 0, Unit 'BJD' not supported by the FITS standard.  If this is meant to be a custom unit, define it with 'u.def_unit'. To have it recognized inside a file reader or other code, enable it with 'u.add_enabled_units'. For details, see https://docs.astropy.org/en/latest/units/combining_and_defining.html [astropy.units.core]\n",
      "WARNING: UnitsWarning: 'e-/s' did not parse as fits unit: At col 0, Unit 'e' not supported by the FITS standard.  If this is meant to be a custom unit, define it with 'u.def_unit'. To have it recognized inside a file reader or other code, enable it with 'u.add_enabled_units'. For details, see https://docs.astropy.org/en/latest/units/combining_and_defining.html [astropy.units.core]\n",
      "WARNING: UnitsWarning: 'pixels' did not parse as fits unit: At col 0, Unit 'pixels' not supported by the FITS standard. Did you mean pixel? If this is meant to be a custom unit, define it with 'u.def_unit'. To have it recognized inside a file reader or other code, enable it with 'u.add_enabled_units'. For details, see https://docs.astropy.org/en/latest/units/combining_and_defining.html [astropy.units.core]\n"
     ]
    },
    {
     "name": "stdout",
     "output_type": "stream",
     "text": [
      "Downloading URL https://mast.stsci.edu/api/v0.1/Download/file?uri=mast:TESS/product/tess2023018032328-s0061-0000000118339710-0250-s_lc.fits to ./mastDownload/TESS/tess2023018032328-s0061-0000000118339710-0250-s/tess2023018032328-s0061-0000000118339710-0250-s_lc.fits ... [Done]\n"
     ]
    },
    {
     "name": "stderr",
     "output_type": "stream",
     "text": [
      "WARNING: UnitsWarning: 'BJD - 2457000, days' did not parse as fits unit: At col 0, Unit 'BJD' not supported by the FITS standard.  If this is meant to be a custom unit, define it with 'u.def_unit'. To have it recognized inside a file reader or other code, enable it with 'u.add_enabled_units'. For details, see https://docs.astropy.org/en/latest/units/combining_and_defining.html [astropy.units.core]\n",
      "WARNING: UnitsWarning: 'e-/s' did not parse as fits unit: At col 0, Unit 'e' not supported by the FITS standard.  If this is meant to be a custom unit, define it with 'u.def_unit'. To have it recognized inside a file reader or other code, enable it with 'u.add_enabled_units'. For details, see https://docs.astropy.org/en/latest/units/combining_and_defining.html [astropy.units.core]\n",
      "WARNING: UnitsWarning: 'pixels' did not parse as fits unit: At col 0, Unit 'pixels' not supported by the FITS standard. Did you mean pixel? If this is meant to be a custom unit, define it with 'u.def_unit'. To have it recognized inside a file reader or other code, enable it with 'u.add_enabled_units'. For details, see https://docs.astropy.org/en/latest/units/combining_and_defining.html [astropy.units.core]\n"
     ]
    },
    {
     "name": "stdout",
     "output_type": "stream",
     "text": [
      "Downloading URL https://mast.stsci.edu/api/v0.1/Download/file?uri=mast:TESS/product/tess2025014115807-s0088-0000000118339710-0285-s_lc.fits to ./mastDownload/TESS/tess2025014115807-s0088-0000000118339710-0285-s/tess2025014115807-s0088-0000000118339710-0285-s_lc.fits ... [Done]\n",
      "\n",
      "✅ Download summary:\n",
      "Sector ...\n",
      "------ ...\n",
      "     8 ...\n",
      "    34 ...\n",
      "    35 ...\n",
      "    61 ...\n",
      "    88 ...\n",
      "\n",
      "Temporary data stored in: /var/folders/fs/c4gpqhmx5tbcbsv_cbs0yhn80000gn/T/tmpa69cwvqv\n",
      "This directory will be deleted when the program exits.\n",
      "W :  143\n",
      "W :  144\n"
     ]
    },
    {
     "name": "stderr",
     "output_type": "stream",
     "text": [
      "WARNING: UnitsWarning: 'BJD - 2457000, days' did not parse as fits unit: At col 0, Unit 'BJD' not supported by the FITS standard.  If this is meant to be a custom unit, define it with 'u.def_unit'. To have it recognized inside a file reader or other code, enable it with 'u.add_enabled_units'. For details, see https://docs.astropy.org/en/latest/units/combining_and_defining.html [astropy.units.core]\n",
      "WARNING: UnitsWarning: 'e-/s' did not parse as fits unit: At col 0, Unit 'e' not supported by the FITS standard.  If this is meant to be a custom unit, define it with 'u.def_unit'. To have it recognized inside a file reader or other code, enable it with 'u.add_enabled_units'. For details, see https://docs.astropy.org/en/latest/units/combining_and_defining.html [astropy.units.core]\n",
      "WARNING: UnitsWarning: 'pixels' did not parse as fits unit: At col 0, Unit 'pixels' not supported by the FITS standard. Did you mean pixel? If this is meant to be a custom unit, define it with 'u.def_unit'. To have it recognized inside a file reader or other code, enable it with 'u.add_enabled_units'. For details, see https://docs.astropy.org/en/latest/units/combining_and_defining.html [astropy.units.core]\n"
     ]
    },
    {
     "name": "stdout",
     "output_type": "stream",
     "text": [
      "W :  144\n",
      "W :  144\n",
      "W :  144\n",
      "W :  30\n",
      "W :  144\n",
      "W :  144\n",
      "W :  144\n",
      "W :  144\n",
      "W :  144\n",
      "W :  144\n",
      "W :  144\n",
      "W :  21\n",
      "W :  144\n",
      "W :  144\n",
      "Initial Chi-Sqaured : 448.96 [red 4.08]\n",
      "Fitted parameters for TIC-118339710:\n",
      "t_zero : 2458525.646933233\n",
      "radius_1 : 0.051686085237850246\n",
      "k : 0.06518645518263097\n",
      "b : 0.7330604602222146\n",
      "Final Chi-Sqaured : 101.77 [red 0.93]\n",
      "Initial Chi-Sqaured : 217.40 [red 2.03]\n",
      "Fitted parameters for TIC-118339710:\n",
      "t_zero : 2459249.5488770576\n",
      "radius_1 : 0.05110643084762126\n",
      "k : 0.06323296530024211\n",
      "b : 0.7223750546297399\n",
      "Final Chi-Sqaured : 113.88 [red 1.06]\n",
      "1 49 1 48.26012958831464 723.9019438247196 15 15.081290496348325\n",
      "0 0.0\n",
      "1 0.0\n",
      "2 0.0\n",
      "3 0.0\n",
      "4 0.0\n",
      "5 0.0\n",
      "6 0.0\n",
      "7 0.0\n",
      "8 0.0\n",
      "9 0.0\n",
      "10 0.0\n",
      "11 0.0\n",
      "12 0.0\n",
      "13 0.0\n",
      "14 0.0\n",
      "15 0.0\n",
      "16 0.0\n",
      "17 0.0\n",
      "18 0.0\n",
      "19 0.0\n",
      "20 0.0\n",
      "21 0.0\n",
      "22 0.0\n",
      "23 0.0\n",
      "24 0.0\n",
      "25 0.0\n",
      "26 0.0\n",
      "27 0.0\n",
      "28 0.0\n",
      "29 0.0\n",
      "30 0.0\n",
      "31 0.0\n",
      "32 0.0\n",
      "33 0.0\n",
      "34 0.0\n",
      "35 -1419.9609810075629\n",
      "36 -1590.3796357144486\n",
      "37 -1898.5294065343573\n",
      "38 -2040.8257176536065\n",
      "39 -1427.0664420187275\n",
      "40 -1265.7113008303877\n",
      "41 -1261.8771866858704\n",
      "42 -1519.414820106909\n",
      "43 -1849.2665996349253\n",
      "44 -2765.131754622428\n",
      "45 -3127.3977111931645\n",
      "46 -2924.1742967426367\n",
      "47 -2755.525896736271\n"
     ]
    },
    {
     "name": "stderr",
     "output_type": "stream",
     "text": [
      "100%|███████████████████████████████████████████| 48/48 [00:06<00:00,  7.38it/s]\n"
     ]
    },
    {
     "name": "stdout",
     "output_type": "stream",
     "text": [
      "No transists visible\n",
      "\n",
      "📂 Download directory: /var/folders/fs/c4gpqhmx5tbcbsv_cbs0yhn80000gn/T/tmpx65xvwt5\n",
      "\n",
      "Querying TIC 121077168 from MAST...\n",
      "Downloading URL https://mast.stsci.edu/api/v0.1/Download/file?uri=mast:HLSP/qlp/s0004/0000/0001/2107/7168/hlsp_qlp_tess_ffi_s0004-0000000121077168_tess_v01_llc.fits to ./mastDownload/HLSP/hlsp_qlp_tess_ffi_s0004-0000000121077168_tess_v01_llc/hlsp_qlp_tess_ffi_s0004-0000000121077168_tess_v01_llc.fits ... [Done]\n"
     ]
    },
    {
     "name": "stderr",
     "output_type": "stream",
     "text": [
      "WARNING: UnitsWarning: 'BJD-2457000, days' did not parse as fits unit: At col 0, Unit 'BJD' not supported by the FITS standard.  If this is meant to be a custom unit, define it with 'u.def_unit'. To have it recognized inside a file reader or other code, enable it with 'u.add_enabled_units'. For details, see https://docs.astropy.org/en/latest/units/combining_and_defining.html [astropy.units.core]\n"
     ]
    },
    {
     "name": "stdout",
     "output_type": "stream",
     "text": [
      "Downloading URL https://mast.stsci.edu/api/v0.1/Download/file?uri=mast:HLSP/qlp/s0031/0000/0001/2107/7168/hlsp_qlp_tess_ffi_s0031-0000000121077168_tess_v01_llc.fits to ./mastDownload/HLSP/hlsp_qlp_tess_ffi_s0031-0000000121077168_tess_v01_llc/hlsp_qlp_tess_ffi_s0031-0000000121077168_tess_v01_llc.fits ... [Done]\n",
      "\n",
      "✅ Download summary:\n",
      "Sector ...\n",
      "------ ...\n",
      "     4 ...\n",
      "    31 ...\n",
      "\n",
      "Temporary data stored in: /var/folders/fs/c4gpqhmx5tbcbsv_cbs0yhn80000gn/T/tmpx65xvwt5\n",
      "This directory will be deleted when the program exits.\n",
      "W :  143\n",
      "W :  32\n",
      "W :  68\n",
      "W :  143\n",
      "W :  91\n"
     ]
    },
    {
     "name": "stderr",
     "output_type": "stream",
     "text": [
      "WARNING: UnitsWarning: 'BJD-2457000, days' did not parse as fits unit: At col 0, Unit 'BJD' not supported by the FITS standard.  If this is meant to be a custom unit, define it with 'u.def_unit'. To have it recognized inside a file reader or other code, enable it with 'u.add_enabled_units'. For details, see https://docs.astropy.org/en/latest/units/combining_and_defining.html [astropy.units.core]\n"
     ]
    },
    {
     "name": "stdout",
     "output_type": "stream",
     "text": [
      "W :  144\n",
      "W :  144\n",
      "W :  144\n",
      "Initial Chi-Sqaured : 99.18 [red 1.74]\n",
      "Fitted parameters for TIC-121077168:\n",
      "t_zero : 2458428.999854434\n",
      "radius_1 : 0.022623736881610124\n",
      "k : 0.14636031921702652\n",
      "b : 0.5025002963888459\n",
      "Final Chi-Sqaured : 45.90 [red 0.81]\n",
      "Initial Chi-Sqaured : 364.20 [red 7.43]\n",
      "Fitted parameters for TIC-121077168:\n",
      "t_zero : 2459155.2510287967\n",
      "radius_1 : 0.02159381093994689\n",
      "k : 0.13688298616691466\n",
      "b : 0.42634411044573073\n",
      "Final Chi-Sqaured : 196.68 [red 4.01]\n",
      "1 49 1 48.4167449575228 726.251174362842 15 15.130232799225874\n",
      "0 0.0\n",
      "1 0.0\n",
      "2 0.0\n",
      "3 0.0\n",
      "4 0.0\n",
      "5 0.0\n",
      "6 0.0\n",
      "7 0.0\n",
      "8 0.0\n",
      "9 0.0\n",
      "10 0.0\n",
      "11 0.0\n",
      "12 0.0\n",
      "13 0.0\n",
      "14 0.0\n",
      "15 0.0\n",
      "16 0.0\n",
      "17 0.0\n",
      "18 0.0\n",
      "19 0.0\n",
      "20 0.0\n",
      "21 0.0\n",
      "22 0.0\n",
      "23 0.0\n",
      "24 0.0\n",
      "25 0.0\n",
      "26 0.0\n",
      "27 0.0\n",
      "28 0.0\n",
      "29 0.0\n",
      "30 0.0\n",
      "31 0.0\n",
      "32 0.0\n",
      "33 0.0\n",
      "34 0.0\n",
      "35 0.0\n",
      "36 0.0\n",
      "37 0.0\n",
      "38 0.0\n",
      "39 0.0\n",
      "40 -204.29788502273306\n",
      "41 -251.30405475331537\n",
      "42 -273.1487705209329\n",
      "43 -181.27848316559604\n",
      "44 -224.91286372715527\n",
      "45 -351.7790815543238\n",
      "46 -237.28104288148526\n",
      "47 -250.27637444030813\n"
     ]
    },
    {
     "name": "stderr",
     "output_type": "stream",
     "text": [
      "100%|███████████████████████████████████████████| 48/48 [00:03<00:00, 15.95it/s]\n"
     ]
    },
    {
     "name": "stdout",
     "output_type": "stream",
     "text": [
      "\n",
      "📂 Download directory: /var/folders/fs/c4gpqhmx5tbcbsv_cbs0yhn80000gn/T/tmp8m7uoi9q\n",
      "\n",
      "Querying TIC 126565211 from MAST...\n",
      "Downloading URL https://mast.stsci.edu/api/v0.1/Download/file?uri=mast:HLSP/qlp/s0001/0000/0001/2656/5211/hlsp_qlp_tess_ffi_s0001-0000000126565211_tess_v01_llc.fits to ./mastDownload/HLSP/hlsp_qlp_tess_ffi_s0001-0000000126565211_tess_v01_llc/hlsp_qlp_tess_ffi_s0001-0000000126565211_tess_v01_llc.fits ... [Done]\n"
     ]
    },
    {
     "name": "stderr",
     "output_type": "stream",
     "text": [
      "WARNING: UnitsWarning: 'BJD-2457000, days' did not parse as fits unit: At col 0, Unit 'BJD' not supported by the FITS standard.  If this is meant to be a custom unit, define it with 'u.def_unit'. To have it recognized inside a file reader or other code, enable it with 'u.add_enabled_units'. For details, see https://docs.astropy.org/en/latest/units/combining_and_defining.html [astropy.units.core]\n"
     ]
    },
    {
     "name": "stdout",
     "output_type": "stream",
     "text": [
      "Downloading URL https://mast.stsci.edu/api/v0.1/Download/file?uri=mast:HLSP/qlp/s0027/0000/0001/2656/5211/hlsp_qlp_tess_ffi_s0027-0000000126565211_tess_v01_llc.fits to ./mastDownload/HLSP/hlsp_qlp_tess_ffi_s0027-0000000126565211_tess_v01_llc/hlsp_qlp_tess_ffi_s0027-0000000126565211_tess_v01_llc.fits ... [Done]\n"
     ]
    },
    {
     "name": "stderr",
     "output_type": "stream",
     "text": [
      "WARNING: UnitsWarning: 'BJD-2457000, days' did not parse as fits unit: At col 0, Unit 'BJD' not supported by the FITS standard.  If this is meant to be a custom unit, define it with 'u.def_unit'. To have it recognized inside a file reader or other code, enable it with 'u.add_enabled_units'. For details, see https://docs.astropy.org/en/latest/units/combining_and_defining.html [astropy.units.core]\n"
     ]
    },
    {
     "name": "stdout",
     "output_type": "stream",
     "text": [
      "Downloading URL https://mast.stsci.edu/api/v0.1/Download/file?uri=mast:HLSP/qlp/s0067/0000/0001/2656/5211/hlsp_qlp_tess_ffi_s0067-0000000126565211_tess_v01_llc.fits to ./mastDownload/HLSP/hlsp_qlp_tess_ffi_s0067-0000000126565211_tess_v01_llc/hlsp_qlp_tess_ffi_s0067-0000000126565211_tess_v01_llc.fits ... [Done]\n"
     ]
    },
    {
     "name": "stderr",
     "output_type": "stream",
     "text": [
      "WARNING: UnitsWarning: 'BJD-2457000, days' did not parse as fits unit: At col 0, Unit 'BJD' not supported by the FITS standard.  If this is meant to be a custom unit, define it with 'u.def_unit'. To have it recognized inside a file reader or other code, enable it with 'u.add_enabled_units'. For details, see https://docs.astropy.org/en/latest/units/combining_and_defining.html [astropy.units.core]\n",
      "Warning: aperture mask contains zero pixels.\n"
     ]
    },
    {
     "name": "stdout",
     "output_type": "stream",
     "text": [
      "Downloading URL https://mast.stsci.edu/api/v0.1/Download/file?uri=mast:HLSP/qlp/s0095/0000/0001/2656/5211/hlsp_qlp_tess_ffi_s0095-0000000126565211_tess_v01_llc.fits to ./mastDownload/HLSP/hlsp_qlp_tess_ffi_s0095-0000000126565211_tess_v01_llc/hlsp_qlp_tess_ffi_s0095-0000000126565211_tess_v01_llc.fits ... [Done]\n",
      "\n",
      "✅ Download summary:\n",
      "Sector ...\n",
      "------ ...\n",
      "     1 ...\n",
      "    27 ...\n",
      "    67 ...\n",
      "    94 ...\n",
      "    95 ...\n",
      "\n",
      "Temporary data stored in: /var/folders/fs/c4gpqhmx5tbcbsv_cbs0yhn80000gn/T/tmp8m7uoi9q\n",
      "This directory will be deleted when the program exits.\n",
      "W :  144\n",
      "W :  69\n",
      "W :  144\n",
      "W :  1\n",
      "W :  50\n",
      "W :  43\n"
     ]
    },
    {
     "name": "stderr",
     "output_type": "stream",
     "text": [
      "WARNING: UnitsWarning: 'BJD-2457000, days' did not parse as fits unit: At col 0, Unit 'BJD' not supported by the FITS standard.  If this is meant to be a custom unit, define it with 'u.def_unit'. To have it recognized inside a file reader or other code, enable it with 'u.add_enabled_units'. For details, see https://docs.astropy.org/en/latest/units/combining_and_defining.html [astropy.units.core]\n"
     ]
    },
    {
     "name": "stdout",
     "output_type": "stream",
     "text": [
      "W :  96\n",
      "W :  96\n",
      "W :  96\n",
      "W :  144\n",
      "W :  144\n",
      "W :  144\n",
      "W :  112\n",
      "W :  144\n",
      "W :  144\n",
      "W :  144\n",
      "W :  144\n",
      "Initial Chi-Sqaured : 194.23 [red 7.19]\n",
      "Fitted parameters for TIC-126565211:\n",
      "t_zero : 2458338.3639287\n",
      "radius_1 : 0.03674347632802652\n",
      "k : 0.09823905415021891\n",
      "b : 0.8864332959081755\n",
      "Final Chi-Sqaured : 22.34 [red 0.83]\n",
      "Initial Chi-Sqaured : 439.75 [red 23.14]\n",
      "Fitted parameters for TIC-126565211:\n",
      "t_zero : 2459047.9816989773\n",
      "radius_1 : 0.035330324483116834\n",
      "k : 0.2967803486210122\n",
      "b : 1.1473484656242507\n",
      "Final Chi-Sqaured : 53.97 [red 2.84]\n",
      "1 48 1 47.307851351828624 709.6177702774294 15 15.098250431434668\n",
      "0 0.0\n",
      "1 0.0\n",
      "2 0.0\n",
      "3 0.0\n",
      "4 0.0\n",
      "5 0.0\n",
      "6 0.0\n",
      "7 0.0\n",
      "8 0.0\n",
      "9 0.0\n",
      "10 0.0\n",
      "11 0.0\n",
      "12 0.0\n",
      "13 0.0\n",
      "14 0.0\n",
      "15 0.0\n",
      "16 0.0\n",
      "17 0.0\n",
      "18 0.0\n",
      "19 0.0\n",
      "20 0.0\n",
      "21 0.0\n",
      "22 0.0\n",
      "23 0.0\n",
      "24 0.0\n",
      "25 0.0\n",
      "26 0.0\n",
      "27 0.0\n",
      "28 0.0\n",
      "29 0.0\n",
      "30 0.0\n",
      "31 0.0\n",
      "32 0.0\n",
      "33 0.0\n",
      "34 0.0\n",
      "35 0.0\n",
      "36 0.0\n",
      "37 0.0\n",
      "38 0.0\n",
      "39 0.0\n",
      "40 0.0\n",
      "41 0.0\n",
      "42 0.0\n",
      "43 0.0\n",
      "44 0.0\n",
      "45 0.0\n",
      "46 0.0\n"
     ]
    },
    {
     "name": "stderr",
     "output_type": "stream",
     "text": [
      "100%|███████████████████████████████████████████| 47/47 [00:04<00:00,  9.70it/s]\n"
     ]
    },
    {
     "name": "stdout",
     "output_type": "stream",
     "text": [
      "\n",
      "📂 Download directory: /var/folders/fs/c4gpqhmx5tbcbsv_cbs0yhn80000gn/T/tmpk1pnaj1p\n",
      "\n",
      "Querying TIC 140215502 from MAST...\n",
      "Downloading URL https://mast.stsci.edu/api/v0.1/Download/file?uri=mast:HLSP/tess-spoc/s0005/target/0000/0001/4021/5502/hlsp_tess-spoc_tess_phot_0000000140215502-s0005_tess_v1_lc.fits to ./mastDownload/HLSP/hlsp_tess-spoc_tess_phot_0000000140215502-s0005_tess_v1_tp/hlsp_tess-spoc_tess_phot_0000000140215502-s0005_tess_v1_lc.fits ... [Done]\n"
     ]
    },
    {
     "name": "stderr",
     "output_type": "stream",
     "text": [
      "WARNING: UnitsWarning: 'BJD - 2457000, days' did not parse as fits unit: At col 0, Unit 'BJD' not supported by the FITS standard.  If this is meant to be a custom unit, define it with 'u.def_unit'. To have it recognized inside a file reader or other code, enable it with 'u.add_enabled_units'. For details, see https://docs.astropy.org/en/latest/units/combining_and_defining.html [astropy.units.core]\n",
      "WARNING: UnitsWarning: 'e-/s' did not parse as fits unit: At col 0, Unit 'e' not supported by the FITS standard.  If this is meant to be a custom unit, define it with 'u.def_unit'. To have it recognized inside a file reader or other code, enable it with 'u.add_enabled_units'. For details, see https://docs.astropy.org/en/latest/units/combining_and_defining.html [astropy.units.core]\n",
      "WARNING: UnitsWarning: 'pixels' did not parse as fits unit: At col 0, Unit 'pixels' not supported by the FITS standard. Did you mean pixel? If this is meant to be a custom unit, define it with 'u.def_unit'. To have it recognized inside a file reader or other code, enable it with 'u.add_enabled_units'. For details, see https://docs.astropy.org/en/latest/units/combining_and_defining.html [astropy.units.core]\n"
     ]
    },
    {
     "name": "stdout",
     "output_type": "stream",
     "text": [
      "Downloading URL https://mast.stsci.edu/api/v0.1/Download/file?uri=mast:HLSP/tess-spoc/s0006/target/0000/0001/4021/5502/hlsp_tess-spoc_tess_phot_0000000140215502-s0006_tess_v1_lc.fits to ./mastDownload/HLSP/hlsp_tess-spoc_tess_phot_0000000140215502-s0006_tess_v1_tp/hlsp_tess-spoc_tess_phot_0000000140215502-s0006_tess_v1_lc.fits ... [Done]\n"
     ]
    },
    {
     "name": "stderr",
     "output_type": "stream",
     "text": [
      "WARNING: UnitsWarning: 'BJD - 2457000, days' did not parse as fits unit: At col 0, Unit 'BJD' not supported by the FITS standard.  If this is meant to be a custom unit, define it with 'u.def_unit'. To have it recognized inside a file reader or other code, enable it with 'u.add_enabled_units'. For details, see https://docs.astropy.org/en/latest/units/combining_and_defining.html [astropy.units.core]\n",
      "WARNING: UnitsWarning: 'e-/s' did not parse as fits unit: At col 0, Unit 'e' not supported by the FITS standard.  If this is meant to be a custom unit, define it with 'u.def_unit'. To have it recognized inside a file reader or other code, enable it with 'u.add_enabled_units'. For details, see https://docs.astropy.org/en/latest/units/combining_and_defining.html [astropy.units.core]\n",
      "WARNING: UnitsWarning: 'pixels' did not parse as fits unit: At col 0, Unit 'pixels' not supported by the FITS standard. Did you mean pixel? If this is meant to be a custom unit, define it with 'u.def_unit'. To have it recognized inside a file reader or other code, enable it with 'u.add_enabled_units'. For details, see https://docs.astropy.org/en/latest/units/combining_and_defining.html [astropy.units.core]\n"
     ]
    },
    {
     "name": "stdout",
     "output_type": "stream",
     "text": [
      "Downloading URL https://mast.stsci.edu/api/v0.1/Download/file?uri=mast:TESS/product/tess2020324010417-s0032-0000000140215502-0200-s_lc.fits to ./mastDownload/TESS/tess2020324010417-s0032-0000000140215502-0200-s/tess2020324010417-s0032-0000000140215502-0200-s_lc.fits ... [Done]\n"
     ]
    },
    {
     "name": "stderr",
     "output_type": "stream",
     "text": [
      "WARNING: UnitsWarning: 'BJD - 2457000, days' did not parse as fits unit: At col 0, Unit 'BJD' not supported by the FITS standard.  If this is meant to be a custom unit, define it with 'u.def_unit'. To have it recognized inside a file reader or other code, enable it with 'u.add_enabled_units'. For details, see https://docs.astropy.org/en/latest/units/combining_and_defining.html [astropy.units.core]\n",
      "WARNING: UnitsWarning: 'e-/s' did not parse as fits unit: At col 0, Unit 'e' not supported by the FITS standard.  If this is meant to be a custom unit, define it with 'u.def_unit'. To have it recognized inside a file reader or other code, enable it with 'u.add_enabled_units'. For details, see https://docs.astropy.org/en/latest/units/combining_and_defining.html [astropy.units.core]\n",
      "WARNING: UnitsWarning: 'pixels' did not parse as fits unit: At col 0, Unit 'pixels' not supported by the FITS standard. Did you mean pixel? If this is meant to be a custom unit, define it with 'u.def_unit'. To have it recognized inside a file reader or other code, enable it with 'u.add_enabled_units'. For details, see https://docs.astropy.org/en/latest/units/combining_and_defining.html [astropy.units.core]\n"
     ]
    },
    {
     "name": "stdout",
     "output_type": "stream",
     "text": [
      "Downloading URL https://mast.stsci.edu/api/v0.1/Download/file?uri=mast:TESS/product/tess2020351194500-s0033-0000000140215502-0203-s_lc.fits to ./mastDownload/TESS/tess2020351194500-s0033-0000000140215502-0203-s/tess2020351194500-s0033-0000000140215502-0203-s_lc.fits ... [Done]\n"
     ]
    },
    {
     "name": "stderr",
     "output_type": "stream",
     "text": [
      "WARNING: UnitsWarning: 'BJD - 2457000, days' did not parse as fits unit: At col 0, Unit 'BJD' not supported by the FITS standard.  If this is meant to be a custom unit, define it with 'u.def_unit'. To have it recognized inside a file reader or other code, enable it with 'u.add_enabled_units'. For details, see https://docs.astropy.org/en/latest/units/combining_and_defining.html [astropy.units.core]\n",
      "WARNING: UnitsWarning: 'e-/s' did not parse as fits unit: At col 0, Unit 'e' not supported by the FITS standard.  If this is meant to be a custom unit, define it with 'u.def_unit'. To have it recognized inside a file reader or other code, enable it with 'u.add_enabled_units'. For details, see https://docs.astropy.org/en/latest/units/combining_and_defining.html [astropy.units.core]\n",
      "WARNING: UnitsWarning: 'pixels' did not parse as fits unit: At col 0, Unit 'pixels' not supported by the FITS standard. Did you mean pixel? If this is meant to be a custom unit, define it with 'u.def_unit'. To have it recognized inside a file reader or other code, enable it with 'u.add_enabled_units'. For details, see https://docs.astropy.org/en/latest/units/combining_and_defining.html [astropy.units.core]\n"
     ]
    },
    {
     "name": "stdout",
     "output_type": "stream",
     "text": [
      "Downloading URL https://mast.stsci.edu/api/v0.1/Download/file?uri=mast:HLSP/qlp/s0087/0000/0001/4021/5502/hlsp_qlp_tess_ffi_s0087-0000000140215502_tess_v01_llc.fits to ./mastDownload/HLSP/hlsp_qlp_tess_ffi_s0087-0000000140215502_tess_v01_llc/hlsp_qlp_tess_ffi_s0087-0000000140215502_tess_v01_llc.fits ... [Done]\n",
      "\n",
      "✅ Download summary:\n",
      "Sector ...\n",
      "------ ...\n",
      "     5 ...\n",
      "     6 ...\n",
      "    32 ...\n",
      "    33 ...\n",
      "    87 ...\n",
      "\n",
      "Temporary data stored in: /var/folders/fs/c4gpqhmx5tbcbsv_cbs0yhn80000gn/T/tmpk1pnaj1p\n",
      "This directory will be deleted when the program exits.\n",
      "W :  143\n",
      "W :  143\n"
     ]
    },
    {
     "name": "stderr",
     "output_type": "stream",
     "text": [
      "WARNING: UnitsWarning: 'BJD-2457000, days' did not parse as fits unit: At col 0, Unit 'BJD' not supported by the FITS standard.  If this is meant to be a custom unit, define it with 'u.def_unit'. To have it recognized inside a file reader or other code, enable it with 'u.add_enabled_units'. For details, see https://docs.astropy.org/en/latest/units/combining_and_defining.html [astropy.units.core]\n"
     ]
    },
    {
     "name": "stdout",
     "output_type": "stream",
     "text": [
      "W :  144\n",
      "W :  144\n",
      "W :  144\n",
      "W :  144\n",
      "W :  144\n",
      "W :  144\n",
      "W :  144\n",
      "W :  144\n",
      "W :  144\n",
      "W :  144\n",
      "Initial Chi-Sqaured : 114.51 [red 1.79]\n",
      "Fitted parameters for TIC-140215502:\n",
      "t_zero : 2458460.55266955\n",
      "radius_1 : 0.027605576751794633\n",
      "k : 0.05080683129399989\n",
      "b : 0.39820514646193583\n",
      "Final Chi-Sqaured : 53.93 [red 0.84]\n",
      "Initial Chi-Sqaured : 223.95 [red 2.76]\n",
      "Fitted parameters for TIC-140215502:\n",
      "t_zero : 2459194.4394356175\n",
      "radius_1 : 0.03828285850576557\n",
      "k : 0.06484748371305815\n",
      "b : 0.6652261628878832\n",
      "Final Chi-Sqaured : 85.05 [red 1.05]\n",
      "1 49 1 48.925784404513735 733.886766067706 15 15.289307626410542\n",
      "0 0.0\n",
      "1 0.0\n",
      "2 0.0\n",
      "3 0.0\n",
      "4 0.0\n",
      "5 0.0\n",
      "6 0.0\n",
      "7 0.0\n",
      "8 0.0\n",
      "9 0.0\n",
      "10 0.0\n",
      "11 0.0\n",
      "12 0.0\n",
      "13 0.0\n",
      "14 0.0\n",
      "15 0.0\n",
      "16 0.0\n",
      "17 0.0\n",
      "18 0.0\n",
      "19 0.0\n",
      "20 0.0\n",
      "21 0.0\n",
      "22 0.0\n",
      "23 0.0\n",
      "24 -162.04646971056687\n",
      "25 -130.34425148941332\n",
      "26 -157.22790533666284\n",
      "27 -183.11592485249267\n",
      "28 -183.91422219724913\n",
      "29 -165.4463000793046\n",
      "30 -156.02392571510703\n",
      "31 -167.06925831720494\n",
      "32 -328.62104339109965\n",
      "33 -310.64520550569864\n",
      "34 -336.9712251588373\n",
      "35 -325.0693940771972\n",
      "36 -521.8260789507425\n",
      "37 -493.10347941530574\n",
      "38 -515.207915258242\n",
      "39 -550.5125424770854\n",
      "40 -418.52811558757776\n",
      "41 -378.1667180616195\n",
      "42 -420.814470590837\n",
      "43 -332.7716859463031\n",
      "44 -515.4877090680673\n",
      "45 -544.4702822695843\n",
      "46 -520.0585336517546\n",
      "47 -471.279034986884\n"
     ]
    },
    {
     "name": "stderr",
     "output_type": "stream",
     "text": [
      "100%|███████████████████████████████████████████| 48/48 [00:07<00:00,  6.30it/s]\n"
     ]
    },
    {
     "name": "stdout",
     "output_type": "stream",
     "text": [
      "\n",
      "📂 Download directory: /var/folders/fs/c4gpqhmx5tbcbsv_cbs0yhn80000gn/T/tmp262yy7eg\n",
      "\n",
      "Querying TIC 140750416 from MAST...\n",
      "Downloading URL https://mast.stsci.edu/api/v0.1/Download/file?uri=mast:HLSP/tess-spoc/s0007/target/0000/0001/4075/0416/hlsp_tess-spoc_tess_phot_0000000140750416-s0007_tess_v1_lc.fits to ./mastDownload/HLSP/hlsp_tess-spoc_tess_phot_0000000140750416-s0007_tess_v1_tp/hlsp_tess-spoc_tess_phot_0000000140750416-s0007_tess_v1_lc.fits ... [Done]\n"
     ]
    },
    {
     "name": "stderr",
     "output_type": "stream",
     "text": [
      "WARNING: UnitsWarning: 'BJD - 2457000, days' did not parse as fits unit: At col 0, Unit 'BJD' not supported by the FITS standard.  If this is meant to be a custom unit, define it with 'u.def_unit'. To have it recognized inside a file reader or other code, enable it with 'u.add_enabled_units'. For details, see https://docs.astropy.org/en/latest/units/combining_and_defining.html [astropy.units.core]\n",
      "WARNING: UnitsWarning: 'e-/s' did not parse as fits unit: At col 0, Unit 'e' not supported by the FITS standard.  If this is meant to be a custom unit, define it with 'u.def_unit'. To have it recognized inside a file reader or other code, enable it with 'u.add_enabled_units'. For details, see https://docs.astropy.org/en/latest/units/combining_and_defining.html [astropy.units.core]\n",
      "WARNING: UnitsWarning: 'pixels' did not parse as fits unit: At col 0, Unit 'pixels' not supported by the FITS standard. Did you mean pixel? If this is meant to be a custom unit, define it with 'u.def_unit'. To have it recognized inside a file reader or other code, enable it with 'u.add_enabled_units'. For details, see https://docs.astropy.org/en/latest/units/combining_and_defining.html [astropy.units.core]\n"
     ]
    },
    {
     "name": "stdout",
     "output_type": "stream",
     "text": [
      "Downloading URL https://mast.stsci.edu/api/v0.1/Download/file?uri=mast:HLSP/tess-spoc/s0034/target/0000/0001/4075/0416/hlsp_tess-spoc_tess_phot_0000000140750416-s0034_tess_v1_lc.fits to ./mastDownload/HLSP/hlsp_tess-spoc_tess_phot_0000000140750416-s0034_tess_v1_tp/hlsp_tess-spoc_tess_phot_0000000140750416-s0034_tess_v1_lc.fits ... [Done]\n"
     ]
    },
    {
     "name": "stderr",
     "output_type": "stream",
     "text": [
      "WARNING: UnitsWarning: 'BJD - 2457000, days' did not parse as fits unit: At col 0, Unit 'BJD' not supported by the FITS standard.  If this is meant to be a custom unit, define it with 'u.def_unit'. To have it recognized inside a file reader or other code, enable it with 'u.add_enabled_units'. For details, see https://docs.astropy.org/en/latest/units/combining_and_defining.html [astropy.units.core]\n",
      "WARNING: UnitsWarning: 'e-/s' did not parse as fits unit: At col 0, Unit 'e' not supported by the FITS standard.  If this is meant to be a custom unit, define it with 'u.def_unit'. To have it recognized inside a file reader or other code, enable it with 'u.add_enabled_units'. For details, see https://docs.astropy.org/en/latest/units/combining_and_defining.html [astropy.units.core]\n",
      "WARNING: UnitsWarning: 'pixels' did not parse as fits unit: At col 0, Unit 'pixels' not supported by the FITS standard. Did you mean pixel? If this is meant to be a custom unit, define it with 'u.def_unit'. To have it recognized inside a file reader or other code, enable it with 'u.add_enabled_units'. For details, see https://docs.astropy.org/en/latest/units/combining_and_defining.html [astropy.units.core]\n",
      "Warning: aperture mask contains zero pixels.\n"
     ]
    },
    {
     "name": "stdout",
     "output_type": "stream",
     "text": [
      "\n",
      "✅ Download summary:\n",
      "Sector ...\n",
      "------ ...\n",
      "     7 ...\n",
      "    34 ...\n",
      "    61 ...\n",
      "\n",
      "Temporary data stored in: /var/folders/fs/c4gpqhmx5tbcbsv_cbs0yhn80000gn/T/tmp262yy7eg\n",
      "This directory will be deleted when the program exits.\n",
      "W :  143\n",
      "W :  144\n",
      "W :  144\n",
      "W :  144\n",
      "Initial Chi-Sqaured : 306.46 [red 9.01]\n",
      "Fitted parameters for TIC-140750416:\n",
      "t_zero : 2458504.8043474886\n",
      "radius_1 : 0.024563643665674484\n",
      "k : 0.09766875019741914\n",
      "b : 0.7852509251328311\n",
      "Final Chi-Sqaured : 57.42 [red 1.69]\n",
      "Initial Chi-Sqaured : 334.78 [red 8.58]\n",
      "Fitted parameters for TIC-140750416:\n",
      "t_zero : 2459245.3972747736\n",
      "radius_1 : 0.014831471481852515\n",
      "k : 0.08956366667981949\n",
      "b : 0.29993975484074226\n",
      "Final Chi-Sqaured : 151.56 [red 3.89]\n",
      "1 50 1 49.37286181900029 740.5929272850044 15 15.114141373163354\n",
      "0 -5.417058590477374\n",
      "1 -5.417058590165327\n",
      "2 -5.417058590241735\n",
      "3 -5.417058590227435\n",
      "4 -5.4170585901266906\n",
      "5 -5.417058590283737\n",
      "6 -5.417058590203774\n",
      "7 -5.417058590529429\n",
      "8 -5.4170585904983195\n",
      "9 -5.417058590285526\n",
      "10 -5.417058590356968\n",
      "11 -5.417058590416847\n",
      "12 -5.417058590466348\n",
      "13 -5.417058590317357\n",
      "14 -5.417058590366533\n",
      "15 -5.417058590462886\n",
      "16 -5.417058590449491\n",
      "17 -5.417058590436792\n",
      "18 -5.41705859051348\n",
      "19 -5.417058590232588\n",
      "20 -5.417058590310948\n",
      "21 -5.417058590308162\n",
      "22 -5.417058590305146\n",
      "23 -5.417058590371293\n",
      "24 -5.417058590432053\n",
      "25 -5.417058590424044\n",
      "26 -5.417058590218797\n",
      "27 -5.4170585902789075\n",
      "28 -5.417058590518216\n",
      "29 -5.41705859033015\n",
      "30 -5.417058590326993\n",
      "31 -5.41705859015734\n",
      "32 -5.417058589996579\n",
      "33 -5.4170585902595905\n",
      "34 -5.417058590105632\n",
      "35 -5.4170585902584305\n",
      "36 -5.4170585902018455\n",
      "37 -5.41705859034429\n",
      "38 -5.4170585902036805\n",
      "39 -5.4170585900710835\n",
      "40 -5.417058590205006\n",
      "41 -5.41705859015743\n",
      "42 -5.417058590034607\n",
      "43 -5.417058590160264\n",
      "44 -5.417058590355735\n",
      "45 -982.0962092193967\n",
      "46 -3243.7420601124445\n",
      "47 -13426.307244685864\n",
      "48 -1706.6476420876304\n"
     ]
    },
    {
     "name": "stderr",
     "output_type": "stream",
     "text": [
      "100%|███████████████████████████████████████████| 49/49 [00:02<00:00, 18.13it/s]\n"
     ]
    },
    {
     "name": "stdout",
     "output_type": "stream",
     "text": [
      "\n",
      "📂 Download directory: /var/folders/fs/c4gpqhmx5tbcbsv_cbs0yhn80000gn/T/tmp8b2u0228\n",
      "\n",
      "Querying TIC 145006304 from MAST...\n",
      "Downloading URL https://mast.stsci.edu/api/v0.1/Download/file?uri=mast:HLSP/tess-spoc/s0010/target/0000/0001/4500/6304/hlsp_tess-spoc_tess_phot_0000000145006304-s0010_tess_v1_lc.fits to ./mastDownload/HLSP/hlsp_tess-spoc_tess_phot_0000000145006304-s0010_tess_v1_tp/hlsp_tess-spoc_tess_phot_0000000145006304-s0010_tess_v1_lc.fits ... [Done]\n"
     ]
    },
    {
     "name": "stderr",
     "output_type": "stream",
     "text": [
      "WARNING: UnitsWarning: 'BJD - 2457000, days' did not parse as fits unit: At col 0, Unit 'BJD' not supported by the FITS standard.  If this is meant to be a custom unit, define it with 'u.def_unit'. To have it recognized inside a file reader or other code, enable it with 'u.add_enabled_units'. For details, see https://docs.astropy.org/en/latest/units/combining_and_defining.html [astropy.units.core]\n",
      "WARNING: UnitsWarning: 'e-/s' did not parse as fits unit: At col 0, Unit 'e' not supported by the FITS standard.  If this is meant to be a custom unit, define it with 'u.def_unit'. To have it recognized inside a file reader or other code, enable it with 'u.add_enabled_units'. For details, see https://docs.astropy.org/en/latest/units/combining_and_defining.html [astropy.units.core]\n",
      "WARNING: UnitsWarning: 'pixels' did not parse as fits unit: At col 0, Unit 'pixels' not supported by the FITS standard. Did you mean pixel? If this is meant to be a custom unit, define it with 'u.def_unit'. To have it recognized inside a file reader or other code, enable it with 'u.add_enabled_units'. For details, see https://docs.astropy.org/en/latest/units/combining_and_defining.html [astropy.units.core]\n"
     ]
    },
    {
     "name": "stdout",
     "output_type": "stream",
     "text": [
      "Downloading URL https://mast.stsci.edu/api/v0.1/Download/file?uri=mast:HLSP/tess-spoc/s0037/target/0000/0001/4500/6304/hlsp_tess-spoc_tess_phot_0000000145006304-s0037_tess_v1_lc.fits to ./mastDownload/HLSP/hlsp_tess-spoc_tess_phot_0000000145006304-s0037_tess_v1_tp/hlsp_tess-spoc_tess_phot_0000000145006304-s0037_tess_v1_lc.fits ... [Done]\n"
     ]
    },
    {
     "name": "stderr",
     "output_type": "stream",
     "text": [
      "WARNING: UnitsWarning: 'BJD - 2457000, days' did not parse as fits unit: At col 0, Unit 'BJD' not supported by the FITS standard.  If this is meant to be a custom unit, define it with 'u.def_unit'. To have it recognized inside a file reader or other code, enable it with 'u.add_enabled_units'. For details, see https://docs.astropy.org/en/latest/units/combining_and_defining.html [astropy.units.core]\n",
      "WARNING: UnitsWarning: 'e-/s' did not parse as fits unit: At col 0, Unit 'e' not supported by the FITS standard.  If this is meant to be a custom unit, define it with 'u.def_unit'. To have it recognized inside a file reader or other code, enable it with 'u.add_enabled_units'. For details, see https://docs.astropy.org/en/latest/units/combining_and_defining.html [astropy.units.core]\n",
      "WARNING: UnitsWarning: 'pixels' did not parse as fits unit: At col 0, Unit 'pixels' not supported by the FITS standard. Did you mean pixel? If this is meant to be a custom unit, define it with 'u.def_unit'. To have it recognized inside a file reader or other code, enable it with 'u.add_enabled_units'. For details, see https://docs.astropy.org/en/latest/units/combining_and_defining.html [astropy.units.core]\n"
     ]
    },
    {
     "name": "stdout",
     "output_type": "stream",
     "text": [
      "Downloading URL https://mast.stsci.edu/api/v0.1/Download/file?uri=mast:HLSP/tess-spoc/s0064/target/0000/0001/4500/6304/hlsp_tess-spoc_tess_phot_0000000145006304-s0064_tess_v1_lc.fits to ./mastDownload/HLSP/hlsp_tess-spoc_tess_phot_0000000145006304-s0064_tess_v1_tp/hlsp_tess-spoc_tess_phot_0000000145006304-s0064_tess_v1_lc.fits ... [Done]\n",
      "\n",
      "✅ Download summary:\n",
      "Sector ...\n",
      "------ ...\n",
      "    10 ...\n",
      "    37 ...\n",
      "    64 ...\n",
      "\n",
      "Temporary data stored in: /var/folders/fs/c4gpqhmx5tbcbsv_cbs0yhn80000gn/T/tmp8b2u0228\n",
      "This directory will be deleted when the program exits.\n",
      "W :  143\n",
      "W :  143\n"
     ]
    },
    {
     "name": "stderr",
     "output_type": "stream",
     "text": [
      "WARNING: UnitsWarning: 'BJD - 2457000, days' did not parse as fits unit: At col 0, Unit 'BJD' not supported by the FITS standard.  If this is meant to be a custom unit, define it with 'u.def_unit'. To have it recognized inside a file reader or other code, enable it with 'u.add_enabled_units'. For details, see https://docs.astropy.org/en/latest/units/combining_and_defining.html [astropy.units.core]\n",
      "WARNING: UnitsWarning: 'e-/s' did not parse as fits unit: At col 0, Unit 'e' not supported by the FITS standard.  If this is meant to be a custom unit, define it with 'u.def_unit'. To have it recognized inside a file reader or other code, enable it with 'u.add_enabled_units'. For details, see https://docs.astropy.org/en/latest/units/combining_and_defining.html [astropy.units.core]\n",
      "WARNING: UnitsWarning: 'pixels' did not parse as fits unit: At col 0, Unit 'pixels' not supported by the FITS standard. Did you mean pixel? If this is meant to be a custom unit, define it with 'u.def_unit'. To have it recognized inside a file reader or other code, enable it with 'u.add_enabled_units'. For details, see https://docs.astropy.org/en/latest/units/combining_and_defining.html [astropy.units.core]\n"
     ]
    },
    {
     "name": "stdout",
     "output_type": "stream",
     "text": [
      "W :  144\n",
      "W :  144\n",
      "W :  144\n",
      "W :  144\n",
      "W :  144\n",
      "W :  144\n",
      "Initial Chi-Sqaured : 176.28 [red 3.39]\n",
      "Fitted parameters for TIC-145006304:\n",
      "t_zero : 2458579.5064824712\n",
      "radius_1 : 0.04781239121568158\n",
      "k : 0.10932407541925068\n",
      "b : 1.0503945774664332\n",
      "Final Chi-Sqaured : 104.06 [red 2.00]\n",
      "Initial Chi-Sqaured : 551.51 [red 10.21]\n",
      "Fitted parameters for TIC-145006304:\n",
      "t_zero : 2459318.246388945\n",
      "radius_1 : 0.04384877672203681\n",
      "k : 0.04710170179336322\n",
      "b : 0.9518545600331327\n",
      "Final Chi-Sqaured : 369.03 [red 6.83]\n",
      "1 50 1 49.249327098236726 738.739906473551 15 15.076324621909203\n",
      "0 0.0\n",
      "1 0.0\n",
      "2 0.0\n",
      "3 0.0\n",
      "4 0.0\n",
      "5 0.0\n",
      "6 0.0\n",
      "7 0.0\n",
      "8 0.0\n",
      "9 0.0\n",
      "10 0.0\n",
      "11 0.0\n",
      "12 0.0\n",
      "13 0.0\n",
      "14 0.0\n",
      "15 0.0\n",
      "16 0.0\n",
      "17 0.0\n",
      "18 0.0\n",
      "19 0.0\n",
      "20 0.0\n",
      "21 0.0\n",
      "22 0.0\n",
      "23 0.0\n",
      "24 0.0\n",
      "25 0.0\n",
      "26 0.0\n",
      "27 0.0\n",
      "28 0.0\n",
      "29 0.0\n",
      "30 0.0\n",
      "31 0.0\n",
      "32 0.0\n",
      "33 0.0\n",
      "34 0.0\n",
      "35 0.0\n",
      "36 0.0\n",
      "37 0.0\n",
      "38 0.0\n",
      "39 0.0\n",
      "40 0.0\n",
      "41 0.0\n",
      "42 0.0\n",
      "43 0.0\n",
      "44 0.0\n",
      "45 -18.988208457004102\n",
      "46 -24.74830354343522\n",
      "47 -10.824263747135888\n",
      "48 -10.673670161579157\n"
     ]
    },
    {
     "name": "stderr",
     "output_type": "stream",
     "text": [
      "100%|███████████████████████████████████████████| 49/49 [00:04<00:00, 10.40it/s]\n"
     ]
    },
    {
     "name": "stdout",
     "output_type": "stream",
     "text": [
      "No transists visible\n",
      "\n",
      "📂 Download directory: /var/folders/fs/c4gpqhmx5tbcbsv_cbs0yhn80000gn/T/tmptw9o4mos\n",
      "\n",
      "Querying TIC 156716001 from MAST...\n",
      "Downloading URL https://mast.stsci.edu/api/v0.1/Download/file?uri=mast:HLSP/tess-spoc/s0006/target/0000/0001/5671/6001/hlsp_tess-spoc_tess_phot_0000000156716001-s0006_tess_v1_lc.fits to ./mastDownload/HLSP/hlsp_tess-spoc_tess_phot_0000000156716001-s0006_tess_v1_tp/hlsp_tess-spoc_tess_phot_0000000156716001-s0006_tess_v1_lc.fits ... [Done]\n"
     ]
    },
    {
     "name": "stderr",
     "output_type": "stream",
     "text": [
      "WARNING: UnitsWarning: 'BJD - 2457000, days' did not parse as fits unit: At col 0, Unit 'BJD' not supported by the FITS standard.  If this is meant to be a custom unit, define it with 'u.def_unit'. To have it recognized inside a file reader or other code, enable it with 'u.add_enabled_units'. For details, see https://docs.astropy.org/en/latest/units/combining_and_defining.html [astropy.units.core]\n",
      "WARNING: UnitsWarning: 'e-/s' did not parse as fits unit: At col 0, Unit 'e' not supported by the FITS standard.  If this is meant to be a custom unit, define it with 'u.def_unit'. To have it recognized inside a file reader or other code, enable it with 'u.add_enabled_units'. For details, see https://docs.astropy.org/en/latest/units/combining_and_defining.html [astropy.units.core]\n",
      "WARNING: UnitsWarning: 'pixels' did not parse as fits unit: At col 0, Unit 'pixels' not supported by the FITS standard. Did you mean pixel? If this is meant to be a custom unit, define it with 'u.def_unit'. To have it recognized inside a file reader or other code, enable it with 'u.add_enabled_units'. For details, see https://docs.astropy.org/en/latest/units/combining_and_defining.html [astropy.units.core]\n"
     ]
    },
    {
     "name": "stdout",
     "output_type": "stream",
     "text": [
      "Downloading URL https://mast.stsci.edu/api/v0.1/Download/file?uri=mast:HLSP/tess-spoc/s0007/target/0000/0001/5671/6001/hlsp_tess-spoc_tess_phot_0000000156716001-s0007_tess_v1_lc.fits to ./mastDownload/HLSP/hlsp_tess-spoc_tess_phot_0000000156716001-s0007_tess_v1_tp/hlsp_tess-spoc_tess_phot_0000000156716001-s0007_tess_v1_lc.fits ... [Done]\n"
     ]
    },
    {
     "name": "stderr",
     "output_type": "stream",
     "text": [
      "WARNING: UnitsWarning: 'BJD - 2457000, days' did not parse as fits unit: At col 0, Unit 'BJD' not supported by the FITS standard.  If this is meant to be a custom unit, define it with 'u.def_unit'. To have it recognized inside a file reader or other code, enable it with 'u.add_enabled_units'. For details, see https://docs.astropy.org/en/latest/units/combining_and_defining.html [astropy.units.core]\n",
      "WARNING: UnitsWarning: 'e-/s' did not parse as fits unit: At col 0, Unit 'e' not supported by the FITS standard.  If this is meant to be a custom unit, define it with 'u.def_unit'. To have it recognized inside a file reader or other code, enable it with 'u.add_enabled_units'. For details, see https://docs.astropy.org/en/latest/units/combining_and_defining.html [astropy.units.core]\n",
      "WARNING: UnitsWarning: 'pixels' did not parse as fits unit: At col 0, Unit 'pixels' not supported by the FITS standard. Did you mean pixel? If this is meant to be a custom unit, define it with 'u.def_unit'. To have it recognized inside a file reader or other code, enable it with 'u.add_enabled_units'. For details, see https://docs.astropy.org/en/latest/units/combining_and_defining.html [astropy.units.core]\n"
     ]
    },
    {
     "name": "stdout",
     "output_type": "stream",
     "text": [
      "Downloading URL https://mast.stsci.edu/api/v0.1/Download/file?uri=mast:HLSP/tess-spoc/s0033/target/0000/0001/5671/6001/hlsp_tess-spoc_tess_phot_0000000156716001-s0033_tess_v1_lc.fits to ./mastDownload/HLSP/hlsp_tess-spoc_tess_phot_0000000156716001-s0033_tess_v1_tp/hlsp_tess-spoc_tess_phot_0000000156716001-s0033_tess_v1_lc.fits ... [Done]\n"
     ]
    },
    {
     "name": "stderr",
     "output_type": "stream",
     "text": [
      "WARNING: UnitsWarning: 'BJD - 2457000, days' did not parse as fits unit: At col 0, Unit 'BJD' not supported by the FITS standard.  If this is meant to be a custom unit, define it with 'u.def_unit'. To have it recognized inside a file reader or other code, enable it with 'u.add_enabled_units'. For details, see https://docs.astropy.org/en/latest/units/combining_and_defining.html [astropy.units.core]\n",
      "WARNING: UnitsWarning: 'e-/s' did not parse as fits unit: At col 0, Unit 'e' not supported by the FITS standard.  If this is meant to be a custom unit, define it with 'u.def_unit'. To have it recognized inside a file reader or other code, enable it with 'u.add_enabled_units'. For details, see https://docs.astropy.org/en/latest/units/combining_and_defining.html [astropy.units.core]\n",
      "WARNING: UnitsWarning: 'pixels' did not parse as fits unit: At col 0, Unit 'pixels' not supported by the FITS standard. Did you mean pixel? If this is meant to be a custom unit, define it with 'u.def_unit'. To have it recognized inside a file reader or other code, enable it with 'u.add_enabled_units'. For details, see https://docs.astropy.org/en/latest/units/combining_and_defining.html [astropy.units.core]\n"
     ]
    },
    {
     "name": "stdout",
     "output_type": "stream",
     "text": [
      "Downloading URL https://mast.stsci.edu/api/v0.1/Download/file?uri=mast:HLSP/tess-spoc/s0034/target/0000/0001/5671/6001/hlsp_tess-spoc_tess_phot_0000000156716001-s0034_tess_v1_lc.fits to ./mastDownload/HLSP/hlsp_tess-spoc_tess_phot_0000000156716001-s0034_tess_v1_tp/hlsp_tess-spoc_tess_phot_0000000156716001-s0034_tess_v1_lc.fits ... [Done]\n"
     ]
    },
    {
     "name": "stderr",
     "output_type": "stream",
     "text": [
      "WARNING: UnitsWarning: 'BJD - 2457000, days' did not parse as fits unit: At col 0, Unit 'BJD' not supported by the FITS standard.  If this is meant to be a custom unit, define it with 'u.def_unit'. To have it recognized inside a file reader or other code, enable it with 'u.add_enabled_units'. For details, see https://docs.astropy.org/en/latest/units/combining_and_defining.html [astropy.units.core]\n",
      "WARNING: UnitsWarning: 'e-/s' did not parse as fits unit: At col 0, Unit 'e' not supported by the FITS standard.  If this is meant to be a custom unit, define it with 'u.def_unit'. To have it recognized inside a file reader or other code, enable it with 'u.add_enabled_units'. For details, see https://docs.astropy.org/en/latest/units/combining_and_defining.html [astropy.units.core]\n",
      "WARNING: UnitsWarning: 'pixels' did not parse as fits unit: At col 0, Unit 'pixels' not supported by the FITS standard. Did you mean pixel? If this is meant to be a custom unit, define it with 'u.def_unit'. To have it recognized inside a file reader or other code, enable it with 'u.add_enabled_units'. For details, see https://docs.astropy.org/en/latest/units/combining_and_defining.html [astropy.units.core]\n"
     ]
    },
    {
     "name": "stdout",
     "output_type": "stream",
     "text": [
      "Downloading URL https://mast.stsci.edu/api/v0.1/Download/file?uri=mast:HLSP/qlp/s0061/0000/0001/5671/6001/hlsp_qlp_tess_ffi_s0061-0000000156716001_tess_v01_llc.fits to ./mastDownload/HLSP/hlsp_qlp_tess_ffi_s0061-0000000156716001_tess_v01_llc/hlsp_qlp_tess_ffi_s0061-0000000156716001_tess_v01_llc.fits ... [Done]\n"
     ]
    },
    {
     "name": "stderr",
     "output_type": "stream",
     "text": [
      "WARNING: UnitsWarning: 'BJD-2457000, days' did not parse as fits unit: At col 0, Unit 'BJD' not supported by the FITS standard.  If this is meant to be a custom unit, define it with 'u.def_unit'. To have it recognized inside a file reader or other code, enable it with 'u.add_enabled_units'. For details, see https://docs.astropy.org/en/latest/units/combining_and_defining.html [astropy.units.core]\n"
     ]
    },
    {
     "name": "stdout",
     "output_type": "stream",
     "text": [
      "Downloading URL https://mast.stsci.edu/api/v0.1/Download/file?uri=mast:TESS/product/tess2024353092137-s0087-0000000156716001-0284-s_lc.fits to ./mastDownload/TESS/tess2024353092137-s0087-0000000156716001-0284-s/tess2024353092137-s0087-0000000156716001-0284-s_lc.fits ... [Done]\n"
     ]
    },
    {
     "name": "stderr",
     "output_type": "stream",
     "text": [
      "WARNING: UnitsWarning: 'BJD - 2457000, days' did not parse as fits unit: At col 0, Unit 'BJD' not supported by the FITS standard.  If this is meant to be a custom unit, define it with 'u.def_unit'. To have it recognized inside a file reader or other code, enable it with 'u.add_enabled_units'. For details, see https://docs.astropy.org/en/latest/units/combining_and_defining.html [astropy.units.core]\n",
      "WARNING: UnitsWarning: 'e-/s' did not parse as fits unit: At col 0, Unit 'e' not supported by the FITS standard.  If this is meant to be a custom unit, define it with 'u.def_unit'. To have it recognized inside a file reader or other code, enable it with 'u.add_enabled_units'. For details, see https://docs.astropy.org/en/latest/units/combining_and_defining.html [astropy.units.core]\n",
      "WARNING: UnitsWarning: 'pixels' did not parse as fits unit: At col 0, Unit 'pixels' not supported by the FITS standard. Did you mean pixel? If this is meant to be a custom unit, define it with 'u.def_unit'. To have it recognized inside a file reader or other code, enable it with 'u.add_enabled_units'. For details, see https://docs.astropy.org/en/latest/units/combining_and_defining.html [astropy.units.core]\n"
     ]
    },
    {
     "name": "stdout",
     "output_type": "stream",
     "text": [
      "Downloading URL https://mast.stsci.edu/api/v0.1/Download/file?uri=mast:TESS/product/tess2025014115807-s0088-0000000156716001-0285-s_lc.fits to ./mastDownload/TESS/tess2025014115807-s0088-0000000156716001-0285-s/tess2025014115807-s0088-0000000156716001-0285-s_lc.fits ... [Done]\n",
      "\n",
      "✅ Download summary:\n",
      "Sector ...\n",
      "------ ...\n",
      "     6 ...\n",
      "     7 ...\n",
      "    33 ...\n",
      "    34 ...\n",
      "    61 ...\n",
      "    87 ...\n",
      "    88 ...\n",
      "\n",
      "Temporary data stored in: /var/folders/fs/c4gpqhmx5tbcbsv_cbs0yhn80000gn/T/tmptw9o4mos\n",
      "This directory will be deleted when the program exits.\n",
      "W :  143\n",
      "W :  143\n"
     ]
    },
    {
     "name": "stderr",
     "output_type": "stream",
     "text": [
      "WARNING: UnitsWarning: 'BJD - 2457000, days' did not parse as fits unit: At col 0, Unit 'BJD' not supported by the FITS standard.  If this is meant to be a custom unit, define it with 'u.def_unit'. To have it recognized inside a file reader or other code, enable it with 'u.add_enabled_units'. For details, see https://docs.astropy.org/en/latest/units/combining_and_defining.html [astropy.units.core]\n",
      "WARNING: UnitsWarning: 'e-/s' did not parse as fits unit: At col 0, Unit 'e' not supported by the FITS standard.  If this is meant to be a custom unit, define it with 'u.def_unit'. To have it recognized inside a file reader or other code, enable it with 'u.add_enabled_units'. For details, see https://docs.astropy.org/en/latest/units/combining_and_defining.html [astropy.units.core]\n",
      "WARNING: UnitsWarning: 'pixels' did not parse as fits unit: At col 0, Unit 'pixels' not supported by the FITS standard. Did you mean pixel? If this is meant to be a custom unit, define it with 'u.def_unit'. To have it recognized inside a file reader or other code, enable it with 'u.add_enabled_units'. For details, see https://docs.astropy.org/en/latest/units/combining_and_defining.html [astropy.units.core]\n"
     ]
    },
    {
     "name": "stdout",
     "output_type": "stream",
     "text": [
      "W :  144\n",
      "W :  144\n",
      "W :  144\n",
      "W :  144\n",
      "W :  144\n",
      "W :  144\n",
      "W :  144\n",
      "W :  144\n",
      "W :  144\n",
      "W :  144\n",
      "W :  144\n",
      "W :  144\n",
      "W :  144\n",
      "W :  144\n",
      "W :  20\n",
      "W :  144\n",
      "W :  144\n",
      "W :  48\n",
      "W :  144\n",
      "W :  144\n",
      "Initial Chi-Sqaured : 479.20 [red 7.15]\n",
      "Fitted parameters for TIC-156716001:\n",
      "t_zero : 2458485.430000925\n",
      "radius_1 : 0.08549757262708213\n",
      "k : 0.05308217873900664\n",
      "b : 0.9058959183235693\n",
      "Final Chi-Sqaured : 80.46 [red 1.20]\n",
      "Initial Chi-Sqaured : 19293.05 [red 200.97]\n",
      "Fitted parameters for TIC-156716001:\n",
      "t_zero : 2459224.6149804904\n",
      "radius_1 : 0.15373991700959835\n",
      "k : 0.031731842372038896\n",
      "b : 0.08640340258094747\n",
      "Final Chi-Sqaured : 3795.63 [red 39.54]\n",
      "1 50 1 49.278998637696105 739.1849795654416 15 15.085407746233502\n",
      "0 0.0\n",
      "1 0.0\n",
      "2 0.0\n",
      "3 0.0\n",
      "4 0.0\n",
      "5 0.0\n",
      "6 0.0\n",
      "7 0.0\n",
      "8 0.0\n",
      "9 0.0\n",
      "10 0.0\n",
      "11 0.0\n",
      "12 0.0\n",
      "13 0.0\n",
      "14 0.0\n",
      "15 0.0\n",
      "16 0.0\n",
      "17 0.0\n",
      "18 0.0\n",
      "19 0.0\n",
      "20 0.0\n",
      "21 0.0\n",
      "22 0.0\n",
      "23 -8.223983160953932\n",
      "24 -277.1284388593578\n",
      "25 -258.11667274011273\n",
      "26 -287.0271603094059\n",
      "27 -227.15461434320045\n",
      "28 -247.78747965931342\n",
      "29 -236.06291759311776\n",
      "30 -273.2125720333127\n",
      "31 -204.43726419585266\n",
      "32 -1517.842891734419\n",
      "33 -2674.2448345192533\n",
      "34 -1339.3887401612806\n",
      "35 -2777.847948543193\n",
      "36 -3794.645612492752\n",
      "37 -1213.6080036776018\n",
      "38 -3486.406567066553\n",
      "39 -11776.11246557839\n",
      "40 -6525.1839208283045\n",
      "41 -3904.213410521437\n",
      "42 -1260.6713340553868\n",
      "43 -4326.862642569174\n",
      "44 -1219.7780766440915\n",
      "45 -1276.4532365464627\n",
      "46 -1936.5464438720953\n",
      "47 -2893.020895195939\n",
      "48 -1493.4765051150991\n"
     ]
    },
    {
     "name": "stderr",
     "output_type": "stream",
     "text": [
      "100%|███████████████████████████████████████████| 49/49 [00:10<00:00,  4.69it/s]\n"
     ]
    },
    {
     "name": "stdout",
     "output_type": "stream",
     "text": [
      "No transists visible\n",
      "\n",
      "📂 Download directory: /var/folders/fs/c4gpqhmx5tbcbsv_cbs0yhn80000gn/T/tmpsqgptp1q\n",
      "\n",
      "Querying TIC 159490807 from MAST...\n",
      "Downloading URL https://mast.stsci.edu/api/v0.1/Download/file?uri=mast:HLSP/tess-spoc/s0011/target/0000/0001/5949/0807/hlsp_tess-spoc_tess_phot_0000000159490807-s0011_tess_v1_lc.fits to ./mastDownload/HLSP/hlsp_tess-spoc_tess_phot_0000000159490807-s0011_tess_v1_tp/hlsp_tess-spoc_tess_phot_0000000159490807-s0011_tess_v1_lc.fits ... [Done]\n"
     ]
    },
    {
     "name": "stderr",
     "output_type": "stream",
     "text": [
      "WARNING: UnitsWarning: 'BJD - 2457000, days' did not parse as fits unit: At col 0, Unit 'BJD' not supported by the FITS standard.  If this is meant to be a custom unit, define it with 'u.def_unit'. To have it recognized inside a file reader or other code, enable it with 'u.add_enabled_units'. For details, see https://docs.astropy.org/en/latest/units/combining_and_defining.html [astropy.units.core]\n",
      "WARNING: UnitsWarning: 'e-/s' did not parse as fits unit: At col 0, Unit 'e' not supported by the FITS standard.  If this is meant to be a custom unit, define it with 'u.def_unit'. To have it recognized inside a file reader or other code, enable it with 'u.add_enabled_units'. For details, see https://docs.astropy.org/en/latest/units/combining_and_defining.html [astropy.units.core]\n",
      "WARNING: UnitsWarning: 'pixels' did not parse as fits unit: At col 0, Unit 'pixels' not supported by the FITS standard. Did you mean pixel? If this is meant to be a custom unit, define it with 'u.def_unit'. To have it recognized inside a file reader or other code, enable it with 'u.add_enabled_units'. For details, see https://docs.astropy.org/en/latest/units/combining_and_defining.html [astropy.units.core]\n"
     ]
    },
    {
     "name": "stdout",
     "output_type": "stream",
     "text": [
      "Downloading URL https://mast.stsci.edu/api/v0.1/Download/file?uri=mast:TESS/product/tess2021118034608-s0038-0000000159490807-0209-s_lc.fits to ./mastDownload/TESS/tess2021118034608-s0038-0000000159490807-0209-s/tess2021118034608-s0038-0000000159490807-0209-s_lc.fits ... [Done]\n"
     ]
    },
    {
     "name": "stderr",
     "output_type": "stream",
     "text": [
      "WARNING: UnitsWarning: 'BJD - 2457000, days' did not parse as fits unit: At col 0, Unit 'BJD' not supported by the FITS standard.  If this is meant to be a custom unit, define it with 'u.def_unit'. To have it recognized inside a file reader or other code, enable it with 'u.add_enabled_units'. For details, see https://docs.astropy.org/en/latest/units/combining_and_defining.html [astropy.units.core]\n",
      "WARNING: UnitsWarning: 'e-/s' did not parse as fits unit: At col 0, Unit 'e' not supported by the FITS standard.  If this is meant to be a custom unit, define it with 'u.def_unit'. To have it recognized inside a file reader or other code, enable it with 'u.add_enabled_units'. For details, see https://docs.astropy.org/en/latest/units/combining_and_defining.html [astropy.units.core]\n",
      "WARNING: UnitsWarning: 'pixels' did not parse as fits unit: At col 0, Unit 'pixels' not supported by the FITS standard. Did you mean pixel? If this is meant to be a custom unit, define it with 'u.def_unit'. To have it recognized inside a file reader or other code, enable it with 'u.add_enabled_units'. For details, see https://docs.astropy.org/en/latest/units/combining_and_defining.html [astropy.units.core]\n"
     ]
    },
    {
     "name": "stdout",
     "output_type": "stream",
     "text": [
      "Downloading URL https://mast.stsci.edu/api/v0.1/Download/file?uri=mast:HLSP/tess-spoc/s0065/target/0000/0001/5949/0807/hlsp_tess-spoc_tess_phot_0000000159490807-s0065_tess_v1_lc.fits to ./mastDownload/HLSP/hlsp_tess-spoc_tess_phot_0000000159490807-s0065_tess_v1_tp/hlsp_tess-spoc_tess_phot_0000000159490807-s0065_tess_v1_lc.fits ... [Done]\n",
      "\n",
      "✅ Download summary:\n",
      "Sector ...\n",
      "------ ...\n",
      "    11 ...\n",
      "    38 ...\n",
      "    65 ...\n",
      "\n",
      "Temporary data stored in: /var/folders/fs/c4gpqhmx5tbcbsv_cbs0yhn80000gn/T/tmpsqgptp1q\n",
      "This directory will be deleted when the program exits.\n",
      "W :  143\n",
      "W :  144\n"
     ]
    },
    {
     "name": "stderr",
     "output_type": "stream",
     "text": [
      "WARNING: UnitsWarning: 'BJD - 2457000, days' did not parse as fits unit: At col 0, Unit 'BJD' not supported by the FITS standard.  If this is meant to be a custom unit, define it with 'u.def_unit'. To have it recognized inside a file reader or other code, enable it with 'u.add_enabled_units'. For details, see https://docs.astropy.org/en/latest/units/combining_and_defining.html [astropy.units.core]\n",
      "WARNING: UnitsWarning: 'e-/s' did not parse as fits unit: At col 0, Unit 'e' not supported by the FITS standard.  If this is meant to be a custom unit, define it with 'u.def_unit'. To have it recognized inside a file reader or other code, enable it with 'u.add_enabled_units'. For details, see https://docs.astropy.org/en/latest/units/combining_and_defining.html [astropy.units.core]\n",
      "WARNING: UnitsWarning: 'pixels' did not parse as fits unit: At col 0, Unit 'pixels' not supported by the FITS standard. Did you mean pixel? If this is meant to be a custom unit, define it with 'u.def_unit'. To have it recognized inside a file reader or other code, enable it with 'u.add_enabled_units'. For details, see https://docs.astropy.org/en/latest/units/combining_and_defining.html [astropy.units.core]\n"
     ]
    },
    {
     "name": "stdout",
     "output_type": "stream",
     "text": [
      "W :  144\n",
      "W :  144\n",
      "W :  144\n",
      "W :  32\n",
      "W :  27\n",
      "W :  144\n",
      "W :  40\n",
      "Initial Chi-Sqaured : 215.76 [red 4.79]\n",
      "Fitted parameters for TIC-159490807:\n",
      "t_zero : 2458606.2268912783\n",
      "radius_1 : 0.04213876109006082\n",
      "k : 0.07817652175422124\n",
      "b : 0.9332258344977259\n",
      "Final Chi-Sqaured : 59.00 [red 1.31]\n",
      "Initial Chi-Sqaured : 653.91 [red 11.08]\n",
      "Fitted parameters for TIC-159490807:\n",
      "t_zero : 2459355.937709687\n",
      "radius_1 : 0.0510460464624196\n",
      "k : 0.18362091831139118\n",
      "b : 1.0902194302598076\n",
      "Final Chi-Sqaured : 89.43 [red 1.52]\n",
      "1 50 1 49.98072122723485 749.7108184085228 15 15.300220783847402\n",
      "0 0.0\n",
      "1 0.0\n",
      "2 0.0\n",
      "3 0.0\n",
      "4 0.0\n",
      "5 0.0\n",
      "6 0.0\n",
      "7 0.0\n",
      "8 0.0\n",
      "9 0.0\n",
      "10 0.0\n",
      "11 0.0\n",
      "12 0.0\n",
      "13 0.0\n",
      "14 0.0\n",
      "15 0.0\n",
      "16 0.0\n",
      "17 0.0\n",
      "18 0.0\n",
      "19 0.0\n",
      "20 0.0\n",
      "21 0.0\n",
      "22 0.0\n",
      "23 0.0\n",
      "24 0.0\n",
      "25 0.0\n",
      "26 0.0\n",
      "27 0.0\n",
      "28 0.0\n",
      "29 0.0\n",
      "30 0.0\n",
      "31 0.0\n",
      "32 0.0\n",
      "33 0.0\n",
      "34 -597.2258793313971\n",
      "35 -512.4537364301909\n",
      "36 -499.4918288680524\n",
      "37 -458.4878773666255\n",
      "38 -611.7211752057699\n",
      "39 -539.9042843593392\n",
      "40 -476.7586721833199\n",
      "41 -631.6610239854965\n",
      "42 -1026.240962480323\n",
      "43 -1131.667003373102\n",
      "44 -956.7693213139892\n",
      "45 -1119.0493140669078\n",
      "46 -897.1713073564372\n",
      "47 -1198.0455778469575\n",
      "48 -1220.3943239783866\n"
     ]
    },
    {
     "name": "stderr",
     "output_type": "stream",
     "text": [
      "100%|███████████████████████████████████████████| 49/49 [00:03<00:00, 13.78it/s]\n"
     ]
    },
    {
     "name": "stdout",
     "output_type": "stream",
     "text": [
      "No transists visible\n",
      "\n",
      "📂 Download directory: /var/folders/fs/c4gpqhmx5tbcbsv_cbs0yhn80000gn/T/tmpt98fhtjf\n",
      "\n",
      "Querying TIC 161169240 from MAST...\n",
      "Downloading URL https://mast.stsci.edu/api/v0.1/Download/file?uri=mast:HLSP/tess-spoc/s0001/target/0000/0001/6116/9240/hlsp_tess-spoc_tess_phot_0000000161169240-s0001_tess_v1_lc.fits to ./mastDownload/HLSP/hlsp_tess-spoc_tess_phot_0000000161169240-s0001_tess_v1_tp/hlsp_tess-spoc_tess_phot_0000000161169240-s0001_tess_v1_lc.fits ... [Done]\n"
     ]
    },
    {
     "name": "stderr",
     "output_type": "stream",
     "text": [
      "WARNING: UnitsWarning: 'BJD - 2457000, days' did not parse as fits unit: At col 0, Unit 'BJD' not supported by the FITS standard.  If this is meant to be a custom unit, define it with 'u.def_unit'. To have it recognized inside a file reader or other code, enable it with 'u.add_enabled_units'. For details, see https://docs.astropy.org/en/latest/units/combining_and_defining.html [astropy.units.core]\n",
      "WARNING: UnitsWarning: 'e-/s' did not parse as fits unit: At col 0, Unit 'e' not supported by the FITS standard.  If this is meant to be a custom unit, define it with 'u.def_unit'. To have it recognized inside a file reader or other code, enable it with 'u.add_enabled_units'. For details, see https://docs.astropy.org/en/latest/units/combining_and_defining.html [astropy.units.core]\n",
      "WARNING: UnitsWarning: 'pixels' did not parse as fits unit: At col 0, Unit 'pixels' not supported by the FITS standard. Did you mean pixel? If this is meant to be a custom unit, define it with 'u.def_unit'. To have it recognized inside a file reader or other code, enable it with 'u.add_enabled_units'. For details, see https://docs.astropy.org/en/latest/units/combining_and_defining.html [astropy.units.core]\n"
     ]
    },
    {
     "name": "stdout",
     "output_type": "stream",
     "text": [
      "Downloading URL https://mast.stsci.edu/api/v0.1/Download/file?uri=mast:TESS/product/tess2020212050318-s0028-0000000161169240-0190-s_lc.fits to ./mastDownload/TESS/tess2020212050318-s0028-0000000161169240-0190-s/tess2020212050318-s0028-0000000161169240-0190-s_lc.fits ... [Done]\n"
     ]
    },
    {
     "name": "stderr",
     "output_type": "stream",
     "text": [
      "WARNING: UnitsWarning: 'BJD - 2457000, days' did not parse as fits unit: At col 0, Unit 'BJD' not supported by the FITS standard.  If this is meant to be a custom unit, define it with 'u.def_unit'. To have it recognized inside a file reader or other code, enable it with 'u.add_enabled_units'. For details, see https://docs.astropy.org/en/latest/units/combining_and_defining.html [astropy.units.core]\n",
      "WARNING: UnitsWarning: 'e-/s' did not parse as fits unit: At col 0, Unit 'e' not supported by the FITS standard.  If this is meant to be a custom unit, define it with 'u.def_unit'. To have it recognized inside a file reader or other code, enable it with 'u.add_enabled_units'. For details, see https://docs.astropy.org/en/latest/units/combining_and_defining.html [astropy.units.core]\n",
      "WARNING: UnitsWarning: 'pixels' did not parse as fits unit: At col 0, Unit 'pixels' not supported by the FITS standard. Did you mean pixel? If this is meant to be a custom unit, define it with 'u.def_unit'. To have it recognized inside a file reader or other code, enable it with 'u.add_enabled_units'. For details, see https://docs.astropy.org/en/latest/units/combining_and_defining.html [astropy.units.core]\n"
     ]
    },
    {
     "name": "stdout",
     "output_type": "stream",
     "text": [
      "Downloading URL https://mast.stsci.edu/api/v0.1/Download/file?uri=mast:TESS/product/tess2023209231226-s0068-0000000161169240-0262-s_lc.fits to ./mastDownload/TESS/tess2023209231226-s0068-0000000161169240-0262-s/tess2023209231226-s0068-0000000161169240-0262-s_lc.fits ... [Done]\n"
     ]
    },
    {
     "name": "stderr",
     "output_type": "stream",
     "text": [
      "WARNING: UnitsWarning: 'BJD - 2457000, days' did not parse as fits unit: At col 0, Unit 'BJD' not supported by the FITS standard.  If this is meant to be a custom unit, define it with 'u.def_unit'. To have it recognized inside a file reader or other code, enable it with 'u.add_enabled_units'. For details, see https://docs.astropy.org/en/latest/units/combining_and_defining.html [astropy.units.core]\n",
      "WARNING: UnitsWarning: 'e-/s' did not parse as fits unit: At col 0, Unit 'e' not supported by the FITS standard.  If this is meant to be a custom unit, define it with 'u.def_unit'. To have it recognized inside a file reader or other code, enable it with 'u.add_enabled_units'. For details, see https://docs.astropy.org/en/latest/units/combining_and_defining.html [astropy.units.core]\n",
      "WARNING: UnitsWarning: 'pixels' did not parse as fits unit: At col 0, Unit 'pixels' not supported by the FITS standard. Did you mean pixel? If this is meant to be a custom unit, define it with 'u.def_unit'. To have it recognized inside a file reader or other code, enable it with 'u.add_enabled_units'. For details, see https://docs.astropy.org/en/latest/units/combining_and_defining.html [astropy.units.core]\n"
     ]
    },
    {
     "name": "stdout",
     "output_type": "stream",
     "text": [
      "Downloading URL https://mast.stsci.edu/api/v0.1/Download/file?uri=mast:TESS/product/tess2025206162959-s0095-0000000161169240-0292-s_lc.fits to ./mastDownload/TESS/tess2025206162959-s0095-0000000161169240-0292-s/tess2025206162959-s0095-0000000161169240-0292-s_lc.fits ... [Done]\n",
      "\n",
      "✅ Download summary:\n",
      "Sector ...\n",
      "------ ...\n",
      "     1 ...\n",
      "    28 ...\n",
      "    68 ...\n",
      "    95 ...\n",
      "\n",
      "Temporary data stored in: /var/folders/fs/c4gpqhmx5tbcbsv_cbs0yhn80000gn/T/tmpt98fhtjf\n",
      "This directory will be deleted when the program exits.\n",
      "W :  143\n",
      "W :  144\n",
      "W :  6\n",
      "W :  1\n",
      "W :  144\n"
     ]
    },
    {
     "name": "stderr",
     "output_type": "stream",
     "text": [
      "WARNING: UnitsWarning: 'BJD - 2457000, days' did not parse as fits unit: At col 0, Unit 'BJD' not supported by the FITS standard.  If this is meant to be a custom unit, define it with 'u.def_unit'. To have it recognized inside a file reader or other code, enable it with 'u.add_enabled_units'. For details, see https://docs.astropy.org/en/latest/units/combining_and_defining.html [astropy.units.core]\n",
      "WARNING: UnitsWarning: 'e-/s' did not parse as fits unit: At col 0, Unit 'e' not supported by the FITS standard.  If this is meant to be a custom unit, define it with 'u.def_unit'. To have it recognized inside a file reader or other code, enable it with 'u.add_enabled_units'. For details, see https://docs.astropy.org/en/latest/units/combining_and_defining.html [astropy.units.core]\n",
      "WARNING: UnitsWarning: 'pixels' did not parse as fits unit: At col 0, Unit 'pixels' not supported by the FITS standard. Did you mean pixel? If this is meant to be a custom unit, define it with 'u.def_unit'. To have it recognized inside a file reader or other code, enable it with 'u.add_enabled_units'. For details, see https://docs.astropy.org/en/latest/units/combining_and_defining.html [astropy.units.core]\n"
     ]
    },
    {
     "name": "stdout",
     "output_type": "stream",
     "text": [
      "W :  144\n",
      "W :  144\n",
      "W :  144\n",
      "W :  144\n",
      "W :  144\n",
      "W :  144\n",
      "W :  144\n",
      "W :  144\n",
      "W :  144\n",
      "Initial Chi-Sqaured : 579.10 [red 6.73]\n",
      "Fitted parameters for TIC-161169240:\n",
      "t_zero : 2458328.2602114067\n",
      "radius_1 : 0.03871186916476199\n",
      "k : 0.09715065853140029\n",
      "b : 0.7103881968825235\n",
      "Final Chi-Sqaured : 89.54 [red 1.04]\n",
      "Initial Chi-Sqaured : 560.21 [red 6.16]\n",
      "Fitted parameters for TIC-161169240:\n",
      "t_zero : 2459083.3145107836\n",
      "radius_1 : 0.03618424302409788\n",
      "k : 0.09578948009688665\n",
      "b : 0.6329417559663746\n",
      "Final Chi-Sqaured : 131.69 [red 1.45]\n",
      "1 51 1 50.33695329179366 755.054299376905 15 15.101085987538099\n",
      "0 0.0\n",
      "1 0.0\n",
      "2 0.0\n",
      "3 0.0\n",
      "4 0.0\n",
      "5 0.0\n",
      "6 0.0\n",
      "7 0.0\n",
      "8 0.0\n",
      "9 0.0\n",
      "10 0.0\n",
      "11 0.0\n",
      "12 0.0\n",
      "13 0.0\n",
      "14 0.0\n",
      "15 0.0\n",
      "16 0.0\n",
      "17 0.0\n",
      "18 0.0\n",
      "19 0.0\n",
      "20 0.0\n",
      "21 0.0\n",
      "22 0.0\n",
      "23 0.0\n",
      "24 0.0\n",
      "25 0.0\n",
      "26 0.0\n",
      "27 0.0\n",
      "28 0.0\n",
      "29 0.0\n",
      "30 -685.8432952606953\n",
      "31 -632.6227694086231\n",
      "32 -710.6898507053265\n",
      "33 -671.3581649664942\n",
      "34 -724.4824659510002\n",
      "35 -1196.6831699229085\n",
      "36 -930.6384710472884\n",
      "37 -1023.5115347124004\n",
      "38 -1421.7266451159346\n",
      "39 -1422.4338247999187\n",
      "40 -1614.6475527903747\n",
      "41 -1413.1543289908022\n",
      "42 -1441.2072021591666\n",
      "43 -1415.2027158481123\n",
      "44 -1456.9239185319866\n",
      "45 -1660.541302664837\n",
      "46 -1446.5237865191586\n",
      "47 -1517.9180846529623\n",
      "48 -1537.8079248991103\n",
      "49 -1275.8122152055498\n"
     ]
    },
    {
     "name": "stderr",
     "output_type": "stream",
     "text": [
      "100%|███████████████████████████████████████████| 50/50 [00:05<00:00,  8.82it/s]\n"
     ]
    },
    {
     "name": "stdout",
     "output_type": "stream",
     "text": [
      "No transists visible\n",
      "\n",
      "📂 Download directory: /var/folders/fs/c4gpqhmx5tbcbsv_cbs0yhn80000gn/T/tmpxnjh4i0j\n",
      "\n",
      "Querying TIC 176518126 from MAST...\n",
      "Downloading URL https://mast.stsci.edu/api/v0.1/Download/file?uri=mast:HLSP/tess-spoc/s0006/target/0000/0001/7651/8126/hlsp_tess-spoc_tess_phot_0000000176518126-s0006_tess_v1_lc.fits to ./mastDownload/HLSP/hlsp_tess-spoc_tess_phot_0000000176518126-s0006_tess_v1_tp/hlsp_tess-spoc_tess_phot_0000000176518126-s0006_tess_v1_lc.fits ... [Done]\n"
     ]
    },
    {
     "name": "stderr",
     "output_type": "stream",
     "text": [
      "WARNING: UnitsWarning: 'BJD - 2457000, days' did not parse as fits unit: At col 0, Unit 'BJD' not supported by the FITS standard.  If this is meant to be a custom unit, define it with 'u.def_unit'. To have it recognized inside a file reader or other code, enable it with 'u.add_enabled_units'. For details, see https://docs.astropy.org/en/latest/units/combining_and_defining.html [astropy.units.core]\n",
      "WARNING: UnitsWarning: 'e-/s' did not parse as fits unit: At col 0, Unit 'e' not supported by the FITS standard.  If this is meant to be a custom unit, define it with 'u.def_unit'. To have it recognized inside a file reader or other code, enable it with 'u.add_enabled_units'. For details, see https://docs.astropy.org/en/latest/units/combining_and_defining.html [astropy.units.core]\n",
      "WARNING: UnitsWarning: 'pixels' did not parse as fits unit: At col 0, Unit 'pixels' not supported by the FITS standard. Did you mean pixel? If this is meant to be a custom unit, define it with 'u.def_unit'. To have it recognized inside a file reader or other code, enable it with 'u.add_enabled_units'. For details, see https://docs.astropy.org/en/latest/units/combining_and_defining.html [astropy.units.core]\n"
     ]
    },
    {
     "name": "stdout",
     "output_type": "stream",
     "text": [
      "Downloading URL https://mast.stsci.edu/api/v0.1/Download/file?uri=mast:HLSP/tess-spoc/s0033/target/0000/0001/7651/8126/hlsp_tess-spoc_tess_phot_0000000176518126-s0033_tess_v1_lc.fits to ./mastDownload/HLSP/hlsp_tess-spoc_tess_phot_0000000176518126-s0033_tess_v1_tp/hlsp_tess-spoc_tess_phot_0000000176518126-s0033_tess_v1_lc.fits ... [Done]\n",
      "\n",
      "✅ Download summary:\n",
      "Sector ...\n",
      "------ ...\n",
      "     6 ...\n",
      "    33 ...\n",
      "\n",
      "Temporary data stored in: /var/folders/fs/c4gpqhmx5tbcbsv_cbs0yhn80000gn/T/tmpxnjh4i0j\n",
      "This directory will be deleted when the program exits.\n",
      "W :  144\n",
      "W :  144\n"
     ]
    },
    {
     "name": "stderr",
     "output_type": "stream",
     "text": [
      "WARNING: UnitsWarning: 'BJD - 2457000, days' did not parse as fits unit: At col 0, Unit 'BJD' not supported by the FITS standard.  If this is meant to be a custom unit, define it with 'u.def_unit'. To have it recognized inside a file reader or other code, enable it with 'u.add_enabled_units'. For details, see https://docs.astropy.org/en/latest/units/combining_and_defining.html [astropy.units.core]\n",
      "WARNING: UnitsWarning: 'e-/s' did not parse as fits unit: At col 0, Unit 'e' not supported by the FITS standard.  If this is meant to be a custom unit, define it with 'u.def_unit'. To have it recognized inside a file reader or other code, enable it with 'u.add_enabled_units'. For details, see https://docs.astropy.org/en/latest/units/combining_and_defining.html [astropy.units.core]\n",
      "WARNING: UnitsWarning: 'pixels' did not parse as fits unit: At col 0, Unit 'pixels' not supported by the FITS standard. Did you mean pixel? If this is meant to be a custom unit, define it with 'u.def_unit'. To have it recognized inside a file reader or other code, enable it with 'u.add_enabled_units'. For details, see https://docs.astropy.org/en/latest/units/combining_and_defining.html [astropy.units.core]\n"
     ]
    },
    {
     "name": "stdout",
     "output_type": "stream",
     "text": [
      "W :  144\n",
      "W :  144\n",
      "Initial Chi-Sqaured : 277.86 [red 4.79]\n",
      "Fitted parameters for TIC-176518126:\n",
      "t_zero : 2458489.0552713284\n",
      "radius_1 : 0.02959736963312476\n",
      "k : 0.055506799543358354\n",
      "b : 0.6358586573178635\n",
      "Final Chi-Sqaured : 136.04 [red 2.35]\n",
      "Initial Chi-Sqaured : 7051.86 [red 92.79]\n",
      "Fitted parameters for TIC-176518126:\n",
      "t_zero : 2459219.5327409725\n",
      "radius_1 : 0.045255286421750016\n",
      "k : 0.0639625032896429\n",
      "b : 0.8567134146238063\n",
      "Final Chi-Sqaured : 1276.19 [red 16.79]\n",
      "1 49 1 48.69849797626957 730.4774696440436 15 15.218280617584242\n",
      "0 0.0\n",
      "1 0.0\n",
      "2 0.0\n",
      "3 0.0\n",
      "4 0.0\n",
      "5 0.0\n",
      "6 0.0\n",
      "7 0.0\n",
      "8 0.0\n",
      "9 0.0\n",
      "10 0.0\n",
      "11 0.0\n",
      "12 0.0\n",
      "13 0.0\n",
      "14 0.0\n",
      "15 0.0\n",
      "16 0.0\n",
      "17 0.0\n",
      "18 0.0\n",
      "19 0.0\n",
      "20 0.0\n",
      "21 0.0\n",
      "22 0.0\n",
      "23 0.0\n",
      "24 0.0\n",
      "25 0.0\n",
      "26 0.0\n",
      "27 0.0\n",
      "28 0.0\n",
      "29 0.0\n",
      "30 0.0\n",
      "31 0.0\n",
      "32 0.0\n",
      "33 0.0\n",
      "34 0.0\n",
      "35 -518.8781049415754\n",
      "36 -428.4200121966924\n",
      "37 -496.41929776280875\n",
      "38 -469.57135342340894\n",
      "39 -171.49068345486248\n",
      "40 -1240.1858388876221\n",
      "41 -10973.454250257295\n",
      "42 -2592.7055819393045\n",
      "43 -3147.200505135229\n",
      "44 -1068.7904390103122\n",
      "45 -3179.6754872734123\n",
      "46 -3503.5496870588227\n",
      "47 -3521.703224304243\n"
     ]
    },
    {
     "name": "stderr",
     "output_type": "stream",
     "text": [
      "100%|███████████████████████████████████████████| 48/48 [00:03<00:00, 14.83it/s]\n"
     ]
    },
    {
     "name": "stdout",
     "output_type": "stream",
     "text": [
      "\n",
      "📂 Download directory: /var/folders/fs/c4gpqhmx5tbcbsv_cbs0yhn80000gn/T/tmpcx7omv4f\n",
      "\n",
      "Querying TIC 193096383 from MAST...\n",
      "Downloading URL https://mast.stsci.edu/api/v0.1/Download/file?uri=mast:HLSP/tess-spoc/s0009/target/0000/0001/9309/6383/hlsp_tess-spoc_tess_phot_0000000193096383-s0009_tess_v1_lc.fits to ./mastDownload/HLSP/hlsp_tess-spoc_tess_phot_0000000193096383-s0009_tess_v1_tp/hlsp_tess-spoc_tess_phot_0000000193096383-s0009_tess_v1_lc.fits ... [Done]\n"
     ]
    },
    {
     "name": "stderr",
     "output_type": "stream",
     "text": [
      "WARNING: UnitsWarning: 'BJD - 2457000, days' did not parse as fits unit: At col 0, Unit 'BJD' not supported by the FITS standard.  If this is meant to be a custom unit, define it with 'u.def_unit'. To have it recognized inside a file reader or other code, enable it with 'u.add_enabled_units'. For details, see https://docs.astropy.org/en/latest/units/combining_and_defining.html [astropy.units.core]\n",
      "WARNING: UnitsWarning: 'e-/s' did not parse as fits unit: At col 0, Unit 'e' not supported by the FITS standard.  If this is meant to be a custom unit, define it with 'u.def_unit'. To have it recognized inside a file reader or other code, enable it with 'u.add_enabled_units'. For details, see https://docs.astropy.org/en/latest/units/combining_and_defining.html [astropy.units.core]\n",
      "WARNING: UnitsWarning: 'pixels' did not parse as fits unit: At col 0, Unit 'pixels' not supported by the FITS standard. Did you mean pixel? If this is meant to be a custom unit, define it with 'u.def_unit'. To have it recognized inside a file reader or other code, enable it with 'u.add_enabled_units'. For details, see https://docs.astropy.org/en/latest/units/combining_and_defining.html [astropy.units.core]\n"
     ]
    },
    {
     "name": "stdout",
     "output_type": "stream",
     "text": [
      "Downloading URL https://mast.stsci.edu/api/v0.1/Download/file?uri=mast:HLSP/tess-spoc/s0036/target/0000/0001/9309/6383/hlsp_tess-spoc_tess_phot_0000000193096383-s0036_tess_v1_lc.fits to ./mastDownload/HLSP/hlsp_tess-spoc_tess_phot_0000000193096383-s0036_tess_v1_tp/hlsp_tess-spoc_tess_phot_0000000193096383-s0036_tess_v1_lc.fits ... [Done]\n"
     ]
    },
    {
     "name": "stderr",
     "output_type": "stream",
     "text": [
      "WARNING: UnitsWarning: 'BJD - 2457000, days' did not parse as fits unit: At col 0, Unit 'BJD' not supported by the FITS standard.  If this is meant to be a custom unit, define it with 'u.def_unit'. To have it recognized inside a file reader or other code, enable it with 'u.add_enabled_units'. For details, see https://docs.astropy.org/en/latest/units/combining_and_defining.html [astropy.units.core]\n",
      "WARNING: UnitsWarning: 'e-/s' did not parse as fits unit: At col 0, Unit 'e' not supported by the FITS standard.  If this is meant to be a custom unit, define it with 'u.def_unit'. To have it recognized inside a file reader or other code, enable it with 'u.add_enabled_units'. For details, see https://docs.astropy.org/en/latest/units/combining_and_defining.html [astropy.units.core]\n",
      "WARNING: UnitsWarning: 'pixels' did not parse as fits unit: At col 0, Unit 'pixels' not supported by the FITS standard. Did you mean pixel? If this is meant to be a custom unit, define it with 'u.def_unit'. To have it recognized inside a file reader or other code, enable it with 'u.add_enabled_units'. For details, see https://docs.astropy.org/en/latest/units/combining_and_defining.html [astropy.units.core]\n"
     ]
    },
    {
     "name": "stdout",
     "output_type": "stream",
     "text": [
      "Downloading URL https://mast.stsci.edu/api/v0.1/Download/file?uri=mast:HLSP/qlp/s0062/0000/0001/9309/6383/hlsp_qlp_tess_ffi_s0062-0000000193096383_tess_v01_llc.fits to ./mastDownload/HLSP/hlsp_qlp_tess_ffi_s0062-0000000193096383_tess_v01_llc/hlsp_qlp_tess_ffi_s0062-0000000193096383_tess_v01_llc.fits ... [Done]\n"
     ]
    },
    {
     "name": "stderr",
     "output_type": "stream",
     "text": [
      "WARNING: UnitsWarning: 'BJD-2457000, days' did not parse as fits unit: At col 0, Unit 'BJD' not supported by the FITS standard.  If this is meant to be a custom unit, define it with 'u.def_unit'. To have it recognized inside a file reader or other code, enable it with 'u.add_enabled_units'. For details, see https://docs.astropy.org/en/latest/units/combining_and_defining.html [astropy.units.core]\n"
     ]
    },
    {
     "name": "stdout",
     "output_type": "stream",
     "text": [
      "Downloading URL https://mast.stsci.edu/api/v0.1/Download/file?uri=mast:HLSP/qlp/s0063/0000/0001/9309/6383/hlsp_qlp_tess_ffi_s0063-0000000193096383_tess_v01_llc.fits to ./mastDownload/HLSP/hlsp_qlp_tess_ffi_s0063-0000000193096383_tess_v01_llc/hlsp_qlp_tess_ffi_s0063-0000000193096383_tess_v01_llc.fits ... [Done]\n"
     ]
    },
    {
     "name": "stderr",
     "output_type": "stream",
     "text": [
      "WARNING: UnitsWarning: 'BJD-2457000, days' did not parse as fits unit: At col 0, Unit 'BJD' not supported by the FITS standard.  If this is meant to be a custom unit, define it with 'u.def_unit'. To have it recognized inside a file reader or other code, enable it with 'u.add_enabled_units'. For details, see https://docs.astropy.org/en/latest/units/combining_and_defining.html [astropy.units.core]\n"
     ]
    },
    {
     "name": "stdout",
     "output_type": "stream",
     "text": [
      "Downloading URL https://mast.stsci.edu/api/v0.1/Download/file?uri=mast:HLSP/qlp/s0089/0000/0001/9309/6383/hlsp_qlp_tess_ffi_s0089-0000000193096383_tess_v01_llc.fits to ./mastDownload/HLSP/hlsp_qlp_tess_ffi_s0089-0000000193096383_tess_v01_llc/hlsp_qlp_tess_ffi_s0089-0000000193096383_tess_v01_llc.fits ... [Done]\n",
      "\n",
      "✅ Download summary:\n",
      "Sector ...\n",
      "------ ...\n",
      "     9 ...\n",
      "    36 ...\n",
      "    62 ...\n",
      "    63 ...\n",
      "    89 ...\n",
      "\n",
      "Temporary data stored in: /var/folders/fs/c4gpqhmx5tbcbsv_cbs0yhn80000gn/T/tmpcx7omv4f\n",
      "This directory will be deleted when the program exits.\n",
      "W :  143\n",
      "W :  144\n"
     ]
    },
    {
     "name": "stderr",
     "output_type": "stream",
     "text": [
      "WARNING: UnitsWarning: 'BJD-2457000, days' did not parse as fits unit: At col 0, Unit 'BJD' not supported by the FITS standard.  If this is meant to be a custom unit, define it with 'u.def_unit'. To have it recognized inside a file reader or other code, enable it with 'u.add_enabled_units'. For details, see https://docs.astropy.org/en/latest/units/combining_and_defining.html [astropy.units.core]\n"
     ]
    },
    {
     "name": "stdout",
     "output_type": "stream",
     "text": [
      "W :  144\n",
      "W :  144\n",
      "W :  144\n",
      "W :  144\n",
      "W :  144\n",
      "W :  144\n",
      "W :  144\n",
      "W :  144\n",
      "W :  144\n",
      "W :  144\n",
      "W :  144\n",
      "W :  144\n",
      "W :  144\n",
      "W :  144\n",
      "Initial Chi-Sqaured : 100.11 [red 1.79]\n",
      "Fitted parameters for TIC-193096383:\n",
      "t_zero : 2458559.17524644\n",
      "radius_1 : 0.02402001680517815\n",
      "k : 0.09321155946657747\n",
      "b : 0.631101779558363\n",
      "Final Chi-Sqaured : 54.80 [red 0.98]\n",
      "Initial Chi-Sqaured : 1512.23 [red 30.86]\n",
      "Fitted parameters for TIC-193096383:\n",
      "t_zero : 2459289.9782342175\n",
      "radius_1 : 0.043901914522626276\n",
      "k : 0.10781322220085239\n",
      "b : 0.870147491489458\n",
      "Final Chi-Sqaured : 298.73 [red 6.10]\n",
      "1 49 1 48.7201991851752 730.802987777628 15 15.22506224536725\n",
      "0 0.0\n",
      "1 0.0\n",
      "2 0.0\n",
      "3 0.0\n",
      "4 0.0\n",
      "5 0.0\n",
      "6 0.0\n",
      "7 0.0\n",
      "8 0.0\n",
      "9 0.0\n",
      "10 0.0\n",
      "11 0.0\n",
      "12 0.0\n",
      "13 0.0\n",
      "14 0.0\n",
      "15 0.0\n",
      "16 0.0\n",
      "17 0.0\n",
      "18 0.0\n",
      "19 0.0\n",
      "20 0.0\n",
      "21 0.0\n",
      "22 0.0\n",
      "23 0.0\n",
      "24 0.0\n",
      "25 0.0\n",
      "26 0.0\n",
      "27 0.0\n",
      "28 0.0\n",
      "29 0.0\n",
      "30 0.0\n",
      "31 0.0\n",
      "32 0.0\n",
      "33 0.0\n",
      "34 0.0\n",
      "35 0.0\n",
      "36 0.0\n",
      "37 0.0\n",
      "38 0.0\n",
      "39 0.0\n",
      "40 0.0\n",
      "41 0.0\n",
      "42 0.0\n",
      "43 0.0\n",
      "44 0.0\n",
      "45 -1722.3170046735527\n",
      "46 -2896.7358967846963\n",
      "47 -691.8268302686315\n"
     ]
    },
    {
     "name": "stderr",
     "output_type": "stream",
     "text": [
      "100%|███████████████████████████████████████████| 48/48 [00:07<00:00,  6.41it/s]\n"
     ]
    },
    {
     "name": "stdout",
     "output_type": "stream",
     "text": [
      "No transists visible\n",
      "\n",
      "📂 Download directory: /var/folders/fs/c4gpqhmx5tbcbsv_cbs0yhn80000gn/T/tmpx812dt7k\n",
      "\n",
      "Querying TIC 193318850 from MAST...\n",
      "Downloading URL https://mast.stsci.edu/api/v0.1/Download/file?uri=mast:HLSP/tess-spoc/s0009/target/0000/0001/9331/8850/hlsp_tess-spoc_tess_phot_0000000193318850-s0009_tess_v1_lc.fits to ./mastDownload/HLSP/hlsp_tess-spoc_tess_phot_0000000193318850-s0009_tess_v1_tp/hlsp_tess-spoc_tess_phot_0000000193318850-s0009_tess_v1_lc.fits ... [Done]\n"
     ]
    },
    {
     "name": "stderr",
     "output_type": "stream",
     "text": [
      "WARNING: UnitsWarning: 'BJD - 2457000, days' did not parse as fits unit: At col 0, Unit 'BJD' not supported by the FITS standard.  If this is meant to be a custom unit, define it with 'u.def_unit'. To have it recognized inside a file reader or other code, enable it with 'u.add_enabled_units'. For details, see https://docs.astropy.org/en/latest/units/combining_and_defining.html [astropy.units.core]\n",
      "WARNING: UnitsWarning: 'e-/s' did not parse as fits unit: At col 0, Unit 'e' not supported by the FITS standard.  If this is meant to be a custom unit, define it with 'u.def_unit'. To have it recognized inside a file reader or other code, enable it with 'u.add_enabled_units'. For details, see https://docs.astropy.org/en/latest/units/combining_and_defining.html [astropy.units.core]\n",
      "WARNING: UnitsWarning: 'pixels' did not parse as fits unit: At col 0, Unit 'pixels' not supported by the FITS standard. Did you mean pixel? If this is meant to be a custom unit, define it with 'u.def_unit'. To have it recognized inside a file reader or other code, enable it with 'u.add_enabled_units'. For details, see https://docs.astropy.org/en/latest/units/combining_and_defining.html [astropy.units.core]\n"
     ]
    },
    {
     "name": "stdout",
     "output_type": "stream",
     "text": [
      "Downloading URL https://mast.stsci.edu/api/v0.1/Download/file?uri=mast:HLSP/tess-spoc/s0036/target/0000/0001/9331/8850/hlsp_tess-spoc_tess_phot_0000000193318850-s0036_tess_v1_lc.fits to ./mastDownload/HLSP/hlsp_tess-spoc_tess_phot_0000000193318850-s0036_tess_v1_tp/hlsp_tess-spoc_tess_phot_0000000193318850-s0036_tess_v1_lc.fits ... [Done]\n"
     ]
    },
    {
     "name": "stderr",
     "output_type": "stream",
     "text": [
      "WARNING: UnitsWarning: 'BJD - 2457000, days' did not parse as fits unit: At col 0, Unit 'BJD' not supported by the FITS standard.  If this is meant to be a custom unit, define it with 'u.def_unit'. To have it recognized inside a file reader or other code, enable it with 'u.add_enabled_units'. For details, see https://docs.astropy.org/en/latest/units/combining_and_defining.html [astropy.units.core]\n",
      "WARNING: UnitsWarning: 'e-/s' did not parse as fits unit: At col 0, Unit 'e' not supported by the FITS standard.  If this is meant to be a custom unit, define it with 'u.def_unit'. To have it recognized inside a file reader or other code, enable it with 'u.add_enabled_units'. For details, see https://docs.astropy.org/en/latest/units/combining_and_defining.html [astropy.units.core]\n",
      "WARNING: UnitsWarning: 'pixels' did not parse as fits unit: At col 0, Unit 'pixels' not supported by the FITS standard. Did you mean pixel? If this is meant to be a custom unit, define it with 'u.def_unit'. To have it recognized inside a file reader or other code, enable it with 'u.add_enabled_units'. For details, see https://docs.astropy.org/en/latest/units/combining_and_defining.html [astropy.units.core]\n"
     ]
    },
    {
     "name": "stdout",
     "output_type": "stream",
     "text": [
      "Downloading URL https://mast.stsci.edu/api/v0.1/Download/file?uri=mast:HLSP/tess-spoc/s0063/target/0000/0001/9331/8850/hlsp_tess-spoc_tess_phot_0000000193318850-s0063_tess_v1_lc.fits to ./mastDownload/HLSP/hlsp_tess-spoc_tess_phot_0000000193318850-s0063_tess_v1_tp/hlsp_tess-spoc_tess_phot_0000000193318850-s0063_tess_v1_lc.fits ... [Done]\n"
     ]
    },
    {
     "name": "stderr",
     "output_type": "stream",
     "text": [
      "WARNING: UnitsWarning: 'BJD - 2457000, days' did not parse as fits unit: At col 0, Unit 'BJD' not supported by the FITS standard.  If this is meant to be a custom unit, define it with 'u.def_unit'. To have it recognized inside a file reader or other code, enable it with 'u.add_enabled_units'. For details, see https://docs.astropy.org/en/latest/units/combining_and_defining.html [astropy.units.core]\n",
      "WARNING: UnitsWarning: 'e-/s' did not parse as fits unit: At col 0, Unit 'e' not supported by the FITS standard.  If this is meant to be a custom unit, define it with 'u.def_unit'. To have it recognized inside a file reader or other code, enable it with 'u.add_enabled_units'. For details, see https://docs.astropy.org/en/latest/units/combining_and_defining.html [astropy.units.core]\n",
      "WARNING: UnitsWarning: 'pixels' did not parse as fits unit: At col 0, Unit 'pixels' not supported by the FITS standard. Did you mean pixel? If this is meant to be a custom unit, define it with 'u.def_unit'. To have it recognized inside a file reader or other code, enable it with 'u.add_enabled_units'. For details, see https://docs.astropy.org/en/latest/units/combining_and_defining.html [astropy.units.core]\n"
     ]
    },
    {
     "name": "stdout",
     "output_type": "stream",
     "text": [
      "Downloading URL https://mast.stsci.edu/api/v0.1/Download/file?uri=mast:TESS/product/tess2025071122000-s0090-0000000193318850-0287-s_lc.fits to ./mastDownload/TESS/tess2025071122000-s0090-0000000193318850-0287-s/tess2025071122000-s0090-0000000193318850-0287-s_lc.fits ... [Done]\n",
      "\n",
      "✅ Download summary:\n",
      "Sector ...\n",
      "------ ...\n",
      "     9 ...\n",
      "    36 ...\n",
      "    63 ...\n",
      "    90 ...\n",
      "\n",
      "Temporary data stored in: /var/folders/fs/c4gpqhmx5tbcbsv_cbs0yhn80000gn/T/tmpx812dt7k\n",
      "This directory will be deleted when the program exits.\n",
      "W :  143\n",
      "W :  143\n"
     ]
    },
    {
     "name": "stderr",
     "output_type": "stream",
     "text": [
      "WARNING: UnitsWarning: 'BJD - 2457000, days' did not parse as fits unit: At col 0, Unit 'BJD' not supported by the FITS standard.  If this is meant to be a custom unit, define it with 'u.def_unit'. To have it recognized inside a file reader or other code, enable it with 'u.add_enabled_units'. For details, see https://docs.astropy.org/en/latest/units/combining_and_defining.html [astropy.units.core]\n",
      "WARNING: UnitsWarning: 'e-/s' did not parse as fits unit: At col 0, Unit 'e' not supported by the FITS standard.  If this is meant to be a custom unit, define it with 'u.def_unit'. To have it recognized inside a file reader or other code, enable it with 'u.add_enabled_units'. For details, see https://docs.astropy.org/en/latest/units/combining_and_defining.html [astropy.units.core]\n",
      "WARNING: UnitsWarning: 'pixels' did not parse as fits unit: At col 0, Unit 'pixels' not supported by the FITS standard. Did you mean pixel? If this is meant to be a custom unit, define it with 'u.def_unit'. To have it recognized inside a file reader or other code, enable it with 'u.add_enabled_units'. For details, see https://docs.astropy.org/en/latest/units/combining_and_defining.html [astropy.units.core]\n"
     ]
    },
    {
     "name": "stdout",
     "output_type": "stream",
     "text": [
      "W :  144\n",
      "W :  144\n",
      "W :  144\n",
      "W :  144\n",
      "W :  144\n",
      "W :  144\n",
      "W :  144\n",
      "W :  144\n",
      "W :  144\n",
      "W :  144\n",
      "Initial Chi-Sqaured : 52.36 [red 1.25]\n",
      "Fitted parameters for TIC-193318850:\n",
      "t_zero : 2458553.769086481\n",
      "radius_1 : 0.019829561852981792\n",
      "k : 0.08366835891331312\n",
      "b : 0.6871454723615777\n",
      "Final Chi-Sqaured : 45.37 [red 1.08]\n",
      "Initial Chi-Sqaured : 1963.29 [red 53.06]\n",
      "Fitted parameters for TIC-193318850:\n",
      "t_zero : 2459292.5188586963\n",
      "radius_1 : 0.017055784809150515\n",
      "k : 0.0800536124441894\n",
      "b : 0.4803200813322108\n",
      "Final Chi-Sqaured : 185.61 [red 5.02]\n",
      "1 50 1 49.2499848143508 738.749772215262 15 15.076525963576776\n",
      "0 0.0\n",
      "1 0.0\n",
      "2 0.0\n",
      "3 0.0\n",
      "4 0.0\n",
      "5 0.0\n",
      "6 0.0\n",
      "7 0.0\n",
      "8 0.0\n",
      "9 0.0\n",
      "10 0.0\n",
      "11 0.0\n",
      "12 0.0\n",
      "13 0.0\n",
      "14 0.0\n",
      "15 0.0\n",
      "16 0.0\n",
      "17 0.0\n",
      "18 0.0\n",
      "19 0.0\n",
      "20 0.0\n",
      "21 0.0\n",
      "22 0.0\n",
      "23 0.0\n",
      "24 0.0\n",
      "25 0.0\n",
      "26 0.0\n",
      "27 0.0\n",
      "28 0.0\n",
      "29 0.0\n",
      "30 0.0\n",
      "31 0.0\n",
      "32 0.0\n",
      "33 0.0\n",
      "34 0.0\n",
      "35 0.0\n",
      "36 0.0\n",
      "37 0.0\n",
      "38 0.0\n",
      "39 0.0\n",
      "40 0.0\n",
      "41 0.0\n",
      "42 0.0\n",
      "43 0.0\n",
      "44 0.0\n",
      "45 0.0\n",
      "46 0.0\n",
      "47 0.0\n",
      "48 0.0\n"
     ]
    },
    {
     "name": "stderr",
     "output_type": "stream",
     "text": [
      "100%|███████████████████████████████████████████| 49/49 [00:06<00:00,  7.24it/s]\n"
     ]
    },
    {
     "name": "stdout",
     "output_type": "stream",
     "text": [
      "\n",
      "📂 Download directory: /var/folders/fs/c4gpqhmx5tbcbsv_cbs0yhn80000gn/T/tmpsurfwn9v\n",
      "\n",
      "Querying TIC 224279805 from MAST...\n",
      "Downloading URL https://mast.stsci.edu/api/v0.1/Download/file?uri=mast:HLSP/tess-spoc/s0002/target/0000/0002/2427/9805/hlsp_tess-spoc_tess_phot_0000000224279805-s0002_tess_v1_lc.fits to ./mastDownload/HLSP/hlsp_tess-spoc_tess_phot_0000000224279805-s0002_tess_v1_tp/hlsp_tess-spoc_tess_phot_0000000224279805-s0002_tess_v1_lc.fits ... [Done]\n"
     ]
    },
    {
     "name": "stderr",
     "output_type": "stream",
     "text": [
      "WARNING: UnitsWarning: 'BJD - 2457000, days' did not parse as fits unit: At col 0, Unit 'BJD' not supported by the FITS standard.  If this is meant to be a custom unit, define it with 'u.def_unit'. To have it recognized inside a file reader or other code, enable it with 'u.add_enabled_units'. For details, see https://docs.astropy.org/en/latest/units/combining_and_defining.html [astropy.units.core]\n",
      "WARNING: UnitsWarning: 'e-/s' did not parse as fits unit: At col 0, Unit 'e' not supported by the FITS standard.  If this is meant to be a custom unit, define it with 'u.def_unit'. To have it recognized inside a file reader or other code, enable it with 'u.add_enabled_units'. For details, see https://docs.astropy.org/en/latest/units/combining_and_defining.html [astropy.units.core]\n",
      "WARNING: UnitsWarning: 'pixels' did not parse as fits unit: At col 0, Unit 'pixels' not supported by the FITS standard. Did you mean pixel? If this is meant to be a custom unit, define it with 'u.def_unit'. To have it recognized inside a file reader or other code, enable it with 'u.add_enabled_units'. For details, see https://docs.astropy.org/en/latest/units/combining_and_defining.html [astropy.units.core]\n"
     ]
    },
    {
     "name": "stdout",
     "output_type": "stream",
     "text": [
      "Downloading URL https://mast.stsci.edu/api/v0.1/Download/file?uri=mast:TESS/product/tess2020238165205-s0029-0000000224279805-0193-s_lc.fits to ./mastDownload/TESS/tess2020238165205-s0029-0000000224279805-0193-s/tess2020238165205-s0029-0000000224279805-0193-s_lc.fits ... [Done]\n"
     ]
    },
    {
     "name": "stderr",
     "output_type": "stream",
     "text": [
      "WARNING: UnitsWarning: 'BJD - 2457000, days' did not parse as fits unit: At col 0, Unit 'BJD' not supported by the FITS standard.  If this is meant to be a custom unit, define it with 'u.def_unit'. To have it recognized inside a file reader or other code, enable it with 'u.add_enabled_units'. For details, see https://docs.astropy.org/en/latest/units/combining_and_defining.html [astropy.units.core]\n",
      "WARNING: UnitsWarning: 'e-/s' did not parse as fits unit: At col 0, Unit 'e' not supported by the FITS standard.  If this is meant to be a custom unit, define it with 'u.def_unit'. To have it recognized inside a file reader or other code, enable it with 'u.add_enabled_units'. For details, see https://docs.astropy.org/en/latest/units/combining_and_defining.html [astropy.units.core]\n",
      "WARNING: UnitsWarning: 'pixels' did not parse as fits unit: At col 0, Unit 'pixels' not supported by the FITS standard. Did you mean pixel? If this is meant to be a custom unit, define it with 'u.def_unit'. To have it recognized inside a file reader or other code, enable it with 'u.add_enabled_units'. For details, see https://docs.astropy.org/en/latest/units/combining_and_defining.html [astropy.units.core]\n"
     ]
    },
    {
     "name": "stdout",
     "output_type": "stream",
     "text": [
      "Downloading URL https://mast.stsci.edu/api/v0.1/Download/file?uri=mast:TESS/product/tess2023237165326-s0069-0000000224279805-0264-s_lc.fits to ./mastDownload/TESS/tess2023237165326-s0069-0000000224279805-0264-s/tess2023237165326-s0069-0000000224279805-0264-s_lc.fits ... [Done]\n"
     ]
    },
    {
     "name": "stderr",
     "output_type": "stream",
     "text": [
      "WARNING: UnitsWarning: 'BJD - 2457000, days' did not parse as fits unit: At col 0, Unit 'BJD' not supported by the FITS standard.  If this is meant to be a custom unit, define it with 'u.def_unit'. To have it recognized inside a file reader or other code, enable it with 'u.add_enabled_units'. For details, see https://docs.astropy.org/en/latest/units/combining_and_defining.html [astropy.units.core]\n",
      "WARNING: UnitsWarning: 'e-/s' did not parse as fits unit: At col 0, Unit 'e' not supported by the FITS standard.  If this is meant to be a custom unit, define it with 'u.def_unit'. To have it recognized inside a file reader or other code, enable it with 'u.add_enabled_units'. For details, see https://docs.astropy.org/en/latest/units/combining_and_defining.html [astropy.units.core]\n",
      "WARNING: UnitsWarning: 'pixels' did not parse as fits unit: At col 0, Unit 'pixels' not supported by the FITS standard. Did you mean pixel? If this is meant to be a custom unit, define it with 'u.def_unit'. To have it recognized inside a file reader or other code, enable it with 'u.add_enabled_units'. For details, see https://docs.astropy.org/en/latest/units/combining_and_defining.html [astropy.units.core]\n"
     ]
    },
    {
     "name": "stdout",
     "output_type": "stream",
     "text": [
      "Downloading URL https://mast.stsci.edu/api/v0.1/Download/file?uri=mast:HLSP/qlp/s0096/0000/0002/2427/9805/hlsp_qlp_tess_ffi_s0096-0000000224279805_tess_v01_llc.fits to ./mastDownload/HLSP/hlsp_qlp_tess_ffi_s0096-0000000224279805_tess_v01_llc/hlsp_qlp_tess_ffi_s0096-0000000224279805_tess_v01_llc.fits ... [Done]\n",
      "\n",
      "✅ Download summary:\n",
      "Sector ...\n",
      "------ ...\n",
      "     2 ...\n",
      "    29 ...\n",
      "    69 ...\n",
      "    96 ...\n",
      "\n",
      "Temporary data stored in: /var/folders/fs/c4gpqhmx5tbcbsv_cbs0yhn80000gn/T/tmpsurfwn9v\n",
      "This directory will be deleted when the program exits.\n",
      "W :  144\n",
      "W :  144\n"
     ]
    },
    {
     "name": "stderr",
     "output_type": "stream",
     "text": [
      "WARNING: UnitsWarning: 'BJD-2457000, days' did not parse as fits unit: At col 0, Unit 'BJD' not supported by the FITS standard.  If this is meant to be a custom unit, define it with 'u.def_unit'. To have it recognized inside a file reader or other code, enable it with 'u.add_enabled_units'. For details, see https://docs.astropy.org/en/latest/units/combining_and_defining.html [astropy.units.core]\n"
     ]
    },
    {
     "name": "stdout",
     "output_type": "stream",
     "text": [
      "W :  144\n",
      "W :  144\n",
      "W :  144\n",
      "W :  144\n",
      "W :  144\n",
      "W :  144\n",
      "W :  144\n",
      "W :  144\n",
      "W :  144\n",
      "W :  144\n",
      "Initial Chi-Sqaured : 114.22 [red 1.63]\n",
      "Fitted parameters for TIC-224279805:\n",
      "t_zero : 2458369.727329248\n",
      "radius_1 : 0.03300383992810353\n",
      "k : 0.08487672529362138\n",
      "b : 0.7181695797001342\n",
      "Final Chi-Sqaured : 60.24 [red 0.86]\n",
      "Initial Chi-Sqaured : 310.31 [red 3.83]\n",
      "Fitted parameters for TIC-224279805:\n",
      "t_zero : 2459105.215646105\n",
      "radius_1 : 0.030003069384457917\n",
      "k : 0.08585916721024382\n",
      "b : 0.6172030201681961\n",
      "Final Chi-Sqaured : 118.03 [red 1.46]\n",
      "1 50 1 49.03255445711935 735.4883168567903 15 15.009965650138579\n",
      "0 0.0\n",
      "1 0.0\n",
      "2 0.0\n",
      "3 0.0\n",
      "4 0.0\n",
      "5 0.0\n",
      "6 0.0\n",
      "7 0.0\n",
      "8 0.0\n",
      "9 0.0\n",
      "10 0.0\n",
      "11 0.0\n",
      "12 0.0\n",
      "13 0.0\n",
      "14 0.0\n",
      "15 0.0\n",
      "16 0.0\n",
      "17 0.0\n",
      "18 0.0\n",
      "19 0.0\n",
      "20 0.0\n",
      "21 0.0\n",
      "22 0.0\n",
      "23 0.0\n",
      "24 0.0\n",
      "25 0.0\n",
      "26 0.0\n",
      "27 0.0\n",
      "28 0.0\n",
      "29 0.0\n",
      "30 0.0\n",
      "31 0.0\n",
      "32 0.0\n",
      "33 0.0\n",
      "34 0.0\n",
      "35 0.0\n",
      "36 0.0\n",
      "37 0.0\n",
      "38 0.0\n",
      "39 0.0\n",
      "40 0.0\n",
      "41 0.0\n",
      "42 0.0\n",
      "43 -614.01194264107\n",
      "44 -416.1600653640982\n",
      "45 -576.0701081615455\n",
      "46 -417.2693496368083\n",
      "47 -740.9753439036969\n",
      "48 -643.2514093096037\n"
     ]
    },
    {
     "name": "stderr",
     "output_type": "stream",
     "text": [
      "100%|███████████████████████████████████████████| 49/49 [00:06<00:00,  7.74it/s]\n"
     ]
    },
    {
     "name": "stdout",
     "output_type": "stream",
     "text": [
      "No transists visible\n",
      "\n",
      "📂 Download directory: /var/folders/fs/c4gpqhmx5tbcbsv_cbs0yhn80000gn/T/tmpnx51n3ao\n",
      "\n",
      "Querying TIC 231637303 from MAST...\n",
      "Downloading URL https://mast.stsci.edu/api/v0.1/Download/file?uri=mast:HLSP/tess-spoc/s0027/target/0000/0002/3163/7303/hlsp_tess-spoc_tess_phot_0000000231637303-s0027_tess_v1_lc.fits to ./mastDownload/HLSP/hlsp_tess-spoc_tess_phot_0000000231637303-s0027_tess_v1_tp/hlsp_tess-spoc_tess_phot_0000000231637303-s0027_tess_v1_lc.fits ... [Done]\n"
     ]
    },
    {
     "name": "stderr",
     "output_type": "stream",
     "text": [
      "WARNING: UnitsWarning: 'BJD - 2457000, days' did not parse as fits unit: At col 0, Unit 'BJD' not supported by the FITS standard.  If this is meant to be a custom unit, define it with 'u.def_unit'. To have it recognized inside a file reader or other code, enable it with 'u.add_enabled_units'. For details, see https://docs.astropy.org/en/latest/units/combining_and_defining.html [astropy.units.core]\n",
      "WARNING: UnitsWarning: 'e-/s' did not parse as fits unit: At col 0, Unit 'e' not supported by the FITS standard.  If this is meant to be a custom unit, define it with 'u.def_unit'. To have it recognized inside a file reader or other code, enable it with 'u.add_enabled_units'. For details, see https://docs.astropy.org/en/latest/units/combining_and_defining.html [astropy.units.core]\n",
      "WARNING: UnitsWarning: 'pixels' did not parse as fits unit: At col 0, Unit 'pixels' not supported by the FITS standard. Did you mean pixel? If this is meant to be a custom unit, define it with 'u.def_unit'. To have it recognized inside a file reader or other code, enable it with 'u.add_enabled_units'. For details, see https://docs.astropy.org/en/latest/units/combining_and_defining.html [astropy.units.core]\n"
     ]
    },
    {
     "name": "stdout",
     "output_type": "stream",
     "text": [
      "Downloading URL https://mast.stsci.edu/api/v0.1/Download/file?uri=mast:HLSP/tess-spoc/s0067/target/0000/0002/3163/7303/hlsp_tess-spoc_tess_phot_0000000231637303-s0067_tess_v1_lc.fits to ./mastDownload/HLSP/hlsp_tess-spoc_tess_phot_0000000231637303-s0067_tess_v1_tp/hlsp_tess-spoc_tess_phot_0000000231637303-s0067_tess_v1_lc.fits ... [Done]\n"
     ]
    },
    {
     "name": "stderr",
     "output_type": "stream",
     "text": [
      "WARNING: UnitsWarning: 'BJD - 2457000, days' did not parse as fits unit: At col 0, Unit 'BJD' not supported by the FITS standard.  If this is meant to be a custom unit, define it with 'u.def_unit'. To have it recognized inside a file reader or other code, enable it with 'u.add_enabled_units'. For details, see https://docs.astropy.org/en/latest/units/combining_and_defining.html [astropy.units.core]\n",
      "WARNING: UnitsWarning: 'e-/s' did not parse as fits unit: At col 0, Unit 'e' not supported by the FITS standard.  If this is meant to be a custom unit, define it with 'u.def_unit'. To have it recognized inside a file reader or other code, enable it with 'u.add_enabled_units'. For details, see https://docs.astropy.org/en/latest/units/combining_and_defining.html [astropy.units.core]\n",
      "WARNING: UnitsWarning: 'pixels' did not parse as fits unit: At col 0, Unit 'pixels' not supported by the FITS standard. Did you mean pixel? If this is meant to be a custom unit, define it with 'u.def_unit'. To have it recognized inside a file reader or other code, enable it with 'u.add_enabled_units'. For details, see https://docs.astropy.org/en/latest/units/combining_and_defining.html [astropy.units.core]\n"
     ]
    },
    {
     "name": "stdout",
     "output_type": "stream",
     "text": [
      "Downloading URL https://mast.stsci.edu/api/v0.1/Download/file?uri=mast:TESS/product/tess2025180145000-s0094-0000000231637303-0291-s_lc.fits to ./mastDownload/TESS/tess2025180145000-s0094-0000000231637303-0291-s/tess2025180145000-s0094-0000000231637303-0291-s_lc.fits ... [Done]\n"
     ]
    },
    {
     "name": "stderr",
     "output_type": "stream",
     "text": [
      "WARNING: UnitsWarning: 'BJD - 2457000, days' did not parse as fits unit: At col 0, Unit 'BJD' not supported by the FITS standard.  If this is meant to be a custom unit, define it with 'u.def_unit'. To have it recognized inside a file reader or other code, enable it with 'u.add_enabled_units'. For details, see https://docs.astropy.org/en/latest/units/combining_and_defining.html [astropy.units.core]\n",
      "WARNING: UnitsWarning: 'e-/s' did not parse as fits unit: At col 0, Unit 'e' not supported by the FITS standard.  If this is meant to be a custom unit, define it with 'u.def_unit'. To have it recognized inside a file reader or other code, enable it with 'u.add_enabled_units'. For details, see https://docs.astropy.org/en/latest/units/combining_and_defining.html [astropy.units.core]\n",
      "WARNING: UnitsWarning: 'pixels' did not parse as fits unit: At col 0, Unit 'pixels' not supported by the FITS standard. Did you mean pixel? If this is meant to be a custom unit, define it with 'u.def_unit'. To have it recognized inside a file reader or other code, enable it with 'u.add_enabled_units'. For details, see https://docs.astropy.org/en/latest/units/combining_and_defining.html [astropy.units.core]\n"
     ]
    },
    {
     "name": "stdout",
     "output_type": "stream",
     "text": [
      "Downloading URL https://mast.stsci.edu/api/v0.1/Download/file?uri=mast:TESS/product/tess2025206162959-s0095-0000000231637303-0292-s_lc.fits to ./mastDownload/TESS/tess2025206162959-s0095-0000000231637303-0292-s/tess2025206162959-s0095-0000000231637303-0292-s_lc.fits ... [Done]\n",
      "\n",
      "✅ Download summary:\n",
      "Sector ...\n",
      "------ ...\n",
      "    27 ...\n",
      "    67 ...\n",
      "    94 ...\n",
      "    95 ...\n",
      "\n",
      "Temporary data stored in: /var/folders/fs/c4gpqhmx5tbcbsv_cbs0yhn80000gn/T/tmpnx51n3ao\n",
      "This directory will be deleted when the program exits.\n",
      "W :  144\n",
      "W :  144\n",
      "W :  5\n"
     ]
    },
    {
     "name": "stderr",
     "output_type": "stream",
     "text": [
      "WARNING: UnitsWarning: 'BJD - 2457000, days' did not parse as fits unit: At col 0, Unit 'BJD' not supported by the FITS standard.  If this is meant to be a custom unit, define it with 'u.def_unit'. To have it recognized inside a file reader or other code, enable it with 'u.add_enabled_units'. For details, see https://docs.astropy.org/en/latest/units/combining_and_defining.html [astropy.units.core]\n",
      "WARNING: UnitsWarning: 'e-/s' did not parse as fits unit: At col 0, Unit 'e' not supported by the FITS standard.  If this is meant to be a custom unit, define it with 'u.def_unit'. To have it recognized inside a file reader or other code, enable it with 'u.add_enabled_units'. For details, see https://docs.astropy.org/en/latest/units/combining_and_defining.html [astropy.units.core]\n",
      "WARNING: UnitsWarning: 'pixels' did not parse as fits unit: At col 0, Unit 'pixels' not supported by the FITS standard. Did you mean pixel? If this is meant to be a custom unit, define it with 'u.def_unit'. To have it recognized inside a file reader or other code, enable it with 'u.add_enabled_units'. For details, see https://docs.astropy.org/en/latest/units/combining_and_defining.html [astropy.units.core]\n"
     ]
    },
    {
     "name": "stdout",
     "output_type": "stream",
     "text": [
      "W :  144\n",
      "W :  144\n",
      "W :  144\n",
      "W :  104\n",
      "W :  144\n",
      "W :  144\n",
      "W :  144\n",
      "W :  144\n",
      "W :  144\n",
      "W :  144\n",
      "W :  144\n",
      "W :  144\n",
      "Initial Chi-Sqaured : 5011.48 [red 33.86]\n",
      "Fitted parameters for TIC-231637303:\n",
      "t_zero : 2459038.14901512\n",
      "radius_1 : 0.05655975541379478\n",
      "k : 0.06919155834345826\n",
      "b : 0.44608225220662767\n",
      "Final Chi-Sqaured : 2186.22 [red 14.77]\n",
      "Initial Chi-Sqaured : 532.66 [red 3.67]\n",
      "Fitted parameters for TIC-231637303:\n",
      "t_zero : 2460142.452281351\n",
      "radius_1 : 0.07911415422216934\n",
      "k : 0.07232993776916423\n",
      "b : 0.7688999862242737\n",
      "Final Chi-Sqaured : 206.40 [red 1.42]\n",
      "1 74 1 73.62021774873138 1104.3032662309706 15 15.127442003163981\n",
      "0 0.0\n",
      "1 0.0\n",
      "2 0.0\n",
      "3 0.0\n",
      "4 0.0\n",
      "5 0.0\n",
      "6 0.0\n",
      "7 0.0\n",
      "8 0.0\n",
      "9 0.0\n",
      "10 0.0\n",
      "11 0.0\n",
      "12 0.0\n",
      "13 0.0\n",
      "14 0.0\n",
      "15 0.0\n",
      "16 0.0\n",
      "17 0.0\n",
      "18 0.0\n",
      "19 0.0\n",
      "20 0.0\n",
      "21 0.0\n",
      "22 0.0\n",
      "23 0.0\n",
      "24 0.0\n",
      "25 0.0\n",
      "26 0.0\n",
      "27 0.0\n",
      "28 0.0\n",
      "29 0.0\n",
      "30 0.0\n",
      "31 0.0\n",
      "32 0.0\n",
      "33 0.0\n",
      "34 0.0\n",
      "35 0.0\n",
      "36 0.0\n",
      "37 0.0\n",
      "38 0.0\n",
      "39 0.0\n",
      "40 0.0\n",
      "41 0.0\n",
      "42 0.0\n",
      "43 0.0\n",
      "44 0.0\n",
      "45 0.0\n",
      "46 0.0\n",
      "47 0.0\n",
      "48 -973.5806754903658\n",
      "49 -2086.489090875322\n",
      "50 -3542.452192411722\n",
      "51 -17820.84561453186\n",
      "52 -5138.091074109921\n",
      "53 -5216.699129233241\n",
      "54 -13538.461611257348\n",
      "55 -46350.220115928365\n",
      "56 -20885.057505336248\n",
      "57 -10336.597336455827\n",
      "58 -9629.429586654738\n",
      "59 -6730.766189094205\n",
      "60 -8293.023228432245\n",
      "61 -13148.737587988398\n",
      "62 -8972.546338052005\n",
      "63 -8950.477754426847\n",
      "64 -6253.671849746131\n",
      "65 -8215.777348947384\n",
      "66 -10306.044517130451\n",
      "67 -5061.335389178303\n",
      "68 -16027.95245613984\n",
      "69 -18321.696070504102\n",
      "70 -13008.096953987879\n",
      "71 -20293.235238495214\n",
      "72 -17793.083163449708\n"
     ]
    },
    {
     "name": "stderr",
     "output_type": "stream",
     "text": [
      "100%|███████████████████████████████████████████| 73/73 [00:08<00:00,  9.00it/s]\n"
     ]
    },
    {
     "name": "stdout",
     "output_type": "stream",
     "text": [
      "\n",
      "📂 Download directory: /var/folders/fs/c4gpqhmx5tbcbsv_cbs0yhn80000gn/T/tmpm8t1nns1\n",
      "\n",
      "Querying TIC 235058563 from MAST...\n",
      "Downloading URL https://mast.stsci.edu/api/v0.1/Download/file?uri=mast:HLSP/tess-spoc/s0004/target/0000/0002/3505/8563/hlsp_tess-spoc_tess_phot_0000000235058563-s0004_tess_v1_lc.fits to ./mastDownload/HLSP/hlsp_tess-spoc_tess_phot_0000000235058563-s0004_tess_v1_tp/hlsp_tess-spoc_tess_phot_0000000235058563-s0004_tess_v1_lc.fits ... [Done]\n"
     ]
    },
    {
     "name": "stderr",
     "output_type": "stream",
     "text": [
      "WARNING: UnitsWarning: 'BJD - 2457000, days' did not parse as fits unit: At col 0, Unit 'BJD' not supported by the FITS standard.  If this is meant to be a custom unit, define it with 'u.def_unit'. To have it recognized inside a file reader or other code, enable it with 'u.add_enabled_units'. For details, see https://docs.astropy.org/en/latest/units/combining_and_defining.html [astropy.units.core]\n",
      "WARNING: UnitsWarning: 'e-/s' did not parse as fits unit: At col 0, Unit 'e' not supported by the FITS standard.  If this is meant to be a custom unit, define it with 'u.def_unit'. To have it recognized inside a file reader or other code, enable it with 'u.add_enabled_units'. For details, see https://docs.astropy.org/en/latest/units/combining_and_defining.html [astropy.units.core]\n",
      "WARNING: UnitsWarning: 'pixels' did not parse as fits unit: At col 0, Unit 'pixels' not supported by the FITS standard. Did you mean pixel? If this is meant to be a custom unit, define it with 'u.def_unit'. To have it recognized inside a file reader or other code, enable it with 'u.add_enabled_units'. For details, see https://docs.astropy.org/en/latest/units/combining_and_defining.html [astropy.units.core]\n"
     ]
    },
    {
     "name": "stdout",
     "output_type": "stream",
     "text": [
      "Downloading URL https://mast.stsci.edu/api/v0.1/Download/file?uri=mast:HLSP/tess-spoc/s0005/target/0000/0002/3505/8563/hlsp_tess-spoc_tess_phot_0000000235058563-s0005_tess_v1_lc.fits to ./mastDownload/HLSP/hlsp_tess-spoc_tess_phot_0000000235058563-s0005_tess_v1_tp/hlsp_tess-spoc_tess_phot_0000000235058563-s0005_tess_v1_lc.fits ... [Done]\n"
     ]
    },
    {
     "name": "stderr",
     "output_type": "stream",
     "text": [
      "WARNING: UnitsWarning: 'BJD - 2457000, days' did not parse as fits unit: At col 0, Unit 'BJD' not supported by the FITS standard.  If this is meant to be a custom unit, define it with 'u.def_unit'. To have it recognized inside a file reader or other code, enable it with 'u.add_enabled_units'. For details, see https://docs.astropy.org/en/latest/units/combining_and_defining.html [astropy.units.core]\n",
      "WARNING: UnitsWarning: 'e-/s' did not parse as fits unit: At col 0, Unit 'e' not supported by the FITS standard.  If this is meant to be a custom unit, define it with 'u.def_unit'. To have it recognized inside a file reader or other code, enable it with 'u.add_enabled_units'. For details, see https://docs.astropy.org/en/latest/units/combining_and_defining.html [astropy.units.core]\n",
      "WARNING: UnitsWarning: 'pixels' did not parse as fits unit: At col 0, Unit 'pixels' not supported by the FITS standard. Did you mean pixel? If this is meant to be a custom unit, define it with 'u.def_unit'. To have it recognized inside a file reader or other code, enable it with 'u.add_enabled_units'. For details, see https://docs.astropy.org/en/latest/units/combining_and_defining.html [astropy.units.core]\n"
     ]
    },
    {
     "name": "stdout",
     "output_type": "stream",
     "text": [
      "Downloading URL https://mast.stsci.edu/api/v0.1/Download/file?uri=mast:HLSP/tess-spoc/s0006/target/0000/0002/3505/8563/hlsp_tess-spoc_tess_phot_0000000235058563-s0006_tess_v1_lc.fits to ./mastDownload/HLSP/hlsp_tess-spoc_tess_phot_0000000235058563-s0006_tess_v1_tp/hlsp_tess-spoc_tess_phot_0000000235058563-s0006_tess_v1_lc.fits ... [Done]\n"
     ]
    },
    {
     "name": "stderr",
     "output_type": "stream",
     "text": [
      "WARNING: UnitsWarning: 'BJD - 2457000, days' did not parse as fits unit: At col 0, Unit 'BJD' not supported by the FITS standard.  If this is meant to be a custom unit, define it with 'u.def_unit'. To have it recognized inside a file reader or other code, enable it with 'u.add_enabled_units'. For details, see https://docs.astropy.org/en/latest/units/combining_and_defining.html [astropy.units.core]\n",
      "WARNING: UnitsWarning: 'e-/s' did not parse as fits unit: At col 0, Unit 'e' not supported by the FITS standard.  If this is meant to be a custom unit, define it with 'u.def_unit'. To have it recognized inside a file reader or other code, enable it with 'u.add_enabled_units'. For details, see https://docs.astropy.org/en/latest/units/combining_and_defining.html [astropy.units.core]\n",
      "WARNING: UnitsWarning: 'pixels' did not parse as fits unit: At col 0, Unit 'pixels' not supported by the FITS standard. Did you mean pixel? If this is meant to be a custom unit, define it with 'u.def_unit'. To have it recognized inside a file reader or other code, enable it with 'u.add_enabled_units'. For details, see https://docs.astropy.org/en/latest/units/combining_and_defining.html [astropy.units.core]\n"
     ]
    },
    {
     "name": "stdout",
     "output_type": "stream",
     "text": [
      "Downloading URL https://mast.stsci.edu/api/v0.1/Download/file?uri=mast:HLSP/tess-spoc/s0031/target/0000/0002/3505/8563/hlsp_tess-spoc_tess_phot_0000000235058563-s0031_tess_v1_lc.fits to ./mastDownload/HLSP/hlsp_tess-spoc_tess_phot_0000000235058563-s0031_tess_v1_tp/hlsp_tess-spoc_tess_phot_0000000235058563-s0031_tess_v1_lc.fits ... [Done]\n"
     ]
    },
    {
     "name": "stderr",
     "output_type": "stream",
     "text": [
      "WARNING: UnitsWarning: 'BJD - 2457000, days' did not parse as fits unit: At col 0, Unit 'BJD' not supported by the FITS standard.  If this is meant to be a custom unit, define it with 'u.def_unit'. To have it recognized inside a file reader or other code, enable it with 'u.add_enabled_units'. For details, see https://docs.astropy.org/en/latest/units/combining_and_defining.html [astropy.units.core]\n",
      "WARNING: UnitsWarning: 'e-/s' did not parse as fits unit: At col 0, Unit 'e' not supported by the FITS standard.  If this is meant to be a custom unit, define it with 'u.def_unit'. To have it recognized inside a file reader or other code, enable it with 'u.add_enabled_units'. For details, see https://docs.astropy.org/en/latest/units/combining_and_defining.html [astropy.units.core]\n",
      "WARNING: UnitsWarning: 'pixels' did not parse as fits unit: At col 0, Unit 'pixels' not supported by the FITS standard. Did you mean pixel? If this is meant to be a custom unit, define it with 'u.def_unit'. To have it recognized inside a file reader or other code, enable it with 'u.add_enabled_units'. For details, see https://docs.astropy.org/en/latest/units/combining_and_defining.html [astropy.units.core]\n"
     ]
    },
    {
     "name": "stdout",
     "output_type": "stream",
     "text": [
      "Downloading URL https://mast.stsci.edu/api/v0.1/Download/file?uri=mast:HLSP/tess-spoc/s0032/target/0000/0002/3505/8563/hlsp_tess-spoc_tess_phot_0000000235058563-s0032_tess_v1_lc.fits to ./mastDownload/HLSP/hlsp_tess-spoc_tess_phot_0000000235058563-s0032_tess_v1_tp/hlsp_tess-spoc_tess_phot_0000000235058563-s0032_tess_v1_lc.fits ... [Done]\n"
     ]
    },
    {
     "name": "stderr",
     "output_type": "stream",
     "text": [
      "WARNING: UnitsWarning: 'BJD - 2457000, days' did not parse as fits unit: At col 0, Unit 'BJD' not supported by the FITS standard.  If this is meant to be a custom unit, define it with 'u.def_unit'. To have it recognized inside a file reader or other code, enable it with 'u.add_enabled_units'. For details, see https://docs.astropy.org/en/latest/units/combining_and_defining.html [astropy.units.core]\n",
      "WARNING: UnitsWarning: 'e-/s' did not parse as fits unit: At col 0, Unit 'e' not supported by the FITS standard.  If this is meant to be a custom unit, define it with 'u.def_unit'. To have it recognized inside a file reader or other code, enable it with 'u.add_enabled_units'. For details, see https://docs.astropy.org/en/latest/units/combining_and_defining.html [astropy.units.core]\n",
      "WARNING: UnitsWarning: 'pixels' did not parse as fits unit: At col 0, Unit 'pixels' not supported by the FITS standard. Did you mean pixel? If this is meant to be a custom unit, define it with 'u.def_unit'. To have it recognized inside a file reader or other code, enable it with 'u.add_enabled_units'. For details, see https://docs.astropy.org/en/latest/units/combining_and_defining.html [astropy.units.core]\n"
     ]
    },
    {
     "name": "stdout",
     "output_type": "stream",
     "text": [
      "Downloading URL https://mast.stsci.edu/api/v0.1/Download/file?uri=mast:HLSP/tess-spoc/s0033/target/0000/0002/3505/8563/hlsp_tess-spoc_tess_phot_0000000235058563-s0033_tess_v1_lc.fits to ./mastDownload/HLSP/hlsp_tess-spoc_tess_phot_0000000235058563-s0033_tess_v1_tp/hlsp_tess-spoc_tess_phot_0000000235058563-s0033_tess_v1_lc.fits ... [Done]\n"
     ]
    },
    {
     "name": "stderr",
     "output_type": "stream",
     "text": [
      "WARNING: UnitsWarning: 'BJD - 2457000, days' did not parse as fits unit: At col 0, Unit 'BJD' not supported by the FITS standard.  If this is meant to be a custom unit, define it with 'u.def_unit'. To have it recognized inside a file reader or other code, enable it with 'u.add_enabled_units'. For details, see https://docs.astropy.org/en/latest/units/combining_and_defining.html [astropy.units.core]\n",
      "WARNING: UnitsWarning: 'e-/s' did not parse as fits unit: At col 0, Unit 'e' not supported by the FITS standard.  If this is meant to be a custom unit, define it with 'u.def_unit'. To have it recognized inside a file reader or other code, enable it with 'u.add_enabled_units'. For details, see https://docs.astropy.org/en/latest/units/combining_and_defining.html [astropy.units.core]\n",
      "WARNING: UnitsWarning: 'pixels' did not parse as fits unit: At col 0, Unit 'pixels' not supported by the FITS standard. Did you mean pixel? If this is meant to be a custom unit, define it with 'u.def_unit'. To have it recognized inside a file reader or other code, enable it with 'u.add_enabled_units'. For details, see https://docs.astropy.org/en/latest/units/combining_and_defining.html [astropy.units.core]\n"
     ]
    },
    {
     "name": "stdout",
     "output_type": "stream",
     "text": [
      "Downloading URL https://mast.stsci.edu/api/v0.1/Download/file?uri=mast:TESS/product/tess2024353092137-s0087-0000000235058563-0284-s_lc.fits to ./mastDownload/TESS/tess2024353092137-s0087-0000000235058563-0284-s/tess2024353092137-s0087-0000000235058563-0284-s_lc.fits ... [Done]\n",
      "\n",
      "✅ Download summary:\n",
      "Sector ...\n",
      "------ ...\n",
      "     4 ...\n",
      "     5 ...\n",
      "     6 ...\n",
      "     7 ...\n",
      "    31 ...\n",
      "    32 ...\n",
      "    33 ...\n",
      "    87 ...\n",
      "\n",
      "Temporary data stored in: /var/folders/fs/c4gpqhmx5tbcbsv_cbs0yhn80000gn/T/tmpm8t1nns1\n",
      "This directory will be deleted when the program exits.\n",
      "W :  143\n",
      "W :  143\n"
     ]
    },
    {
     "name": "stderr",
     "output_type": "stream",
     "text": [
      "WARNING: UnitsWarning: 'BJD - 2457000, days' did not parse as fits unit: At col 0, Unit 'BJD' not supported by the FITS standard.  If this is meant to be a custom unit, define it with 'u.def_unit'. To have it recognized inside a file reader or other code, enable it with 'u.add_enabled_units'. For details, see https://docs.astropy.org/en/latest/units/combining_and_defining.html [astropy.units.core]\n",
      "WARNING: UnitsWarning: 'e-/s' did not parse as fits unit: At col 0, Unit 'e' not supported by the FITS standard.  If this is meant to be a custom unit, define it with 'u.def_unit'. To have it recognized inside a file reader or other code, enable it with 'u.add_enabled_units'. For details, see https://docs.astropy.org/en/latest/units/combining_and_defining.html [astropy.units.core]\n",
      "WARNING: UnitsWarning: 'pixels' did not parse as fits unit: At col 0, Unit 'pixels' not supported by the FITS standard. Did you mean pixel? If this is meant to be a custom unit, define it with 'u.def_unit'. To have it recognized inside a file reader or other code, enable it with 'u.add_enabled_units'. For details, see https://docs.astropy.org/en/latest/units/combining_and_defining.html [astropy.units.core]\n"
     ]
    },
    {
     "name": "stdout",
     "output_type": "stream",
     "text": [
      "W :  143\n",
      "W :  143\n",
      "W :  144\n",
      "W :  144\n",
      "W :  144\n",
      "W :  144\n",
      "W :  144\n",
      "W :  144\n",
      "W :  144\n",
      "W :  144\n",
      "W :  144\n",
      "W :  144\n",
      "W :  144\n",
      "W :  144\n",
      "W :  144\n",
      "W :  144\n",
      "Initial Chi-Sqaured : 257.80 [red 2.30]\n",
      "Fitted parameters for TIC-235058563:\n",
      "t_zero : 2458416.6110715345\n",
      "radius_1 : 0.0474566504850904\n",
      "k : 0.075505609282606\n",
      "b : 0.5413611568054706\n",
      "Final Chi-Sqaured : 96.58 [red 0.86]\n",
      "Initial Chi-Sqaured : 1117.91 [red 13.47]\n",
      "Fitted parameters for TIC-235058563:\n",
      "t_zero : 2459216.447244615\n",
      "radius_1 : 0.06767686906605665\n",
      "k : 0.08182929302431853\n",
      "b : 0.8556262929702311\n",
      "Final Chi-Sqaured : 609.22 [red 7.34]\n",
      "1 54 1 53.32241153869157 799.8361730803736 15 15.091248548686293\n",
      "0 0.0\n",
      "1 0.0\n",
      "2 0.0\n",
      "3 0.0\n",
      "4 0.0\n",
      "5 0.0\n",
      "6 0.0\n",
      "7 0.0\n",
      "8 -17.3139734467567\n",
      "9 -15.278000014323979\n",
      "10 -261.6764704283168\n",
      "11 -26773.70834115273\n",
      "12 -15051.264847610093\n",
      "13 -3730.8849915468754\n",
      "14 -2268.588317691816\n",
      "15 -1816.485328884334\n",
      "16 -2991.9593514806743\n",
      "17 -302.32737217871613\n",
      "18 -1478.5724331312842\n",
      "19 -2235.9643056922655\n",
      "20 -2261.203528807542\n",
      "21 -1408.2196965140533\n",
      "22 -9967.187957269247\n",
      "23 -28553.163900628442\n",
      "24 -3015.2519013651263\n",
      "25 -17371.459570513143\n",
      "26 -566.4415190356948\n",
      "27 -7844.301242277485\n",
      "28 -6849.497253559837\n",
      "29 -4811.926411691782\n",
      "30 -8821.451132224725\n",
      "31 -5168.205221600132\n",
      "32 -2983.6986475118224\n",
      "33 -12320.67130823501\n",
      "34 -3336.2243964435643\n",
      "35 -28296.48895719719\n",
      "36 -40380.828162560414\n",
      "37 -8186.47519039444\n",
      "38 -17626.524070230076\n",
      "39 -4247.240992198785\n",
      "40 -4687.396291838779\n",
      "41 -11266.826245315897\n",
      "42 -5043.362416816596\n",
      "43 -3681.8690355025014\n",
      "44 -6778.405260461879\n",
      "45 -14167.59945576838\n",
      "46 -10219.11015549661\n",
      "47 -31927.91402062187\n",
      "48 -11988.286157188773\n",
      "49 -4454.63375658185\n",
      "50 -11226.401160815512\n",
      "51 -17911.327509888786\n",
      "52 -2168.7456982851872\n"
     ]
    },
    {
     "name": "stderr",
     "output_type": "stream",
     "text": [
      "100%|███████████████████████████████████████████| 53/53 [00:12<00:00,  4.16it/s]\n"
     ]
    },
    {
     "name": "stdout",
     "output_type": "stream",
     "text": [
      "\n",
      "📂 Download directory: /var/folders/fs/c4gpqhmx5tbcbsv_cbs0yhn80000gn/T/tmprnyqetq1\n",
      "\n",
      "Querying TIC 242241304 from MAST...\n",
      "Downloading URL https://mast.stsci.edu/api/v0.1/Download/file?uri=mast:HLSP/tess-spoc/s0011/target/0000/0002/4224/1304/hlsp_tess-spoc_tess_phot_0000000242241304-s0011_tess_v1_lc.fits to ./mastDownload/HLSP/hlsp_tess-spoc_tess_phot_0000000242241304-s0011_tess_v1_tp/hlsp_tess-spoc_tess_phot_0000000242241304-s0011_tess_v1_lc.fits ... [Done]\n"
     ]
    },
    {
     "name": "stderr",
     "output_type": "stream",
     "text": [
      "WARNING: UnitsWarning: 'BJD - 2457000, days' did not parse as fits unit: At col 0, Unit 'BJD' not supported by the FITS standard.  If this is meant to be a custom unit, define it with 'u.def_unit'. To have it recognized inside a file reader or other code, enable it with 'u.add_enabled_units'. For details, see https://docs.astropy.org/en/latest/units/combining_and_defining.html [astropy.units.core]\n",
      "WARNING: UnitsWarning: 'e-/s' did not parse as fits unit: At col 0, Unit 'e' not supported by the FITS standard.  If this is meant to be a custom unit, define it with 'u.def_unit'. To have it recognized inside a file reader or other code, enable it with 'u.add_enabled_units'. For details, see https://docs.astropy.org/en/latest/units/combining_and_defining.html [astropy.units.core]\n",
      "WARNING: UnitsWarning: 'pixels' did not parse as fits unit: At col 0, Unit 'pixels' not supported by the FITS standard. Did you mean pixel? If this is meant to be a custom unit, define it with 'u.def_unit'. To have it recognized inside a file reader or other code, enable it with 'u.add_enabled_units'. For details, see https://docs.astropy.org/en/latest/units/combining_and_defining.html [astropy.units.core]\n"
     ]
    },
    {
     "name": "stdout",
     "output_type": "stream",
     "text": [
      "Downloading URL https://mast.stsci.edu/api/v0.1/Download/file?uri=mast:TESS/product/tess2021118034608-s0038-0000000242241304-0209-s_lc.fits to ./mastDownload/TESS/tess2021118034608-s0038-0000000242241304-0209-s/tess2021118034608-s0038-0000000242241304-0209-s_lc.fits ... [Done]\n"
     ]
    },
    {
     "name": "stderr",
     "output_type": "stream",
     "text": [
      "WARNING: UnitsWarning: 'BJD - 2457000, days' did not parse as fits unit: At col 0, Unit 'BJD' not supported by the FITS standard.  If this is meant to be a custom unit, define it with 'u.def_unit'. To have it recognized inside a file reader or other code, enable it with 'u.add_enabled_units'. For details, see https://docs.astropy.org/en/latest/units/combining_and_defining.html [astropy.units.core]\n",
      "WARNING: UnitsWarning: 'e-/s' did not parse as fits unit: At col 0, Unit 'e' not supported by the FITS standard.  If this is meant to be a custom unit, define it with 'u.def_unit'. To have it recognized inside a file reader or other code, enable it with 'u.add_enabled_units'. For details, see https://docs.astropy.org/en/latest/units/combining_and_defining.html [astropy.units.core]\n",
      "WARNING: UnitsWarning: 'pixels' did not parse as fits unit: At col 0, Unit 'pixels' not supported by the FITS standard. Did you mean pixel? If this is meant to be a custom unit, define it with 'u.def_unit'. To have it recognized inside a file reader or other code, enable it with 'u.add_enabled_units'. For details, see https://docs.astropy.org/en/latest/units/combining_and_defining.html [astropy.units.core]\n"
     ]
    },
    {
     "name": "stdout",
     "output_type": "stream",
     "text": [
      "Downloading URL https://mast.stsci.edu/api/v0.1/Download/file?uri=mast:TESS/product/tess2023124020739-s0065-0000000242241304-0259-s_lc.fits to ./mastDownload/TESS/tess2023124020739-s0065-0000000242241304-0259-s/tess2023124020739-s0065-0000000242241304-0259-s_lc.fits ... [Done]\n",
      "\n",
      "✅ Download summary:\n",
      "Sector ...\n",
      "------ ...\n",
      "    11 ...\n",
      "    38 ...\n",
      "    65 ...\n",
      "\n",
      "Temporary data stored in: /var/folders/fs/c4gpqhmx5tbcbsv_cbs0yhn80000gn/T/tmprnyqetq1\n",
      "This directory will be deleted when the program exits.\n",
      "W :  143\n",
      "W :  144\n"
     ]
    },
    {
     "name": "stderr",
     "output_type": "stream",
     "text": [
      "WARNING: UnitsWarning: 'BJD - 2457000, days' did not parse as fits unit: At col 0, Unit 'BJD' not supported by the FITS standard.  If this is meant to be a custom unit, define it with 'u.def_unit'. To have it recognized inside a file reader or other code, enable it with 'u.add_enabled_units'. For details, see https://docs.astropy.org/en/latest/units/combining_and_defining.html [astropy.units.core]\n",
      "WARNING: UnitsWarning: 'e-/s' did not parse as fits unit: At col 0, Unit 'e' not supported by the FITS standard.  If this is meant to be a custom unit, define it with 'u.def_unit'. To have it recognized inside a file reader or other code, enable it with 'u.add_enabled_units'. For details, see https://docs.astropy.org/en/latest/units/combining_and_defining.html [astropy.units.core]\n",
      "WARNING: UnitsWarning: 'pixels' did not parse as fits unit: At col 0, Unit 'pixels' not supported by the FITS standard. Did you mean pixel? If this is meant to be a custom unit, define it with 'u.def_unit'. To have it recognized inside a file reader or other code, enable it with 'u.add_enabled_units'. For details, see https://docs.astropy.org/en/latest/units/combining_and_defining.html [astropy.units.core]\n"
     ]
    },
    {
     "name": "stdout",
     "output_type": "stream",
     "text": [
      "W :  144\n",
      "W :  144\n",
      "W :  144\n",
      "W :  66\n",
      "W :  79\n",
      "W :  144\n",
      "W :  78\n",
      "Initial Chi-Sqaured : 57.69 [red 1.80]\n",
      "Fitted parameters for TIC-242241304:\n",
      "t_zero : 2458623.070360289\n",
      "radius_1 : 0.03327756630134293\n",
      "k : 0.07967461483378484\n",
      "b : 0.9191898113573149\n",
      "Final Chi-Sqaured : 26.30 [red 0.82]\n",
      "Initial Chi-Sqaured : 83.14 [red 2.13]\n",
      "Fitted parameters for TIC-242241304:\n",
      "t_zero : 2459345.3700900017\n",
      "radius_1 : 0.039741132995556344\n",
      "k : 0.08942804184189837\n",
      "b : 0.9394021108075907\n",
      "Final Chi-Sqaured : 57.15 [red 1.47]\n",
      "1 49 1 48.15331531418487 722.2997297127731 15 15.047911035682773\n",
      "0 0.0\n",
      "1 0.0\n",
      "2 0.0\n",
      "3 0.0\n",
      "4 0.0\n",
      "5 0.0\n",
      "6 0.0\n",
      "7 0.0\n",
      "8 0.0\n",
      "9 0.0\n",
      "10 0.0\n",
      "11 0.0\n",
      "12 0.0\n",
      "13 0.0\n",
      "14 0.0\n",
      "15 0.0\n",
      "16 0.0\n",
      "17 0.0\n",
      "18 0.0\n",
      "19 0.0\n",
      "20 0.0\n",
      "21 0.0\n",
      "22 0.0\n",
      "23 0.0\n",
      "24 0.0\n",
      "25 0.0\n",
      "26 0.0\n",
      "27 0.0\n",
      "28 0.0\n",
      "29 0.0\n",
      "30 0.0\n",
      "31 0.0\n",
      "32 -75.27602725295488\n",
      "33 -117.57264224007129\n",
      "34 -109.70045294427453\n",
      "35 -88.60502059037078\n",
      "36 -65.99877083162828\n",
      "37 -122.72031486305193\n",
      "38 -102.00078907733646\n",
      "39 -101.67600027617816\n",
      "40 -90.12085478378266\n",
      "41 -107.77469421725108\n",
      "42 -114.09926794872655\n",
      "43 -91.6983606812277\n",
      "44 -99.56250888957508\n",
      "45 -110.7030752178539\n",
      "46 -118.62737054764345\n",
      "47 -211.76766557415996\n"
     ]
    },
    {
     "name": "stderr",
     "output_type": "stream",
     "text": [
      "100%|███████████████████████████████████████████| 48/48 [00:03<00:00, 13.31it/s]\n"
     ]
    },
    {
     "name": "stdout",
     "output_type": "stream",
     "text": [
      "No transists visible\n",
      "\n",
      "📂 Download directory: /var/folders/fs/c4gpqhmx5tbcbsv_cbs0yhn80000gn/T/tmpf6ncta0u\n",
      "\n",
      "Querying TIC 251057075 from MAST...\n",
      "Downloading URL https://mast.stsci.edu/api/v0.1/Download/file?uri=mast:HLSP/tess-spoc/s0004/target/0000/0002/5105/7075/hlsp_tess-spoc_tess_phot_0000000251057075-s0004_tess_v1_lc.fits to ./mastDownload/HLSP/hlsp_tess-spoc_tess_phot_0000000251057075-s0004_tess_v1_tp/hlsp_tess-spoc_tess_phot_0000000251057075-s0004_tess_v1_lc.fits ... [Done]\n"
     ]
    },
    {
     "name": "stderr",
     "output_type": "stream",
     "text": [
      "WARNING: UnitsWarning: 'BJD - 2457000, days' did not parse as fits unit: At col 0, Unit 'BJD' not supported by the FITS standard.  If this is meant to be a custom unit, define it with 'u.def_unit'. To have it recognized inside a file reader or other code, enable it with 'u.add_enabled_units'. For details, see https://docs.astropy.org/en/latest/units/combining_and_defining.html [astropy.units.core]\n",
      "WARNING: UnitsWarning: 'e-/s' did not parse as fits unit: At col 0, Unit 'e' not supported by the FITS standard.  If this is meant to be a custom unit, define it with 'u.def_unit'. To have it recognized inside a file reader or other code, enable it with 'u.add_enabled_units'. For details, see https://docs.astropy.org/en/latest/units/combining_and_defining.html [astropy.units.core]\n",
      "WARNING: UnitsWarning: 'pixels' did not parse as fits unit: At col 0, Unit 'pixels' not supported by the FITS standard. Did you mean pixel? If this is meant to be a custom unit, define it with 'u.def_unit'. To have it recognized inside a file reader or other code, enable it with 'u.add_enabled_units'. For details, see https://docs.astropy.org/en/latest/units/combining_and_defining.html [astropy.units.core]\n"
     ]
    },
    {
     "name": "stdout",
     "output_type": "stream",
     "text": [
      "Downloading URL https://mast.stsci.edu/api/v0.1/Download/file?uri=mast:HLSP/tess-spoc/s0031/target/0000/0002/5105/7075/hlsp_tess-spoc_tess_phot_0000000251057075-s0031_tess_v1_lc.fits to ./mastDownload/HLSP/hlsp_tess-spoc_tess_phot_0000000251057075-s0031_tess_v1_tp/hlsp_tess-spoc_tess_phot_0000000251057075-s0031_tess_v1_lc.fits ... [Done]\n",
      "\n",
      "✅ Download summary:\n",
      "Sector ...\n",
      "------ ...\n",
      "     4 ...\n",
      "    31 ...\n",
      "\n",
      "Temporary data stored in: /var/folders/fs/c4gpqhmx5tbcbsv_cbs0yhn80000gn/T/tmpf6ncta0u\n",
      "This directory will be deleted when the program exits.\n",
      "W :  143\n",
      "W :  144\n"
     ]
    },
    {
     "name": "stderr",
     "output_type": "stream",
     "text": [
      "WARNING: UnitsWarning: 'BJD - 2457000, days' did not parse as fits unit: At col 0, Unit 'BJD' not supported by the FITS standard.  If this is meant to be a custom unit, define it with 'u.def_unit'. To have it recognized inside a file reader or other code, enable it with 'u.add_enabled_units'. For details, see https://docs.astropy.org/en/latest/units/combining_and_defining.html [astropy.units.core]\n",
      "WARNING: UnitsWarning: 'e-/s' did not parse as fits unit: At col 0, Unit 'e' not supported by the FITS standard.  If this is meant to be a custom unit, define it with 'u.def_unit'. To have it recognized inside a file reader or other code, enable it with 'u.add_enabled_units'. For details, see https://docs.astropy.org/en/latest/units/combining_and_defining.html [astropy.units.core]\n",
      "WARNING: UnitsWarning: 'pixels' did not parse as fits unit: At col 0, Unit 'pixels' not supported by the FITS standard. Did you mean pixel? If this is meant to be a custom unit, define it with 'u.def_unit'. To have it recognized inside a file reader or other code, enable it with 'u.add_enabled_units'. For details, see https://docs.astropy.org/en/latest/units/combining_and_defining.html [astropy.units.core]\n"
     ]
    },
    {
     "name": "stdout",
     "output_type": "stream",
     "text": [
      "W :  144\n",
      "W :  144\n",
      "Initial Chi-Sqaured : 112.36 [red 2.74]\n",
      "Fitted parameters for TIC-251057075:\n",
      "t_zero : 2458426.318091157\n",
      "radius_1 : 0.030749639028656905\n",
      "k : 0.041186047163380604\n",
      "b : 0.778034954303514\n",
      "Final Chi-Sqaured : 45.48 [red 1.11]\n",
      "Initial Chi-Sqaured : 198.53 [red 4.96]\n",
      "Fitted parameters for TIC-251057075:\n",
      "t_zero : 2459154.026512671\n",
      "radius_1 : 0.04159989694954237\n",
      "k : 0.04989258937002074\n",
      "b : 0.9072130212602514\n",
      "Final Chi-Sqaured : 132.80 [red 3.32]\n",
      "1 49 1 48.51389476759359 727.7084215139039 15 15.160592114872998\n",
      "0 0.0\n",
      "1 0.0\n",
      "2 0.0\n",
      "3 0.0\n",
      "4 0.0\n",
      "5 0.0\n",
      "6 0.0\n",
      "7 0.0\n",
      "8 0.0\n",
      "9 0.0\n",
      "10 0.0\n",
      "11 0.0\n",
      "12 0.0\n",
      "13 0.0\n",
      "14 0.0\n",
      "15 0.0\n",
      "16 0.0\n",
      "17 0.0\n",
      "18 0.0\n",
      "19 0.0\n",
      "20 0.0\n",
      "21 0.0\n",
      "22 0.0\n",
      "23 0.0\n",
      "24 0.0\n",
      "25 0.0\n",
      "26 0.0\n",
      "27 0.0\n",
      "28 0.0\n",
      "29 0.0\n",
      "30 0.0\n",
      "31 0.0\n",
      "32 0.0\n",
      "33 0.0\n",
      "34 0.0\n",
      "35 0.0\n",
      "36 0.0\n",
      "37 0.0\n",
      "38 0.0\n",
      "39 0.0\n",
      "40 0.0\n",
      "41 0.0\n",
      "42 0.0\n",
      "43 0.0\n",
      "44 0.0\n",
      "45 -161.12981297587385\n",
      "46 -91.13140435366367\n",
      "47 -127.41554141458217\n"
     ]
    },
    {
     "name": "stderr",
     "output_type": "stream",
     "text": [
      "100%|███████████████████████████████████████████| 48/48 [00:02<00:00, 18.04it/s]\n"
     ]
    },
    {
     "name": "stdout",
     "output_type": "stream",
     "text": [
      "\n",
      "📂 Download directory: /var/folders/fs/c4gpqhmx5tbcbsv_cbs0yhn80000gn/T/tmpl0lf8nod\n",
      "\n",
      "Querying TIC 268534931 from MAST...\n",
      "Downloading URL https://mast.stsci.edu/api/v0.1/Download/file?uri=mast:HLSP/tess-spoc/s0003/target/0000/0002/6853/4931/hlsp_tess-spoc_tess_phot_0000000268534931-s0003_tess_v1_lc.fits to ./mastDownload/HLSP/hlsp_tess-spoc_tess_phot_0000000268534931-s0003_tess_v1_tp/hlsp_tess-spoc_tess_phot_0000000268534931-s0003_tess_v1_lc.fits ... [Done]\n"
     ]
    },
    {
     "name": "stderr",
     "output_type": "stream",
     "text": [
      "WARNING: UnitsWarning: 'BJD - 2457000, days' did not parse as fits unit: At col 0, Unit 'BJD' not supported by the FITS standard.  If this is meant to be a custom unit, define it with 'u.def_unit'. To have it recognized inside a file reader or other code, enable it with 'u.add_enabled_units'. For details, see https://docs.astropy.org/en/latest/units/combining_and_defining.html [astropy.units.core]\n",
      "WARNING: UnitsWarning: 'e-/s' did not parse as fits unit: At col 0, Unit 'e' not supported by the FITS standard.  If this is meant to be a custom unit, define it with 'u.def_unit'. To have it recognized inside a file reader or other code, enable it with 'u.add_enabled_units'. For details, see https://docs.astropy.org/en/latest/units/combining_and_defining.html [astropy.units.core]\n",
      "WARNING: UnitsWarning: 'pixels' did not parse as fits unit: At col 0, Unit 'pixels' not supported by the FITS standard. Did you mean pixel? If this is meant to be a custom unit, define it with 'u.def_unit'. To have it recognized inside a file reader or other code, enable it with 'u.add_enabled_units'. For details, see https://docs.astropy.org/en/latest/units/combining_and_defining.html [astropy.units.core]\n"
     ]
    },
    {
     "name": "stdout",
     "output_type": "stream",
     "text": [
      "Downloading URL https://mast.stsci.edu/api/v0.1/Download/file?uri=mast:TESS/product/tess2020266004630-s0030-0000000268534931-0195-s_lc.fits to ./mastDownload/TESS/tess2020266004630-s0030-0000000268534931-0195-s/tess2020266004630-s0030-0000000268534931-0195-s_lc.fits ... [Done]\n",
      "\n",
      "✅ Download summary:\n",
      "Sector ...\n",
      "------ ...\n",
      "     3 ...\n",
      "    30 ...\n",
      "\n",
      "Temporary data stored in: /var/folders/fs/c4gpqhmx5tbcbsv_cbs0yhn80000gn/T/tmpl0lf8nod\n",
      "This directory will be deleted when the program exits.\n",
      "W :  144\n",
      "W :  144\n"
     ]
    },
    {
     "name": "stderr",
     "output_type": "stream",
     "text": [
      "WARNING: UnitsWarning: 'BJD - 2457000, days' did not parse as fits unit: At col 0, Unit 'BJD' not supported by the FITS standard.  If this is meant to be a custom unit, define it with 'u.def_unit'. To have it recognized inside a file reader or other code, enable it with 'u.add_enabled_units'. For details, see https://docs.astropy.org/en/latest/units/combining_and_defining.html [astropy.units.core]\n",
      "WARNING: UnitsWarning: 'e-/s' did not parse as fits unit: At col 0, Unit 'e' not supported by the FITS standard.  If this is meant to be a custom unit, define it with 'u.def_unit'. To have it recognized inside a file reader or other code, enable it with 'u.add_enabled_units'. For details, see https://docs.astropy.org/en/latest/units/combining_and_defining.html [astropy.units.core]\n",
      "WARNING: UnitsWarning: 'pixels' did not parse as fits unit: At col 0, Unit 'pixels' not supported by the FITS standard. Did you mean pixel? If this is meant to be a custom unit, define it with 'u.def_unit'. To have it recognized inside a file reader or other code, enable it with 'u.add_enabled_units'. For details, see https://docs.astropy.org/en/latest/units/combining_and_defining.html [astropy.units.core]\n"
     ]
    },
    {
     "name": "stdout",
     "output_type": "stream",
     "text": [
      "W :  144\n",
      "W :  144\n",
      "Initial Chi-Sqaured : 361.60 [red 3.89]\n",
      "Fitted parameters for TIC-268534931:\n",
      "t_zero : 2458398.2945315046\n",
      "radius_1 : 0.030321608113182144\n",
      "k : 0.0728955965626506\n",
      "b : 0.3019605387214593\n",
      "Final Chi-Sqaured : 90.53 [red 0.97]\n",
      "Initial Chi-Sqaured : 500.85 [red 4.91]\n",
      "Fitted parameters for TIC-268534931:\n",
      "t_zero : 2459139.097760604\n",
      "radius_1 : 0.03202870529974465\n",
      "k : 0.07115942450201543\n",
      "b : 0.37499357367144953\n",
      "Final Chi-Sqaured : 114.00 [red 1.12]\n",
      "1 50 1 49.386881939973684 740.8032290996052 15 15.118433246930719\n",
      "0 0.0\n",
      "1 0.0\n",
      "2 0.0\n",
      "3 0.0\n",
      "4 0.0\n",
      "5 0.0\n",
      "6 0.0\n",
      "7 0.0\n",
      "8 0.0\n",
      "9 0.0\n",
      "10 0.0\n",
      "11 0.0\n",
      "12 0.0\n",
      "13 0.0\n",
      "14 0.0\n",
      "15 0.0\n",
      "16 0.0\n",
      "17 0.0\n",
      "18 0.0\n",
      "19 0.0\n",
      "20 0.0\n",
      "21 0.0\n",
      "22 0.0\n",
      "23 0.0\n",
      "24 0.0\n",
      "25 0.0\n",
      "26 0.0\n",
      "27 0.0\n",
      "28 0.0\n",
      "29 0.0\n",
      "30 0.0\n",
      "31 -221.84906087957847\n",
      "32 -452.06026702822584\n",
      "33 -244.47157944591282\n",
      "34 -312.42660712405564\n",
      "35 -282.208746797023\n",
      "36 -294.0988579909789\n",
      "37 -361.95298355329015\n",
      "38 -290.69166232903405\n",
      "39 -296.6954858225647\n",
      "40 -258.52160583545026\n",
      "41 -296.58593500641996\n",
      "42 -342.7048324123955\n",
      "43 -307.40387248767246\n",
      "44 -192.0841941594301\n",
      "45 -312.74929565309026\n",
      "46 -300.31438982371367\n",
      "47 -327.39722530946136\n",
      "48 -320.79176307916543\n"
     ]
    },
    {
     "name": "stderr",
     "output_type": "stream",
     "text": [
      "100%|███████████████████████████████████████████| 49/49 [00:02<00:00, 18.37it/s]\n"
     ]
    },
    {
     "name": "stdout",
     "output_type": "stream",
     "text": [
      "\n",
      "📂 Download directory: /var/folders/fs/c4gpqhmx5tbcbsv_cbs0yhn80000gn/T/tmpte7fq0me\n",
      "\n",
      "Querying TIC 275878706 from MAST...\n",
      "Downloading URL https://mast.stsci.edu/api/v0.1/Download/file?uri=mast:HLSP/tess-spoc/s0011/target/0000/0002/7587/8706/hlsp_tess-spoc_tess_phot_0000000275878706-s0011_tess_v1_lc.fits to ./mastDownload/HLSP/hlsp_tess-spoc_tess_phot_0000000275878706-s0011_tess_v1_tp/hlsp_tess-spoc_tess_phot_0000000275878706-s0011_tess_v1_lc.fits ... [Done]\n"
     ]
    },
    {
     "name": "stderr",
     "output_type": "stream",
     "text": [
      "WARNING: UnitsWarning: 'BJD - 2457000, days' did not parse as fits unit: At col 0, Unit 'BJD' not supported by the FITS standard.  If this is meant to be a custom unit, define it with 'u.def_unit'. To have it recognized inside a file reader or other code, enable it with 'u.add_enabled_units'. For details, see https://docs.astropy.org/en/latest/units/combining_and_defining.html [astropy.units.core]\n",
      "WARNING: UnitsWarning: 'e-/s' did not parse as fits unit: At col 0, Unit 'e' not supported by the FITS standard.  If this is meant to be a custom unit, define it with 'u.def_unit'. To have it recognized inside a file reader or other code, enable it with 'u.add_enabled_units'. For details, see https://docs.astropy.org/en/latest/units/combining_and_defining.html [astropy.units.core]\n",
      "WARNING: UnitsWarning: 'pixels' did not parse as fits unit: At col 0, Unit 'pixels' not supported by the FITS standard. Did you mean pixel? If this is meant to be a custom unit, define it with 'u.def_unit'. To have it recognized inside a file reader or other code, enable it with 'u.add_enabled_units'. For details, see https://docs.astropy.org/en/latest/units/combining_and_defining.html [astropy.units.core]\n"
     ]
    },
    {
     "name": "stdout",
     "output_type": "stream",
     "text": [
      "Downloading URL https://mast.stsci.edu/api/v0.1/Download/file?uri=mast:HLSP/tess-spoc/s0038/target/0000/0002/7587/8706/hlsp_tess-spoc_tess_phot_0000000275878706-s0038_tess_v1_lc.fits to ./mastDownload/HLSP/hlsp_tess-spoc_tess_phot_0000000275878706-s0038_tess_v1_tp/hlsp_tess-spoc_tess_phot_0000000275878706-s0038_tess_v1_lc.fits ... [Done]\n"
     ]
    },
    {
     "name": "stderr",
     "output_type": "stream",
     "text": [
      "WARNING: UnitsWarning: 'BJD - 2457000, days' did not parse as fits unit: At col 0, Unit 'BJD' not supported by the FITS standard.  If this is meant to be a custom unit, define it with 'u.def_unit'. To have it recognized inside a file reader or other code, enable it with 'u.add_enabled_units'. For details, see https://docs.astropy.org/en/latest/units/combining_and_defining.html [astropy.units.core]\n",
      "WARNING: UnitsWarning: 'e-/s' did not parse as fits unit: At col 0, Unit 'e' not supported by the FITS standard.  If this is meant to be a custom unit, define it with 'u.def_unit'. To have it recognized inside a file reader or other code, enable it with 'u.add_enabled_units'. For details, see https://docs.astropy.org/en/latest/units/combining_and_defining.html [astropy.units.core]\n",
      "WARNING: UnitsWarning: 'pixels' did not parse as fits unit: At col 0, Unit 'pixels' not supported by the FITS standard. Did you mean pixel? If this is meant to be a custom unit, define it with 'u.def_unit'. To have it recognized inside a file reader or other code, enable it with 'u.add_enabled_units'. For details, see https://docs.astropy.org/en/latest/units/combining_and_defining.html [astropy.units.core]\n"
     ]
    },
    {
     "name": "stdout",
     "output_type": "stream",
     "text": [
      "Downloading URL https://mast.stsci.edu/api/v0.1/Download/file?uri=mast:HLSP/qlp/s0064/0000/0002/7587/8706/hlsp_qlp_tess_ffi_s0064-0000000275878706_tess_v01_llc.fits to ./mastDownload/HLSP/hlsp_qlp_tess_ffi_s0064-0000000275878706_tess_v01_llc/hlsp_qlp_tess_ffi_s0064-0000000275878706_tess_v01_llc.fits ... [Done]\n",
      "\n",
      "✅ Download summary:\n",
      "Sector ...\n",
      "------ ...\n",
      "    11 ...\n",
      "    38 ...\n",
      "    64 ...\n",
      "\n",
      "Temporary data stored in: /var/folders/fs/c4gpqhmx5tbcbsv_cbs0yhn80000gn/T/tmpte7fq0me\n",
      "This directory will be deleted when the program exits.\n",
      "W :  143\n",
      "W :  144\n"
     ]
    },
    {
     "name": "stderr",
     "output_type": "stream",
     "text": [
      "WARNING: UnitsWarning: 'BJD-2457000, days' did not parse as fits unit: At col 0, Unit 'BJD' not supported by the FITS standard.  If this is meant to be a custom unit, define it with 'u.def_unit'. To have it recognized inside a file reader or other code, enable it with 'u.add_enabled_units'. For details, see https://docs.astropy.org/en/latest/units/combining_and_defining.html [astropy.units.core]\n"
     ]
    },
    {
     "name": "stdout",
     "output_type": "stream",
     "text": [
      "W :  144\n",
      "W :  144\n",
      "W :  144\n",
      "W :  144\n",
      "W :  144\n",
      "W :  108\n",
      "Initial Chi-Sqaured : 53.11 [red 2.04]\n",
      "Fitted parameters for TIC-275878706:\n",
      "t_zero : 2458621.0806988846\n",
      "radius_1 : 0.03789121172753272\n",
      "k : 0.15711990306416918\n",
      "b : 1.0531989895662386\n",
      "Final Chi-Sqaured : 22.64 [red 0.87]\n",
      "Initial Chi-Sqaured : 453.75 [red 11.07]\n",
      "Fitted parameters for TIC-275878706:\n",
      "t_zero : 2459341.788451372\n",
      "radius_1 : 0.02227402706157014\n",
      "k : 0.07298109626783089\n",
      "b : 0.8113343203310642\n",
      "Final Chi-Sqaured : 290.59 [red 7.09]\n",
      "1 49 1 48.047183499174814 720.7077524876222 15 15.01474484349213\n",
      "0 0.23293110330198674\n",
      "1 0.23293110330725741\n",
      "2 0.23293110330344735\n",
      "3 0.2329311033056698\n",
      "4 0.23293110330694033\n",
      "5 0.23293110330236777\n",
      "6 0.23293110330382838\n",
      "7 0.232931103300843\n",
      "8 0.2329311033057968\n",
      "9 0.23293110330300282\n",
      "10 0.23293110330097022\n",
      "11 0.23293110329912858\n",
      "12 0.2329311033026218\n",
      "13 0.23293110330109723\n",
      "14 0.23293110329950983\n",
      "15 0.23293110330236777\n",
      "16 0.23293110329539823\n",
      "17 0.23293110330725741\n",
      "18 0.23293110329380862\n",
      "19 0.2329311033045265\n",
      "20 0.23293110329857125\n",
      "21 0.23293110330211375\n",
      "22 0.2329311032971082\n",
      "23 0.23293110330033517\n",
      "24 0.23293110329558342\n",
      "25 0.23293110330370137\n",
      "26 0.23293110329932953\n",
      "27 0.23293110330204958\n",
      "28 0.23293110329780498\n",
      "29 0.23293110330039912\n",
      "30 0.23293110329672428\n",
      "31 0.23293110330732159\n",
      "32 0.2329311033037098\n",
      "33 -51.53014506337085\n",
      "34 -33.91905791177213\n",
      "35 -62.47865683910065\n",
      "36 -70.81330619377195\n",
      "37 -19.899382971047363\n",
      "38 -6483.592508264359\n",
      "39 -556.9615644110521\n",
      "40 -218.98552108333809\n",
      "41 -193.28311169092888\n",
      "42 -246.4950662485249\n",
      "43 -947.2163797435308\n",
      "44 -271.37372485226626\n",
      "45 -300.9504403166337\n",
      "46 -245.7704836949333\n",
      "47 -295.7881979682488\n"
     ]
    },
    {
     "name": "stderr",
     "output_type": "stream",
     "text": [
      "100%|███████████████████████████████████████████| 48/48 [00:04<00:00, 10.83it/s]\n"
     ]
    },
    {
     "name": "stdout",
     "output_type": "stream",
     "text": [
      "No transists visible\n",
      "\n",
      "📂 Download directory: /var/folders/fs/c4gpqhmx5tbcbsv_cbs0yhn80000gn/T/tmph2z25044\n",
      "\n",
      "Querying TIC 287204963 from MAST...\n",
      "Downloading URL https://mast.stsci.edu/api/v0.1/Download/file?uri=mast:HLSP/tess-spoc/s0003/target/0000/0002/8720/4963/hlsp_tess-spoc_tess_phot_0000000287204963-s0003_tess_v1_lc.fits to ./mastDownload/HLSP/hlsp_tess-spoc_tess_phot_0000000287204963-s0003_tess_v1_tp/hlsp_tess-spoc_tess_phot_0000000287204963-s0003_tess_v1_lc.fits ... [Done]\n"
     ]
    },
    {
     "name": "stderr",
     "output_type": "stream",
     "text": [
      "WARNING: UnitsWarning: 'BJD - 2457000, days' did not parse as fits unit: At col 0, Unit 'BJD' not supported by the FITS standard.  If this is meant to be a custom unit, define it with 'u.def_unit'. To have it recognized inside a file reader or other code, enable it with 'u.add_enabled_units'. For details, see https://docs.astropy.org/en/latest/units/combining_and_defining.html [astropy.units.core]\n",
      "WARNING: UnitsWarning: 'e-/s' did not parse as fits unit: At col 0, Unit 'e' not supported by the FITS standard.  If this is meant to be a custom unit, define it with 'u.def_unit'. To have it recognized inside a file reader or other code, enable it with 'u.add_enabled_units'. For details, see https://docs.astropy.org/en/latest/units/combining_and_defining.html [astropy.units.core]\n",
      "WARNING: UnitsWarning: 'pixels' did not parse as fits unit: At col 0, Unit 'pixels' not supported by the FITS standard. Did you mean pixel? If this is meant to be a custom unit, define it with 'u.def_unit'. To have it recognized inside a file reader or other code, enable it with 'u.add_enabled_units'. For details, see https://docs.astropy.org/en/latest/units/combining_and_defining.html [astropy.units.core]\n"
     ]
    },
    {
     "name": "stdout",
     "output_type": "stream",
     "text": [
      "Downloading URL https://mast.stsci.edu/api/v0.1/Download/file?uri=mast:HLSP/tess-spoc/s0030/target/0000/0002/8720/4963/hlsp_tess-spoc_tess_phot_0000000287204963-s0030_tess_v1_lc.fits to ./mastDownload/HLSP/hlsp_tess-spoc_tess_phot_0000000287204963-s0030_tess_v1_tp/hlsp_tess-spoc_tess_phot_0000000287204963-s0030_tess_v1_lc.fits ... [Done]\n"
     ]
    },
    {
     "name": "stderr",
     "output_type": "stream",
     "text": [
      "WARNING: UnitsWarning: 'BJD - 2457000, days' did not parse as fits unit: At col 0, Unit 'BJD' not supported by the FITS standard.  If this is meant to be a custom unit, define it with 'u.def_unit'. To have it recognized inside a file reader or other code, enable it with 'u.add_enabled_units'. For details, see https://docs.astropy.org/en/latest/units/combining_and_defining.html [astropy.units.core]\n",
      "WARNING: UnitsWarning: 'e-/s' did not parse as fits unit: At col 0, Unit 'e' not supported by the FITS standard.  If this is meant to be a custom unit, define it with 'u.def_unit'. To have it recognized inside a file reader or other code, enable it with 'u.add_enabled_units'. For details, see https://docs.astropy.org/en/latest/units/combining_and_defining.html [astropy.units.core]\n",
      "WARNING: UnitsWarning: 'pixels' did not parse as fits unit: At col 0, Unit 'pixels' not supported by the FITS standard. Did you mean pixel? If this is meant to be a custom unit, define it with 'u.def_unit'. To have it recognized inside a file reader or other code, enable it with 'u.add_enabled_units'. For details, see https://docs.astropy.org/en/latest/units/combining_and_defining.html [astropy.units.core]\n"
     ]
    },
    {
     "name": "stdout",
     "output_type": "stream",
     "text": [
      "\n",
      "✅ Download summary:\n",
      "Sector ...\n",
      "------ ...\n",
      "     3 ...\n",
      "    30 ...\n",
      "    97 ...\n",
      "\n",
      "Temporary data stored in: /var/folders/fs/c4gpqhmx5tbcbsv_cbs0yhn80000gn/T/tmph2z25044\n",
      "This directory will be deleted when the program exits.\n",
      "W :  143\n",
      "W :  143\n",
      "W :  144\n",
      "W :  144\n",
      "W :  32\n",
      "W :  144\n",
      "W :  144\n",
      "W :  35\n",
      "W :  144\n",
      "W :  144\n",
      "Initial Chi-Sqaured : 132.78 [red 2.83]\n",
      "Fitted parameters for TIC-287204963:\n",
      "t_zero : 2458402.93697209\n",
      "radius_1 : 0.016626128588943717\n",
      "k : 0.10393454204744097\n",
      "b : 0.006246033701879039\n",
      "Final Chi-Sqaured : 42.98 [red 0.91]\n",
      "Initial Chi-Sqaured : 246.19 [red 4.40]\n",
      "Fitted parameters for TIC-287204963:\n",
      "t_zero : 2459132.336837949\n",
      "radius_1 : 0.02956257370288015\n",
      "k : 0.10001134345328307\n",
      "b : 0.8296909093336708\n",
      "Final Chi-Sqaured : 150.65 [red 2.69]\n",
      "1 49 1 48.626657723945875 729.3998658591881 15 15.195830538733086\n",
      "0 0.0\n",
      "1 0.0\n",
      "2 0.0\n",
      "3 0.0\n",
      "4 0.0\n",
      "5 0.0\n",
      "6 0.0\n",
      "7 0.0\n",
      "8 0.0\n",
      "9 0.0\n",
      "10 0.0\n",
      "11 0.0\n",
      "12 0.0\n",
      "13 0.0\n",
      "14 0.0\n",
      "15 0.0\n",
      "16 0.0\n",
      "17 0.0\n",
      "18 0.0\n",
      "19 0.0\n",
      "20 0.0\n",
      "21 0.0\n",
      "22 0.0\n",
      "23 0.0\n",
      "24 0.0\n",
      "25 0.0\n",
      "26 0.0\n",
      "27 0.0\n",
      "28 0.0\n",
      "29 0.0\n",
      "30 0.0\n",
      "31 0.0\n",
      "32 0.0\n",
      "33 0.0\n",
      "34 0.0\n",
      "35 0.0\n",
      "36 0.0\n",
      "37 0.0\n",
      "38 0.0\n",
      "39 0.0\n",
      "40 0.0\n",
      "41 0.0\n",
      "42 -60.23119865166703\n",
      "43 -107.95801290107332\n",
      "44 -1202.1635463235878\n",
      "45 -787.3548202933516\n",
      "46 -383.855312078084\n",
      "47 -599.6159937099065\n"
     ]
    },
    {
     "name": "stderr",
     "output_type": "stream",
     "text": [
      "100%|███████████████████████████████████████████| 48/48 [00:04<00:00, 11.41it/s]\n"
     ]
    },
    {
     "name": "stdout",
     "output_type": "stream",
     "text": [
      "\n",
      "📂 Download directory: /var/folders/fs/c4gpqhmx5tbcbsv_cbs0yhn80000gn/T/tmp7kbh_nv2\n",
      "\n",
      "Querying TIC 290165539 from MAST...\n",
      "Downloading URL https://mast.stsci.edu/api/v0.1/Download/file?uri=mast:HLSP/tess-spoc/s0001/target/0000/0002/9016/5539/hlsp_tess-spoc_tess_phot_0000000290165539-s0001_tess_v1_lc.fits to ./mastDownload/HLSP/hlsp_tess-spoc_tess_phot_0000000290165539-s0001_tess_v1_tp/hlsp_tess-spoc_tess_phot_0000000290165539-s0001_tess_v1_lc.fits ... [Done]\n"
     ]
    },
    {
     "name": "stderr",
     "output_type": "stream",
     "text": [
      "WARNING: UnitsWarning: 'BJD - 2457000, days' did not parse as fits unit: At col 0, Unit 'BJD' not supported by the FITS standard.  If this is meant to be a custom unit, define it with 'u.def_unit'. To have it recognized inside a file reader or other code, enable it with 'u.add_enabled_units'. For details, see https://docs.astropy.org/en/latest/units/combining_and_defining.html [astropy.units.core]\n",
      "WARNING: UnitsWarning: 'e-/s' did not parse as fits unit: At col 0, Unit 'e' not supported by the FITS standard.  If this is meant to be a custom unit, define it with 'u.def_unit'. To have it recognized inside a file reader or other code, enable it with 'u.add_enabled_units'. For details, see https://docs.astropy.org/en/latest/units/combining_and_defining.html [astropy.units.core]\n",
      "WARNING: UnitsWarning: 'pixels' did not parse as fits unit: At col 0, Unit 'pixels' not supported by the FITS standard. Did you mean pixel? If this is meant to be a custom unit, define it with 'u.def_unit'. To have it recognized inside a file reader or other code, enable it with 'u.add_enabled_units'. For details, see https://docs.astropy.org/en/latest/units/combining_and_defining.html [astropy.units.core]\n"
     ]
    },
    {
     "name": "stdout",
     "output_type": "stream",
     "text": [
      "Downloading URL https://mast.stsci.edu/api/v0.1/Download/file?uri=mast:TESS/product/tess2020212050318-s0028-0000000290165539-0190-s_lc.fits to ./mastDownload/TESS/tess2020212050318-s0028-0000000290165539-0190-s/tess2020212050318-s0028-0000000290165539-0190-s_lc.fits ... [Done]\n"
     ]
    },
    {
     "name": "stderr",
     "output_type": "stream",
     "text": [
      "WARNING: UnitsWarning: 'BJD - 2457000, days' did not parse as fits unit: At col 0, Unit 'BJD' not supported by the FITS standard.  If this is meant to be a custom unit, define it with 'u.def_unit'. To have it recognized inside a file reader or other code, enable it with 'u.add_enabled_units'. For details, see https://docs.astropy.org/en/latest/units/combining_and_defining.html [astropy.units.core]\n",
      "WARNING: UnitsWarning: 'e-/s' did not parse as fits unit: At col 0, Unit 'e' not supported by the FITS standard.  If this is meant to be a custom unit, define it with 'u.def_unit'. To have it recognized inside a file reader or other code, enable it with 'u.add_enabled_units'. For details, see https://docs.astropy.org/en/latest/units/combining_and_defining.html [astropy.units.core]\n",
      "WARNING: UnitsWarning: 'pixels' did not parse as fits unit: At col 0, Unit 'pixels' not supported by the FITS standard. Did you mean pixel? If this is meant to be a custom unit, define it with 'u.def_unit'. To have it recognized inside a file reader or other code, enable it with 'u.add_enabled_units'. For details, see https://docs.astropy.org/en/latest/units/combining_and_defining.html [astropy.units.core]\n"
     ]
    },
    {
     "name": "stdout",
     "output_type": "stream",
     "text": [
      "Downloading URL https://mast.stsci.edu/api/v0.1/Download/file?uri=mast:HLSP/tess-spoc/s0068/target/0000/0002/9016/5539/hlsp_tess-spoc_tess_phot_0000000290165539-s0068_tess_v1_lc.fits to ./mastDownload/HLSP/hlsp_tess-spoc_tess_phot_0000000290165539-s0068_tess_v1_tp/hlsp_tess-spoc_tess_phot_0000000290165539-s0068_tess_v1_lc.fits ... [Done]\n"
     ]
    },
    {
     "name": "stderr",
     "output_type": "stream",
     "text": [
      "WARNING: UnitsWarning: 'BJD - 2457000, days' did not parse as fits unit: At col 0, Unit 'BJD' not supported by the FITS standard.  If this is meant to be a custom unit, define it with 'u.def_unit'. To have it recognized inside a file reader or other code, enable it with 'u.add_enabled_units'. For details, see https://docs.astropy.org/en/latest/units/combining_and_defining.html [astropy.units.core]\n",
      "WARNING: UnitsWarning: 'e-/s' did not parse as fits unit: At col 0, Unit 'e' not supported by the FITS standard.  If this is meant to be a custom unit, define it with 'u.def_unit'. To have it recognized inside a file reader or other code, enable it with 'u.add_enabled_units'. For details, see https://docs.astropy.org/en/latest/units/combining_and_defining.html [astropy.units.core]\n",
      "WARNING: UnitsWarning: 'pixels' did not parse as fits unit: At col 0, Unit 'pixels' not supported by the FITS standard. Did you mean pixel? If this is meant to be a custom unit, define it with 'u.def_unit'. To have it recognized inside a file reader or other code, enable it with 'u.add_enabled_units'. For details, see https://docs.astropy.org/en/latest/units/combining_and_defining.html [astropy.units.core]\n"
     ]
    },
    {
     "name": "stdout",
     "output_type": "stream",
     "text": [
      "Downloading URL https://mast.stsci.edu/api/v0.1/Download/file?uri=mast:TESS/product/tess2025127075000-s0092-0000000290165539-0289-s_lc.fits to ./mastDownload/TESS/tess2025127075000-s0092-0000000290165539-0289-s/tess2025127075000-s0092-0000000290165539-0289-s_lc.fits ... [Done]\n"
     ]
    },
    {
     "name": "stderr",
     "output_type": "stream",
     "text": [
      "WARNING: UnitsWarning: 'BJD - 2457000, days' did not parse as fits unit: At col 0, Unit 'BJD' not supported by the FITS standard.  If this is meant to be a custom unit, define it with 'u.def_unit'. To have it recognized inside a file reader or other code, enable it with 'u.add_enabled_units'. For details, see https://docs.astropy.org/en/latest/units/combining_and_defining.html [astropy.units.core]\n",
      "WARNING: UnitsWarning: 'e-/s' did not parse as fits unit: At col 0, Unit 'e' not supported by the FITS standard.  If this is meant to be a custom unit, define it with 'u.def_unit'. To have it recognized inside a file reader or other code, enable it with 'u.add_enabled_units'. For details, see https://docs.astropy.org/en/latest/units/combining_and_defining.html [astropy.units.core]\n",
      "WARNING: UnitsWarning: 'pixels' did not parse as fits unit: At col 0, Unit 'pixels' not supported by the FITS standard. Did you mean pixel? If this is meant to be a custom unit, define it with 'u.def_unit'. To have it recognized inside a file reader or other code, enable it with 'u.add_enabled_units'. For details, see https://docs.astropy.org/en/latest/units/combining_and_defining.html [astropy.units.core]\n"
     ]
    },
    {
     "name": "stdout",
     "output_type": "stream",
     "text": [
      "Downloading URL https://mast.stsci.edu/api/v0.1/Download/file?uri=mast:TESS/product/tess2025206162959-s0095-0000000290165539-0292-s_lc.fits to ./mastDownload/TESS/tess2025206162959-s0095-0000000290165539-0292-s/tess2025206162959-s0095-0000000290165539-0292-s_lc.fits ... [Done]\n",
      "\n",
      "✅ Download summary:\n",
      "Sector ...\n",
      "------ ...\n",
      "     1 ...\n",
      "    28 ...\n",
      "    68 ...\n",
      "    92 ...\n",
      "    95 ...\n",
      "\n",
      "Temporary data stored in: /var/folders/fs/c4gpqhmx5tbcbsv_cbs0yhn80000gn/T/tmp7kbh_nv2\n",
      "This directory will be deleted when the program exits.\n",
      "W :  143\n",
      "W :  144\n",
      "W :  6\n",
      "W :  1\n",
      "W :  144\n"
     ]
    },
    {
     "name": "stderr",
     "output_type": "stream",
     "text": [
      "WARNING: UnitsWarning: 'BJD - 2457000, days' did not parse as fits unit: At col 0, Unit 'BJD' not supported by the FITS standard.  If this is meant to be a custom unit, define it with 'u.def_unit'. To have it recognized inside a file reader or other code, enable it with 'u.add_enabled_units'. For details, see https://docs.astropy.org/en/latest/units/combining_and_defining.html [astropy.units.core]\n",
      "WARNING: UnitsWarning: 'e-/s' did not parse as fits unit: At col 0, Unit 'e' not supported by the FITS standard.  If this is meant to be a custom unit, define it with 'u.def_unit'. To have it recognized inside a file reader or other code, enable it with 'u.add_enabled_units'. For details, see https://docs.astropy.org/en/latest/units/combining_and_defining.html [astropy.units.core]\n",
      "WARNING: UnitsWarning: 'pixels' did not parse as fits unit: At col 0, Unit 'pixels' not supported by the FITS standard. Did you mean pixel? If this is meant to be a custom unit, define it with 'u.def_unit'. To have it recognized inside a file reader or other code, enable it with 'u.add_enabled_units'. For details, see https://docs.astropy.org/en/latest/units/combining_and_defining.html [astropy.units.core]\n"
     ]
    },
    {
     "name": "stdout",
     "output_type": "stream",
     "text": [
      "W :  144\n",
      "W :  144\n",
      "W :  144\n",
      "W :  144\n",
      "W :  144\n",
      "W :  144\n",
      "W :  144\n",
      "W :  144\n",
      "W :  144\n",
      "W :  144\n",
      "W :  144\n",
      "W :  144\n",
      "W :  144\n",
      "W :  144\n",
      "Initial Chi-Sqaured : 1717.05 [red 13.21]\n",
      "Fitted parameters for TIC-290165539:\n",
      "t_zero : 2458332.7557903472\n",
      "radius_1 : 0.07822729005878039\n",
      "k : 0.2367984514205688\n",
      "b : 1.0664698993378614\n",
      "Final Chi-Sqaured : 103.29 [red 0.79]\n",
      "Initial Chi-Sqaured : 2087.86 [red 16.70]\n",
      "Fitted parameters for TIC-290165539:\n",
      "t_zero : 2460170.7788849734\n",
      "radius_1 : 0.0683343918102719\n",
      "k : 0.12848892136540593\n",
      "b : 0.8964334731735463\n",
      "Final Chi-Sqaured : 181.92 [red 1.46]\n",
      "1 123 1 122.53487297507624 1838.0230946261436 15 15.065763070706096\n",
      "0 -0.37913650793464426\n",
      "1 -0.37913650791366393\n",
      "2 -0.3791365079422828\n",
      "3 -0.3791365079167093\n",
      "4 1804.99570393841\n",
      "5 -0.37913650794439335\n",
      "6 -0.3791365079355793\n",
      "7 -0.379136507937045\n",
      "8 -0.379136507944829\n",
      "9 1804.995703938432\n",
      "10 -0.37913650794518294\n",
      "11 -0.37913650795024334\n",
      "12 -0.37913650794532816\n",
      "13 -0.37913650794084863\n",
      "14 1804.9957039384415\n",
      "15 -0.37913650793385445\n",
      "16 -0.3791365079454734\n",
      "17 -0.3791365079421374\n",
      "18 -0.3791365079391238\n",
      "19 1804.995703938408\n",
      "20 -0.37913650792530285\n",
      "21 -1066.6337074574026\n",
      "22 -0.37913650794020426\n",
      "23 -0.3791365079483735\n",
      "24 1804.9957039384433\n",
      "25 -0.37913650794342657\n",
      "26 -1615.45595458358\n",
      "27 -0.37913650793909226\n",
      "28 -0.3791365079373674\n",
      "29 1804.9957039385056\n",
      "30 -0.3791365079418154\n",
      "31 -2322.5962187298483\n",
      "32 -0.37913650792538633\n",
      "33 -0.3791365079368998\n",
      "34 1804.9957039384756\n",
      "35 -0.37913650793385445\n",
      "36 -1599.1277632300987\n",
      "37 -0.37913650793130826\n",
      "38 -0.3791365079190496\n",
      "39 1804.9957039383835\n",
      "40 -0.3791365079294746\n",
      "41 -2007.4821581263411\n",
      "42 -0.3791365079274589\n",
      "43 -1066.63370745752\n",
      "44 1804.9957039385129\n",
      "45 -0.37913650793385445\n",
      "46 -1816.1765782019665\n",
      "47 -0.3791365079421374\n",
      "48 -2449.2378637227753\n",
      "49 1804.9957039384235\n",
      "50 -0.3791365079471174\n",
      "51 -57.21067121261712\n",
      "52 -0.3791365079285838\n",
      "53 -1615.4559545836303\n",
      "54 1804.9957039384271\n",
      "55 -0.37913650793385445\n",
      "56 -0.3791365079254565\n",
      "57 -0.37913650793209785\n",
      "58 -1912.1411280356415\n",
      "59 1804.9957039384878\n",
      "60 -0.37913650794491227\n",
      "61 -0.379136507937045\n",
      "62 -2207.52330954906\n",
      "63 -2322.5962187298433\n",
      "64 1804.9957039385238\n",
      "65 -1066.6337074577204\n",
      "66 -0.3791365079287654\n",
      "67 -3082.7790156556766\n",
      "68 -2074.671935036797\n",
      "69 1804.9957039384544\n",
      "70 -1967.900403234767\n",
      "71 -0.37913650793654585\n",
      "72 -1766.326438577469\n",
      "73 -1599.127763230074\n",
      "74 1804.9957039385101\n",
      "75 -2273.4483653465836\n",
      "76 -0.37913650793410647\n",
      "77 -2062.5737753374465\n",
      "78 -2042.3424181310959\n",
      "79 1804.9957039384067\n",
      "80 -1615.455954583941\n",
      "81 -0.37913650793184384\n",
      "82 -1892.0365285443866\n",
      "83 -2007.4821581263018\n",
      "84 1804.9957039384694\n",
      "85 -2120.192034859936\n",
      "86 -0.3791365079381641\n",
      "87 -3322.8885823521186\n",
      "88 -2298.6502419507456\n",
      "89 1780.3575341549335\n",
      "90 -3016.2879000530647\n",
      "91 -1374.0742004448869\n",
      "92 -5624.514005792045\n",
      "93 -3064.2922546645414\n",
      "94 543.4884059559583\n",
      "95 -3756.864958799752\n",
      "96 -1281.853646390339\n",
      "97 -6057.450258900148\n",
      "98 -3731.9823017970384\n",
      "99 461.5211402522127\n",
      "100 -3182.25201158469\n",
      "101 -2156.881781542568\n",
      "102 -6390.716642851998\n",
      "103 -1497.2327252766024\n",
      "104 354.78839723220017\n",
      "105 -3464.458986675658\n",
      "106 -2883.888515428552\n",
      "107 -4745.48995164736\n",
      "108 -1124.4980177061805\n",
      "109 -342.10145758646036\n",
      "110 -2240.541315435895\n",
      "111 -2004.4231806691905\n",
      "112 -4440.1662547025\n",
      "113 -115.28430198355365\n",
      "114 99.19824712752188\n",
      "115 -3186.528420510296\n",
      "116 -4958.931870613373\n",
      "117 -6538.674921113546\n",
      "118 -2291.8519933443345\n",
      "119 -2871.5032487024127\n",
      "120 -6333.884410884122\n",
      "121 -5565.131338930638\n"
     ]
    },
    {
     "name": "stderr",
     "output_type": "stream",
     "text": [
      "100%|█████████████████████████████████████████| 122/122 [00:18<00:00,  6.77it/s]\n"
     ]
    },
    {
     "name": "stdout",
     "output_type": "stream",
     "text": [
      "No transists visible\n",
      "\n",
      "📂 Download directory: /var/folders/fs/c4gpqhmx5tbcbsv_cbs0yhn80000gn/T/tmpfrbvp54g\n",
      "\n",
      "Querying TIC 290512115 from MAST...\n",
      "Downloading URL https://mast.stsci.edu/api/v0.1/Download/file?uri=mast:HLSP/qlp/s0008/0000/0002/9051/2115/hlsp_qlp_tess_ffi_s0008-0000000290512115_tess_v01_llc.fits to ./mastDownload/HLSP/hlsp_qlp_tess_ffi_s0008-0000000290512115_tess_v01_llc/hlsp_qlp_tess_ffi_s0008-0000000290512115_tess_v01_llc.fits ... [Done]\n"
     ]
    },
    {
     "name": "stderr",
     "output_type": "stream",
     "text": [
      "WARNING: UnitsWarning: 'BJD-2457000, days' did not parse as fits unit: At col 0, Unit 'BJD' not supported by the FITS standard.  If this is meant to be a custom unit, define it with 'u.def_unit'. To have it recognized inside a file reader or other code, enable it with 'u.add_enabled_units'. For details, see https://docs.astropy.org/en/latest/units/combining_and_defining.html [astropy.units.core]\n"
     ]
    },
    {
     "name": "stdout",
     "output_type": "stream",
     "text": [
      "Downloading URL https://mast.stsci.edu/api/v0.1/Download/file?uri=mast:HLSP/tess-spoc/s0061/target/0000/0002/9051/2115/hlsp_tess-spoc_tess_phot_0000000290512115-s0061_tess_v1_lc.fits to ./mastDownload/HLSP/hlsp_tess-spoc_tess_phot_0000000290512115-s0061_tess_v1_tp/hlsp_tess-spoc_tess_phot_0000000290512115-s0061_tess_v1_lc.fits ... [Done]\n"
     ]
    },
    {
     "name": "stderr",
     "output_type": "stream",
     "text": [
      "WARNING: UnitsWarning: 'BJD - 2457000, days' did not parse as fits unit: At col 0, Unit 'BJD' not supported by the FITS standard.  If this is meant to be a custom unit, define it with 'u.def_unit'. To have it recognized inside a file reader or other code, enable it with 'u.add_enabled_units'. For details, see https://docs.astropy.org/en/latest/units/combining_and_defining.html [astropy.units.core]\n",
      "WARNING: UnitsWarning: 'e-/s' did not parse as fits unit: At col 0, Unit 'e' not supported by the FITS standard.  If this is meant to be a custom unit, define it with 'u.def_unit'. To have it recognized inside a file reader or other code, enable it with 'u.add_enabled_units'. For details, see https://docs.astropy.org/en/latest/units/combining_and_defining.html [astropy.units.core]\n",
      "WARNING: UnitsWarning: 'pixels' did not parse as fits unit: At col 0, Unit 'pixels' not supported by the FITS standard. Did you mean pixel? If this is meant to be a custom unit, define it with 'u.def_unit'. To have it recognized inside a file reader or other code, enable it with 'u.add_enabled_units'. For details, see https://docs.astropy.org/en/latest/units/combining_and_defining.html [astropy.units.core]\n"
     ]
    },
    {
     "name": "stdout",
     "output_type": "stream",
     "text": [
      "Downloading URL https://mast.stsci.edu/api/v0.1/Download/file?uri=mast:HLSP/qlp/s0088/0000/0002/9051/2115/hlsp_qlp_tess_ffi_s0088-0000000290512115_tess_v01_llc.fits to ./mastDownload/HLSP/hlsp_qlp_tess_ffi_s0088-0000000290512115_tess_v01_llc/hlsp_qlp_tess_ffi_s0088-0000000290512115_tess_v01_llc.fits ... [Done]\n",
      "\n",
      "✅ Download summary:\n",
      "Sector ...\n",
      "------ ...\n",
      "     8 ...\n",
      "    61 ...\n",
      "    88 ...\n",
      "\n",
      "Temporary data stored in: /var/folders/fs/c4gpqhmx5tbcbsv_cbs0yhn80000gn/T/tmpfrbvp54g\n",
      "This directory will be deleted when the program exits.\n",
      "W :  143\n",
      "W :  144\n"
     ]
    },
    {
     "name": "stderr",
     "output_type": "stream",
     "text": [
      "WARNING: UnitsWarning: 'BJD-2457000, days' did not parse as fits unit: At col 0, Unit 'BJD' not supported by the FITS standard.  If this is meant to be a custom unit, define it with 'u.def_unit'. To have it recognized inside a file reader or other code, enable it with 'u.add_enabled_units'. For details, see https://docs.astropy.org/en/latest/units/combining_and_defining.html [astropy.units.core]\n"
     ]
    },
    {
     "name": "stdout",
     "output_type": "stream",
     "text": [
      "W :  144\n",
      "W :  144\n",
      "W :  144\n",
      "W :  144\n",
      "W :  144\n",
      "W :  144\n",
      "W :  144\n",
      "W :  144\n",
      "Initial Chi-Sqaured : 166.82 [red 4.91]\n",
      "Fitted parameters for TIC-290512115:\n",
      "t_zero : 2459965.1677157055\n",
      "radius_1 : 0.034245723117067084\n",
      "k : 0.09392356955207043\n",
      "b : 1.0071320882774208\n",
      "Final Chi-Sqaured : 37.83 [red 1.11]\n",
      "Initial Chi-Sqaured : 86.92 [red 4.14]\n",
      "Fitted parameters for TIC-290512115:\n",
      "t_zero : 2460711.165233283\n",
      "radius_1 : 0.015220898171386305\n",
      "k : 0.13331659476064422\n",
      "b : 1.0378533429029655\n",
      "Final Chi-Sqaured : 41.34 [red 1.97]\n",
      "1 50 1 49.7331678384915 745.9975175773725 15 15.224439134232092\n",
      "0 -1.4510387636818072\n",
      "1 -1.4510387636554967\n",
      "2 -1.4510387636929334\n",
      "3 -1.4510387636420807\n",
      "4 -1.4510387636825257\n",
      "5 -1.4510387636838775\n",
      "6 -1.4510387636853652\n",
      "7 -1.451038763670386\n",
      "8 -1.4510387636718942\n",
      "9 -1.4510387636489925\n",
      "10 -60.142315814843016\n",
      "11 -1.4510387636559097\n",
      "12 -1.4510387636395619\n",
      "13 -59.455259031853736\n",
      "14 -77.43438245950956\n",
      "15 -53.0101900550682\n",
      "16 -1.4510387636514661\n",
      "17 -1.4510387636845312\n",
      "18 -1.451038763655652\n",
      "19 -1.4510387636604145\n",
      "20 -1.4510387636889739\n",
      "21 -60.14231581478819\n",
      "22 -68.35419586898665\n",
      "23 -1.4510387636653173\n",
      "24 -1.451038763688823\n",
      "25 -1.4510387636486293\n",
      "26 -68.58482816036829\n",
      "27 -59.455259031837265\n",
      "28 -52.659885000915125\n",
      "29 -77.43438245951167\n",
      "30 58.36198829732973\n",
      "31 -53.0101900550247\n",
      "32 -112.26907921846951\n",
      "33 -339.1821977495386\n",
      "34 -185.65406688835878\n",
      "35 -242.82592932982394\n",
      "36 -225.14652036690717\n",
      "37 -190.93697493728936\n",
      "38 -187.62299767106188\n",
      "39 -184.14725665261858\n",
      "40 -375.240121396666\n",
      "41 -301.0468193551276\n",
      "42 -302.0036223914773\n",
      "43 -398.4234428762757\n",
      "44 -254.53844013220643\n",
      "45 -397.0975587687246\n",
      "46 -372.2509465099713\n",
      "47 -387.5045860293041\n",
      "48 -263.39627987563046\n"
     ]
    },
    {
     "name": "stderr",
     "output_type": "stream",
     "text": [
      "100%|███████████████████████████████████████████| 49/49 [00:05<00:00,  9.15it/s]\n"
     ]
    },
    {
     "name": "stdout",
     "output_type": "stream",
     "text": [
      "\n",
      "📂 Download directory: /var/folders/fs/c4gpqhmx5tbcbsv_cbs0yhn80000gn/T/tmpeullnrfg\n",
      "\n",
      "Querying TIC 292719109 from MAST...\n",
      "Downloading URL https://mast.stsci.edu/api/v0.1/Download/file?uri=mast:HLSP/tess-spoc/s0007/target/0000/0002/9271/9109/hlsp_tess-spoc_tess_phot_0000000292719109-s0007_tess_v1_lc.fits to ./mastDownload/HLSP/hlsp_tess-spoc_tess_phot_0000000292719109-s0007_tess_v1_tp/hlsp_tess-spoc_tess_phot_0000000292719109-s0007_tess_v1_lc.fits ... [Done]\n"
     ]
    },
    {
     "name": "stderr",
     "output_type": "stream",
     "text": [
      "WARNING: UnitsWarning: 'BJD - 2457000, days' did not parse as fits unit: At col 0, Unit 'BJD' not supported by the FITS standard.  If this is meant to be a custom unit, define it with 'u.def_unit'. To have it recognized inside a file reader or other code, enable it with 'u.add_enabled_units'. For details, see https://docs.astropy.org/en/latest/units/combining_and_defining.html [astropy.units.core]\n",
      "WARNING: UnitsWarning: 'e-/s' did not parse as fits unit: At col 0, Unit 'e' not supported by the FITS standard.  If this is meant to be a custom unit, define it with 'u.def_unit'. To have it recognized inside a file reader or other code, enable it with 'u.add_enabled_units'. For details, see https://docs.astropy.org/en/latest/units/combining_and_defining.html [astropy.units.core]\n",
      "WARNING: UnitsWarning: 'pixels' did not parse as fits unit: At col 0, Unit 'pixels' not supported by the FITS standard. Did you mean pixel? If this is meant to be a custom unit, define it with 'u.def_unit'. To have it recognized inside a file reader or other code, enable it with 'u.add_enabled_units'. For details, see https://docs.astropy.org/en/latest/units/combining_and_defining.html [astropy.units.core]\n"
     ]
    },
    {
     "name": "stdout",
     "output_type": "stream",
     "text": [
      "Downloading URL https://mast.stsci.edu/api/v0.1/Download/file?uri=mast:HLSP/tess-spoc/s0033/target/0000/0002/9271/9109/hlsp_tess-spoc_tess_phot_0000000292719109-s0033_tess_v1_lc.fits to ./mastDownload/HLSP/hlsp_tess-spoc_tess_phot_0000000292719109-s0033_tess_v1_tp/hlsp_tess-spoc_tess_phot_0000000292719109-s0033_tess_v1_lc.fits ... [Done]\n"
     ]
    },
    {
     "name": "stderr",
     "output_type": "stream",
     "text": [
      "WARNING: UnitsWarning: 'BJD - 2457000, days' did not parse as fits unit: At col 0, Unit 'BJD' not supported by the FITS standard.  If this is meant to be a custom unit, define it with 'u.def_unit'. To have it recognized inside a file reader or other code, enable it with 'u.add_enabled_units'. For details, see https://docs.astropy.org/en/latest/units/combining_and_defining.html [astropy.units.core]\n",
      "WARNING: UnitsWarning: 'e-/s' did not parse as fits unit: At col 0, Unit 'e' not supported by the FITS standard.  If this is meant to be a custom unit, define it with 'u.def_unit'. To have it recognized inside a file reader or other code, enable it with 'u.add_enabled_units'. For details, see https://docs.astropy.org/en/latest/units/combining_and_defining.html [astropy.units.core]\n",
      "WARNING: UnitsWarning: 'pixels' did not parse as fits unit: At col 0, Unit 'pixels' not supported by the FITS standard. Did you mean pixel? If this is meant to be a custom unit, define it with 'u.def_unit'. To have it recognized inside a file reader or other code, enable it with 'u.add_enabled_units'. For details, see https://docs.astropy.org/en/latest/units/combining_and_defining.html [astropy.units.core]\n"
     ]
    },
    {
     "name": "stdout",
     "output_type": "stream",
     "text": [
      "Downloading URL https://mast.stsci.edu/api/v0.1/Download/file?uri=mast:TESS/product/tess2024353092137-s0087-0000000292719109-0284-s_lc.fits to ./mastDownload/TESS/tess2024353092137-s0087-0000000292719109-0284-s/tess2024353092137-s0087-0000000292719109-0284-s_lc.fits ... [Done]\n",
      "\n",
      "✅ Download summary:\n",
      "Sector ...\n",
      "------ ...\n",
      "     7 ...\n",
      "    33 ...\n",
      "    87 ...\n",
      "\n",
      "Temporary data stored in: /var/folders/fs/c4gpqhmx5tbcbsv_cbs0yhn80000gn/T/tmpeullnrfg\n",
      "This directory will be deleted when the program exits.\n",
      "W :  144\n",
      "W :  144\n"
     ]
    },
    {
     "name": "stderr",
     "output_type": "stream",
     "text": [
      "WARNING: UnitsWarning: 'BJD - 2457000, days' did not parse as fits unit: At col 0, Unit 'BJD' not supported by the FITS standard.  If this is meant to be a custom unit, define it with 'u.def_unit'. To have it recognized inside a file reader or other code, enable it with 'u.add_enabled_units'. For details, see https://docs.astropy.org/en/latest/units/combining_and_defining.html [astropy.units.core]\n",
      "WARNING: UnitsWarning: 'e-/s' did not parse as fits unit: At col 0, Unit 'e' not supported by the FITS standard.  If this is meant to be a custom unit, define it with 'u.def_unit'. To have it recognized inside a file reader or other code, enable it with 'u.add_enabled_units'. For details, see https://docs.astropy.org/en/latest/units/combining_and_defining.html [astropy.units.core]\n",
      "WARNING: UnitsWarning: 'pixels' did not parse as fits unit: At col 0, Unit 'pixels' not supported by the FITS standard. Did you mean pixel? If this is meant to be a custom unit, define it with 'u.def_unit'. To have it recognized inside a file reader or other code, enable it with 'u.add_enabled_units'. For details, see https://docs.astropy.org/en/latest/units/combining_and_defining.html [astropy.units.core]\n"
     ]
    },
    {
     "name": "stdout",
     "output_type": "stream",
     "text": [
      "W :  144\n",
      "W :  144\n",
      "W :  144\n",
      "W :  144\n",
      "W :  144\n",
      "W :  144\n",
      "Initial Chi-Sqaured : 223.81 [red 2.46]\n",
      "Fitted parameters for TIC-292719109:\n",
      "t_zero : 2458499.701469042\n",
      "radius_1 : 0.04231631066576039\n",
      "k : 0.05076634535315484\n",
      "b : 0.5203645465412876\n",
      "Final Chi-Sqaured : 91.76 [red 1.01]\n",
      "Initial Chi-Sqaured : 2196.89 [red 21.75]\n",
      "Fitted parameters for TIC-292719109:\n",
      "t_zero : 2459222.320360254\n",
      "radius_1 : 0.049950373599070425\n",
      "k : 0.049658766179779615\n",
      "b : 0.6766655013362863\n",
      "Final Chi-Sqaured : 652.02 [red 6.46]\n",
      "1 49 1 48.17459274747719 722.6188912121579 15 15.054560233586622\n",
      "0 0.0\n",
      "1 0.0\n",
      "2 0.0\n",
      "3 0.0\n",
      "4 0.0\n",
      "5 0.0\n",
      "6 0.0\n",
      "7 0.0\n",
      "8 0.0\n",
      "9 0.0\n",
      "10 0.0\n",
      "11 0.0\n",
      "12 0.0\n",
      "13 0.0\n",
      "14 0.0\n",
      "15 0.0\n",
      "16 0.0\n",
      "17 0.0\n",
      "18 0.0\n",
      "19 0.0\n",
      "20 0.0\n",
      "21 0.0\n",
      "22 0.0\n",
      "23 0.0\n",
      "24 0.0\n",
      "25 0.0\n",
      "26 0.0\n",
      "27 0.0\n",
      "28 0.0\n",
      "29 0.0\n",
      "30 0.0\n",
      "31 0.0\n",
      "32 0.0\n",
      "33 0.0\n",
      "34 -588.0990665595152\n",
      "35 -4142.1051602808975\n",
      "36 -2100.245687901097\n",
      "37 -1963.9070868302124\n",
      "38 -9131.232698654429\n",
      "39 -4232.543207371248\n",
      "40 -3352.030384990214\n",
      "41 -4983.285667723408\n",
      "42 -2982.4371156267753\n",
      "43 -4178.493515328407\n",
      "44 -1661.860300745631\n",
      "45 -2000.5762455202412\n",
      "46 -32809.51076744205\n",
      "47 -16105.204834525104\n"
     ]
    },
    {
     "name": "stderr",
     "output_type": "stream",
     "text": [
      "100%|███████████████████████████████████████████| 48/48 [00:04<00:00, 10.89it/s]\n"
     ]
    },
    {
     "name": "stdout",
     "output_type": "stream",
     "text": [
      "\n",
      "📂 Download directory: /var/folders/fs/c4gpqhmx5tbcbsv_cbs0yhn80000gn/T/tmphdu9yq9o\n",
      "\n",
      "Querying TIC 296737508 from MAST...\n",
      "Downloading URL https://mast.stsci.edu/api/v0.1/Download/file?uri=mast:TESS/product/tess2019032160000-s0008-0000000296737508-0136-s_lc.fits to ./mastDownload/TESS/tess2019032160000-s0008-0000000296737508-0136-s/tess2019032160000-s0008-0000000296737508-0136-s_lc.fits ... [Done]\n"
     ]
    },
    {
     "name": "stderr",
     "output_type": "stream",
     "text": [
      "WARNING: UnitsWarning: 'BJD - 2457000, days' did not parse as fits unit: At col 0, Unit 'BJD' not supported by the FITS standard.  If this is meant to be a custom unit, define it with 'u.def_unit'. To have it recognized inside a file reader or other code, enable it with 'u.add_enabled_units'. For details, see https://docs.astropy.org/en/latest/units/combining_and_defining.html [astropy.units.core]\n",
      "WARNING: UnitsWarning: 'e-/s' did not parse as fits unit: At col 0, Unit 'e' not supported by the FITS standard.  If this is meant to be a custom unit, define it with 'u.def_unit'. To have it recognized inside a file reader or other code, enable it with 'u.add_enabled_units'. For details, see https://docs.astropy.org/en/latest/units/combining_and_defining.html [astropy.units.core]\n",
      "WARNING: UnitsWarning: 'pixels' did not parse as fits unit: At col 0, Unit 'pixels' not supported by the FITS standard. Did you mean pixel? If this is meant to be a custom unit, define it with 'u.def_unit'. To have it recognized inside a file reader or other code, enable it with 'u.add_enabled_units'. For details, see https://docs.astropy.org/en/latest/units/combining_and_defining.html [astropy.units.core]\n"
     ]
    },
    {
     "name": "stdout",
     "output_type": "stream",
     "text": [
      "Downloading URL https://mast.stsci.edu/api/v0.1/Download/file?uri=mast:TESS/product/tess2021039152502-s0035-0000000296737508-0205-s_lc.fits to ./mastDownload/TESS/tess2021039152502-s0035-0000000296737508-0205-s/tess2021039152502-s0035-0000000296737508-0205-s_lc.fits ... [Done]\n"
     ]
    },
    {
     "name": "stderr",
     "output_type": "stream",
     "text": [
      "WARNING: UnitsWarning: 'BJD - 2457000, days' did not parse as fits unit: At col 0, Unit 'BJD' not supported by the FITS standard.  If this is meant to be a custom unit, define it with 'u.def_unit'. To have it recognized inside a file reader or other code, enable it with 'u.add_enabled_units'. For details, see https://docs.astropy.org/en/latest/units/combining_and_defining.html [astropy.units.core]\n",
      "WARNING: UnitsWarning: 'e-/s' did not parse as fits unit: At col 0, Unit 'e' not supported by the FITS standard.  If this is meant to be a custom unit, define it with 'u.def_unit'. To have it recognized inside a file reader or other code, enable it with 'u.add_enabled_units'. For details, see https://docs.astropy.org/en/latest/units/combining_and_defining.html [astropy.units.core]\n",
      "WARNING: UnitsWarning: 'pixels' did not parse as fits unit: At col 0, Unit 'pixels' not supported by the FITS standard. Did you mean pixel? If this is meant to be a custom unit, define it with 'u.def_unit'. To have it recognized inside a file reader or other code, enable it with 'u.add_enabled_units'. For details, see https://docs.astropy.org/en/latest/units/combining_and_defining.html [astropy.units.core]\n"
     ]
    },
    {
     "name": "stdout",
     "output_type": "stream",
     "text": [
      "Downloading URL https://mast.stsci.edu/api/v0.1/Download/file?uri=mast:TESS/product/tess2023043185947-s0062-0000000296737508-0254-s_lc.fits to ./mastDownload/TESS/tess2023043185947-s0062-0000000296737508-0254-s/tess2023043185947-s0062-0000000296737508-0254-s_lc.fits ... [Done]\n"
     ]
    },
    {
     "name": "stderr",
     "output_type": "stream",
     "text": [
      "WARNING: UnitsWarning: 'BJD - 2457000, days' did not parse as fits unit: At col 0, Unit 'BJD' not supported by the FITS standard.  If this is meant to be a custom unit, define it with 'u.def_unit'. To have it recognized inside a file reader or other code, enable it with 'u.add_enabled_units'. For details, see https://docs.astropy.org/en/latest/units/combining_and_defining.html [astropy.units.core]\n",
      "WARNING: UnitsWarning: 'e-/s' did not parse as fits unit: At col 0, Unit 'e' not supported by the FITS standard.  If this is meant to be a custom unit, define it with 'u.def_unit'. To have it recognized inside a file reader or other code, enable it with 'u.add_enabled_units'. For details, see https://docs.astropy.org/en/latest/units/combining_and_defining.html [astropy.units.core]\n",
      "WARNING: UnitsWarning: 'pixels' did not parse as fits unit: At col 0, Unit 'pixels' not supported by the FITS standard. Did you mean pixel? If this is meant to be a custom unit, define it with 'u.def_unit'. To have it recognized inside a file reader or other code, enable it with 'u.add_enabled_units'. For details, see https://docs.astropy.org/en/latest/units/combining_and_defining.html [astropy.units.core]\n"
     ]
    },
    {
     "name": "stdout",
     "output_type": "stream",
     "text": [
      "Downloading URL https://mast.stsci.edu/api/v0.1/Download/file?uri=mast:TESS/product/tess2025042113628-s0089-0000000296737508-0286-s_lc.fits to ./mastDownload/TESS/tess2025042113628-s0089-0000000296737508-0286-s/tess2025042113628-s0089-0000000296737508-0286-s_lc.fits ... [Done]\n",
      "\n",
      "✅ Download summary:\n",
      "Sector ...\n",
      "------ ...\n",
      "     8 ...\n",
      "    35 ...\n",
      "    62 ...\n",
      "    89 ...\n",
      "\n",
      "Temporary data stored in: /var/folders/fs/c4gpqhmx5tbcbsv_cbs0yhn80000gn/T/tmphdu9yq9o\n",
      "This directory will be deleted when the program exits.\n",
      "W :  144\n",
      "W :  144\n"
     ]
    },
    {
     "name": "stderr",
     "output_type": "stream",
     "text": [
      "WARNING: UnitsWarning: 'BJD - 2457000, days' did not parse as fits unit: At col 0, Unit 'BJD' not supported by the FITS standard.  If this is meant to be a custom unit, define it with 'u.def_unit'. To have it recognized inside a file reader or other code, enable it with 'u.add_enabled_units'. For details, see https://docs.astropy.org/en/latest/units/combining_and_defining.html [astropy.units.core]\n",
      "WARNING: UnitsWarning: 'e-/s' did not parse as fits unit: At col 0, Unit 'e' not supported by the FITS standard.  If this is meant to be a custom unit, define it with 'u.def_unit'. To have it recognized inside a file reader or other code, enable it with 'u.add_enabled_units'. For details, see https://docs.astropy.org/en/latest/units/combining_and_defining.html [astropy.units.core]\n",
      "WARNING: UnitsWarning: 'pixels' did not parse as fits unit: At col 0, Unit 'pixels' not supported by the FITS standard. Did you mean pixel? If this is meant to be a custom unit, define it with 'u.def_unit'. To have it recognized inside a file reader or other code, enable it with 'u.add_enabled_units'. For details, see https://docs.astropy.org/en/latest/units/combining_and_defining.html [astropy.units.core]\n"
     ]
    },
    {
     "name": "stdout",
     "output_type": "stream",
     "text": [
      "W :  144\n",
      "W :  30\n",
      "W :  144\n",
      "W :  144\n",
      "W :  144\n",
      "W :  144\n",
      "W :  144\n",
      "W :  144\n",
      "W :  144\n",
      "W :  144\n",
      "W :  144\n",
      "Initial Chi-Sqaured : 83.81 [red 1.42]\n",
      "Fitted parameters for TIC-296737508:\n",
      "t_zero : 2458538.003219114\n",
      "radius_1 : 0.032986348124983036\n",
      "k : 0.043769972734402834\n",
      "b : 0.7650635934635632\n",
      "Final Chi-Sqaured : 60.15 [red 1.02]\n",
      "Initial Chi-Sqaured : 96.40 [red 1.66]\n",
      "Fitted parameters for TIC-296737508:\n",
      "t_zero : 2460005.9861876024\n",
      "radius_1 : 0.02148863660317646\n",
      "k : 0.04107426681414733\n",
      "b : 0.04735779660227313\n",
      "Final Chi-Sqaured : 73.40 [red 1.27]\n",
      "1 98 1 97.8655312325495 1467.9829684882425 15 15.133845035961263\n",
      "0 0.0\n",
      "1 215.77443695706424\n",
      "2 0.0\n",
      "3 215.77443695698113\n",
      "4 0.0\n",
      "5 215.7744369570429\n",
      "6 0.0\n",
      "7 215.77443695700572\n",
      "8 0.0\n",
      "9 215.77443695703954\n",
      "10 0.0\n",
      "11 215.77443695706071\n",
      "12 0.0\n",
      "13 215.7744369570778\n",
      "14 0.0\n",
      "15 215.77443695708723\n",
      "16 0.0\n",
      "17 215.77443695709593\n",
      "18 0.0\n",
      "19 215.77443695710326\n",
      "20 0.0\n",
      "21 215.77443695711128\n",
      "22 0.0\n",
      "23 215.77443695711483\n",
      "24 0.0\n",
      "25 215.77443695711787\n",
      "26 0.0\n",
      "27 215.7744369571241\n",
      "28 0.0\n",
      "29 215.77443695712628\n",
      "30 0.0\n",
      "31 215.77443695705853\n",
      "32 0.0\n",
      "33 215.77443695713026\n",
      "34 0.0\n",
      "35 215.77443695707026\n",
      "36 0.0\n",
      "37 215.77443695713566\n",
      "38 0.0\n",
      "39 215.774436957083\n",
      "40 0.0\n",
      "41 215.77443695713865\n",
      "42 0.0\n",
      "43 215.7744369570904\n",
      "44 0.0\n",
      "45 215.7744369571434\n",
      "46 -712.2852414621086\n",
      "47 215.77443695709445\n",
      "48 -491.7538935583248\n",
      "49 215.77443695705696\n",
      "50 -625.4010526624617\n",
      "51 215.77443695710284\n",
      "52 -667.8320296139577\n",
      "53 215.77443695714373\n",
      "54 -643.7281598113368\n",
      "55 215.77443695710673\n",
      "56 -570.7928874568557\n",
      "57 215.77443695706947\n",
      "58 -626.6723349215547\n",
      "59 215.77443695711105\n",
      "60 -630.7240729427415\n",
      "61 215.7744369570768\n",
      "62 -633.7666896381606\n",
      "63 215.7744369569772\n",
      "64 -567.4997053874998\n",
      "65 215.77443695695067\n",
      "66 -841.8382902639844\n",
      "67 215.77443695705458\n",
      "68 -672.6800136689369\n",
      "69 215.7744369570267\n",
      "70 -687.4149415843799\n",
      "71 215.77443695700063\n",
      "72 -1060.9226534824952\n",
      "73 -443.21987534906845\n",
      "74 -1178.976782981601\n",
      "75 -344.1882614603935\n",
      "76 -1354.3375305184754\n",
      "77 -480.43023225844047\n",
      "78 -1225.7011589902213\n",
      "79 -554.5151558271416\n",
      "80 -1542.8041624254233\n",
      "81 -318.35785670159794\n",
      "82 -1469.202188890337\n",
      "83 -465.00669273101215\n",
      "84 -1436.2402635347182\n",
      "85 -421.56908926373865\n",
      "86 -1778.912262415397\n",
      "87 -446.06053590627187\n",
      "88 -1458.132270245526\n",
      "89 -993.9071820213078\n",
      "90 -1987.390887337013\n",
      "91 -1714.1129410212786\n",
      "92 -2734.074441616144\n",
      "93 -2006.7349741648345\n",
      "94 -2785.6037949739366\n",
      "95 -2105.711416260716\n",
      "96 -2696.7411592937474\n"
     ]
    },
    {
     "name": "stderr",
     "output_type": "stream",
     "text": [
      "100%|███████████████████████████████████████████| 97/97 [00:10<00:00,  8.96it/s]\n"
     ]
    },
    {
     "name": "stdout",
     "output_type": "stream",
     "text": [
      "\n",
      "📂 Download directory: /var/folders/fs/c4gpqhmx5tbcbsv_cbs0yhn80000gn/T/tmp88hnuy0j\n",
      "\n",
      "Querying TIC 304339227 from MAST...\n",
      "Downloading URL https://mast.stsci.edu/api/v0.1/Download/file?uri=mast:TESS/product/tess2019169103026-s0013-0000000304339227-0146-s_lc.fits to ./mastDownload/TESS/tess2019169103026-s0013-0000000304339227-0146-s/tess2019169103026-s0013-0000000304339227-0146-s_lc.fits ... [Done]\n"
     ]
    },
    {
     "name": "stderr",
     "output_type": "stream",
     "text": [
      "WARNING: UnitsWarning: 'BJD - 2457000, days' did not parse as fits unit: At col 0, Unit 'BJD' not supported by the FITS standard.  If this is meant to be a custom unit, define it with 'u.def_unit'. To have it recognized inside a file reader or other code, enable it with 'u.add_enabled_units'. For details, see https://docs.astropy.org/en/latest/units/combining_and_defining.html [astropy.units.core]\n",
      "WARNING: UnitsWarning: 'e-/s' did not parse as fits unit: At col 0, Unit 'e' not supported by the FITS standard.  If this is meant to be a custom unit, define it with 'u.def_unit'. To have it recognized inside a file reader or other code, enable it with 'u.add_enabled_units'. For details, see https://docs.astropy.org/en/latest/units/combining_and_defining.html [astropy.units.core]\n",
      "WARNING: UnitsWarning: 'pixels' did not parse as fits unit: At col 0, Unit 'pixels' not supported by the FITS standard. Did you mean pixel? If this is meant to be a custom unit, define it with 'u.def_unit'. To have it recognized inside a file reader or other code, enable it with 'u.add_enabled_units'. For details, see https://docs.astropy.org/en/latest/units/combining_and_defining.html [astropy.units.core]\n"
     ]
    },
    {
     "name": "stdout",
     "output_type": "stream",
     "text": [
      "Downloading URL https://mast.stsci.edu/api/v0.1/Download/file?uri=mast:TESS/product/tess2021146024351-s0039-0000000304339227-0210-s_lc.fits to ./mastDownload/TESS/tess2021146024351-s0039-0000000304339227-0210-s/tess2021146024351-s0039-0000000304339227-0210-s_lc.fits ... [Done]\n"
     ]
    },
    {
     "name": "stderr",
     "output_type": "stream",
     "text": [
      "WARNING: UnitsWarning: 'BJD - 2457000, days' did not parse as fits unit: At col 0, Unit 'BJD' not supported by the FITS standard.  If this is meant to be a custom unit, define it with 'u.def_unit'. To have it recognized inside a file reader or other code, enable it with 'u.add_enabled_units'. For details, see https://docs.astropy.org/en/latest/units/combining_and_defining.html [astropy.units.core]\n",
      "WARNING: UnitsWarning: 'e-/s' did not parse as fits unit: At col 0, Unit 'e' not supported by the FITS standard.  If this is meant to be a custom unit, define it with 'u.def_unit'. To have it recognized inside a file reader or other code, enable it with 'u.add_enabled_units'. For details, see https://docs.astropy.org/en/latest/units/combining_and_defining.html [astropy.units.core]\n",
      "WARNING: UnitsWarning: 'pixels' did not parse as fits unit: At col 0, Unit 'pixels' not supported by the FITS standard. Did you mean pixel? If this is meant to be a custom unit, define it with 'u.def_unit'. To have it recognized inside a file reader or other code, enable it with 'u.add_enabled_units'. For details, see https://docs.astropy.org/en/latest/units/combining_and_defining.html [astropy.units.core]\n"
     ]
    },
    {
     "name": "stdout",
     "output_type": "stream",
     "text": [
      "Downloading URL https://mast.stsci.edu/api/v0.1/Download/file?uri=mast:TESS/product/tess2023153011303-s0066-0000000304339227-0260-s_lc.fits to ./mastDownload/TESS/tess2023153011303-s0066-0000000304339227-0260-s/tess2023153011303-s0066-0000000304339227-0260-s_lc.fits ... [Done]\n"
     ]
    },
    {
     "name": "stderr",
     "output_type": "stream",
     "text": [
      "WARNING: UnitsWarning: 'BJD - 2457000, days' did not parse as fits unit: At col 0, Unit 'BJD' not supported by the FITS standard.  If this is meant to be a custom unit, define it with 'u.def_unit'. To have it recognized inside a file reader or other code, enable it with 'u.add_enabled_units'. For details, see https://docs.astropy.org/en/latest/units/combining_and_defining.html [astropy.units.core]\n",
      "WARNING: UnitsWarning: 'e-/s' did not parse as fits unit: At col 0, Unit 'e' not supported by the FITS standard.  If this is meant to be a custom unit, define it with 'u.def_unit'. To have it recognized inside a file reader or other code, enable it with 'u.add_enabled_units'. For details, see https://docs.astropy.org/en/latest/units/combining_and_defining.html [astropy.units.core]\n",
      "WARNING: UnitsWarning: 'pixels' did not parse as fits unit: At col 0, Unit 'pixels' not supported by the FITS standard. Did you mean pixel? If this is meant to be a custom unit, define it with 'u.def_unit'. To have it recognized inside a file reader or other code, enable it with 'u.add_enabled_units'. For details, see https://docs.astropy.org/en/latest/units/combining_and_defining.html [astropy.units.core]\n"
     ]
    },
    {
     "name": "stdout",
     "output_type": "stream",
     "text": [
      "Downloading URL https://mast.stsci.edu/api/v0.1/Download/file?uri=mast:TESS/product/tess2025154050500-s0093-0000000304339227-0290-s_lc.fits to ./mastDownload/TESS/tess2025154050500-s0093-0000000304339227-0290-s/tess2025154050500-s0093-0000000304339227-0290-s_lc.fits ... [Done]\n",
      "\n",
      "✅ Download summary:\n",
      "Sector ...\n",
      "------ ...\n",
      "    13 ...\n",
      "    39 ...\n",
      "    66 ...\n",
      "    93 ...\n",
      "\n",
      "Temporary data stored in: /var/folders/fs/c4gpqhmx5tbcbsv_cbs0yhn80000gn/T/tmp88hnuy0j\n",
      "This directory will be deleted when the program exits.\n",
      "W :  144\n",
      "W :  144\n"
     ]
    },
    {
     "name": "stderr",
     "output_type": "stream",
     "text": [
      "WARNING: UnitsWarning: 'BJD - 2457000, days' did not parse as fits unit: At col 0, Unit 'BJD' not supported by the FITS standard.  If this is meant to be a custom unit, define it with 'u.def_unit'. To have it recognized inside a file reader or other code, enable it with 'u.add_enabled_units'. For details, see https://docs.astropy.org/en/latest/units/combining_and_defining.html [astropy.units.core]\n",
      "WARNING: UnitsWarning: 'e-/s' did not parse as fits unit: At col 0, Unit 'e' not supported by the FITS standard.  If this is meant to be a custom unit, define it with 'u.def_unit'. To have it recognized inside a file reader or other code, enable it with 'u.add_enabled_units'. For details, see https://docs.astropy.org/en/latest/units/combining_and_defining.html [astropy.units.core]\n",
      "WARNING: UnitsWarning: 'pixels' did not parse as fits unit: At col 0, Unit 'pixels' not supported by the FITS standard. Did you mean pixel? If this is meant to be a custom unit, define it with 'u.def_unit'. To have it recognized inside a file reader or other code, enable it with 'u.add_enabled_units'. For details, see https://docs.astropy.org/en/latest/units/combining_and_defining.html [astropy.units.core]\n"
     ]
    },
    {
     "name": "stdout",
     "output_type": "stream",
     "text": [
      "W :  144\n",
      "W :  144\n",
      "W :  144\n",
      "W :  78\n",
      "W :  30\n",
      "W :  144\n",
      "W :  91\n",
      "W :  144\n",
      "W :  144\n",
      "W :  144\n",
      "W :  144\n",
      "Initial Chi-Sqaured : 242.15 [red 3.67]\n",
      "Fitted parameters for TIC-304339227:\n",
      "t_zero : 2458673.322907071\n",
      "radius_1 : 0.14031950997796774\n",
      "k : 0.04025973724611473\n",
      "b : 0.9966185471795446\n",
      "Final Chi-Sqaured : 98.05 [red 1.49]\n",
      "Initial Chi-Sqaured : 77.20 [red 1.48]\n",
      "Fitted parameters for TIC-304339227:\n",
      "t_zero : 2459388.0252596266\n",
      "radius_1 : 0.03131649647410012\n",
      "k : 0.02016289554411055\n",
      "b : 0.7020199300445761\n",
      "Final Chi-Sqaured : 64.72 [red 1.24]\n",
      "1 48 1 47.64682350369791 714.7023525554687 15 15.206433033095077\n",
      "0 -14.056029237081226\n",
      "1 -14.056029237055416\n",
      "2 -14.056029237075446\n",
      "3 -14.056029237053206\n",
      "4 -14.056029237063509\n",
      "5 -14.056029237075741\n",
      "6 -14.05602923707377\n",
      "7 -14.056029237079013\n",
      "8 -14.056029237065982\n",
      "9 -14.056029237060603\n",
      "10 -14.056029237075123\n",
      "11 -14.056029237069197\n",
      "12 -14.056029237063601\n",
      "13 -14.05602923707054\n",
      "14 -14.05602923706807\n",
      "15 -14.056029237079247\n",
      "16 -14.0560292370686\n",
      "17 -14.05602923706741\n",
      "18 -14.056029237069321\n",
      "19 -14.056029237061534\n",
      "20 -14.056029237060201\n",
      "21 -14.056029237076054\n",
      "22 -14.056029237060145\n",
      "23 -14.056029237071407\n",
      "24 -14.056029237077041\n",
      "25 -14.056029237065285\n",
      "26 -14.056029237064287\n",
      "27 -135.207329491823\n",
      "28 -200.62287959505093\n",
      "29 -127.88319198712084\n",
      "30 -144.49417755681583\n",
      "31 -136.22103920887128\n",
      "32 -96.08803209978143\n",
      "33 -135.28657736295978\n",
      "34 -149.906161913621\n",
      "35 -100.14196533096522\n",
      "36 -255.98293648240127\n",
      "37 -182.7720830826837\n",
      "38 -260.50321719328826\n",
      "39 -312.1334361368182\n",
      "40 -224.61385556451478\n",
      "41 -265.3691614011802\n",
      "42 -270.58304257648706\n",
      "43 -246.33954241550754\n",
      "44 -257.7686973983223\n",
      "45 -189.5868725214589\n",
      "46 -247.4625708017946\n"
     ]
    },
    {
     "name": "stderr",
     "output_type": "stream",
     "text": [
      "100%|███████████████████████████████████████████| 47/47 [00:06<00:00,  6.83it/s]\n"
     ]
    },
    {
     "name": "stdout",
     "output_type": "stream",
     "text": [
      "\n",
      "📂 Download directory: /var/folders/fs/c4gpqhmx5tbcbsv_cbs0yhn80000gn/T/tmpf28cpz8s\n",
      "\n",
      "Querying TIC 308211363 from MAST...\n",
      "Downloading URL https://mast.stsci.edu/api/v0.1/Download/file?uri=mast:HLSP/qlp/s0010/0000/0003/0821/1363/hlsp_qlp_tess_ffi_s0010-0000000308211363_tess_v01_llc.fits to ./mastDownload/HLSP/hlsp_qlp_tess_ffi_s0010-0000000308211363_tess_v01_llc/hlsp_qlp_tess_ffi_s0010-0000000308211363_tess_v01_llc.fits ... [Done]\n"
     ]
    },
    {
     "name": "stderr",
     "output_type": "stream",
     "text": [
      "WARNING: UnitsWarning: 'BJD-2457000, days' did not parse as fits unit: At col 0, Unit 'BJD' not supported by the FITS standard.  If this is meant to be a custom unit, define it with 'u.def_unit'. To have it recognized inside a file reader or other code, enable it with 'u.add_enabled_units'. For details, see https://docs.astropy.org/en/latest/units/combining_and_defining.html [astropy.units.core]\n"
     ]
    },
    {
     "name": "stdout",
     "output_type": "stream",
     "text": [
      "Downloading URL https://mast.stsci.edu/api/v0.1/Download/file?uri=mast:TESS/product/tess2021091135823-s0037-0000000308211363-0208-s_lc.fits to ./mastDownload/TESS/tess2021091135823-s0037-0000000308211363-0208-s/tess2021091135823-s0037-0000000308211363-0208-s_lc.fits ... [Done]\n"
     ]
    },
    {
     "name": "stderr",
     "output_type": "stream",
     "text": [
      "WARNING: UnitsWarning: 'BJD - 2457000, days' did not parse as fits unit: At col 0, Unit 'BJD' not supported by the FITS standard.  If this is meant to be a custom unit, define it with 'u.def_unit'. To have it recognized inside a file reader or other code, enable it with 'u.add_enabled_units'. For details, see https://docs.astropy.org/en/latest/units/combining_and_defining.html [astropy.units.core]\n",
      "WARNING: UnitsWarning: 'e-/s' did not parse as fits unit: At col 0, Unit 'e' not supported by the FITS standard.  If this is meant to be a custom unit, define it with 'u.def_unit'. To have it recognized inside a file reader or other code, enable it with 'u.add_enabled_units'. For details, see https://docs.astropy.org/en/latest/units/combining_and_defining.html [astropy.units.core]\n",
      "WARNING: UnitsWarning: 'pixels' did not parse as fits unit: At col 0, Unit 'pixels' not supported by the FITS standard. Did you mean pixel? If this is meant to be a custom unit, define it with 'u.def_unit'. To have it recognized inside a file reader or other code, enable it with 'u.add_enabled_units'. For details, see https://docs.astropy.org/en/latest/units/combining_and_defining.html [astropy.units.core]\n"
     ]
    },
    {
     "name": "stdout",
     "output_type": "stream",
     "text": [
      "Downloading URL https://mast.stsci.edu/api/v0.1/Download/file?uri=mast:TESS/product/tess2023096110322-s0064-0000000308211363-0257-s_lc.fits to ./mastDownload/TESS/tess2023096110322-s0064-0000000308211363-0257-s/tess2023096110322-s0064-0000000308211363-0257-s_lc.fits ... [Done]\n"
     ]
    },
    {
     "name": "stderr",
     "output_type": "stream",
     "text": [
      "WARNING: UnitsWarning: 'BJD - 2457000, days' did not parse as fits unit: At col 0, Unit 'BJD' not supported by the FITS standard.  If this is meant to be a custom unit, define it with 'u.def_unit'. To have it recognized inside a file reader or other code, enable it with 'u.add_enabled_units'. For details, see https://docs.astropy.org/en/latest/units/combining_and_defining.html [astropy.units.core]\n",
      "WARNING: UnitsWarning: 'e-/s' did not parse as fits unit: At col 0, Unit 'e' not supported by the FITS standard.  If this is meant to be a custom unit, define it with 'u.def_unit'. To have it recognized inside a file reader or other code, enable it with 'u.add_enabled_units'. For details, see https://docs.astropy.org/en/latest/units/combining_and_defining.html [astropy.units.core]\n",
      "WARNING: UnitsWarning: 'pixels' did not parse as fits unit: At col 0, Unit 'pixels' not supported by the FITS standard. Did you mean pixel? If this is meant to be a custom unit, define it with 'u.def_unit'. To have it recognized inside a file reader or other code, enable it with 'u.add_enabled_units'. For details, see https://docs.astropy.org/en/latest/units/combining_and_defining.html [astropy.units.core]\n"
     ]
    },
    {
     "name": "stdout",
     "output_type": "stream",
     "text": [
      "Downloading URL https://mast.stsci.edu/api/v0.1/Download/file?uri=mast:TESS/product/tess2025099153000-s0091-0000000308211363-0288-s_lc.fits to ./mastDownload/TESS/tess2025099153000-s0091-0000000308211363-0288-s/tess2025099153000-s0091-0000000308211363-0288-s_lc.fits ... [Done]\n",
      "\n",
      "✅ Download summary:\n",
      "Sector ...\n",
      "------ ...\n",
      "    10 ...\n",
      "    37 ...\n",
      "    64 ...\n",
      "    91 ...\n",
      "\n",
      "Temporary data stored in: /var/folders/fs/c4gpqhmx5tbcbsv_cbs0yhn80000gn/T/tmpf28cpz8s\n",
      "This directory will be deleted when the program exits.\n",
      "W :  143\n",
      "W :  87\n",
      "W :  144\n"
     ]
    },
    {
     "name": "stderr",
     "output_type": "stream",
     "text": [
      "WARNING: UnitsWarning: 'BJD - 2457000, days' did not parse as fits unit: At col 0, Unit 'BJD' not supported by the FITS standard.  If this is meant to be a custom unit, define it with 'u.def_unit'. To have it recognized inside a file reader or other code, enable it with 'u.add_enabled_units'. For details, see https://docs.astropy.org/en/latest/units/combining_and_defining.html [astropy.units.core]\n",
      "WARNING: UnitsWarning: 'e-/s' did not parse as fits unit: At col 0, Unit 'e' not supported by the FITS standard.  If this is meant to be a custom unit, define it with 'u.def_unit'. To have it recognized inside a file reader or other code, enable it with 'u.add_enabled_units'. For details, see https://docs.astropy.org/en/latest/units/combining_and_defining.html [astropy.units.core]\n",
      "WARNING: UnitsWarning: 'pixels' did not parse as fits unit: At col 0, Unit 'pixels' not supported by the FITS standard. Did you mean pixel? If this is meant to be a custom unit, define it with 'u.def_unit'. To have it recognized inside a file reader or other code, enable it with 'u.add_enabled_units'. For details, see https://docs.astropy.org/en/latest/units/combining_and_defining.html [astropy.units.core]\n"
     ]
    },
    {
     "name": "stdout",
     "output_type": "stream",
     "text": [
      "W :  144\n",
      "W :  144\n",
      "W :  144\n",
      "W :  144\n",
      "W :  144\n",
      "W :  144\n",
      "W :  144\n",
      "W :  144\n",
      "W :  90\n",
      "Initial Chi-Sqaured : 302.95 [red 5.51]\n",
      "Fitted parameters for TIC-308211363:\n",
      "t_zero : 2458580.391469594\n",
      "radius_1 : 0.03308873101670928\n",
      "k : 0.11491722370240504\n",
      "b : 0.626168624798427\n",
      "Final Chi-Sqaured : 111.37 [red 2.02]\n",
      "Initial Chi-Sqaured : 328.59 [red 4.16]\n",
      "Fitted parameters for TIC-308211363:\n",
      "t_zero : 2459327.2064472805\n",
      "radius_1 : 0.03267018744077384\n",
      "k : 0.12499971971536022\n",
      "b : 0.6141742759806594\n",
      "Final Chi-Sqaured : 60.06 [red 0.76]\n",
      "1 50 1 49.787665179092436 746.8149776863866 15 15.241121993599725\n",
      "0 0.0\n",
      "1 0.0\n",
      "2 0.0\n",
      "3 0.0\n",
      "4 0.0\n",
      "5 0.0\n",
      "6 0.0\n",
      "7 0.0\n",
      "8 0.0\n",
      "9 0.0\n",
      "10 0.0\n",
      "11 0.0\n",
      "12 0.0\n",
      "13 0.0\n",
      "14 0.0\n",
      "15 0.0\n",
      "16 0.0\n",
      "17 0.0\n",
      "18 0.0\n",
      "19 0.0\n",
      "20 0.0\n",
      "21 0.0\n",
      "22 0.0\n",
      "23 0.0\n",
      "24 0.0\n",
      "25 0.0\n",
      "26 0.0\n",
      "27 0.0\n",
      "28 0.0\n",
      "29 0.0\n",
      "30 0.0\n",
      "31 0.0\n",
      "32 0.0\n",
      "33 0.0\n",
      "34 0.0\n",
      "35 0.0\n",
      "36 0.0\n",
      "37 0.0\n",
      "38 0.0\n",
      "39 -1107.2630725825284\n",
      "40 -1491.4341450944794\n",
      "41 -1622.2416108251955\n",
      "42 -1206.3756651372428\n",
      "43 -1189.4215507430542\n",
      "44 -1256.6493182958816\n",
      "45 -2160.6188788080053\n",
      "46 -1193.7217654115975\n",
      "47 -1405.4336433220237\n",
      "48 -1570.839168162015\n"
     ]
    },
    {
     "name": "stderr",
     "output_type": "stream",
     "text": [
      "100%|███████████████████████████████████████████| 49/49 [00:05<00:00,  8.91it/s]\n"
     ]
    },
    {
     "name": "stdout",
     "output_type": "stream",
     "text": [
      "No transists visible\n",
      "\n",
      "📂 Download directory: /var/folders/fs/c4gpqhmx5tbcbsv_cbs0yhn80000gn/T/tmp858bsvhl\n",
      "\n",
      "Querying TIC 321152953 from MAST...\n",
      "Downloading URL https://mast.stsci.edu/api/v0.1/Download/file?uri=mast:HLSP/qlp/s0012/0000/0003/2115/2953/hlsp_qlp_tess_ffi_s0012-0000000321152953_tess_v01_llc.fits to ./mastDownload/HLSP/hlsp_qlp_tess_ffi_s0012-0000000321152953_tess_v01_llc/hlsp_qlp_tess_ffi_s0012-0000000321152953_tess_v01_llc.fits ... [Done]\n"
     ]
    },
    {
     "name": "stderr",
     "output_type": "stream",
     "text": [
      "WARNING: UnitsWarning: 'BJD-2457000, days' did not parse as fits unit: At col 0, Unit 'BJD' not supported by the FITS standard.  If this is meant to be a custom unit, define it with 'u.def_unit'. To have it recognized inside a file reader or other code, enable it with 'u.add_enabled_units'. For details, see https://docs.astropy.org/en/latest/units/combining_and_defining.html [astropy.units.core]\n"
     ]
    },
    {
     "name": "stdout",
     "output_type": "stream",
     "text": [
      "Downloading URL https://mast.stsci.edu/api/v0.1/Download/file?uri=mast:HLSP/tess-spoc/s0013/target/0000/0003/2115/2953/hlsp_tess-spoc_tess_phot_0000000321152953-s0013_tess_v1_lc.fits to ./mastDownload/HLSP/hlsp_tess-spoc_tess_phot_0000000321152953-s0013_tess_v1_tp/hlsp_tess-spoc_tess_phot_0000000321152953-s0013_tess_v1_lc.fits ... [Done]\n"
     ]
    },
    {
     "name": "stderr",
     "output_type": "stream",
     "text": [
      "WARNING: UnitsWarning: 'BJD - 2457000, days' did not parse as fits unit: At col 0, Unit 'BJD' not supported by the FITS standard.  If this is meant to be a custom unit, define it with 'u.def_unit'. To have it recognized inside a file reader or other code, enable it with 'u.add_enabled_units'. For details, see https://docs.astropy.org/en/latest/units/combining_and_defining.html [astropy.units.core]\n",
      "WARNING: UnitsWarning: 'e-/s' did not parse as fits unit: At col 0, Unit 'e' not supported by the FITS standard.  If this is meant to be a custom unit, define it with 'u.def_unit'. To have it recognized inside a file reader or other code, enable it with 'u.add_enabled_units'. For details, see https://docs.astropy.org/en/latest/units/combining_and_defining.html [astropy.units.core]\n",
      "WARNING: UnitsWarning: 'pixels' did not parse as fits unit: At col 0, Unit 'pixels' not supported by the FITS standard. Did you mean pixel? If this is meant to be a custom unit, define it with 'u.def_unit'. To have it recognized inside a file reader or other code, enable it with 'u.add_enabled_units'. For details, see https://docs.astropy.org/en/latest/units/combining_and_defining.html [astropy.units.core]\n"
     ]
    },
    {
     "name": "stdout",
     "output_type": "stream",
     "text": [
      "Downloading URL https://mast.stsci.edu/api/v0.1/Download/file?uri=mast:HLSP/qlp/s0027/0000/0003/2115/2953/hlsp_qlp_tess_ffi_s0027-0000000321152953_tess_v01_llc.fits to ./mastDownload/HLSP/hlsp_qlp_tess_ffi_s0027-0000000321152953_tess_v01_llc/hlsp_qlp_tess_ffi_s0027-0000000321152953_tess_v01_llc.fits ... [Done]\n"
     ]
    },
    {
     "name": "stderr",
     "output_type": "stream",
     "text": [
      "WARNING: UnitsWarning: 'BJD-2457000, days' did not parse as fits unit: At col 0, Unit 'BJD' not supported by the FITS standard.  If this is meant to be a custom unit, define it with 'u.def_unit'. To have it recognized inside a file reader or other code, enable it with 'u.add_enabled_units'. For details, see https://docs.astropy.org/en/latest/units/combining_and_defining.html [astropy.units.core]\n"
     ]
    },
    {
     "name": "stdout",
     "output_type": "stream",
     "text": [
      "Downloading URL https://mast.stsci.edu/api/v0.1/Download/file?uri=mast:HLSP/qlp/s0039/0000/0003/2115/2953/hlsp_qlp_tess_ffi_s0039-0000000321152953_tess_v01_llc.fits to ./mastDownload/HLSP/hlsp_qlp_tess_ffi_s0039-0000000321152953_tess_v01_llc/hlsp_qlp_tess_ffi_s0039-0000000321152953_tess_v01_llc.fits ... [Done]\n"
     ]
    },
    {
     "name": "stderr",
     "output_type": "stream",
     "text": [
      "WARNING: UnitsWarning: 'BJD-2457000, days' did not parse as fits unit: At col 0, Unit 'BJD' not supported by the FITS standard.  If this is meant to be a custom unit, define it with 'u.def_unit'. To have it recognized inside a file reader or other code, enable it with 'u.add_enabled_units'. For details, see https://docs.astropy.org/en/latest/units/combining_and_defining.html [astropy.units.core]\n"
     ]
    },
    {
     "name": "stdout",
     "output_type": "stream",
     "text": [
      "Downloading URL https://mast.stsci.edu/api/v0.1/Download/file?uri=mast:HLSP/tess-spoc/s0067/target/0000/0003/2115/2953/hlsp_tess-spoc_tess_phot_0000000321152953-s0067_tess_v1_lc.fits to ./mastDownload/HLSP/hlsp_tess-spoc_tess_phot_0000000321152953-s0067_tess_v1_tp/hlsp_tess-spoc_tess_phot_0000000321152953-s0067_tess_v1_lc.fits ... [Done]\n"
     ]
    },
    {
     "name": "stderr",
     "output_type": "stream",
     "text": [
      "WARNING: UnitsWarning: 'BJD - 2457000, days' did not parse as fits unit: At col 0, Unit 'BJD' not supported by the FITS standard.  If this is meant to be a custom unit, define it with 'u.def_unit'. To have it recognized inside a file reader or other code, enable it with 'u.add_enabled_units'. For details, see https://docs.astropy.org/en/latest/units/combining_and_defining.html [astropy.units.core]\n",
      "WARNING: UnitsWarning: 'e-/s' did not parse as fits unit: At col 0, Unit 'e' not supported by the FITS standard.  If this is meant to be a custom unit, define it with 'u.def_unit'. To have it recognized inside a file reader or other code, enable it with 'u.add_enabled_units'. For details, see https://docs.astropy.org/en/latest/units/combining_and_defining.html [astropy.units.core]\n",
      "WARNING: UnitsWarning: 'pixels' did not parse as fits unit: At col 0, Unit 'pixels' not supported by the FITS standard. Did you mean pixel? If this is meant to be a custom unit, define it with 'u.def_unit'. To have it recognized inside a file reader or other code, enable it with 'u.add_enabled_units'. For details, see https://docs.astropy.org/en/latest/units/combining_and_defining.html [astropy.units.core]\n"
     ]
    },
    {
     "name": "stdout",
     "output_type": "stream",
     "text": [
      "Downloading URL https://mast.stsci.edu/api/v0.1/Download/file?uri=mast:HLSP/qlp/s0093/0000/0003/2115/2953/hlsp_qlp_tess_ffi_s0093-0000000321152953_tess_v01_llc.fits to ./mastDownload/HLSP/hlsp_qlp_tess_ffi_s0093-0000000321152953_tess_v01_llc/hlsp_qlp_tess_ffi_s0093-0000000321152953_tess_v01_llc.fits ... [Done]\n"
     ]
    },
    {
     "name": "stderr",
     "output_type": "stream",
     "text": [
      "WARNING: UnitsWarning: 'BJD-2457000, days' did not parse as fits unit: At col 0, Unit 'BJD' not supported by the FITS standard.  If this is meant to be a custom unit, define it with 'u.def_unit'. To have it recognized inside a file reader or other code, enable it with 'u.add_enabled_units'. For details, see https://docs.astropy.org/en/latest/units/combining_and_defining.html [astropy.units.core]\n"
     ]
    },
    {
     "name": "stdout",
     "output_type": "stream",
     "text": [
      "Downloading URL https://mast.stsci.edu/api/v0.1/Download/file?uri=mast:HLSP/qlp/s0094/0000/0003/2115/2953/hlsp_qlp_tess_ffi_s0094-0000000321152953_tess_v01_llc.fits to ./mastDownload/HLSP/hlsp_qlp_tess_ffi_s0094-0000000321152953_tess_v01_llc/hlsp_qlp_tess_ffi_s0094-0000000321152953_tess_v01_llc.fits ... [Done]\n",
      "\n",
      "✅ Download summary:\n",
      "Sector ...\n",
      "------ ...\n",
      "    12 ...\n",
      "    13 ...\n",
      "    27 ...\n",
      "    39 ...\n",
      "    66 ...\n",
      "    67 ...\n",
      "    93 ...\n",
      "    94 ...\n",
      "\n",
      "Temporary data stored in: /var/folders/fs/c4gpqhmx5tbcbsv_cbs0yhn80000gn/T/tmp858bsvhl\n",
      "This directory will be deleted when the program exits.\n",
      "W :  4\n",
      "W :  36\n",
      "W :  3\n",
      "W :  79\n",
      "W :  13\n",
      "W :  143\n",
      "W :  1\n",
      "W :  143\n",
      "W :  40\n"
     ]
    },
    {
     "name": "stderr",
     "output_type": "stream",
     "text": [
      "WARNING: UnitsWarning: 'BJD-2457000, days' did not parse as fits unit: At col 0, Unit 'BJD' not supported by the FITS standard.  If this is meant to be a custom unit, define it with 'u.def_unit'. To have it recognized inside a file reader or other code, enable it with 'u.add_enabled_units'. For details, see https://docs.astropy.org/en/latest/units/combining_and_defining.html [astropy.units.core]\n"
     ]
    },
    {
     "name": "stdout",
     "output_type": "stream",
     "text": [
      "W :  143\n",
      "W :  144\n",
      "W :  144\n",
      "W :  144\n",
      "W :  144\n",
      "W :  144\n",
      "W :  144\n",
      "W :  144\n",
      "W :  63\n",
      "W :  144\n",
      "W :  144\n",
      "W :  144\n",
      "W :  144\n",
      "W :  144\n",
      "W :  144\n",
      "W :  144\n",
      "W :  144\n",
      "W :  144\n",
      "W :  144\n",
      "W :  144\n",
      "W :  144\n",
      "W :  144\n",
      "W :  144\n",
      "W :  144\n",
      "W :  23\n",
      "W :  144\n",
      "Initial Chi-Sqaured : 291.63 [red 10.06]\n",
      "Fitted parameters for TIC-321152953:\n",
      "t_zero : 2458667.4962134473\n",
      "radius_1 : 0.03222536811979529\n",
      "k : 0.2128311319240278\n",
      "b : 1.081809953453946\n",
      "Final Chi-Sqaured : 27.46 [red 0.95]\n",
      "Initial Chi-Sqaured : 115.28 [red 3.49]\n",
      "Fitted parameters for TIC-321152953:\n",
      "t_zero : 2460142.8398786597\n",
      "radius_1 : 0.010296477948841809\n",
      "k : 0.0878767153134452\n",
      "b : 0.4639731510622601\n",
      "Final Chi-Sqaured : 38.41 [red 1.16]\n",
      "1 99 1 98.35624434749285 1475.3436652123928 15 15.054527196044825\n",
      "0 -6.4189287159535295\n",
      "1 -6.418928715937564\n",
      "2 -6.41892871594075\n",
      "3 -200.2358239279839\n",
      "4 -6.418928715903699\n",
      "5 -6.418928715943614\n",
      "6 -6.418928715891952\n",
      "7 -200.23582392758792\n",
      "8 -6.418928715929234\n",
      "9 -6.418928715915489\n",
      "10 -6.418928715865888\n",
      "11 -200.23582392760866\n",
      "12 -6.418928715925751\n",
      "13 -6.418928715900383\n",
      "14 -6.4189287159775885\n",
      "15 -200.23582392770547\n",
      "16 -6.4189287158582085\n",
      "17 -6.418928715924735\n",
      "18 -568.1208037620902\n",
      "19 -200.23582392811835\n",
      "20 -172.4398023154079\n",
      "21 -6.41892871586236\n",
      "22 523.2729964816601\n",
      "23 -200.23582392768932\n",
      "24 -6.418928716001175\n",
      "25 -6.418928715922564\n",
      "26 -373.0696467526301\n",
      "27 -200.23582392796553\n",
      "28 -70.43113083382678\n",
      "29 -6.418928715974823\n",
      "30 -58.770248136620715\n",
      "31 -200.23582392808342\n",
      "32 -67294.03439594245\n",
      "33 -63139.51661072698\n",
      "34 -42411.258375321355\n",
      "35 -48903.65473394656\n",
      "36 -52205.449889116164\n",
      "37 -31616.098018011035\n",
      "38 -377.6532382568177\n",
      "39 -41416.66119827834\n",
      "40 -40309.43331446189\n",
      "41 -31129.074693212384\n",
      "42 -46682.602831141536\n",
      "43 -25820.6814650291\n",
      "44 -26392.017295668913\n",
      "45 -7713.560274164712\n",
      "46 -5312.858811152537\n",
      "47 -300.50413673294275\n",
      "48 -44660.35829762076\n",
      "49 -44017.93335079956\n",
      "50 -40025.262044064504\n",
      "51 -35997.57271563738\n",
      "52 -40978.36213054639\n",
      "53 -35411.476136481695\n",
      "54 -26232.060224474957\n",
      "55 -18928.816848277384\n",
      "56 -12757.002675366026\n",
      "57 -12690.204492245763\n",
      "58 -6249.626100066176\n",
      "59 -4602.322444664344\n",
      "60 -4989.523464704782\n",
      "61 -14481.662808749765\n",
      "62 -55795.155932160866\n",
      "63 -31995.74461788942\n",
      "64 -27223.899895777737\n",
      "65 -98110.74265429954\n",
      "66 -87418.02990849446\n",
      "67 -81219.20276518154\n",
      "68 -90616.23305586\n",
      "69 -79746.784041909\n",
      "70 -91816.40133578304\n",
      "71 -86548.57641562565\n",
      "72 -79826.47007293747\n",
      "73 -65399.53274223514\n",
      "74 -58112.36108125815\n",
      "75 -54039.81099366981\n",
      "76 -33245.86606364603\n",
      "77 -6824.120069644777\n",
      "78 -43447.877875045546\n",
      "79 -42017.19438546738\n",
      "80 -47281.954888055676\n",
      "81 -40852.88384183373\n",
      "82 -23799.152188990236\n",
      "83 -31370.612546456676\n",
      "84 -39762.34729203226\n",
      "85 -46912.78343356\n",
      "86 -31634.667951784497\n",
      "87 -26087.16102560698\n",
      "88 -47325.61149864636\n",
      "89 -26589.2071899207\n",
      "90 -19560.098533720502\n",
      "91 -8984.322846804676\n",
      "92 -8531.384499867701\n",
      "93 -6757.6079195411985\n",
      "94 -4849.469548856062\n",
      "95 -162699.53783267937\n",
      "96 -39897.20448901792\n",
      "97 -61969.45765299577\n"
     ]
    },
    {
     "name": "stderr",
     "output_type": "stream",
     "text": [
      "100%|███████████████████████████████████████████| 98/98 [00:22<00:00,  4.36it/s]\n"
     ]
    },
    {
     "name": "stdout",
     "output_type": "stream",
     "text": [
      "No transists visible\n",
      "\n",
      "📂 Download directory: /var/folders/fs/c4gpqhmx5tbcbsv_cbs0yhn80000gn/T/tmpbz31q180\n",
      "\n",
      "Querying TIC 323295479 from MAST...\n",
      "Downloading URL https://mast.stsci.edu/api/v0.1/Download/file?uri=mast:TESS/product/tess2019112060037-s0011-0000000323295479-0143-s_lc.fits to ./mastDownload/TESS/tess2019112060037-s0011-0000000323295479-0143-s/tess2019112060037-s0011-0000000323295479-0143-s_lc.fits ... [Done]\n"
     ]
    },
    {
     "name": "stderr",
     "output_type": "stream",
     "text": [
      "WARNING: UnitsWarning: 'BJD - 2457000, days' did not parse as fits unit: At col 0, Unit 'BJD' not supported by the FITS standard.  If this is meant to be a custom unit, define it with 'u.def_unit'. To have it recognized inside a file reader or other code, enable it with 'u.add_enabled_units'. For details, see https://docs.astropy.org/en/latest/units/combining_and_defining.html [astropy.units.core]\n",
      "WARNING: UnitsWarning: 'e-/s' did not parse as fits unit: At col 0, Unit 'e' not supported by the FITS standard.  If this is meant to be a custom unit, define it with 'u.def_unit'. To have it recognized inside a file reader or other code, enable it with 'u.add_enabled_units'. For details, see https://docs.astropy.org/en/latest/units/combining_and_defining.html [astropy.units.core]\n",
      "WARNING: UnitsWarning: 'pixels' did not parse as fits unit: At col 0, Unit 'pixels' not supported by the FITS standard. Did you mean pixel? If this is meant to be a custom unit, define it with 'u.def_unit'. To have it recognized inside a file reader or other code, enable it with 'u.add_enabled_units'. For details, see https://docs.astropy.org/en/latest/units/combining_and_defining.html [astropy.units.core]\n"
     ]
    },
    {
     "name": "stdout",
     "output_type": "stream",
     "text": [
      "Downloading URL https://mast.stsci.edu/api/v0.1/Download/file?uri=mast:TESS/product/tess2019140104343-s0012-0000000323295479-0144-s_lc.fits to ./mastDownload/TESS/tess2019140104343-s0012-0000000323295479-0144-s/tess2019140104343-s0012-0000000323295479-0144-s_lc.fits ... [Done]\n"
     ]
    },
    {
     "name": "stderr",
     "output_type": "stream",
     "text": [
      "WARNING: UnitsWarning: 'BJD - 2457000, days' did not parse as fits unit: At col 0, Unit 'BJD' not supported by the FITS standard.  If this is meant to be a custom unit, define it with 'u.def_unit'. To have it recognized inside a file reader or other code, enable it with 'u.add_enabled_units'. For details, see https://docs.astropy.org/en/latest/units/combining_and_defining.html [astropy.units.core]\n",
      "WARNING: UnitsWarning: 'e-/s' did not parse as fits unit: At col 0, Unit 'e' not supported by the FITS standard.  If this is meant to be a custom unit, define it with 'u.def_unit'. To have it recognized inside a file reader or other code, enable it with 'u.add_enabled_units'. For details, see https://docs.astropy.org/en/latest/units/combining_and_defining.html [astropy.units.core]\n",
      "WARNING: UnitsWarning: 'pixels' did not parse as fits unit: At col 0, Unit 'pixels' not supported by the FITS standard. Did you mean pixel? If this is meant to be a custom unit, define it with 'u.def_unit'. To have it recognized inside a file reader or other code, enable it with 'u.add_enabled_units'. For details, see https://docs.astropy.org/en/latest/units/combining_and_defining.html [astropy.units.core]\n"
     ]
    },
    {
     "name": "stdout",
     "output_type": "stream",
     "text": [
      "Downloading URL https://mast.stsci.edu/api/v0.1/Download/file?uri=mast:TESS/product/tess2019169103026-s0013-0000000323295479-0146-s_lc.fits to ./mastDownload/TESS/tess2019169103026-s0013-0000000323295479-0146-s/tess2019169103026-s0013-0000000323295479-0146-s_lc.fits ... [Done]\n"
     ]
    },
    {
     "name": "stderr",
     "output_type": "stream",
     "text": [
      "WARNING: UnitsWarning: 'BJD - 2457000, days' did not parse as fits unit: At col 0, Unit 'BJD' not supported by the FITS standard.  If this is meant to be a custom unit, define it with 'u.def_unit'. To have it recognized inside a file reader or other code, enable it with 'u.add_enabled_units'. For details, see https://docs.astropy.org/en/latest/units/combining_and_defining.html [astropy.units.core]\n",
      "WARNING: UnitsWarning: 'e-/s' did not parse as fits unit: At col 0, Unit 'e' not supported by the FITS standard.  If this is meant to be a custom unit, define it with 'u.def_unit'. To have it recognized inside a file reader or other code, enable it with 'u.add_enabled_units'. For details, see https://docs.astropy.org/en/latest/units/combining_and_defining.html [astropy.units.core]\n",
      "WARNING: UnitsWarning: 'pixels' did not parse as fits unit: At col 0, Unit 'pixels' not supported by the FITS standard. Did you mean pixel? If this is meant to be a custom unit, define it with 'u.def_unit'. To have it recognized inside a file reader or other code, enable it with 'u.add_enabled_units'. For details, see https://docs.astropy.org/en/latest/units/combining_and_defining.html [astropy.units.core]\n",
      "Warning: aperture mask contains zero pixels.\n"
     ]
    },
    {
     "name": "stdout",
     "output_type": "stream",
     "text": [
      "Downloading URL https://mast.stsci.edu/api/v0.1/Download/file?uri=mast:TESS/product/tess2021118034608-s0038-0000000323295479-0209-s_lc.fits to ./mastDownload/TESS/tess2021118034608-s0038-0000000323295479-0209-s/tess2021118034608-s0038-0000000323295479-0209-s_lc.fits ... [Done]\n"
     ]
    },
    {
     "name": "stderr",
     "output_type": "stream",
     "text": [
      "WARNING: UnitsWarning: 'BJD - 2457000, days' did not parse as fits unit: At col 0, Unit 'BJD' not supported by the FITS standard.  If this is meant to be a custom unit, define it with 'u.def_unit'. To have it recognized inside a file reader or other code, enable it with 'u.add_enabled_units'. For details, see https://docs.astropy.org/en/latest/units/combining_and_defining.html [astropy.units.core]\n",
      "WARNING: UnitsWarning: 'e-/s' did not parse as fits unit: At col 0, Unit 'e' not supported by the FITS standard.  If this is meant to be a custom unit, define it with 'u.def_unit'. To have it recognized inside a file reader or other code, enable it with 'u.add_enabled_units'. For details, see https://docs.astropy.org/en/latest/units/combining_and_defining.html [astropy.units.core]\n",
      "WARNING: UnitsWarning: 'pixels' did not parse as fits unit: At col 0, Unit 'pixels' not supported by the FITS standard. Did you mean pixel? If this is meant to be a custom unit, define it with 'u.def_unit'. To have it recognized inside a file reader or other code, enable it with 'u.add_enabled_units'. For details, see https://docs.astropy.org/en/latest/units/combining_and_defining.html [astropy.units.core]\n"
     ]
    },
    {
     "name": "stdout",
     "output_type": "stream",
     "text": [
      "Downloading URL https://mast.stsci.edu/api/v0.1/Download/file?uri=mast:TESS/product/tess2021146024351-s0039-0000000323295479-0210-s_lc.fits to ./mastDownload/TESS/tess2021146024351-s0039-0000000323295479-0210-s/tess2021146024351-s0039-0000000323295479-0210-s_lc.fits ... [Done]\n"
     ]
    },
    {
     "name": "stderr",
     "output_type": "stream",
     "text": [
      "WARNING: UnitsWarning: 'BJD - 2457000, days' did not parse as fits unit: At col 0, Unit 'BJD' not supported by the FITS standard.  If this is meant to be a custom unit, define it with 'u.def_unit'. To have it recognized inside a file reader or other code, enable it with 'u.add_enabled_units'. For details, see https://docs.astropy.org/en/latest/units/combining_and_defining.html [astropy.units.core]\n",
      "WARNING: UnitsWarning: 'e-/s' did not parse as fits unit: At col 0, Unit 'e' not supported by the FITS standard.  If this is meant to be a custom unit, define it with 'u.def_unit'. To have it recognized inside a file reader or other code, enable it with 'u.add_enabled_units'. For details, see https://docs.astropy.org/en/latest/units/combining_and_defining.html [astropy.units.core]\n",
      "WARNING: UnitsWarning: 'pixels' did not parse as fits unit: At col 0, Unit 'pixels' not supported by the FITS standard. Did you mean pixel? If this is meant to be a custom unit, define it with 'u.def_unit'. To have it recognized inside a file reader or other code, enable it with 'u.add_enabled_units'. For details, see https://docs.astropy.org/en/latest/units/combining_and_defining.html [astropy.units.core]\n"
     ]
    },
    {
     "name": "stdout",
     "output_type": "stream",
     "text": [
      "Downloading URL https://mast.stsci.edu/api/v0.1/Download/file?uri=mast:TESS/product/tess2023124020739-s0065-0000000323295479-0259-s_lc.fits to ./mastDownload/TESS/tess2023124020739-s0065-0000000323295479-0259-s/tess2023124020739-s0065-0000000323295479-0259-s_lc.fits ... [Done]\n"
     ]
    },
    {
     "name": "stderr",
     "output_type": "stream",
     "text": [
      "WARNING: UnitsWarning: 'BJD - 2457000, days' did not parse as fits unit: At col 0, Unit 'BJD' not supported by the FITS standard.  If this is meant to be a custom unit, define it with 'u.def_unit'. To have it recognized inside a file reader or other code, enable it with 'u.add_enabled_units'. For details, see https://docs.astropy.org/en/latest/units/combining_and_defining.html [astropy.units.core]\n",
      "WARNING: UnitsWarning: 'e-/s' did not parse as fits unit: At col 0, Unit 'e' not supported by the FITS standard.  If this is meant to be a custom unit, define it with 'u.def_unit'. To have it recognized inside a file reader or other code, enable it with 'u.add_enabled_units'. For details, see https://docs.astropy.org/en/latest/units/combining_and_defining.html [astropy.units.core]\n",
      "WARNING: UnitsWarning: 'pixels' did not parse as fits unit: At col 0, Unit 'pixels' not supported by the FITS standard. Did you mean pixel? If this is meant to be a custom unit, define it with 'u.def_unit'. To have it recognized inside a file reader or other code, enable it with 'u.add_enabled_units'. For details, see https://docs.astropy.org/en/latest/units/combining_and_defining.html [astropy.units.core]\n"
     ]
    },
    {
     "name": "stdout",
     "output_type": "stream",
     "text": [
      "Downloading URL https://mast.stsci.edu/api/v0.1/Download/file?uri=mast:TESS/product/tess2023153011303-s0066-0000000323295479-0260-s_lc.fits to ./mastDownload/TESS/tess2023153011303-s0066-0000000323295479-0260-s/tess2023153011303-s0066-0000000323295479-0260-s_lc.fits ... [Done]\n"
     ]
    },
    {
     "name": "stderr",
     "output_type": "stream",
     "text": [
      "WARNING: UnitsWarning: 'BJD - 2457000, days' did not parse as fits unit: At col 0, Unit 'BJD' not supported by the FITS standard.  If this is meant to be a custom unit, define it with 'u.def_unit'. To have it recognized inside a file reader or other code, enable it with 'u.add_enabled_units'. For details, see https://docs.astropy.org/en/latest/units/combining_and_defining.html [astropy.units.core]\n",
      "WARNING: UnitsWarning: 'e-/s' did not parse as fits unit: At col 0, Unit 'e' not supported by the FITS standard.  If this is meant to be a custom unit, define it with 'u.def_unit'. To have it recognized inside a file reader or other code, enable it with 'u.add_enabled_units'. For details, see https://docs.astropy.org/en/latest/units/combining_and_defining.html [astropy.units.core]\n",
      "WARNING: UnitsWarning: 'pixels' did not parse as fits unit: At col 0, Unit 'pixels' not supported by the FITS standard. Did you mean pixel? If this is meant to be a custom unit, define it with 'u.def_unit'. To have it recognized inside a file reader or other code, enable it with 'u.add_enabled_units'. For details, see https://docs.astropy.org/en/latest/units/combining_and_defining.html [astropy.units.core]\n"
     ]
    },
    {
     "name": "stdout",
     "output_type": "stream",
     "text": [
      "Downloading URL https://mast.stsci.edu/api/v0.1/Download/file?uri=mast:TESS/product/tess2023181235917-s0067-0000000323295479-0261-s_lc.fits to ./mastDownload/TESS/tess2023181235917-s0067-0000000323295479-0261-s/tess2023181235917-s0067-0000000323295479-0261-s_lc.fits ... [Done]\n"
     ]
    },
    {
     "name": "stderr",
     "output_type": "stream",
     "text": [
      "WARNING: UnitsWarning: 'BJD - 2457000, days' did not parse as fits unit: At col 0, Unit 'BJD' not supported by the FITS standard.  If this is meant to be a custom unit, define it with 'u.def_unit'. To have it recognized inside a file reader or other code, enable it with 'u.add_enabled_units'. For details, see https://docs.astropy.org/en/latest/units/combining_and_defining.html [astropy.units.core]\n",
      "WARNING: UnitsWarning: 'e-/s' did not parse as fits unit: At col 0, Unit 'e' not supported by the FITS standard.  If this is meant to be a custom unit, define it with 'u.def_unit'. To have it recognized inside a file reader or other code, enable it with 'u.add_enabled_units'. For details, see https://docs.astropy.org/en/latest/units/combining_and_defining.html [astropy.units.core]\n",
      "WARNING: UnitsWarning: 'pixels' did not parse as fits unit: At col 0, Unit 'pixels' not supported by the FITS standard. Did you mean pixel? If this is meant to be a custom unit, define it with 'u.def_unit'. To have it recognized inside a file reader or other code, enable it with 'u.add_enabled_units'. For details, see https://docs.astropy.org/en/latest/units/combining_and_defining.html [astropy.units.core]\n"
     ]
    },
    {
     "name": "stdout",
     "output_type": "stream",
     "text": [
      "Downloading URL https://mast.stsci.edu/api/v0.1/Download/file?uri=mast:TESS/product/tess2025154050500-s0093-0000000323295479-0290-s_lc.fits to ./mastDownload/TESS/tess2025154050500-s0093-0000000323295479-0290-s/tess2025154050500-s0093-0000000323295479-0290-s_lc.fits ... [Done]\n"
     ]
    },
    {
     "name": "stderr",
     "output_type": "stream",
     "text": [
      "WARNING: UnitsWarning: 'BJD - 2457000, days' did not parse as fits unit: At col 0, Unit 'BJD' not supported by the FITS standard.  If this is meant to be a custom unit, define it with 'u.def_unit'. To have it recognized inside a file reader or other code, enable it with 'u.add_enabled_units'. For details, see https://docs.astropy.org/en/latest/units/combining_and_defining.html [astropy.units.core]\n",
      "WARNING: UnitsWarning: 'e-/s' did not parse as fits unit: At col 0, Unit 'e' not supported by the FITS standard.  If this is meant to be a custom unit, define it with 'u.def_unit'. To have it recognized inside a file reader or other code, enable it with 'u.add_enabled_units'. For details, see https://docs.astropy.org/en/latest/units/combining_and_defining.html [astropy.units.core]\n",
      "WARNING: UnitsWarning: 'pixels' did not parse as fits unit: At col 0, Unit 'pixels' not supported by the FITS standard. Did you mean pixel? If this is meant to be a custom unit, define it with 'u.def_unit'. To have it recognized inside a file reader or other code, enable it with 'u.add_enabled_units'. For details, see https://docs.astropy.org/en/latest/units/combining_and_defining.html [astropy.units.core]\n"
     ]
    },
    {
     "name": "stdout",
     "output_type": "stream",
     "text": [
      "Downloading URL https://mast.stsci.edu/api/v0.1/Download/file?uri=mast:TESS/product/tess2025180145000-s0094-0000000323295479-0291-s_lc.fits to ./mastDownload/TESS/tess2025180145000-s0094-0000000323295479-0291-s/tess2025180145000-s0094-0000000323295479-0291-s_lc.fits ... [Done]\n",
      "\n",
      "✅ Download summary:\n",
      "Sector ...\n",
      "------ ...\n",
      "    11 ...\n",
      "    12 ...\n",
      "    13 ...\n",
      "    27 ...\n",
      "    38 ...\n",
      "    39 ...\n",
      "    65 ...\n",
      "    66 ...\n",
      "    67 ...\n",
      "    93 ...\n",
      "    94 ...\n",
      "\n",
      "Temporary data stored in: /var/folders/fs/c4gpqhmx5tbcbsv_cbs0yhn80000gn/T/tmpbz31q180\n",
      "This directory will be deleted when the program exits.\n",
      "W :  144\n",
      "W :  144\n"
     ]
    },
    {
     "name": "stderr",
     "output_type": "stream",
     "text": [
      "WARNING: UnitsWarning: 'BJD - 2457000, days' did not parse as fits unit: At col 0, Unit 'BJD' not supported by the FITS standard.  If this is meant to be a custom unit, define it with 'u.def_unit'. To have it recognized inside a file reader or other code, enable it with 'u.add_enabled_units'. For details, see https://docs.astropy.org/en/latest/units/combining_and_defining.html [astropy.units.core]\n",
      "WARNING: UnitsWarning: 'e-/s' did not parse as fits unit: At col 0, Unit 'e' not supported by the FITS standard.  If this is meant to be a custom unit, define it with 'u.def_unit'. To have it recognized inside a file reader or other code, enable it with 'u.add_enabled_units'. For details, see https://docs.astropy.org/en/latest/units/combining_and_defining.html [astropy.units.core]\n",
      "WARNING: UnitsWarning: 'pixels' did not parse as fits unit: At col 0, Unit 'pixels' not supported by the FITS standard. Did you mean pixel? If this is meant to be a custom unit, define it with 'u.def_unit'. To have it recognized inside a file reader or other code, enable it with 'u.add_enabled_units'. For details, see https://docs.astropy.org/en/latest/units/combining_and_defining.html [astropy.units.core]\n"
     ]
    },
    {
     "name": "stdout",
     "output_type": "stream",
     "text": [
      "W :  144\n",
      "W :  144\n",
      "W :  144\n",
      "W :  144\n",
      "W :  144\n",
      "W :  144\n",
      "W :  144\n",
      "W :  144\n",
      "W :  144\n",
      "W :  144\n",
      "W :  144\n",
      "W :  144\n",
      "W :  144\n",
      "W :  104\n",
      "W :  27\n",
      "W :  144\n",
      "W :  144\n",
      "W :  144\n",
      "W :  144\n",
      "W :  144\n",
      "W :  144\n",
      "W :  144\n",
      "W :  144\n",
      "W :  144\n",
      "W :  144\n",
      "W :  144\n",
      "W :  144\n",
      "W :  144\n",
      "W :  144\n",
      "Initial Chi-Sqaured : 1342.35 [red 20.97]\n",
      "Fitted parameters for TIC-323295479:\n",
      "t_zero : 2458622.9256092836\n",
      "radius_1 : 0.04354544039301571\n",
      "k : 0.09547582694451882\n",
      "b : 0.8693352637833132\n",
      "Final Chi-Sqaured : 74.95 [red 1.17]\n",
      "Initial Chi-Sqaured : 1954.42 [red 27.53]\n",
      "Fitted parameters for TIC-323295479:\n",
      "t_zero : 2459365.440571531\n",
      "radius_1 : 0.04423933549095922\n",
      "k : 0.09568952661247193\n",
      "b : 0.883233679321335\n",
      "Final Chi-Sqaured : 108.97 [red 1.53]\n",
      "1 50 1 49.500997483171524 742.5149622475728 15 15.153366576481078\n",
      "0 0.0\n",
      "1 0.0\n",
      "2 0.0\n",
      "3 0.0\n",
      "4 0.0\n",
      "5 0.0\n",
      "6 0.0\n",
      "7 0.0\n",
      "8 0.0\n",
      "9 0.0\n",
      "10 0.0\n",
      "11 0.0\n",
      "12 -5310.050995319109\n",
      "13 -5082.136596874217\n",
      "14 -4706.775057989893\n",
      "15 -5485.606842695398\n",
      "16 -5944.948325499172\n",
      "17 -5059.949884793734\n",
      "18 -5779.643498112011\n",
      "19 -6465.922277050866\n",
      "20 -3579.2835602359983\n",
      "21 -4885.171485249201\n",
      "22 -5576.741690939926\n",
      "23 -6298.126730034826\n",
      "24 -16030.668594381737\n",
      "25 -17457.186242032036\n",
      "26 -17002.192229022014\n",
      "27 -15293.951719006764\n",
      "28 -17020.883528356408\n",
      "29 -16650.561387843307\n",
      "30 -21483.80763225348\n",
      "31 -26499.198701248253\n",
      "32 -18388.59138196804\n",
      "33 -27274.52529248898\n",
      "34 -23040.016811090332\n",
      "35 -26600.65216120778\n",
      "36 -27187.807320590404\n",
      "37 -26288.836217210504\n",
      "38 -21284.434612166526\n",
      "39 -21969.09858361607\n",
      "40 -25653.68889593702\n",
      "41 -25565.267733917553\n",
      "42 -23410.77758072251\n",
      "43 -26017.698769393723\n",
      "44 -25448.49330953489\n",
      "45 -26629.5172495856\n",
      "46 -29476.030848188653\n",
      "47 -32123.88576935964\n",
      "48 -24550.723739636047\n"
     ]
    },
    {
     "name": "stderr",
     "output_type": "stream",
     "text": [
      "100%|███████████████████████████████████████████| 49/49 [00:18<00:00,  2.64it/s]\n"
     ]
    },
    {
     "name": "stdout",
     "output_type": "stream",
     "text": [
      "\n",
      "📂 Download directory: /var/folders/fs/c4gpqhmx5tbcbsv_cbs0yhn80000gn/T/tmpbqiawc12\n",
      "\n",
      "Querying TIC 332657786 from MAST...\n",
      "Downloading URL https://mast.stsci.edu/api/v0.1/Download/file?uri=mast:TESS/product/tess2019032160000-s0008-0000000332657786-0136-s_lc.fits to ./mastDownload/TESS/tess2019032160000-s0008-0000000332657786-0136-s/tess2019032160000-s0008-0000000332657786-0136-s_lc.fits ... [Done]\n"
     ]
    },
    {
     "name": "stderr",
     "output_type": "stream",
     "text": [
      "WARNING: UnitsWarning: 'BJD - 2457000, days' did not parse as fits unit: At col 0, Unit 'BJD' not supported by the FITS standard.  If this is meant to be a custom unit, define it with 'u.def_unit'. To have it recognized inside a file reader or other code, enable it with 'u.add_enabled_units'. For details, see https://docs.astropy.org/en/latest/units/combining_and_defining.html [astropy.units.core]\n",
      "WARNING: UnitsWarning: 'e-/s' did not parse as fits unit: At col 0, Unit 'e' not supported by the FITS standard.  If this is meant to be a custom unit, define it with 'u.def_unit'. To have it recognized inside a file reader or other code, enable it with 'u.add_enabled_units'. For details, see https://docs.astropy.org/en/latest/units/combining_and_defining.html [astropy.units.core]\n",
      "WARNING: UnitsWarning: 'pixels' did not parse as fits unit: At col 0, Unit 'pixels' not supported by the FITS standard. Did you mean pixel? If this is meant to be a custom unit, define it with 'u.def_unit'. To have it recognized inside a file reader or other code, enable it with 'u.add_enabled_units'. For details, see https://docs.astropy.org/en/latest/units/combining_and_defining.html [astropy.units.core]\n"
     ]
    },
    {
     "name": "stdout",
     "output_type": "stream",
     "text": [
      "Downloading URL https://mast.stsci.edu/api/v0.1/Download/file?uri=mast:TESS/product/tess2021039152502-s0035-0000000332657786-0205-s_lc.fits to ./mastDownload/TESS/tess2021039152502-s0035-0000000332657786-0205-s/tess2021039152502-s0035-0000000332657786-0205-s_lc.fits ... [Done]\n"
     ]
    },
    {
     "name": "stderr",
     "output_type": "stream",
     "text": [
      "WARNING: UnitsWarning: 'BJD - 2457000, days' did not parse as fits unit: At col 0, Unit 'BJD' not supported by the FITS standard.  If this is meant to be a custom unit, define it with 'u.def_unit'. To have it recognized inside a file reader or other code, enable it with 'u.add_enabled_units'. For details, see https://docs.astropy.org/en/latest/units/combining_and_defining.html [astropy.units.core]\n",
      "WARNING: UnitsWarning: 'e-/s' did not parse as fits unit: At col 0, Unit 'e' not supported by the FITS standard.  If this is meant to be a custom unit, define it with 'u.def_unit'. To have it recognized inside a file reader or other code, enable it with 'u.add_enabled_units'. For details, see https://docs.astropy.org/en/latest/units/combining_and_defining.html [astropy.units.core]\n",
      "WARNING: UnitsWarning: 'pixels' did not parse as fits unit: At col 0, Unit 'pixels' not supported by the FITS standard. Did you mean pixel? If this is meant to be a custom unit, define it with 'u.def_unit'. To have it recognized inside a file reader or other code, enable it with 'u.add_enabled_units'. For details, see https://docs.astropy.org/en/latest/units/combining_and_defining.html [astropy.units.core]\n"
     ]
    },
    {
     "name": "stdout",
     "output_type": "stream",
     "text": [
      "Downloading URL https://mast.stsci.edu/api/v0.1/Download/file?uri=mast:TESS/product/tess2023043185947-s0062-0000000332657786-0254-s_lc.fits to ./mastDownload/TESS/tess2023043185947-s0062-0000000332657786-0254-s/tess2023043185947-s0062-0000000332657786-0254-s_lc.fits ... [Done]\n"
     ]
    },
    {
     "name": "stderr",
     "output_type": "stream",
     "text": [
      "WARNING: UnitsWarning: 'BJD - 2457000, days' did not parse as fits unit: At col 0, Unit 'BJD' not supported by the FITS standard.  If this is meant to be a custom unit, define it with 'u.def_unit'. To have it recognized inside a file reader or other code, enable it with 'u.add_enabled_units'. For details, see https://docs.astropy.org/en/latest/units/combining_and_defining.html [astropy.units.core]\n",
      "WARNING: UnitsWarning: 'e-/s' did not parse as fits unit: At col 0, Unit 'e' not supported by the FITS standard.  If this is meant to be a custom unit, define it with 'u.def_unit'. To have it recognized inside a file reader or other code, enable it with 'u.add_enabled_units'. For details, see https://docs.astropy.org/en/latest/units/combining_and_defining.html [astropy.units.core]\n",
      "WARNING: UnitsWarning: 'pixels' did not parse as fits unit: At col 0, Unit 'pixels' not supported by the FITS standard. Did you mean pixel? If this is meant to be a custom unit, define it with 'u.def_unit'. To have it recognized inside a file reader or other code, enable it with 'u.add_enabled_units'. For details, see https://docs.astropy.org/en/latest/units/combining_and_defining.html [astropy.units.core]\n",
      "Warning: aperture mask contains zero pixels.\n"
     ]
    },
    {
     "name": "stdout",
     "output_type": "stream",
     "text": [
      "\n",
      "✅ Download summary:\n",
      "Sector ...\n",
      "------ ...\n",
      "     8 ...\n",
      "    35 ...\n",
      "    62 ...\n",
      "    89 ...\n",
      "\n",
      "Temporary data stored in: /var/folders/fs/c4gpqhmx5tbcbsv_cbs0yhn80000gn/T/tmpbqiawc12\n",
      "This directory will be deleted when the program exits.\n",
      "W :  144\n",
      "W :  144\n",
      "W :  144\n",
      "W :  30\n",
      "W :  144\n",
      "W :  144\n",
      "W :  144\n",
      "W :  144\n",
      "W :  144\n",
      "Initial Chi-Sqaured : 301.69 [red 9.43]\n",
      "Fitted parameters for TIC-332657786:\n",
      "t_zero : 2458536.764230833\n",
      "radius_1 : 0.026228855395935335\n",
      "k : 0.29980859776791613\n",
      "b : 0.9793513378781523\n",
      "Final Chi-Sqaured : 270.20 [red 8.44]\n",
      "Initial Chi-Sqaured : 167.24 [red 4.92]\n",
      "Fitted parameters for TIC-332657786:\n",
      "t_zero : 2459998.977828418\n",
      "radius_1 : 0.015992901266601356\n",
      "k : 0.2046679529073468\n",
      "b : 0.7063826320778827\n",
      "Final Chi-Sqaured : 50.54 [red 1.49]\n",
      "1 98 1 97.48090650566543 1462.2135975849815 15 15.07436698541218\n",
      "0 -0.8405179094683701\n",
      "1 -0.8405179092761896\n",
      "2 -0.8405179093432427\n",
      "3 -0.8405179092804849\n",
      "4 -0.8405179093943378\n",
      "5 -0.8405179093462136\n",
      "6 -0.8405179093165298\n",
      "7 -0.8405179094720481\n",
      "8 -0.8405179092855848\n",
      "9 -0.8405179094054196\n",
      "10 -0.8405179092389119\n",
      "11 -0.8405179093553858\n",
      "12 -0.8405179093329469\n",
      "13 -0.8405179093245572\n",
      "14 -0.8405179093047899\n",
      "15 -0.8405179094672999\n",
      "16 -0.8405179093689288\n",
      "17 -0.840517909281477\n",
      "18 -0.8405179093331236\n",
      "19 -0.840517909401699\n",
      "20 -0.8405179094427444\n",
      "21 -0.8405179092355421\n",
      "22 -0.8405179093126351\n",
      "23 -0.8405179093522159\n",
      "24 -0.8405179094064481\n",
      "25 -0.8405179093299768\n",
      "26 -0.8405179093783843\n",
      "27 -0.8405179093217772\n",
      "28 -0.8405179093670911\n",
      "29 -0.8405179093023083\n",
      "30 -0.8405179093453947\n",
      "31 -0.8405179092755493\n",
      "32 -0.8405179092378612\n",
      "33 -0.8405179093557171\n",
      "34 -0.8405179093177884\n",
      "35 -0.8405179092689936\n",
      "36 -0.8405179092189314\n",
      "37 -0.8405179093212274\n",
      "38 -0.8405179094373976\n",
      "39 -0.8405179093904378\n",
      "40 -0.8405179093573665\n",
      "41 -0.8405179094319264\n",
      "42 -0.8405179092671693\n",
      "43 -0.8405179092252313\n",
      "44 -0.8405179093279767\n",
      "45 -0.8405179093028163\n",
      "46 -0.84051790937073\n",
      "47 -0.8405179093428785\n",
      "48 -0.8405179093063833\n",
      "49 -0.8405179093973585\n",
      "50 -0.8405179093585708\n",
      "51 -0.8405179093212354\n",
      "52 -0.8405179094068238\n",
      "53 -0.8405179093701012\n",
      "54 -0.8405179093456834\n",
      "55 -0.840517909313709\n",
      "56 -0.8405179092805151\n",
      "57 -0.8405179093593409\n",
      "58 -0.8405179094251229\n",
      "59 -0.8405179092947721\n",
      "60 -1239.8680370596467\n",
      "61 -0.8405179093380566\n",
      "62 -1644.6205476237067\n",
      "63 -0.8405179092802575\n",
      "64 -1146.2296817726688\n",
      "65 -0.8405179092424104\n",
      "66 -1348.2542063906612\n",
      "67 -0.840517909359991\n",
      "68 -1865.7347121298299\n",
      "69 -0.8405179093221244\n",
      "70 -1602.1579925780477\n",
      "71 -0.8405179092730686\n",
      "72 -1904.5376027368816\n",
      "73 -0.8405179092229718\n",
      "74 -1494.961514840149\n",
      "75 -0.8405179093251123\n",
      "76 -1506.0168254522077\n",
      "77 -777.363719859602\n",
      "78 -2511.5608318787845\n",
      "79 -675.834254224677\n",
      "80 -2330.0764692094026\n",
      "81 -2082.9400082303505\n",
      "82 -3099.9675918965895\n",
      "83 -1361.0001136251933\n",
      "84 -2501.2595968774563\n",
      "85 -748.4767023009354\n",
      "86 -2947.0610246354668\n",
      "87 -406.8431083141119\n",
      "88 -2602.841340860444\n",
      "89 -1295.5055877077582\n",
      "90 -2776.5685797582623\n",
      "91 -942.5865228445347\n",
      "92 -2714.419823939637\n",
      "93 -866.8569548086148\n",
      "94 -2371.9018249519445\n",
      "95 -829.6317466126711\n",
      "96 -2734.3727880097936\n"
     ]
    },
    {
     "name": "stderr",
     "output_type": "stream",
     "text": [
      "100%|███████████████████████████████████████████| 97/97 [00:08<00:00, 11.21it/s]\n"
     ]
    },
    {
     "name": "stdout",
     "output_type": "stream",
     "text": [
      "\n",
      "📂 Download directory: /var/folders/fs/c4gpqhmx5tbcbsv_cbs0yhn80000gn/T/tmpr496v5y_\n",
      "\n",
      "Querying TIC 332697924 from MAST...\n",
      "Downloading URL https://mast.stsci.edu/api/v0.1/Download/file?uri=mast:HLSP/tess-spoc/s0005/target/0000/0003/3269/7924/hlsp_tess-spoc_tess_phot_0000000332697924-s0005_tess_v1_lc.fits to ./mastDownload/HLSP/hlsp_tess-spoc_tess_phot_0000000332697924-s0005_tess_v1_tp/hlsp_tess-spoc_tess_phot_0000000332697924-s0005_tess_v1_lc.fits ... [Done]\n"
     ]
    },
    {
     "name": "stderr",
     "output_type": "stream",
     "text": [
      "WARNING: UnitsWarning: 'BJD - 2457000, days' did not parse as fits unit: At col 0, Unit 'BJD' not supported by the FITS standard.  If this is meant to be a custom unit, define it with 'u.def_unit'. To have it recognized inside a file reader or other code, enable it with 'u.add_enabled_units'. For details, see https://docs.astropy.org/en/latest/units/combining_and_defining.html [astropy.units.core]\n",
      "WARNING: UnitsWarning: 'e-/s' did not parse as fits unit: At col 0, Unit 'e' not supported by the FITS standard.  If this is meant to be a custom unit, define it with 'u.def_unit'. To have it recognized inside a file reader or other code, enable it with 'u.add_enabled_units'. For details, see https://docs.astropy.org/en/latest/units/combining_and_defining.html [astropy.units.core]\n",
      "WARNING: UnitsWarning: 'pixels' did not parse as fits unit: At col 0, Unit 'pixels' not supported by the FITS standard. Did you mean pixel? If this is meant to be a custom unit, define it with 'u.def_unit'. To have it recognized inside a file reader or other code, enable it with 'u.add_enabled_units'. For details, see https://docs.astropy.org/en/latest/units/combining_and_defining.html [astropy.units.core]\n"
     ]
    },
    {
     "name": "stdout",
     "output_type": "stream",
     "text": [
      "Downloading URL https://mast.stsci.edu/api/v0.1/Download/file?uri=mast:HLSP/tess-spoc/s0032/target/0000/0003/3269/7924/hlsp_tess-spoc_tess_phot_0000000332697924-s0032_tess_v1_lc.fits to ./mastDownload/HLSP/hlsp_tess-spoc_tess_phot_0000000332697924-s0032_tess_v1_tp/hlsp_tess-spoc_tess_phot_0000000332697924-s0032_tess_v1_lc.fits ... [Done]\n",
      "\n",
      "✅ Download summary:\n",
      "Sector ...\n",
      "------ ...\n",
      "     5 ...\n",
      "    32 ...\n",
      "\n",
      "Temporary data stored in: /var/folders/fs/c4gpqhmx5tbcbsv_cbs0yhn80000gn/T/tmpr496v5y_\n",
      "This directory will be deleted when the program exits.\n",
      "W :  144\n",
      "W :  144\n"
     ]
    },
    {
     "name": "stderr",
     "output_type": "stream",
     "text": [
      "WARNING: UnitsWarning: 'BJD - 2457000, days' did not parse as fits unit: At col 0, Unit 'BJD' not supported by the FITS standard.  If this is meant to be a custom unit, define it with 'u.def_unit'. To have it recognized inside a file reader or other code, enable it with 'u.add_enabled_units'. For details, see https://docs.astropy.org/en/latest/units/combining_and_defining.html [astropy.units.core]\n",
      "WARNING: UnitsWarning: 'e-/s' did not parse as fits unit: At col 0, Unit 'e' not supported by the FITS standard.  If this is meant to be a custom unit, define it with 'u.def_unit'. To have it recognized inside a file reader or other code, enable it with 'u.add_enabled_units'. For details, see https://docs.astropy.org/en/latest/units/combining_and_defining.html [astropy.units.core]\n",
      "WARNING: UnitsWarning: 'pixels' did not parse as fits unit: At col 0, Unit 'pixels' not supported by the FITS standard. Did you mean pixel? If this is meant to be a custom unit, define it with 'u.def_unit'. To have it recognized inside a file reader or other code, enable it with 'u.add_enabled_units'. For details, see https://docs.astropy.org/en/latest/units/combining_and_defining.html [astropy.units.core]\n"
     ]
    },
    {
     "name": "stdout",
     "output_type": "stream",
     "text": [
      "W :  144\n",
      "W :  144\n",
      "Initial Chi-Sqaured : 74.31 [red 1.35]\n",
      "Fitted parameters for TIC-332697924:\n",
      "t_zero : 2458445.747423505\n",
      "radius_1 : 0.03359125476582796\n",
      "k : 0.030872433365526725\n",
      "b : 0.6568949568260771\n",
      "Final Chi-Sqaured : 38.30 [red 0.70]\n",
      "Initial Chi-Sqaured : 486.64 [red 9.18]\n",
      "Fitted parameters for TIC-332697924:\n",
      "t_zero : 2459178.229366679\n",
      "radius_1 : 0.035658919561484176\n",
      "k : 0.033499278019226544\n",
      "b : 0.7735009659713609\n",
      "Final Chi-Sqaured : 328.47 [red 6.20]\n",
      "1 49 1 48.83212954495102 732.4819431742653 15 15.260040482797194\n",
      "0 -0.5061620749424135\n",
      "1 -0.5061620749076116\n",
      "2 -0.5061620749342365\n",
      "3 -0.5061620749229464\n",
      "4 -0.5061620749411851\n",
      "5 -0.5061620749436916\n",
      "6 -0.5061620749093018\n",
      "7 -0.5061620749543244\n",
      "8 -0.5061620749742387\n",
      "9 -0.5061620749778865\n",
      "10 -0.5061620749710102\n",
      "11 -0.5061620749745855\n",
      "12 -0.5061620749779371\n",
      "13 -0.5061620749358039\n",
      "14 -0.5061620749750914\n",
      "15 -0.5061620749387655\n",
      "16 -0.5061620749500265\n",
      "17 -0.5061620749603916\n",
      "18 -0.5061620749570258\n",
      "19 -0.5061620749659753\n",
      "20 -0.5061620749623131\n",
      "21 -0.5061620749598431\n",
      "22 -0.5061620749573005\n",
      "23 -0.5061620749643864\n",
      "24 -0.5061620749211478\n",
      "25 -0.5061620749679617\n",
      "26 -0.5061620749279233\n",
      "27 -0.5061620749265726\n",
      "28 -0.5061620749694428\n",
      "29 -0.506162074966828\n",
      "30 -0.5061620749393144\n",
      "31 -0.5061620749056756\n",
      "32 -0.5061620749057406\n",
      "33 -3446.1209519396543\n",
      "34 -718.4092498156729\n",
      "35 -234.55120315468986\n",
      "36 -750.2181824698832\n",
      "37 -435.97582345897973\n",
      "38 -35.867799986997575\n",
      "39 -77.8577004784391\n",
      "40 -111.048002831663\n",
      "41 -445.43386152965326\n",
      "42 -95.65051764832253\n",
      "43 -119.36369775367176\n",
      "44 -176.39835687466928\n",
      "45 -96.3247105070564\n",
      "46 -73.37432238912179\n",
      "47 -116.15477182692472\n"
     ]
    },
    {
     "name": "stderr",
     "output_type": "stream",
     "text": [
      "100%|███████████████████████████████████████████| 48/48 [00:03<00:00, 15.76it/s]\n"
     ]
    },
    {
     "name": "stdout",
     "output_type": "stream",
     "text": [
      "\n",
      "📂 Download directory: /var/folders/fs/c4gpqhmx5tbcbsv_cbs0yhn80000gn/T/tmp_rq3q0b3\n",
      "\n",
      "Querying TIC 354846183 from MAST...\n",
      "Downloading URL https://mast.stsci.edu/api/v0.1/Download/file?uri=mast:TESS/product/tess2020186164531-s0027-0000000354846183-0189-s_lc.fits to ./mastDownload/TESS/tess2020186164531-s0027-0000000354846183-0189-s/tess2020186164531-s0027-0000000354846183-0189-s_lc.fits ... [Done]\n"
     ]
    },
    {
     "name": "stderr",
     "output_type": "stream",
     "text": [
      "WARNING: UnitsWarning: 'BJD - 2457000, days' did not parse as fits unit: At col 0, Unit 'BJD' not supported by the FITS standard.  If this is meant to be a custom unit, define it with 'u.def_unit'. To have it recognized inside a file reader or other code, enable it with 'u.add_enabled_units'. For details, see https://docs.astropy.org/en/latest/units/combining_and_defining.html [astropy.units.core]\n",
      "WARNING: UnitsWarning: 'e-/s' did not parse as fits unit: At col 0, Unit 'e' not supported by the FITS standard.  If this is meant to be a custom unit, define it with 'u.def_unit'. To have it recognized inside a file reader or other code, enable it with 'u.add_enabled_units'. For details, see https://docs.astropy.org/en/latest/units/combining_and_defining.html [astropy.units.core]\n",
      "WARNING: UnitsWarning: 'pixels' did not parse as fits unit: At col 0, Unit 'pixels' not supported by the FITS standard. Did you mean pixel? If this is meant to be a custom unit, define it with 'u.def_unit'. To have it recognized inside a file reader or other code, enable it with 'u.add_enabled_units'. For details, see https://docs.astropy.org/en/latest/units/combining_and_defining.html [astropy.units.core]\n"
     ]
    },
    {
     "name": "stdout",
     "output_type": "stream",
     "text": [
      "Downloading URL https://mast.stsci.edu/api/v0.1/Download/file?uri=mast:TESS/product/tess2023181235917-s0067-0000000354846183-0261-s_lc.fits to ./mastDownload/TESS/tess2023181235917-s0067-0000000354846183-0261-s/tess2023181235917-s0067-0000000354846183-0261-s_lc.fits ... [Done]\n"
     ]
    },
    {
     "name": "stderr",
     "output_type": "stream",
     "text": [
      "WARNING: UnitsWarning: 'BJD - 2457000, days' did not parse as fits unit: At col 0, Unit 'BJD' not supported by the FITS standard.  If this is meant to be a custom unit, define it with 'u.def_unit'. To have it recognized inside a file reader or other code, enable it with 'u.add_enabled_units'. For details, see https://docs.astropy.org/en/latest/units/combining_and_defining.html [astropy.units.core]\n",
      "WARNING: UnitsWarning: 'e-/s' did not parse as fits unit: At col 0, Unit 'e' not supported by the FITS standard.  If this is meant to be a custom unit, define it with 'u.def_unit'. To have it recognized inside a file reader or other code, enable it with 'u.add_enabled_units'. For details, see https://docs.astropy.org/en/latest/units/combining_and_defining.html [astropy.units.core]\n",
      "WARNING: UnitsWarning: 'pixels' did not parse as fits unit: At col 0, Unit 'pixels' not supported by the FITS standard. Did you mean pixel? If this is meant to be a custom unit, define it with 'u.def_unit'. To have it recognized inside a file reader or other code, enable it with 'u.add_enabled_units'. For details, see https://docs.astropy.org/en/latest/units/combining_and_defining.html [astropy.units.core]\n"
     ]
    },
    {
     "name": "stdout",
     "output_type": "stream",
     "text": [
      "Downloading URL https://mast.stsci.edu/api/v0.1/Download/file?uri=mast:TESS/product/tess2025180145000-s0094-0000000354846183-0291-s_lc.fits to ./mastDownload/TESS/tess2025180145000-s0094-0000000354846183-0291-s/tess2025180145000-s0094-0000000354846183-0291-s_lc.fits ... [Done]\n",
      "\n",
      "✅ Download summary:\n",
      "Sector ...\n",
      "------ ...\n",
      "    27 ...\n",
      "    67 ...\n",
      "    94 ...\n",
      "\n",
      "Temporary data stored in: /var/folders/fs/c4gpqhmx5tbcbsv_cbs0yhn80000gn/T/tmp_rq3q0b3\n",
      "This directory will be deleted when the program exits.\n",
      "W :  144\n",
      "W :  144\n"
     ]
    },
    {
     "name": "stderr",
     "output_type": "stream",
     "text": [
      "WARNING: UnitsWarning: 'BJD - 2457000, days' did not parse as fits unit: At col 0, Unit 'BJD' not supported by the FITS standard.  If this is meant to be a custom unit, define it with 'u.def_unit'. To have it recognized inside a file reader or other code, enable it with 'u.add_enabled_units'. For details, see https://docs.astropy.org/en/latest/units/combining_and_defining.html [astropy.units.core]\n",
      "WARNING: UnitsWarning: 'e-/s' did not parse as fits unit: At col 0, Unit 'e' not supported by the FITS standard.  If this is meant to be a custom unit, define it with 'u.def_unit'. To have it recognized inside a file reader or other code, enable it with 'u.add_enabled_units'. For details, see https://docs.astropy.org/en/latest/units/combining_and_defining.html [astropy.units.core]\n",
      "WARNING: UnitsWarning: 'pixels' did not parse as fits unit: At col 0, Unit 'pixels' not supported by the FITS standard. Did you mean pixel? If this is meant to be a custom unit, define it with 'u.def_unit'. To have it recognized inside a file reader or other code, enable it with 'u.add_enabled_units'. For details, see https://docs.astropy.org/en/latest/units/combining_and_defining.html [astropy.units.core]\n"
     ]
    },
    {
     "name": "stdout",
     "output_type": "stream",
     "text": [
      "W :  144\n",
      "W :  112\n",
      "W :  144\n",
      "W :  103\n",
      "W :  144\n",
      "W :  144\n",
      "W :  144\n",
      "W :  144\n",
      "Initial Chi-Sqaured : 205.62 [red 2.10]\n",
      "Fitted parameters for TIC-354846183:\n",
      "t_zero : 2459044.5419178363\n",
      "radius_1 : 0.04985595078776281\n",
      "k : 0.053705900520811325\n",
      "b : 0.7132334453793899\n",
      "Final Chi-Sqaured : 170.70 [red 1.74]\n",
      "Initial Chi-Sqaured : 281.89 [red 2.74]\n",
      "Fitted parameters for TIC-354846183:\n",
      "t_zero : 2460128.0966167497\n",
      "radius_1 : 0.03954689015690928\n",
      "k : 0.05285376350935643\n",
      "b : 0.48878877797263365\n",
      "Final Chi-Sqaured : 213.83 [red 2.08]\n",
      "1 73 1 72.23697992755721 1083.5546989133582 15 15.049370818241085\n",
      "0 0.08195536628653666\n",
      "1 0.0819553662711312\n",
      "2 0.08195536627439903\n",
      "3 0.08195536627579947\n",
      "4 0.08195536627673317\n",
      "5 0.08195536627720013\n",
      "6 0.08195536627766686\n",
      "7 0.08195536629027123\n",
      "8 0.08195536628887079\n",
      "9 0.08195536628793709\n",
      "10 0.08195536628747035\n",
      "11 0.0819553662870034\n",
      "12 0.08195536628653666\n",
      "13 0.08195536628606992\n",
      "14 0.08195536629820732\n",
      "15 0.08195536628513622\n",
      "16 0.08195536628513622\n",
      "17 0.08195536628466948\n",
      "18 0.08195536628420252\n",
      "19 0.08195536628420252\n",
      "20 0.08195536628420252\n",
      "21 0.08195536628373556\n",
      "22 0.08195536628373556\n",
      "23 0.08195536628373556\n",
      "24 0.0819553662832686\n",
      "25 0.0819553662832686\n",
      "26 0.0819553662832686\n",
      "27 0.0819553662832686\n",
      "28 0.08195536626973077\n",
      "29 0.08195536629587319\n",
      "30 0.08195536628280187\n",
      "31 0.08195536627066446\n",
      "32 0.0819553662711312\n",
      "33 0.0819553662711312\n",
      "34 0.08195536627159816\n",
      "35 0.08195536627159816\n",
      "36 0.0819553662720649\n",
      "37 0.0819553662720649\n",
      "38 0.08195536627253164\n",
      "39 0.08195536627253164\n",
      "40 0.0819553662729986\n",
      "41 0.0819553662729986\n",
      "42 0.0819553662729986\n",
      "43 0.08195536627346534\n",
      "44 0.08195536627346534\n",
      "45 0.08195536627346534\n",
      "46 0.08195536629027123\n",
      "47 -135.03427383250508\n",
      "48 -565.9554183729686\n",
      "49 -657.4084661349673\n",
      "50 -752.0591823439255\n",
      "51 -639.4202378704887\n",
      "52 -793.4418242319855\n",
      "53 -551.4928058542473\n",
      "54 -209.51449847733383\n",
      "55 -540.9919157816153\n",
      "56 -452.6006716723132\n",
      "57 -388.3295781418234\n",
      "58 -693.1398648179163\n",
      "59 -471.7056481512178\n",
      "60 -534.7653747575715\n",
      "61 -566.7228527596845\n",
      "62 -779.5165586908951\n",
      "63 -932.2699615920881\n",
      "64 -589.131856613945\n",
      "65 -669.1827990208127\n",
      "66 -480.6087982179019\n",
      "67 -543.6492539819659\n",
      "68 -611.8676325761941\n",
      "69 -709.4231792545456\n",
      "70 -691.2361479215299\n",
      "71 -479.99199284974816\n"
     ]
    },
    {
     "name": "stderr",
     "output_type": "stream",
     "text": [
      "100%|███████████████████████████████████████████| 72/72 [00:06<00:00, 11.92it/s]\n"
     ]
    },
    {
     "name": "stdout",
     "output_type": "stream",
     "text": [
      "\n",
      "📂 Download directory: /var/folders/fs/c4gpqhmx5tbcbsv_cbs0yhn80000gn/T/tmpn_bfet77\n",
      "\n",
      "Querying TIC 359683436 from MAST...\n",
      "Downloading URL https://mast.stsci.edu/api/v0.1/Download/file?uri=mast:TESS/product/tess2019112060037-s0011-0000000359683436-0143-s_lc.fits to ./mastDownload/TESS/tess2019112060037-s0011-0000000359683436-0143-s/tess2019112060037-s0011-0000000359683436-0143-s_lc.fits ... [Done]\n"
     ]
    },
    {
     "name": "stderr",
     "output_type": "stream",
     "text": [
      "WARNING: UnitsWarning: 'BJD - 2457000, days' did not parse as fits unit: At col 0, Unit 'BJD' not supported by the FITS standard.  If this is meant to be a custom unit, define it with 'u.def_unit'. To have it recognized inside a file reader or other code, enable it with 'u.add_enabled_units'. For details, see https://docs.astropy.org/en/latest/units/combining_and_defining.html [astropy.units.core]\n",
      "WARNING: UnitsWarning: 'e-/s' did not parse as fits unit: At col 0, Unit 'e' not supported by the FITS standard.  If this is meant to be a custom unit, define it with 'u.def_unit'. To have it recognized inside a file reader or other code, enable it with 'u.add_enabled_units'. For details, see https://docs.astropy.org/en/latest/units/combining_and_defining.html [astropy.units.core]\n",
      "WARNING: UnitsWarning: 'pixels' did not parse as fits unit: At col 0, Unit 'pixels' not supported by the FITS standard. Did you mean pixel? If this is meant to be a custom unit, define it with 'u.def_unit'. To have it recognized inside a file reader or other code, enable it with 'u.add_enabled_units'. For details, see https://docs.astropy.org/en/latest/units/combining_and_defining.html [astropy.units.core]\n"
     ]
    },
    {
     "name": "stdout",
     "output_type": "stream",
     "text": [
      "Downloading URL https://mast.stsci.edu/api/v0.1/Download/file?uri=mast:HLSP/tess-spoc/s0037/target/0000/0003/5968/3436/hlsp_tess-spoc_tess_phot_0000000359683436-s0037_tess_v1_lc.fits to ./mastDownload/HLSP/hlsp_tess-spoc_tess_phot_0000000359683436-s0037_tess_v1_tp/hlsp_tess-spoc_tess_phot_0000000359683436-s0037_tess_v1_lc.fits ... [Done]\n"
     ]
    },
    {
     "name": "stderr",
     "output_type": "stream",
     "text": [
      "WARNING: UnitsWarning: 'BJD - 2457000, days' did not parse as fits unit: At col 0, Unit 'BJD' not supported by the FITS standard.  If this is meant to be a custom unit, define it with 'u.def_unit'. To have it recognized inside a file reader or other code, enable it with 'u.add_enabled_units'. For details, see https://docs.astropy.org/en/latest/units/combining_and_defining.html [astropy.units.core]\n",
      "WARNING: UnitsWarning: 'e-/s' did not parse as fits unit: At col 0, Unit 'e' not supported by the FITS standard.  If this is meant to be a custom unit, define it with 'u.def_unit'. To have it recognized inside a file reader or other code, enable it with 'u.add_enabled_units'. For details, see https://docs.astropy.org/en/latest/units/combining_and_defining.html [astropy.units.core]\n",
      "WARNING: UnitsWarning: 'pixels' did not parse as fits unit: At col 0, Unit 'pixels' not supported by the FITS standard. Did you mean pixel? If this is meant to be a custom unit, define it with 'u.def_unit'. To have it recognized inside a file reader or other code, enable it with 'u.add_enabled_units'. For details, see https://docs.astropy.org/en/latest/units/combining_and_defining.html [astropy.units.core]\n"
     ]
    },
    {
     "name": "stdout",
     "output_type": "stream",
     "text": [
      "Downloading URL https://mast.stsci.edu/api/v0.1/Download/file?uri=mast:TESS/product/tess2023096110322-s0064-0000000359683436-0257-s_lc.fits to ./mastDownload/TESS/tess2023096110322-s0064-0000000359683436-0257-s/tess2023096110322-s0064-0000000359683436-0257-s_lc.fits ... [Done]\n",
      "\n",
      "✅ Download summary:\n",
      "Sector ...\n",
      "------ ...\n",
      "    10 ...\n",
      "    11 ...\n",
      "    37 ...\n",
      "    64 ...\n",
      "\n",
      "Temporary data stored in: /var/folders/fs/c4gpqhmx5tbcbsv_cbs0yhn80000gn/T/tmpn_bfet77\n",
      "This directory will be deleted when the program exits.\n",
      "W :  4\n",
      "W :  4\n",
      "W :  143\n",
      "W :  14\n",
      "W :  143\n"
     ]
    },
    {
     "name": "stderr",
     "output_type": "stream",
     "text": [
      "WARNING: UnitsWarning: 'BJD - 2457000, days' did not parse as fits unit: At col 0, Unit 'BJD' not supported by the FITS standard.  If this is meant to be a custom unit, define it with 'u.def_unit'. To have it recognized inside a file reader or other code, enable it with 'u.add_enabled_units'. For details, see https://docs.astropy.org/en/latest/units/combining_and_defining.html [astropy.units.core]\n",
      "WARNING: UnitsWarning: 'e-/s' did not parse as fits unit: At col 0, Unit 'e' not supported by the FITS standard.  If this is meant to be a custom unit, define it with 'u.def_unit'. To have it recognized inside a file reader or other code, enable it with 'u.add_enabled_units'. For details, see https://docs.astropy.org/en/latest/units/combining_and_defining.html [astropy.units.core]\n",
      "WARNING: UnitsWarning: 'pixels' did not parse as fits unit: At col 0, Unit 'pixels' not supported by the FITS standard. Did you mean pixel? If this is meant to be a custom unit, define it with 'u.def_unit'. To have it recognized inside a file reader or other code, enable it with 'u.add_enabled_units'. For details, see https://docs.astropy.org/en/latest/units/combining_and_defining.html [astropy.units.core]\n"
     ]
    },
    {
     "name": "stdout",
     "output_type": "stream",
     "text": [
      "W :  144\n",
      "W :  144\n",
      "W :  144\n",
      "W :  144\n",
      "W :  144\n",
      "W :  144\n",
      "W :  144\n",
      "W :  144\n",
      "Initial Chi-Sqaured : 412.64 [red 3.65]\n",
      "Fitted parameters for TIC-359683436:\n",
      "t_zero : 2458608.9655398196\n",
      "radius_1 : 0.16570437128115792\n",
      "k : 0.20608106338108734\n",
      "b : 1.1574989015328936\n",
      "Final Chi-Sqaured : 142.36 [red 1.26]\n",
      "Initial Chi-Sqaured : 3227.96 [red 18.88]\n",
      "Fitted parameters for TIC-359683436:\n",
      "t_zero : 2459328.2432976393\n",
      "radius_1 : 0.11482392364779313\n",
      "k : 0.051031402500833586\n",
      "b : 0.9356699584998702\n",
      "Final Chi-Sqaured : 1289.19 [red 7.54]\n",
      "1 48 1 47.95185052131613 719.277757819742 15 15.303782081271105\n",
      "0 -0.0022181280133142115\n",
      "1 -0.0022181280132050267\n",
      "2 -0.002218128013277816\n",
      "3 -0.0022181280132414216\n",
      "4 -0.002218128013277816\n",
      "5 -0.0022181280133142115\n",
      "6 -0.0022181280133142115\n",
      "7 -0.0022181280133506064\n",
      "8 -0.0022181280133506064\n",
      "9 -0.0022181280133506064\n",
      "10 -0.0022181280134961857\n",
      "11 -0.002218128013387001\n",
      "12 -0.002218128013387001\n",
      "13 -0.002218128013387001\n",
      "14 -0.002218128013387001\n",
      "15 -0.0022181280133142115\n",
      "16 -0.002218128013387001\n",
      "17 -0.0022181280133142115\n",
      "18 -0.028021590831849963\n",
      "19 -0.012507436516097314\n",
      "20 0.044407598899887546\n",
      "21 0.054121273411112725\n",
      "22 0.0684950766548944\n",
      "23 -0.05594777386328431\n",
      "24 -0.02432365773205447\n",
      "25 -0.11585417936886344\n",
      "26 -0.0022181280133142115\n",
      "27 -0.004214200258113365\n",
      "28 0.004821383141297986\n",
      "29 0.010143622398640417\n",
      "30 -0.04122731323284157\n",
      "31 -0.03493238355251016\n",
      "32 -0.03710975247789605\n",
      "33 0.019373043833422088\n",
      "34 0.032524064954545295\n",
      "35 -600.8062055386197\n",
      "36 -1839.183633227479\n",
      "37 -8097.688854552499\n",
      "38 -3238.1878484227186\n",
      "39 -1320.4896187330805\n",
      "40 -17597.71537730549\n",
      "41 -1593.984471386124\n",
      "42 -1442.8298318994455\n",
      "43 -12291.813336071098\n",
      "44 -1870.0465103931235\n",
      "45 -1079.023495085288\n",
      "46 -1342.7557195177\n"
     ]
    },
    {
     "name": "stderr",
     "output_type": "stream",
     "text": [
      "100%|███████████████████████████████████████████| 47/47 [00:05<00:00,  8.25it/s]\n"
     ]
    },
    {
     "name": "stdout",
     "output_type": "stream",
     "text": [
      "No transists visible\n",
      "\n",
      "📂 Download directory: /var/folders/fs/c4gpqhmx5tbcbsv_cbs0yhn80000gn/T/tmppbm5jh48\n",
      "\n",
      "Querying TIC 385925604 from MAST...\n",
      "Downloading URL https://mast.stsci.edu/api/v0.1/Download/file?uri=mast:HLSP/tess-spoc/s0009/target/0000/0003/8592/5604/hlsp_tess-spoc_tess_phot_0000000385925604-s0009_tess_v1_lc.fits to ./mastDownload/HLSP/hlsp_tess-spoc_tess_phot_0000000385925604-s0009_tess_v1_tp/hlsp_tess-spoc_tess_phot_0000000385925604-s0009_tess_v1_lc.fits ... [Done]\n"
     ]
    },
    {
     "name": "stderr",
     "output_type": "stream",
     "text": [
      "WARNING: UnitsWarning: 'BJD - 2457000, days' did not parse as fits unit: At col 0, Unit 'BJD' not supported by the FITS standard.  If this is meant to be a custom unit, define it with 'u.def_unit'. To have it recognized inside a file reader or other code, enable it with 'u.add_enabled_units'. For details, see https://docs.astropy.org/en/latest/units/combining_and_defining.html [astropy.units.core]\n",
      "WARNING: UnitsWarning: 'e-/s' did not parse as fits unit: At col 0, Unit 'e' not supported by the FITS standard.  If this is meant to be a custom unit, define it with 'u.def_unit'. To have it recognized inside a file reader or other code, enable it with 'u.add_enabled_units'. For details, see https://docs.astropy.org/en/latest/units/combining_and_defining.html [astropy.units.core]\n",
      "WARNING: UnitsWarning: 'pixels' did not parse as fits unit: At col 0, Unit 'pixels' not supported by the FITS standard. Did you mean pixel? If this is meant to be a custom unit, define it with 'u.def_unit'. To have it recognized inside a file reader or other code, enable it with 'u.add_enabled_units'. For details, see https://docs.astropy.org/en/latest/units/combining_and_defining.html [astropy.units.core]\n"
     ]
    },
    {
     "name": "stdout",
     "output_type": "stream",
     "text": [
      "Downloading URL https://mast.stsci.edu/api/v0.1/Download/file?uri=mast:TESS/product/tess2021065132309-s0036-0000000385925604-0207-s_lc.fits to ./mastDownload/TESS/tess2021065132309-s0036-0000000385925604-0207-s/tess2021065132309-s0036-0000000385925604-0207-s_lc.fits ... [Done]\n"
     ]
    },
    {
     "name": "stderr",
     "output_type": "stream",
     "text": [
      "WARNING: UnitsWarning: 'BJD - 2457000, days' did not parse as fits unit: At col 0, Unit 'BJD' not supported by the FITS standard.  If this is meant to be a custom unit, define it with 'u.def_unit'. To have it recognized inside a file reader or other code, enable it with 'u.add_enabled_units'. For details, see https://docs.astropy.org/en/latest/units/combining_and_defining.html [astropy.units.core]\n",
      "WARNING: UnitsWarning: 'e-/s' did not parse as fits unit: At col 0, Unit 'e' not supported by the FITS standard.  If this is meant to be a custom unit, define it with 'u.def_unit'. To have it recognized inside a file reader or other code, enable it with 'u.add_enabled_units'. For details, see https://docs.astropy.org/en/latest/units/combining_and_defining.html [astropy.units.core]\n",
      "WARNING: UnitsWarning: 'pixels' did not parse as fits unit: At col 0, Unit 'pixels' not supported by the FITS standard. Did you mean pixel? If this is meant to be a custom unit, define it with 'u.def_unit'. To have it recognized inside a file reader or other code, enable it with 'u.add_enabled_units'. For details, see https://docs.astropy.org/en/latest/units/combining_and_defining.html [astropy.units.core]\n"
     ]
    },
    {
     "name": "stdout",
     "output_type": "stream",
     "text": [
      "Downloading URL https://mast.stsci.edu/api/v0.1/Download/file?uri=mast:TESS/product/tess2021091135823-s0037-0000000385925604-0208-s_lc.fits to ./mastDownload/TESS/tess2021091135823-s0037-0000000385925604-0208-s/tess2021091135823-s0037-0000000385925604-0208-s_lc.fits ... [Done]\n"
     ]
    },
    {
     "name": "stderr",
     "output_type": "stream",
     "text": [
      "WARNING: UnitsWarning: 'BJD - 2457000, days' did not parse as fits unit: At col 0, Unit 'BJD' not supported by the FITS standard.  If this is meant to be a custom unit, define it with 'u.def_unit'. To have it recognized inside a file reader or other code, enable it with 'u.add_enabled_units'. For details, see https://docs.astropy.org/en/latest/units/combining_and_defining.html [astropy.units.core]\n",
      "WARNING: UnitsWarning: 'e-/s' did not parse as fits unit: At col 0, Unit 'e' not supported by the FITS standard.  If this is meant to be a custom unit, define it with 'u.def_unit'. To have it recognized inside a file reader or other code, enable it with 'u.add_enabled_units'. For details, see https://docs.astropy.org/en/latest/units/combining_and_defining.html [astropy.units.core]\n",
      "WARNING: UnitsWarning: 'pixels' did not parse as fits unit: At col 0, Unit 'pixels' not supported by the FITS standard. Did you mean pixel? If this is meant to be a custom unit, define it with 'u.def_unit'. To have it recognized inside a file reader or other code, enable it with 'u.add_enabled_units'. For details, see https://docs.astropy.org/en/latest/units/combining_and_defining.html [astropy.units.core]\n"
     ]
    },
    {
     "name": "stdout",
     "output_type": "stream",
     "text": [
      "Downloading URL https://mast.stsci.edu/api/v0.1/Download/file?uri=mast:HLSP/qlp/s0062/0000/0003/8592/5604/hlsp_qlp_tess_ffi_s0062-0000000385925604_tess_v01_llc.fits to ./mastDownload/HLSP/hlsp_qlp_tess_ffi_s0062-0000000385925604_tess_v01_llc/hlsp_qlp_tess_ffi_s0062-0000000385925604_tess_v01_llc.fits ... [Done]\n"
     ]
    },
    {
     "name": "stderr",
     "output_type": "stream",
     "text": [
      "WARNING: UnitsWarning: 'BJD-2457000, days' did not parse as fits unit: At col 0, Unit 'BJD' not supported by the FITS standard.  If this is meant to be a custom unit, define it with 'u.def_unit'. To have it recognized inside a file reader or other code, enable it with 'u.add_enabled_units'. For details, see https://docs.astropy.org/en/latest/units/combining_and_defining.html [astropy.units.core]\n"
     ]
    },
    {
     "name": "stdout",
     "output_type": "stream",
     "text": [
      "Downloading URL https://mast.stsci.edu/api/v0.1/Download/file?uri=mast:HLSP/qlp/s0063/0000/0003/8592/5604/hlsp_qlp_tess_ffi_s0063-0000000385925604_tess_v01_llc.fits to ./mastDownload/HLSP/hlsp_qlp_tess_ffi_s0063-0000000385925604_tess_v01_llc/hlsp_qlp_tess_ffi_s0063-0000000385925604_tess_v01_llc.fits ... [Done]\n"
     ]
    },
    {
     "name": "stderr",
     "output_type": "stream",
     "text": [
      "WARNING: UnitsWarning: 'BJD-2457000, days' did not parse as fits unit: At col 0, Unit 'BJD' not supported by the FITS standard.  If this is meant to be a custom unit, define it with 'u.def_unit'. To have it recognized inside a file reader or other code, enable it with 'u.add_enabled_units'. For details, see https://docs.astropy.org/en/latest/units/combining_and_defining.html [astropy.units.core]\n"
     ]
    },
    {
     "name": "stdout",
     "output_type": "stream",
     "text": [
      "Downloading URL https://mast.stsci.edu/api/v0.1/Download/file?uri=mast:HLSP/qlp/s0089/0000/0003/8592/5604/hlsp_qlp_tess_ffi_s0089-0000000385925604_tess_v01_llc.fits to ./mastDownload/HLSP/hlsp_qlp_tess_ffi_s0089-0000000385925604_tess_v01_llc/hlsp_qlp_tess_ffi_s0089-0000000385925604_tess_v01_llc.fits ... [Done]\n"
     ]
    },
    {
     "name": "stderr",
     "output_type": "stream",
     "text": [
      "WARNING: UnitsWarning: 'BJD-2457000, days' did not parse as fits unit: At col 0, Unit 'BJD' not supported by the FITS standard.  If this is meant to be a custom unit, define it with 'u.def_unit'. To have it recognized inside a file reader or other code, enable it with 'u.add_enabled_units'. For details, see https://docs.astropy.org/en/latest/units/combining_and_defining.html [astropy.units.core]\n"
     ]
    },
    {
     "name": "stdout",
     "output_type": "stream",
     "text": [
      "Downloading URL https://mast.stsci.edu/api/v0.1/Download/file?uri=mast:HLSP/qlp/s0090/0000/0003/8592/5604/hlsp_qlp_tess_ffi_s0090-0000000385925604_tess_v01_llc.fits to ./mastDownload/HLSP/hlsp_qlp_tess_ffi_s0090-0000000385925604_tess_v01_llc/hlsp_qlp_tess_ffi_s0090-0000000385925604_tess_v01_llc.fits ... [Done]\n",
      "\n",
      "✅ Download summary:\n",
      "Sector ...\n",
      "------ ...\n",
      "     9 ...\n",
      "    10 ...\n",
      "    36 ...\n",
      "    37 ...\n",
      "    62 ...\n",
      "    63 ...\n",
      "    89 ...\n",
      "    90 ...\n",
      "\n",
      "Temporary data stored in: /var/folders/fs/c4gpqhmx5tbcbsv_cbs0yhn80000gn/T/tmppbm5jh48\n",
      "This directory will be deleted when the program exits.\n",
      "W :  143\n",
      "W :  144\n"
     ]
    },
    {
     "name": "stderr",
     "output_type": "stream",
     "text": [
      "WARNING: UnitsWarning: 'BJD-2457000, days' did not parse as fits unit: At col 0, Unit 'BJD' not supported by the FITS standard.  If this is meant to be a custom unit, define it with 'u.def_unit'. To have it recognized inside a file reader or other code, enable it with 'u.add_enabled_units'. For details, see https://docs.astropy.org/en/latest/units/combining_and_defining.html [astropy.units.core]\n"
     ]
    },
    {
     "name": "stdout",
     "output_type": "stream",
     "text": [
      "W :  8\n",
      "W :  2\n",
      "W :  5\n",
      "W :  144\n",
      "W :  144\n",
      "W :  144\n",
      "W :  144\n",
      "W :  144\n",
      "W :  144\n",
      "W :  144\n",
      "W :  144\n",
      "W :  144\n",
      "W :  144\n",
      "W :  144\n",
      "W :  144\n",
      "W :  144\n",
      "W :  144\n",
      "W :  144\n",
      "W :  144\n",
      "W :  144\n",
      "W :  144\n",
      "W :  144\n",
      "W :  144\n",
      "W :  144\n",
      "W :  144\n",
      "Initial Chi-Sqaured : 97.20 [red 5.12]\n",
      "Fitted parameters for TIC-385925604:\n",
      "t_zero : 2458559.493025358\n",
      "radius_1 : 0.1402625559427204\n",
      "k : 0.04100626453827444\n",
      "b : 0.9511357696960212\n",
      "Final Chi-Sqaured : 17.07 [red 0.90]\n",
      "Initial Chi-Sqaured : 58.68 [red 1.54]\n",
      "Fitted parameters for TIC-385925604:\n",
      "t_zero : 2459297.0165487165\n",
      "radius_1 : 0.061838296149167984\n",
      "k : 0.046610967177131216\n",
      "b : 0.9243812603218344\n",
      "Final Chi-Sqaured : 25.88 [red 0.68]\n",
      "1 50 1 49.168234890575214 737.5235233586282 15 15.051500476706696\n",
      "0 -5.143848139684842\n",
      "1 -5.143848139677296\n",
      "2 -5.143848139677628\n",
      "3 -5.143848139676395\n",
      "4 -5.1438481396764715\n",
      "5 -5.143848139676848\n",
      "6 -5.1438481396812605\n",
      "7 -5.143848139683582\n",
      "8 -5.143848139680317\n",
      "9 -5.143848139673249\n",
      "10 -5.143848139675592\n",
      "11 -5.1438481396743505\n",
      "12 -5.143848139674244\n",
      "13 -5.143848139678795\n",
      "14 -5.143848139675592\n",
      "15 -5.143848139684199\n",
      "16 -5.143848139679207\n",
      "17 -5.143848139681113\n",
      "18 -5.143848139680124\n",
      "19 -5.1438481396743025\n",
      "20 -5.199127436454528\n",
      "21 -5.178327295178743\n",
      "22 -5.172361062107083\n",
      "23 -5.09765566826243\n",
      "24 -5.145852684848336\n",
      "25 -5.16023094349104\n",
      "26 -5.202390365135788\n",
      "27 -5.138956011545691\n",
      "28 -5.155972211750381\n",
      "29 -5.233647579289698\n",
      "30 -5.831849320291184\n",
      "31 -5.104379159118416\n",
      "32 -5.126152039751149\n",
      "33 -5.170606647140822\n",
      "34 -5.081307332733676\n",
      "35 -5.1628804343179375\n",
      "36 -5.1791578165123155\n",
      "37 -5.128352663629766\n",
      "38 -5.082002452236143\n",
      "39 -5.187465957285525\n",
      "40 -5.194395310938454\n",
      "41 -5.143372397955751\n",
      "42 -5.133905475173599\n",
      "43 -5.185444898463153\n",
      "44 -5.099133408750873\n",
      "45 -5.230202986588154\n",
      "46 -5.090404014772329\n",
      "47 -57.86069461779829\n",
      "48 -134.55696337570492\n"
     ]
    },
    {
     "name": "stderr",
     "output_type": "stream",
     "text": [
      "100%|███████████████████████████████████████████| 49/49 [00:13<00:00,  3.72it/s]\n"
     ]
    },
    {
     "name": "stdout",
     "output_type": "stream",
     "text": [
      "No transists visible\n",
      "\n",
      "📂 Download directory: /var/folders/fs/c4gpqhmx5tbcbsv_cbs0yhn80000gn/T/tmp91274zlr\n",
      "\n",
      "Querying TIC 389724536 from MAST...\n"
     ]
    },
    {
     "name": "stderr",
     "output_type": "stream",
     "text": [
      "Warning: aperture mask contains zero pixels.\n"
     ]
    },
    {
     "name": "stdout",
     "output_type": "stream",
     "text": [
      "Downloading URL https://mast.stsci.edu/api/v0.1/Download/file?uri=mast:HLSP/tess-spoc/s0028/target/0000/0003/8972/4536/hlsp_tess-spoc_tess_phot_0000000389724536-s0028_tess_v1_lc.fits to ./mastDownload/HLSP/hlsp_tess-spoc_tess_phot_0000000389724536-s0028_tess_v1_tp/hlsp_tess-spoc_tess_phot_0000000389724536-s0028_tess_v1_lc.fits ... [Done]\n"
     ]
    },
    {
     "name": "stderr",
     "output_type": "stream",
     "text": [
      "WARNING: UnitsWarning: 'BJD - 2457000, days' did not parse as fits unit: At col 0, Unit 'BJD' not supported by the FITS standard.  If this is meant to be a custom unit, define it with 'u.def_unit'. To have it recognized inside a file reader or other code, enable it with 'u.add_enabled_units'. For details, see https://docs.astropy.org/en/latest/units/combining_and_defining.html [astropy.units.core]\n",
      "WARNING: UnitsWarning: 'e-/s' did not parse as fits unit: At col 0, Unit 'e' not supported by the FITS standard.  If this is meant to be a custom unit, define it with 'u.def_unit'. To have it recognized inside a file reader or other code, enable it with 'u.add_enabled_units'. For details, see https://docs.astropy.org/en/latest/units/combining_and_defining.html [astropy.units.core]\n",
      "WARNING: UnitsWarning: 'pixels' did not parse as fits unit: At col 0, Unit 'pixels' not supported by the FITS standard. Did you mean pixel? If this is meant to be a custom unit, define it with 'u.def_unit'. To have it recognized inside a file reader or other code, enable it with 'u.add_enabled_units'. For details, see https://docs.astropy.org/en/latest/units/combining_and_defining.html [astropy.units.core]\n"
     ]
    },
    {
     "name": "stdout",
     "output_type": "stream",
     "text": [
      "Downloading URL https://mast.stsci.edu/api/v0.1/Download/file?uri=mast:HLSP/tess-spoc/s0068/target/0000/0003/8972/4536/hlsp_tess-spoc_tess_phot_0000000389724536-s0068_tess_v1_lc.fits to ./mastDownload/HLSP/hlsp_tess-spoc_tess_phot_0000000389724536-s0068_tess_v1_tp/hlsp_tess-spoc_tess_phot_0000000389724536-s0068_tess_v1_lc.fits ... [Done]\n",
      "\n",
      "✅ Download summary:\n",
      "Sector ...\n",
      "------ ...\n",
      "     1 ...\n",
      "    28 ...\n",
      "    68 ...\n",
      "\n",
      "Temporary data stored in: /var/folders/fs/c4gpqhmx5tbcbsv_cbs0yhn80000gn/T/tmp91274zlr\n",
      "This directory will be deleted when the program exits.\n",
      "W :  144\n",
      "W :  144\n"
     ]
    },
    {
     "name": "stderr",
     "output_type": "stream",
     "text": [
      "WARNING: UnitsWarning: 'BJD - 2457000, days' did not parse as fits unit: At col 0, Unit 'BJD' not supported by the FITS standard.  If this is meant to be a custom unit, define it with 'u.def_unit'. To have it recognized inside a file reader or other code, enable it with 'u.add_enabled_units'. For details, see https://docs.astropy.org/en/latest/units/combining_and_defining.html [astropy.units.core]\n",
      "WARNING: UnitsWarning: 'e-/s' did not parse as fits unit: At col 0, Unit 'e' not supported by the FITS standard.  If this is meant to be a custom unit, define it with 'u.def_unit'. To have it recognized inside a file reader or other code, enable it with 'u.add_enabled_units'. For details, see https://docs.astropy.org/en/latest/units/combining_and_defining.html [astropy.units.core]\n",
      "WARNING: UnitsWarning: 'pixels' did not parse as fits unit: At col 0, Unit 'pixels' not supported by the FITS standard. Did you mean pixel? If this is meant to be a custom unit, define it with 'u.def_unit'. To have it recognized inside a file reader or other code, enable it with 'u.add_enabled_units'. For details, see https://docs.astropy.org/en/latest/units/combining_and_defining.html [astropy.units.core]\n"
     ]
    },
    {
     "name": "stdout",
     "output_type": "stream",
     "text": [
      "W :  144\n",
      "W :  144\n",
      "W :  144\n",
      "W :  144\n",
      "Initial Chi-Sqaured : 13572.16 [red 215.43]\n",
      "Fitted parameters for TIC-389724536:\n",
      "t_zero : 2459075.7095521023\n",
      "radius_1 : 0.030792988639210886\n",
      "k : 0.05825353207250501\n",
      "b : 0.003267203547643094\n",
      "Final Chi-Sqaured : 554.28 [red 8.80]\n",
      "Initial Chi-Sqaured : 583.82 [red 7.03]\n",
      "Fitted parameters for TIC-389724536:\n",
      "t_zero : 2460169.60663631\n",
      "radius_1 : 0.03792560921672131\n",
      "k : 0.064350787207546\n",
      "b : 0.5482019151944946\n",
      "Final Chi-Sqaured : 111.25 [red 1.34]\n",
      "1 73 1 72.92647228051598 1093.8970842077397 15 15.193015058440828\n",
      "0 0.0\n",
      "1 0.0\n",
      "2 0.0\n",
      "3 0.0\n",
      "4 0.0\n",
      "5 0.0\n",
      "6 0.0\n",
      "7 0.0\n",
      "8 0.0\n",
      "9 0.0\n",
      "10 0.0\n",
      "11 0.0\n",
      "12 0.0\n",
      "13 0.0\n",
      "14 0.0\n",
      "15 0.0\n",
      "16 0.0\n",
      "17 0.0\n",
      "18 0.0\n",
      "19 0.0\n",
      "20 0.0\n",
      "21 0.0\n",
      "22 0.0\n",
      "23 0.0\n",
      "24 0.0\n",
      "25 0.0\n",
      "26 0.0\n",
      "27 0.0\n",
      "28 0.0\n",
      "29 0.0\n",
      "30 0.0\n",
      "31 0.0\n",
      "32 0.0\n",
      "33 0.0\n",
      "34 0.0\n",
      "35 0.0\n",
      "36 0.0\n",
      "37 0.0\n",
      "38 0.0\n",
      "39 0.0\n",
      "40 0.0\n",
      "41 0.0\n",
      "42 0.0\n",
      "43 0.0\n",
      "44 0.0\n",
      "45 0.0\n",
      "46 0.0\n",
      "47 0.0\n",
      "48 0.0\n",
      "49 0.0\n",
      "50 0.0\n",
      "51 0.0\n",
      "52 0.0\n",
      "53 0.0\n",
      "54 0.0\n",
      "55 0.0\n",
      "56 0.0\n",
      "57 0.0\n",
      "58 0.0\n",
      "59 0.0\n",
      "60 0.0\n",
      "61 0.0\n",
      "62 0.0\n",
      "63 0.0\n",
      "64 0.0\n",
      "65 0.0\n",
      "66 0.0\n",
      "67 0.0\n",
      "68 0.0\n",
      "69 0.0\n",
      "70 0.0\n",
      "71 0.0\n"
     ]
    },
    {
     "name": "stderr",
     "output_type": "stream",
     "text": [
      "100%|███████████████████████████████████████████| 72/72 [00:06<00:00, 11.48it/s]\n"
     ]
    },
    {
     "name": "stdout",
     "output_type": "stream",
     "text": [
      "\n",
      "📂 Download directory: /var/folders/fs/c4gpqhmx5tbcbsv_cbs0yhn80000gn/T/tmpumk9cy_9\n",
      "\n",
      "Querying TIC 393229954 from MAST...\n",
      "Downloading URL https://mast.stsci.edu/api/v0.1/Download/file?uri=mast:HLSP/tess-spoc/s0005/target/0000/0003/9322/9954/hlsp_tess-spoc_tess_phot_0000000393229954-s0005_tess_v1_lc.fits to ./mastDownload/HLSP/hlsp_tess-spoc_tess_phot_0000000393229954-s0005_tess_v1_tp/hlsp_tess-spoc_tess_phot_0000000393229954-s0005_tess_v1_lc.fits ... [Done]\n"
     ]
    },
    {
     "name": "stderr",
     "output_type": "stream",
     "text": [
      "WARNING: UnitsWarning: 'BJD - 2457000, days' did not parse as fits unit: At col 0, Unit 'BJD' not supported by the FITS standard.  If this is meant to be a custom unit, define it with 'u.def_unit'. To have it recognized inside a file reader or other code, enable it with 'u.add_enabled_units'. For details, see https://docs.astropy.org/en/latest/units/combining_and_defining.html [astropy.units.core]\n",
      "WARNING: UnitsWarning: 'e-/s' did not parse as fits unit: At col 0, Unit 'e' not supported by the FITS standard.  If this is meant to be a custom unit, define it with 'u.def_unit'. To have it recognized inside a file reader or other code, enable it with 'u.add_enabled_units'. For details, see https://docs.astropy.org/en/latest/units/combining_and_defining.html [astropy.units.core]\n",
      "WARNING: UnitsWarning: 'pixels' did not parse as fits unit: At col 0, Unit 'pixels' not supported by the FITS standard. Did you mean pixel? If this is meant to be a custom unit, define it with 'u.def_unit'. To have it recognized inside a file reader or other code, enable it with 'u.add_enabled_units'. For details, see https://docs.astropy.org/en/latest/units/combining_and_defining.html [astropy.units.core]\n"
     ]
    },
    {
     "name": "stdout",
     "output_type": "stream",
     "text": [
      "Downloading URL https://mast.stsci.edu/api/v0.1/Download/file?uri=mast:HLSP/tess-spoc/s0006/target/0000/0003/9322/9954/hlsp_tess-spoc_tess_phot_0000000393229954-s0006_tess_v1_lc.fits to ./mastDownload/HLSP/hlsp_tess-spoc_tess_phot_0000000393229954-s0006_tess_v1_tp/hlsp_tess-spoc_tess_phot_0000000393229954-s0006_tess_v1_lc.fits ... [Done]\n"
     ]
    },
    {
     "name": "stderr",
     "output_type": "stream",
     "text": [
      "WARNING: UnitsWarning: 'BJD - 2457000, days' did not parse as fits unit: At col 0, Unit 'BJD' not supported by the FITS standard.  If this is meant to be a custom unit, define it with 'u.def_unit'. To have it recognized inside a file reader or other code, enable it with 'u.add_enabled_units'. For details, see https://docs.astropy.org/en/latest/units/combining_and_defining.html [astropy.units.core]\n",
      "WARNING: UnitsWarning: 'e-/s' did not parse as fits unit: At col 0, Unit 'e' not supported by the FITS standard.  If this is meant to be a custom unit, define it with 'u.def_unit'. To have it recognized inside a file reader or other code, enable it with 'u.add_enabled_units'. For details, see https://docs.astropy.org/en/latest/units/combining_and_defining.html [astropy.units.core]\n",
      "WARNING: UnitsWarning: 'pixels' did not parse as fits unit: At col 0, Unit 'pixels' not supported by the FITS standard. Did you mean pixel? If this is meant to be a custom unit, define it with 'u.def_unit'. To have it recognized inside a file reader or other code, enable it with 'u.add_enabled_units'. For details, see https://docs.astropy.org/en/latest/units/combining_and_defining.html [astropy.units.core]\n"
     ]
    },
    {
     "name": "stdout",
     "output_type": "stream",
     "text": [
      "Downloading URL https://mast.stsci.edu/api/v0.1/Download/file?uri=mast:HLSP/tess-spoc/s0007/target/0000/0003/9322/9954/hlsp_tess-spoc_tess_phot_0000000393229954-s0007_tess_v1_lc.fits to ./mastDownload/HLSP/hlsp_tess-spoc_tess_phot_0000000393229954-s0007_tess_v1_tp/hlsp_tess-spoc_tess_phot_0000000393229954-s0007_tess_v1_lc.fits ... [Done]\n"
     ]
    },
    {
     "name": "stderr",
     "output_type": "stream",
     "text": [
      "WARNING: UnitsWarning: 'BJD - 2457000, days' did not parse as fits unit: At col 0, Unit 'BJD' not supported by the FITS standard.  If this is meant to be a custom unit, define it with 'u.def_unit'. To have it recognized inside a file reader or other code, enable it with 'u.add_enabled_units'. For details, see https://docs.astropy.org/en/latest/units/combining_and_defining.html [astropy.units.core]\n",
      "WARNING: UnitsWarning: 'e-/s' did not parse as fits unit: At col 0, Unit 'e' not supported by the FITS standard.  If this is meant to be a custom unit, define it with 'u.def_unit'. To have it recognized inside a file reader or other code, enable it with 'u.add_enabled_units'. For details, see https://docs.astropy.org/en/latest/units/combining_and_defining.html [astropy.units.core]\n",
      "WARNING: UnitsWarning: 'pixels' did not parse as fits unit: At col 0, Unit 'pixels' not supported by the FITS standard. Did you mean pixel? If this is meant to be a custom unit, define it with 'u.def_unit'. To have it recognized inside a file reader or other code, enable it with 'u.add_enabled_units'. For details, see https://docs.astropy.org/en/latest/units/combining_and_defining.html [astropy.units.core]\n"
     ]
    },
    {
     "name": "stdout",
     "output_type": "stream",
     "text": [
      "Downloading URL https://mast.stsci.edu/api/v0.1/Download/file?uri=mast:HLSP/tess-spoc/s0032/target/0000/0003/9322/9954/hlsp_tess-spoc_tess_phot_0000000393229954-s0032_tess_v1_lc.fits to ./mastDownload/HLSP/hlsp_tess-spoc_tess_phot_0000000393229954-s0032_tess_v1_tp/hlsp_tess-spoc_tess_phot_0000000393229954-s0032_tess_v1_lc.fits ... [Done]\n"
     ]
    },
    {
     "name": "stderr",
     "output_type": "stream",
     "text": [
      "WARNING: UnitsWarning: 'BJD - 2457000, days' did not parse as fits unit: At col 0, Unit 'BJD' not supported by the FITS standard.  If this is meant to be a custom unit, define it with 'u.def_unit'. To have it recognized inside a file reader or other code, enable it with 'u.add_enabled_units'. For details, see https://docs.astropy.org/en/latest/units/combining_and_defining.html [astropy.units.core]\n",
      "WARNING: UnitsWarning: 'e-/s' did not parse as fits unit: At col 0, Unit 'e' not supported by the FITS standard.  If this is meant to be a custom unit, define it with 'u.def_unit'. To have it recognized inside a file reader or other code, enable it with 'u.add_enabled_units'. For details, see https://docs.astropy.org/en/latest/units/combining_and_defining.html [astropy.units.core]\n",
      "WARNING: UnitsWarning: 'pixels' did not parse as fits unit: At col 0, Unit 'pixels' not supported by the FITS standard. Did you mean pixel? If this is meant to be a custom unit, define it with 'u.def_unit'. To have it recognized inside a file reader or other code, enable it with 'u.add_enabled_units'. For details, see https://docs.astropy.org/en/latest/units/combining_and_defining.html [astropy.units.core]\n"
     ]
    },
    {
     "name": "stdout",
     "output_type": "stream",
     "text": [
      "Downloading URL https://mast.stsci.edu/api/v0.1/Download/file?uri=mast:HLSP/tess-spoc/s0033/target/0000/0003/9322/9954/hlsp_tess-spoc_tess_phot_0000000393229954-s0033_tess_v1_lc.fits to ./mastDownload/HLSP/hlsp_tess-spoc_tess_phot_0000000393229954-s0033_tess_v1_tp/hlsp_tess-spoc_tess_phot_0000000393229954-s0033_tess_v1_lc.fits ... [Done]\n"
     ]
    },
    {
     "name": "stderr",
     "output_type": "stream",
     "text": [
      "WARNING: UnitsWarning: 'BJD - 2457000, days' did not parse as fits unit: At col 0, Unit 'BJD' not supported by the FITS standard.  If this is meant to be a custom unit, define it with 'u.def_unit'. To have it recognized inside a file reader or other code, enable it with 'u.add_enabled_units'. For details, see https://docs.astropy.org/en/latest/units/combining_and_defining.html [astropy.units.core]\n",
      "WARNING: UnitsWarning: 'e-/s' did not parse as fits unit: At col 0, Unit 'e' not supported by the FITS standard.  If this is meant to be a custom unit, define it with 'u.def_unit'. To have it recognized inside a file reader or other code, enable it with 'u.add_enabled_units'. For details, see https://docs.astropy.org/en/latest/units/combining_and_defining.html [astropy.units.core]\n",
      "WARNING: UnitsWarning: 'pixels' did not parse as fits unit: At col 0, Unit 'pixels' not supported by the FITS standard. Did you mean pixel? If this is meant to be a custom unit, define it with 'u.def_unit'. To have it recognized inside a file reader or other code, enable it with 'u.add_enabled_units'. For details, see https://docs.astropy.org/en/latest/units/combining_and_defining.html [astropy.units.core]\n"
     ]
    },
    {
     "name": "stdout",
     "output_type": "stream",
     "text": [
      "Downloading URL https://mast.stsci.edu/api/v0.1/Download/file?uri=mast:TESS/product/tess2024353092137-s0087-0000000393229954-0284-s_lc.fits to ./mastDownload/TESS/tess2024353092137-s0087-0000000393229954-0284-s/tess2024353092137-s0087-0000000393229954-0284-s_lc.fits ... [Done]\n",
      "\n",
      "✅ Download summary:\n",
      "Sector SPOC FFI QLP LC TESS-SPOC LC SPOC LC    Source                                                                File                                                            \n",
      "------ -------- ------ ------------ ------- ------------ ----------------------------------------------------------------------------------------------------------------------------\n",
      "     5       --     --            X      -- TESS-SPOC LC /var/folders/fs/c4gpqhmx5tbcbsv_cbs0yhn80000gn/T/tmpumk9cy_9/hlsp_tess-spoc_tess_phot_0000000393229954-s0005_tess_v1_lc.fits\n",
      "     6       --     --            X      -- TESS-SPOC LC /var/folders/fs/c4gpqhmx5tbcbsv_cbs0yhn80000gn/T/tmpumk9cy_9/hlsp_tess-spoc_tess_phot_0000000393229954-s0006_tess_v1_lc.fits\n",
      "     7       --     --            X      -- TESS-SPOC LC /var/folders/fs/c4gpqhmx5tbcbsv_cbs0yhn80000gn/T/tmpumk9cy_9/hlsp_tess-spoc_tess_phot_0000000393229954-s0007_tess_v1_lc.fits\n",
      "    32       --     --            X      -- TESS-SPOC LC /var/folders/fs/c4gpqhmx5tbcbsv_cbs0yhn80000gn/T/tmpumk9cy_9/hlsp_tess-spoc_tess_phot_0000000393229954-s0032_tess_v1_lc.fits\n",
      "    33       --     --            X      -- TESS-SPOC LC /var/folders/fs/c4gpqhmx5tbcbsv_cbs0yhn80000gn/T/tmpumk9cy_9/hlsp_tess-spoc_tess_phot_0000000393229954-s0033_tess_v1_lc.fits\n",
      "    87       --     --           --       X      SPOC LC         /var/folders/fs/c4gpqhmx5tbcbsv_cbs0yhn80000gn/T/tmpumk9cy_9/tess2024353092137-s0087-0000000393229954-0284-s_lc.fits\n",
      "\n",
      "Temporary data stored in: /var/folders/fs/c4gpqhmx5tbcbsv_cbs0yhn80000gn/T/tmpumk9cy_9\n",
      "This directory will be deleted when the program exits.\n",
      "W :  143\n",
      "W :  143\n"
     ]
    },
    {
     "name": "stderr",
     "output_type": "stream",
     "text": [
      "WARNING: UnitsWarning: 'BJD - 2457000, days' did not parse as fits unit: At col 0, Unit 'BJD' not supported by the FITS standard.  If this is meant to be a custom unit, define it with 'u.def_unit'. To have it recognized inside a file reader or other code, enable it with 'u.add_enabled_units'. For details, see https://docs.astropy.org/en/latest/units/combining_and_defining.html [astropy.units.core]\n",
      "WARNING: UnitsWarning: 'e-/s' did not parse as fits unit: At col 0, Unit 'e' not supported by the FITS standard.  If this is meant to be a custom unit, define it with 'u.def_unit'. To have it recognized inside a file reader or other code, enable it with 'u.add_enabled_units'. For details, see https://docs.astropy.org/en/latest/units/combining_and_defining.html [astropy.units.core]\n",
      "WARNING: UnitsWarning: 'pixels' did not parse as fits unit: At col 0, Unit 'pixels' not supported by the FITS standard. Did you mean pixel? If this is meant to be a custom unit, define it with 'u.def_unit'. To have it recognized inside a file reader or other code, enable it with 'u.add_enabled_units'. For details, see https://docs.astropy.org/en/latest/units/combining_and_defining.html [astropy.units.core]\n"
     ]
    },
    {
     "name": "stdout",
     "output_type": "stream",
     "text": [
      "W :  144\n",
      "W :  144\n",
      "W :  144\n",
      "W :  144\n",
      "W :  144\n",
      "W :  144\n",
      "W :  144\n",
      "W :  144\n",
      "W :  144\n",
      "W :  144\n",
      "W :  144\n",
      "W :  144\n",
      "Initial Chi-Sqaured : 76.86 [red 5.49]\n",
      "Fitted parameters for TIC-393229954:\n",
      "t_zero : 2458446.799066341\n",
      "radius_1 : 0.02278165405942187\n",
      "k : 0.1229910278157289\n",
      "b : 0.9773886350674184\n",
      "Final Chi-Sqaured : 13.47 [red 0.96]\n",
      "Initial Chi-Sqaured : 595.53 [red 27.07]\n",
      "Fitted parameters for TIC-393229954:\n",
      "t_zero : 2459204.5453514624\n",
      "radius_1 : 0.009315309539454364\n",
      "k : 0.07406329617582129\n",
      "b : 0.0012780438648315462\n",
      "Final Chi-Sqaured : 165.79 [red 7.54]\n",
      "1 51 1 50.516419008094815 757.7462851214223 15 15.154925702428445\n",
      "0 0.1633476213661127\n",
      "1 0.16334762135570374\n",
      "2 0.16334762135223407\n",
      "3 0.1633476213588016\n",
      "4 0.16334762135607545\n",
      "5 0.16334762135434067\n",
      "6 0.16334762136251912\n",
      "7 0.16334762136871495\n",
      "8 0.1633476213735477\n",
      "9 0.16334762136400616\n",
      "10 -146.52465908687557\n",
      "11 -174.00524360218645\n",
      "12 -159.7777154463356\n",
      "13 -165.45051234580708\n",
      "14 -163.65580646691942\n",
      "15 -159.8128063787746\n",
      "16 0.16334762136028863\n",
      "17 -174.62942149337695\n",
      "18 -192.14735640877396\n",
      "19 -144.75446727363558\n",
      "20 -188.57549548895136\n",
      "21 -322.56125170730996\n",
      "22 -324.75479255453894\n",
      "23 -347.5318404284352\n",
      "24 -180.340160380582\n",
      "25 -505.85681488267\n",
      "26 -1119.7204948879253\n",
      "27 -3869.7661368249364\n",
      "28 -702.5734281206903\n",
      "29 -714.2050413841755\n",
      "30 -624.510658480629\n",
      "31 -662.4804291708439\n",
      "32 -1326.8405867499725\n",
      "33 -1851.6036082072048\n",
      "34 -1512.9982812559838\n",
      "35 -3168.2012562108666\n",
      "36 -987.5262827369916\n",
      "37 -2540.4149476868856\n",
      "38 -6303.385227928111\n",
      "39 -13909.792101519866\n",
      "40 -740.6107529920148\n",
      "41 -814.9068873097509\n",
      "42 -730.5621727902038\n",
      "43 -2240.625758516534\n",
      "44 -983.6751523941417\n",
      "45 -4698.541272898319\n",
      "46 -1459.4886882856865\n",
      "47 -1965.5014389026412\n",
      "48 -2438.8642144783075\n",
      "49 -1293.3935172801262\n"
     ]
    },
    {
     "name": "stderr",
     "output_type": "stream",
     "text": [
      "100%|████████████████████████████████████████████████████████████████████████████████████████████████████████████████████████████████████████████████████████████████████████████████████████████████████████████████| 50/50 [00:09<00:00,  5.10it/s]\n"
     ]
    },
    {
     "name": "stdout",
     "output_type": "stream",
     "text": [
      "\n",
      "📂 Download directory: /var/folders/fs/c4gpqhmx5tbcbsv_cbs0yhn80000gn/T/tmpr1q8jdr3\n",
      "\n",
      "Querying TIC 396720998 from MAST...\n",
      "Downloading URL https://mast.stsci.edu/api/v0.1/Download/file?uri=mast:TESS/product/tess2018263035959-s0003-0000000396720998-0123-s_lc.fits to ./mastDownload/TESS/tess2018263035959-s0003-0000000396720998-0123-s/tess2018263035959-s0003-0000000396720998-0123-s_lc.fits ... [Done]\n"
     ]
    },
    {
     "name": "stderr",
     "output_type": "stream",
     "text": [
      "WARNING: UnitsWarning: 'BJD - 2457000, days' did not parse as fits unit: At col 0, Unit 'BJD' not supported by the FITS standard.  If this is meant to be a custom unit, define it with 'u.def_unit'. To have it recognized inside a file reader or other code, enable it with 'u.add_enabled_units'. For details, see https://docs.astropy.org/en/latest/units/combining_and_defining.html [astropy.units.core]\n",
      "WARNING: UnitsWarning: 'e-/s' did not parse as fits unit: At col 0, Unit 'e' not supported by the FITS standard.  If this is meant to be a custom unit, define it with 'u.def_unit'. To have it recognized inside a file reader or other code, enable it with 'u.add_enabled_units'. For details, see https://docs.astropy.org/en/latest/units/combining_and_defining.html [astropy.units.core]\n",
      "WARNING: UnitsWarning: 'pixels' did not parse as fits unit: At col 0, Unit 'pixels' not supported by the FITS standard. Did you mean pixel? If this is meant to be a custom unit, define it with 'u.def_unit'. To have it recognized inside a file reader or other code, enable it with 'u.add_enabled_units'. For details, see https://docs.astropy.org/en/latest/units/combining_and_defining.html [astropy.units.core]\n"
     ]
    },
    {
     "name": "stdout",
     "output_type": "stream",
     "text": [
      "Downloading URL https://mast.stsci.edu/api/v0.1/Download/file?uri=mast:TESS/product/tess2018292075959-s0004-0000000396720998-0124-s_lc.fits to ./mastDownload/TESS/tess2018292075959-s0004-0000000396720998-0124-s/tess2018292075959-s0004-0000000396720998-0124-s_lc.fits ... [Done]\n"
     ]
    },
    {
     "name": "stderr",
     "output_type": "stream",
     "text": [
      "WARNING: UnitsWarning: 'BJD - 2457000, days' did not parse as fits unit: At col 0, Unit 'BJD' not supported by the FITS standard.  If this is meant to be a custom unit, define it with 'u.def_unit'. To have it recognized inside a file reader or other code, enable it with 'u.add_enabled_units'. For details, see https://docs.astropy.org/en/latest/units/combining_and_defining.html [astropy.units.core]\n",
      "WARNING: UnitsWarning: 'e-/s' did not parse as fits unit: At col 0, Unit 'e' not supported by the FITS standard.  If this is meant to be a custom unit, define it with 'u.def_unit'. To have it recognized inside a file reader or other code, enable it with 'u.add_enabled_units'. For details, see https://docs.astropy.org/en/latest/units/combining_and_defining.html [astropy.units.core]\n",
      "WARNING: UnitsWarning: 'pixels' did not parse as fits unit: At col 0, Unit 'pixels' not supported by the FITS standard. Did you mean pixel? If this is meant to be a custom unit, define it with 'u.def_unit'. To have it recognized inside a file reader or other code, enable it with 'u.add_enabled_units'. For details, see https://docs.astropy.org/en/latest/units/combining_and_defining.html [astropy.units.core]\n"
     ]
    },
    {
     "name": "stdout",
     "output_type": "stream",
     "text": [
      "Downloading URL https://mast.stsci.edu/api/v0.1/Download/file?uri=mast:TESS/product/tess2018319095959-s0005-0000000396720998-0125-s_lc.fits to ./mastDownload/TESS/tess2018319095959-s0005-0000000396720998-0125-s/tess2018319095959-s0005-0000000396720998-0125-s_lc.fits ... [Done]\n"
     ]
    },
    {
     "name": "stderr",
     "output_type": "stream",
     "text": [
      "WARNING: UnitsWarning: 'BJD - 2457000, days' did not parse as fits unit: At col 0, Unit 'BJD' not supported by the FITS standard.  If this is meant to be a custom unit, define it with 'u.def_unit'. To have it recognized inside a file reader or other code, enable it with 'u.add_enabled_units'. For details, see https://docs.astropy.org/en/latest/units/combining_and_defining.html [astropy.units.core]\n",
      "WARNING: UnitsWarning: 'e-/s' did not parse as fits unit: At col 0, Unit 'e' not supported by the FITS standard.  If this is meant to be a custom unit, define it with 'u.def_unit'. To have it recognized inside a file reader or other code, enable it with 'u.add_enabled_units'. For details, see https://docs.astropy.org/en/latest/units/combining_and_defining.html [astropy.units.core]\n",
      "WARNING: UnitsWarning: 'pixels' did not parse as fits unit: At col 0, Unit 'pixels' not supported by the FITS standard. Did you mean pixel? If this is meant to be a custom unit, define it with 'u.def_unit'. To have it recognized inside a file reader or other code, enable it with 'u.add_enabled_units'. For details, see https://docs.astropy.org/en/latest/units/combining_and_defining.html [astropy.units.core]\n"
     ]
    },
    {
     "name": "stdout",
     "output_type": "stream",
     "text": [
      "Downloading URL https://mast.stsci.edu/api/v0.1/Download/file?uri=mast:TESS/product/tess2020266004630-s0030-0000000396720998-0195-s_lc.fits to ./mastDownload/TESS/tess2020266004630-s0030-0000000396720998-0195-s/tess2020266004630-s0030-0000000396720998-0195-s_lc.fits ... [Done]\n"
     ]
    },
    {
     "name": "stderr",
     "output_type": "stream",
     "text": [
      "WARNING: UnitsWarning: 'BJD - 2457000, days' did not parse as fits unit: At col 0, Unit 'BJD' not supported by the FITS standard.  If this is meant to be a custom unit, define it with 'u.def_unit'. To have it recognized inside a file reader or other code, enable it with 'u.add_enabled_units'. For details, see https://docs.astropy.org/en/latest/units/combining_and_defining.html [astropy.units.core]\n",
      "WARNING: UnitsWarning: 'e-/s' did not parse as fits unit: At col 0, Unit 'e' not supported by the FITS standard.  If this is meant to be a custom unit, define it with 'u.def_unit'. To have it recognized inside a file reader or other code, enable it with 'u.add_enabled_units'. For details, see https://docs.astropy.org/en/latest/units/combining_and_defining.html [astropy.units.core]\n",
      "WARNING: UnitsWarning: 'pixels' did not parse as fits unit: At col 0, Unit 'pixels' not supported by the FITS standard. Did you mean pixel? If this is meant to be a custom unit, define it with 'u.def_unit'. To have it recognized inside a file reader or other code, enable it with 'u.add_enabled_units'. For details, see https://docs.astropy.org/en/latest/units/combining_and_defining.html [astropy.units.core]\n"
     ]
    },
    {
     "name": "stdout",
     "output_type": "stream",
     "text": [
      "Downloading URL https://mast.stsci.edu/api/v0.1/Download/file?uri=mast:TESS/product/tess2020294194027-s0031-0000000396720998-0198-s_lc.fits to ./mastDownload/TESS/tess2020294194027-s0031-0000000396720998-0198-s/tess2020294194027-s0031-0000000396720998-0198-s_lc.fits ... [Done]\n"
     ]
    },
    {
     "name": "stderr",
     "output_type": "stream",
     "text": [
      "WARNING: UnitsWarning: 'BJD - 2457000, days' did not parse as fits unit: At col 0, Unit 'BJD' not supported by the FITS standard.  If this is meant to be a custom unit, define it with 'u.def_unit'. To have it recognized inside a file reader or other code, enable it with 'u.add_enabled_units'. For details, see https://docs.astropy.org/en/latest/units/combining_and_defining.html [astropy.units.core]\n",
      "WARNING: UnitsWarning: 'e-/s' did not parse as fits unit: At col 0, Unit 'e' not supported by the FITS standard.  If this is meant to be a custom unit, define it with 'u.def_unit'. To have it recognized inside a file reader or other code, enable it with 'u.add_enabled_units'. For details, see https://docs.astropy.org/en/latest/units/combining_and_defining.html [astropy.units.core]\n",
      "WARNING: UnitsWarning: 'pixels' did not parse as fits unit: At col 0, Unit 'pixels' not supported by the FITS standard. Did you mean pixel? If this is meant to be a custom unit, define it with 'u.def_unit'. To have it recognized inside a file reader or other code, enable it with 'u.add_enabled_units'. For details, see https://docs.astropy.org/en/latest/units/combining_and_defining.html [astropy.units.core]\n"
     ]
    },
    {
     "name": "stdout",
     "output_type": "stream",
     "text": [
      "Downloading URL https://mast.stsci.edu/api/v0.1/Download/file?uri=mast:TESS/product/tess2020324010417-s0032-0000000396720998-0200-s_lc.fits to ./mastDownload/TESS/tess2020324010417-s0032-0000000396720998-0200-s/tess2020324010417-s0032-0000000396720998-0200-s_lc.fits ... [Done]\n"
     ]
    },
    {
     "name": "stderr",
     "output_type": "stream",
     "text": [
      "WARNING: UnitsWarning: 'BJD - 2457000, days' did not parse as fits unit: At col 0, Unit 'BJD' not supported by the FITS standard.  If this is meant to be a custom unit, define it with 'u.def_unit'. To have it recognized inside a file reader or other code, enable it with 'u.add_enabled_units'. For details, see https://docs.astropy.org/en/latest/units/combining_and_defining.html [astropy.units.core]\n",
      "WARNING: UnitsWarning: 'e-/s' did not parse as fits unit: At col 0, Unit 'e' not supported by the FITS standard.  If this is meant to be a custom unit, define it with 'u.def_unit'. To have it recognized inside a file reader or other code, enable it with 'u.add_enabled_units'. For details, see https://docs.astropy.org/en/latest/units/combining_and_defining.html [astropy.units.core]\n",
      "WARNING: UnitsWarning: 'pixels' did not parse as fits unit: At col 0, Unit 'pixels' not supported by the FITS standard. Did you mean pixel? If this is meant to be a custom unit, define it with 'u.def_unit'. To have it recognized inside a file reader or other code, enable it with 'u.add_enabled_units'. For details, see https://docs.astropy.org/en/latest/units/combining_and_defining.html [astropy.units.core]\n"
     ]
    },
    {
     "name": "stdout",
     "output_type": "stream",
     "text": [
      "\n",
      "✅ Download summary:\n",
      "Sector SPOC FFI QLP LC TESS-SPOC LC SPOC LC     Source                                                            File                                                        \n",
      "------ -------- ------ ------------ ------- ------------- --------------------------------------------------------------------------------------------------------------------\n",
      "     3       --     --           --       X       SPOC LC /var/folders/fs/c4gpqhmx5tbcbsv_cbs0yhn80000gn/T/tmpr1q8jdr3/tess2018263035959-s0003-0000000396720998-0123-s_lc.fits\n",
      "     4       --     --           --       X       SPOC LC /var/folders/fs/c4gpqhmx5tbcbsv_cbs0yhn80000gn/T/tmpr1q8jdr3/tess2018292075959-s0004-0000000396720998-0124-s_lc.fits\n",
      "     5       --     --           --       X       SPOC LC /var/folders/fs/c4gpqhmx5tbcbsv_cbs0yhn80000gn/T/tmpr1q8jdr3/tess2018319095959-s0005-0000000396720998-0125-s_lc.fits\n",
      "    30       --     --           --       X       SPOC LC /var/folders/fs/c4gpqhmx5tbcbsv_cbs0yhn80000gn/T/tmpr1q8jdr3/tess2020266004630-s0030-0000000396720998-0195-s_lc.fits\n",
      "    31       --     --           --       X       SPOC LC /var/folders/fs/c4gpqhmx5tbcbsv_cbs0yhn80000gn/T/tmpr1q8jdr3/tess2020294194027-s0031-0000000396720998-0198-s_lc.fits\n",
      "    32       --     --           --       X       SPOC LC /var/folders/fs/c4gpqhmx5tbcbsv_cbs0yhn80000gn/T/tmpr1q8jdr3/tess2020324010417-s0032-0000000396720998-0200-s_lc.fits\n",
      "    97        X     --           --      -- FFI custom LC /var/folders/fs/c4gpqhmx5tbcbsv_cbs0yhn80000gn/T/tmpr1q8jdr3/tess-s0097-3-4_65.655325_-54.147175_10x10_astrocut.fits\n",
      "\n",
      "Temporary data stored in: /var/folders/fs/c4gpqhmx5tbcbsv_cbs0yhn80000gn/T/tmpr1q8jdr3\n",
      "This directory will be deleted when the program exits.\n",
      "W :  144\n",
      "W :  144\n",
      "W :  144\n",
      "W :  40\n",
      "W :  144\n",
      "W :  144\n",
      "W :  144\n",
      "W :  144\n",
      "W :  144\n",
      "W :  144\n",
      "W :  144\n",
      "W :  144\n",
      "W :  144\n",
      "W :  144\n",
      "W :  144\n",
      "W :  144\n",
      "W :  144\n",
      "Initial Chi-Sqaured : 134.50 [red 1.72]\n",
      "Fitted parameters for TIC-396720998:\n",
      "t_zero : 2458399.237195914\n",
      "radius_1 : 0.04995718461704286\n",
      "k : 0.23947344591973152\n",
      "b : 1.1250107918984018\n",
      "Final Chi-Sqaured : 81.01 [red 1.04]\n",
      "Initial Chi-Sqaured : 35.90 [red 1.89]\n",
      "Fitted parameters for TIC-396720998:\n",
      "t_zero : 2459140.908158476\n",
      "radius_1 : 0.02941801147099854\n",
      "k : 0.058124848218642944\n",
      "b : 0.004108578937852547\n",
      "Final Chi-Sqaured : 25.95 [red 1.37]\n",
      "1 50 1 49.44473083745688 741.6709625618532 15 15.136142093099046\n",
      "0 0.0\n",
      "1 0.0\n",
      "2 0.0\n",
      "3 0.0\n",
      "4 0.0\n",
      "5 0.0\n",
      "6 0.0\n",
      "7 0.0\n",
      "8 0.0\n",
      "9 0.0\n",
      "10 0.0\n",
      "11 -13.57441838951657\n",
      "12 -18.07616010222804\n",
      "13 -26.962495984183906\n",
      "14 -18.17651852943461\n",
      "15 -17.3666643950408\n",
      "16 -24.085712197634834\n",
      "17 -17.22815915112195\n",
      "18 -36.2672809823236\n",
      "19 0.09164036035305326\n",
      "20 -24.818093960775208\n",
      "21 -18.359692716487725\n",
      "22 -19.19644893311173\n",
      "23 -40.32800902112662\n",
      "24 -28.072666379826632\n",
      "25 -37.891903317708426\n",
      "26 -42.80944495602369\n",
      "27 -45.13375526621806\n",
      "28 -10.386654403783423\n",
      "29 -37.52308327390733\n",
      "30 -45.21806811975955\n",
      "31 -31.62940255666068\n",
      "32 -30.26022713551108\n",
      "33 -53.64558651422722\n",
      "34 -69.0630673154309\n",
      "35 -43.66645497175132\n",
      "36 -59.331452802804485\n",
      "37 -72.52628367416264\n",
      "38 -52.877599555571564\n",
      "39 -62.350160005275555\n",
      "40 -79.62184944831839\n",
      "41 -83.1637428228604\n",
      "42 -48.950590145858726\n",
      "43 -54.04058846382914\n",
      "44 -78.80940973622631\n",
      "45 -83.7959735759865\n",
      "46 -96.6273745943718\n",
      "47 -102.68066763022058\n",
      "48 -88.53947135399034\n"
     ]
    },
    {
     "name": "stderr",
     "output_type": "stream",
     "text": [
      "100%|████████████████████████████████████████████████████████████████████████████████████████████████████████████████████████████████████████████████████████████████████████████████████████████████████████████████| 49/49 [00:11<00:00,  4.36it/s]\n"
     ]
    },
    {
     "name": "stdout",
     "output_type": "stream",
     "text": [
      "No transists visible\n",
      "\n",
      "📂 Download directory: /var/folders/fs/c4gpqhmx5tbcbsv_cbs0yhn80000gn/T/tmp3is3wb7x\n",
      "\n",
      "Querying TIC 404031975 from MAST...\n",
      "Downloading URL https://mast.stsci.edu/api/v0.1/Download/file?uri=mast:HLSP/tess-spoc/s0013/target/0000/0004/0403/1975/hlsp_tess-spoc_tess_phot_0000000404031975-s0013_tess_v1_lc.fits to ./mastDownload/HLSP/hlsp_tess-spoc_tess_phot_0000000404031975-s0013_tess_v1_tp/hlsp_tess-spoc_tess_phot_0000000404031975-s0013_tess_v1_lc.fits ... [Done]\n"
     ]
    },
    {
     "name": "stderr",
     "output_type": "stream",
     "text": [
      "WARNING: UnitsWarning: 'BJD - 2457000, days' did not parse as fits unit: At col 0, Unit 'BJD' not supported by the FITS standard.  If this is meant to be a custom unit, define it with 'u.def_unit'. To have it recognized inside a file reader or other code, enable it with 'u.add_enabled_units'. For details, see https://docs.astropy.org/en/latest/units/combining_and_defining.html [astropy.units.core]\n",
      "WARNING: UnitsWarning: 'e-/s' did not parse as fits unit: At col 0, Unit 'e' not supported by the FITS standard.  If this is meant to be a custom unit, define it with 'u.def_unit'. To have it recognized inside a file reader or other code, enable it with 'u.add_enabled_units'. For details, see https://docs.astropy.org/en/latest/units/combining_and_defining.html [astropy.units.core]\n",
      "WARNING: UnitsWarning: 'pixels' did not parse as fits unit: At col 0, Unit 'pixels' not supported by the FITS standard. Did you mean pixel? If this is meant to be a custom unit, define it with 'u.def_unit'. To have it recognized inside a file reader or other code, enable it with 'u.add_enabled_units'. For details, see https://docs.astropy.org/en/latest/units/combining_and_defining.html [astropy.units.core]\n"
     ]
    },
    {
     "name": "stdout",
     "output_type": "stream",
     "text": [
      "Downloading URL https://mast.stsci.edu/api/v0.1/Download/file?uri=mast:HLSP/tess-spoc/s0027/target/0000/0004/0403/1975/hlsp_tess-spoc_tess_phot_0000000404031975-s0027_tess_v1_lc.fits to ./mastDownload/HLSP/hlsp_tess-spoc_tess_phot_0000000404031975-s0027_tess_v1_tp/hlsp_tess-spoc_tess_phot_0000000404031975-s0027_tess_v1_lc.fits ... [Done]\n"
     ]
    },
    {
     "name": "stderr",
     "output_type": "stream",
     "text": [
      "WARNING: UnitsWarning: 'BJD - 2457000, days' did not parse as fits unit: At col 0, Unit 'BJD' not supported by the FITS standard.  If this is meant to be a custom unit, define it with 'u.def_unit'. To have it recognized inside a file reader or other code, enable it with 'u.add_enabled_units'. For details, see https://docs.astropy.org/en/latest/units/combining_and_defining.html [astropy.units.core]\n",
      "WARNING: UnitsWarning: 'e-/s' did not parse as fits unit: At col 0, Unit 'e' not supported by the FITS standard.  If this is meant to be a custom unit, define it with 'u.def_unit'. To have it recognized inside a file reader or other code, enable it with 'u.add_enabled_units'. For details, see https://docs.astropy.org/en/latest/units/combining_and_defining.html [astropy.units.core]\n",
      "WARNING: UnitsWarning: 'pixels' did not parse as fits unit: At col 0, Unit 'pixels' not supported by the FITS standard. Did you mean pixel? If this is meant to be a custom unit, define it with 'u.def_unit'. To have it recognized inside a file reader or other code, enable it with 'u.add_enabled_units'. For details, see https://docs.astropy.org/en/latest/units/combining_and_defining.html [astropy.units.core]\n"
     ]
    },
    {
     "name": "stdout",
     "output_type": "stream",
     "text": [
      "Downloading URL https://mast.stsci.edu/api/v0.1/Download/file?uri=mast:HLSP/tess-spoc/s0067/target/0000/0004/0403/1975/hlsp_tess-spoc_tess_phot_0000000404031975-s0067_tess_v1_lc.fits to ./mastDownload/HLSP/hlsp_tess-spoc_tess_phot_0000000404031975-s0067_tess_v1_tp/hlsp_tess-spoc_tess_phot_0000000404031975-s0067_tess_v1_lc.fits ... [Done]\n"
     ]
    },
    {
     "name": "stderr",
     "output_type": "stream",
     "text": [
      "WARNING: UnitsWarning: 'BJD - 2457000, days' did not parse as fits unit: At col 0, Unit 'BJD' not supported by the FITS standard.  If this is meant to be a custom unit, define it with 'u.def_unit'. To have it recognized inside a file reader or other code, enable it with 'u.add_enabled_units'. For details, see https://docs.astropy.org/en/latest/units/combining_and_defining.html [astropy.units.core]\n",
      "WARNING: UnitsWarning: 'e-/s' did not parse as fits unit: At col 0, Unit 'e' not supported by the FITS standard.  If this is meant to be a custom unit, define it with 'u.def_unit'. To have it recognized inside a file reader or other code, enable it with 'u.add_enabled_units'. For details, see https://docs.astropy.org/en/latest/units/combining_and_defining.html [astropy.units.core]\n",
      "WARNING: UnitsWarning: 'pixels' did not parse as fits unit: At col 0, Unit 'pixels' not supported by the FITS standard. Did you mean pixel? If this is meant to be a custom unit, define it with 'u.def_unit'. To have it recognized inside a file reader or other code, enable it with 'u.add_enabled_units'. For details, see https://docs.astropy.org/en/latest/units/combining_and_defining.html [astropy.units.core]\n"
     ]
    },
    {
     "name": "stdout",
     "output_type": "stream",
     "text": [
      "Downloading URL https://mast.stsci.edu/api/v0.1/Download/file?uri=mast:HLSP/qlp/s0094/0000/0004/0403/1975/hlsp_qlp_tess_ffi_s0094-0000000404031975_tess_v01_llc.fits to ./mastDownload/HLSP/hlsp_qlp_tess_ffi_s0094-0000000404031975_tess_v01_llc/hlsp_qlp_tess_ffi_s0094-0000000404031975_tess_v01_llc.fits ... [Done]\n",
      "\n",
      "✅ Download summary:\n",
      "Sector SPOC FFI QLP LC TESS-SPOC LC SPOC LC    Source                                                                File                                                            \n",
      "------ -------- ------ ------------ ------- ------------ ----------------------------------------------------------------------------------------------------------------------------\n",
      "    13       --     --            X      -- TESS-SPOC LC /var/folders/fs/c4gpqhmx5tbcbsv_cbs0yhn80000gn/T/tmp3is3wb7x/hlsp_tess-spoc_tess_phot_0000000404031975-s0013_tess_v1_lc.fits\n",
      "    27       --     --            X      -- TESS-SPOC LC /var/folders/fs/c4gpqhmx5tbcbsv_cbs0yhn80000gn/T/tmp3is3wb7x/hlsp_tess-spoc_tess_phot_0000000404031975-s0027_tess_v1_lc.fits\n",
      "    67       --     --            X      -- TESS-SPOC LC /var/folders/fs/c4gpqhmx5tbcbsv_cbs0yhn80000gn/T/tmp3is3wb7x/hlsp_tess-spoc_tess_phot_0000000404031975-s0067_tess_v1_lc.fits\n",
      "    94       --      X           --      --       QLP LC      /var/folders/fs/c4gpqhmx5tbcbsv_cbs0yhn80000gn/T/tmp3is3wb7x/hlsp_qlp_tess_ffi_s0094-0000000404031975_tess_v01_llc.fits\n",
      "\n",
      "Temporary data stored in: /var/folders/fs/c4gpqhmx5tbcbsv_cbs0yhn80000gn/T/tmp3is3wb7x\n",
      "This directory will be deleted when the program exits.\n",
      "W :  143\n",
      "W :  143\n",
      "W :  144\n"
     ]
    },
    {
     "name": "stderr",
     "output_type": "stream",
     "text": [
      "WARNING: UnitsWarning: 'BJD-2457000, days' did not parse as fits unit: At col 0, Unit 'BJD' not supported by the FITS standard.  If this is meant to be a custom unit, define it with 'u.def_unit'. To have it recognized inside a file reader or other code, enable it with 'u.add_enabled_units'. For details, see https://docs.astropy.org/en/latest/units/combining_and_defining.html [astropy.units.core]\n"
     ]
    },
    {
     "name": "stdout",
     "output_type": "stream",
     "text": [
      "W :  144\n",
      "W :  144\n",
      "W :  144\n",
      "W :  111\n",
      "W :  144\n",
      "W :  103\n",
      "W :  144\n",
      "W :  144\n",
      "W :  144\n",
      "W :  1\n",
      "W :  16\n",
      "W :  144\n",
      "Initial Chi-Sqaured : 538.57 [red 6.90]\n",
      "Fitted parameters for TIC-404031975:\n",
      "t_zero : 2458660.71078267\n",
      "radius_1 : 0.07262259090114999\n",
      "k : 0.1875614004085211\n",
      "b : 1.0816751382892709\n",
      "Final Chi-Sqaured : 87.05 [red 1.12]\n",
      "Initial Chi-Sqaured : 320.39 [red 4.78]\n",
      "Fitted parameters for TIC-404031975:\n",
      "t_zero : 2460135.053485912\n",
      "radius_1 : 0.05950448276472073\n",
      "k : 0.09269145071021592\n",
      "b : 0.9437972602685394\n",
      "Final Chi-Sqaured : 78.98 [red 1.18]\n",
      "1 99 1 98.289513549457 1474.342703241855 15 15.044313298386275\n",
      "0 0.5887318405550426\n",
      "1 0.5887318405384131\n",
      "2 0.588731840541739\n",
      "3 0.5887318405435531\n",
      "4 0.5887318405444601\n",
      "5 0.5887318405450649\n",
      "6 0.5887318405604849\n",
      "7 0.5887318405589731\n",
      "8 0.5887318405810448\n",
      "9 0.5887318405568566\n",
      "10 0.5887318405562519\n",
      "11 0.5887318405553449\n",
      "12 0.5887318405550426\n",
      "13 0.5887318405695554\n",
      "14 -5015.087847488521\n",
      "15 0.5887318405538331\n",
      "16 0.5887318405780213\n",
      "17 0.5887318405765096\n",
      "18 0.5887318405749978\n",
      "19 0.5887318405526237\n",
      "20 0.5887318405523214\n",
      "21 0.5887318405523214\n",
      "22 -19882.361797626105\n",
      "23 0.5887318405520189\n",
      "24 0.5887318405517166\n",
      "25 -114222.00794746648\n",
      "26 -3132.929190146974\n",
      "27 0.5887318405665319\n",
      "28 0.5887318405659272\n",
      "29 -5015.087847492243\n",
      "30 -2907.9732754516476\n",
      "31 0.5887318405378084\n",
      "32 0.5887318405638108\n",
      "33 -5915.5728882823005\n",
      "34 -21732.667722358023\n",
      "35 0.5887318405622989\n",
      "36 0.5887318405393202\n",
      "37 0.5887318405616943\n",
      "38 -6245.494022494547\n",
      "39 0.5887318405399249\n",
      "40 -13261.44842988765\n",
      "41 0.5887318405405295\n",
      "42 -10435.49302326277\n",
      "43 0.5887318405408318\n",
      "44 -5015.0878474882575\n",
      "45 -19882.361797612903\n",
      "46 -4939.270860115832\n",
      "47 0.5887318405414366\n",
      "48 -4222.251407369444\n",
      "49 -9211.61272722216\n",
      "50 -1986.0652694750647\n",
      "51 -114222.00794750752\n",
      "52 -51726.10173772984\n",
      "53 -3132.929190147802\n",
      "54 0.5887318405574613\n",
      "55 -8836.866850478269\n",
      "56 0.588731840542646\n",
      "57 -9642.21971943043\n",
      "58 0.5887318405568566\n",
      "59 -5015.087847491809\n",
      "60 0.5887318405565543\n",
      "61 -2907.9732754515726\n",
      "62 -74.08000847674084\n",
      "63 -1541.3001164649777\n",
      "64 0.5887318405689508\n",
      "65 -6372.145639366482\n",
      "66 -8737.328611452202\n",
      "67 -6186.5277764080965\n",
      "68 -20502.09210730719\n",
      "69 -22386.204234370754\n",
      "70 -2755.398084418786\n",
      "71 -4356.389146397889\n",
      "72 -4080.6709083289747\n",
      "73 -2404.5535818039507\n",
      "74 -5639.252162134077\n",
      "75 -690.343245011642\n",
      "76 -5769.00583166413\n",
      "77 -121118.825291191\n",
      "78 -3786.1933958937366\n",
      "79 -649.1215509132653\n",
      "80 -3745.640754517606\n",
      "81 -52289.04959440332\n",
      "82 -2433.2215854037863\n",
      "83 -637.4799744294157\n",
      "84 -3123.8189034151687\n",
      "85 -30736.461545282127\n",
      "86 -3285.0503305386223\n",
      "87 -645.6212809309012\n",
      "88 -28175.529009946353\n",
      "89 -18129.77820118183\n",
      "90 -5812.967079558624\n",
      "91 -20480.732454263976\n",
      "92 -9003.301175269275\n",
      "93 -34280.048353017504\n",
      "94 -1399.4528450090565\n",
      "95 -2847.847052793258\n",
      "96 -141491.01191145656\n",
      "97 -7720.735667632565\n"
     ]
    },
    {
     "name": "stderr",
     "output_type": "stream",
     "text": [
      "100%|████████████████████████████████████████████████████████████████████████████████████████████████████████████████████████████████████████████████████████████████████████████████████████████████████████████████| 98/98 [00:12<00:00,  7.88it/s]\n"
     ]
    },
    {
     "name": "stdout",
     "output_type": "stream",
     "text": [
      "\n",
      "📂 Download directory: /var/folders/fs/c4gpqhmx5tbcbsv_cbs0yhn80000gn/T/tmptuhuhy4y\n",
      "\n",
      "Querying TIC 453029782 from MAST...\n",
      "Downloading URL https://mast.stsci.edu/api/v0.1/Download/file?uri=mast:HLSP/tess-spoc/s0008/target/0000/0004/5302/9782/hlsp_tess-spoc_tess_phot_0000000453029782-s0008_tess_v1_lc.fits to ./mastDownload/HLSP/hlsp_tess-spoc_tess_phot_0000000453029782-s0008_tess_v1_tp/hlsp_tess-spoc_tess_phot_0000000453029782-s0008_tess_v1_lc.fits ... [Done]\n"
     ]
    },
    {
     "name": "stderr",
     "output_type": "stream",
     "text": [
      "WARNING: UnitsWarning: 'BJD - 2457000, days' did not parse as fits unit: At col 0, Unit 'BJD' not supported by the FITS standard.  If this is meant to be a custom unit, define it with 'u.def_unit'. To have it recognized inside a file reader or other code, enable it with 'u.add_enabled_units'. For details, see https://docs.astropy.org/en/latest/units/combining_and_defining.html [astropy.units.core]\n",
      "WARNING: UnitsWarning: 'e-/s' did not parse as fits unit: At col 0, Unit 'e' not supported by the FITS standard.  If this is meant to be a custom unit, define it with 'u.def_unit'. To have it recognized inside a file reader or other code, enable it with 'u.add_enabled_units'. For details, see https://docs.astropy.org/en/latest/units/combining_and_defining.html [astropy.units.core]\n",
      "WARNING: UnitsWarning: 'pixels' did not parse as fits unit: At col 0, Unit 'pixels' not supported by the FITS standard. Did you mean pixel? If this is meant to be a custom unit, define it with 'u.def_unit'. To have it recognized inside a file reader or other code, enable it with 'u.add_enabled_units'. For details, see https://docs.astropy.org/en/latest/units/combining_and_defining.html [astropy.units.core]\n"
     ]
    },
    {
     "name": "stdout",
     "output_type": "stream",
     "text": [
      "Downloading URL https://mast.stsci.edu/api/v0.1/Download/file?uri=mast:TESS/product/tess2021039152502-s0035-0000000453029782-0205-s_lc.fits to ./mastDownload/TESS/tess2021039152502-s0035-0000000453029782-0205-s/tess2021039152502-s0035-0000000453029782-0205-s_lc.fits ... [Done]\n"
     ]
    },
    {
     "name": "stderr",
     "output_type": "stream",
     "text": [
      "WARNING: UnitsWarning: 'BJD - 2457000, days' did not parse as fits unit: At col 0, Unit 'BJD' not supported by the FITS standard.  If this is meant to be a custom unit, define it with 'u.def_unit'. To have it recognized inside a file reader or other code, enable it with 'u.add_enabled_units'. For details, see https://docs.astropy.org/en/latest/units/combining_and_defining.html [astropy.units.core]\n",
      "WARNING: UnitsWarning: 'e-/s' did not parse as fits unit: At col 0, Unit 'e' not supported by the FITS standard.  If this is meant to be a custom unit, define it with 'u.def_unit'. To have it recognized inside a file reader or other code, enable it with 'u.add_enabled_units'. For details, see https://docs.astropy.org/en/latest/units/combining_and_defining.html [astropy.units.core]\n",
      "WARNING: UnitsWarning: 'pixels' did not parse as fits unit: At col 0, Unit 'pixels' not supported by the FITS standard. Did you mean pixel? If this is meant to be a custom unit, define it with 'u.def_unit'. To have it recognized inside a file reader or other code, enable it with 'u.add_enabled_units'. For details, see https://docs.astropy.org/en/latest/units/combining_and_defining.html [astropy.units.core]\n"
     ]
    },
    {
     "name": "stdout",
     "output_type": "stream",
     "text": [
      "Downloading URL https://mast.stsci.edu/api/v0.1/Download/file?uri=mast:TESS/product/tess2021310001228-s0045-0000000453029782-0216-s_lc.fits to ./mastDownload/TESS/tess2021310001228-s0045-0000000453029782-0216-s/tess2021310001228-s0045-0000000453029782-0216-s_lc.fits ... [Done]\n"
     ]
    },
    {
     "name": "stderr",
     "output_type": "stream",
     "text": [
      "WARNING: UnitsWarning: 'BJD - 2457000, days' did not parse as fits unit: At col 0, Unit 'BJD' not supported by the FITS standard.  If this is meant to be a custom unit, define it with 'u.def_unit'. To have it recognized inside a file reader or other code, enable it with 'u.add_enabled_units'. For details, see https://docs.astropy.org/en/latest/units/combining_and_defining.html [astropy.units.core]\n",
      "WARNING: UnitsWarning: 'e-/s' did not parse as fits unit: At col 0, Unit 'e' not supported by the FITS standard.  If this is meant to be a custom unit, define it with 'u.def_unit'. To have it recognized inside a file reader or other code, enable it with 'u.add_enabled_units'. For details, see https://docs.astropy.org/en/latest/units/combining_and_defining.html [astropy.units.core]\n",
      "WARNING: UnitsWarning: 'pixels' did not parse as fits unit: At col 0, Unit 'pixels' not supported by the FITS standard. Did you mean pixel? If this is meant to be a custom unit, define it with 'u.def_unit'. To have it recognized inside a file reader or other code, enable it with 'u.add_enabled_units'. For details, see https://docs.astropy.org/en/latest/units/combining_and_defining.html [astropy.units.core]\n"
     ]
    },
    {
     "name": "stdout",
     "output_type": "stream",
     "text": [
      "Downloading URL https://mast.stsci.edu/api/v0.1/Download/file?uri=mast:TESS/product/tess2021336043614-s0046-0000000453029782-0217-s_lc.fits to ./mastDownload/TESS/tess2021336043614-s0046-0000000453029782-0217-s/tess2021336043614-s0046-0000000453029782-0217-s_lc.fits ... [Done]\n"
     ]
    },
    {
     "name": "stderr",
     "output_type": "stream",
     "text": [
      "WARNING: UnitsWarning: 'BJD - 2457000, days' did not parse as fits unit: At col 0, Unit 'BJD' not supported by the FITS standard.  If this is meant to be a custom unit, define it with 'u.def_unit'. To have it recognized inside a file reader or other code, enable it with 'u.add_enabled_units'. For details, see https://docs.astropy.org/en/latest/units/combining_and_defining.html [astropy.units.core]\n",
      "WARNING: UnitsWarning: 'e-/s' did not parse as fits unit: At col 0, Unit 'e' not supported by the FITS standard.  If this is meant to be a custom unit, define it with 'u.def_unit'. To have it recognized inside a file reader or other code, enable it with 'u.add_enabled_units'. For details, see https://docs.astropy.org/en/latest/units/combining_and_defining.html [astropy.units.core]\n",
      "WARNING: UnitsWarning: 'pixels' did not parse as fits unit: At col 0, Unit 'pixels' not supported by the FITS standard. Did you mean pixel? If this is meant to be a custom unit, define it with 'u.def_unit'. To have it recognized inside a file reader or other code, enable it with 'u.add_enabled_units'. For details, see https://docs.astropy.org/en/latest/units/combining_and_defining.html [astropy.units.core]\n"
     ]
    },
    {
     "name": "stdout",
     "output_type": "stream",
     "text": [
      "Downloading URL https://mast.stsci.edu/api/v0.1/Download/file?uri=mast:HLSP/tess-spoc/s0072/target/0000/0004/5302/9782/hlsp_tess-spoc_tess_phot_0000000453029782-s0072_tess_v1_lc.fits to ./mastDownload/HLSP/hlsp_tess-spoc_tess_phot_0000000453029782-s0072_tess_v1_tp/hlsp_tess-spoc_tess_phot_0000000453029782-s0072_tess_v1_lc.fits ... [Done]\n",
      "\n",
      "✅ Download summary:\n",
      "Sector SPOC FFI QLP LC TESS-SPOC LC SPOC LC     Source                                                                File                                                            \n",
      "------ -------- ------ ------------ ------- ------------- ----------------------------------------------------------------------------------------------------------------------------\n",
      "     8       --     --            X      --  TESS-SPOC LC /var/folders/fs/c4gpqhmx5tbcbsv_cbs0yhn80000gn/T/tmptuhuhy4y/hlsp_tess-spoc_tess_phot_0000000453029782-s0008_tess_v1_lc.fits\n",
      "    35       --     --           --       X       SPOC LC         /var/folders/fs/c4gpqhmx5tbcbsv_cbs0yhn80000gn/T/tmptuhuhy4y/tess2021039152502-s0035-0000000453029782-0205-s_lc.fits\n",
      "    45       --     --           --       X       SPOC LC         /var/folders/fs/c4gpqhmx5tbcbsv_cbs0yhn80000gn/T/tmptuhuhy4y/tess2021310001228-s0045-0000000453029782-0216-s_lc.fits\n",
      "    46       --     --           --       X       SPOC LC         /var/folders/fs/c4gpqhmx5tbcbsv_cbs0yhn80000gn/T/tmptuhuhy4y/tess2021336043614-s0046-0000000453029782-0217-s_lc.fits\n",
      "    62        X     --           --      -- FFI custom LC          /var/folders/fs/c4gpqhmx5tbcbsv_cbs0yhn80000gn/T/tmptuhuhy4y/tess-s0062-1-4_144.302244_4.971942_10x10_astrocut.fits\n",
      "    72       --     --            X      --  TESS-SPOC LC /var/folders/fs/c4gpqhmx5tbcbsv_cbs0yhn80000gn/T/tmptuhuhy4y/hlsp_tess-spoc_tess_phot_0000000453029782-s0072_tess_v1_lc.fits\n",
      "\n",
      "Temporary data stored in: /var/folders/fs/c4gpqhmx5tbcbsv_cbs0yhn80000gn/T/tmptuhuhy4y\n",
      "This directory will be deleted when the program exits.\n",
      "W :  143\n",
      "W :  144\n"
     ]
    },
    {
     "name": "stderr",
     "output_type": "stream",
     "text": [
      "WARNING: UnitsWarning: 'BJD - 2457000, days' did not parse as fits unit: At col 0, Unit 'BJD' not supported by the FITS standard.  If this is meant to be a custom unit, define it with 'u.def_unit'. To have it recognized inside a file reader or other code, enable it with 'u.add_enabled_units'. For details, see https://docs.astropy.org/en/latest/units/combining_and_defining.html [astropy.units.core]\n",
      "WARNING: UnitsWarning: 'e-/s' did not parse as fits unit: At col 0, Unit 'e' not supported by the FITS standard.  If this is meant to be a custom unit, define it with 'u.def_unit'. To have it recognized inside a file reader or other code, enable it with 'u.add_enabled_units'. For details, see https://docs.astropy.org/en/latest/units/combining_and_defining.html [astropy.units.core]\n",
      "WARNING: UnitsWarning: 'pixels' did not parse as fits unit: At col 0, Unit 'pixels' not supported by the FITS standard. Did you mean pixel? If this is meant to be a custom unit, define it with 'u.def_unit'. To have it recognized inside a file reader or other code, enable it with 'u.add_enabled_units'. For details, see https://docs.astropy.org/en/latest/units/combining_and_defining.html [astropy.units.core]\n"
     ]
    },
    {
     "name": "stdout",
     "output_type": "stream",
     "text": [
      "W :  144\n",
      "W :  30\n",
      "W :  144\n",
      "W :  144\n",
      "W :  36\n",
      "W :  144\n",
      "W :  144\n",
      "W :  144\n",
      "W :  144\n",
      "W :  144\n",
      "W :  144\n",
      "W :  144\n",
      "W :  144\n",
      "W :  144\n",
      "W :  109\n",
      "W :  144\n",
      "Initial Chi-Sqaured : 119.82 [red 2.40]\n",
      "Fitted parameters for TIC-453029782:\n",
      "t_zero : 2458519.1610694206\n",
      "radius_1 : 0.06819408447507246\n",
      "k : 0.17567484064392436\n",
      "b : 1.1119664361474377\n",
      "Final Chi-Sqaured : 63.71 [red 1.27]\n",
      "Initial Chi-Sqaured : 298.03 [red 5.05]\n",
      "Fitted parameters for TIC-453029782:\n",
      "t_zero : 2459550.107474691\n",
      "radius_1 : 0.02906303302829602\n",
      "k : 0.05892199322732097\n",
      "b : 0.8264631244166017\n",
      "Final Chi-Sqaured : 139.68 [red 2.37]\n",
      "1 69 1 68.72976035134246 1030.946405270137 15 15.160976548090249\n",
      "0 -0.5963668971797642\n",
      "1 -0.5963668971872713\n",
      "2 -0.5963668971810705\n",
      "3 -0.59636689718641\n",
      "4 -0.5963668971879468\n",
      "5 -0.5963668971805136\n",
      "6 -0.596366897187542\n",
      "7 -0.5963668971791667\n",
      "8 -0.5963668971795868\n",
      "9 -0.5963668971860108\n",
      "10 -0.5963668971820517\n",
      "11 -0.596366897178751\n",
      "12 -0.5963668971868861\n",
      "13 -0.5963668971860836\n",
      "14 -37.57551846124152\n",
      "15 -0.5963668971799481\n",
      "16 -0.5963668971783538\n",
      "17 -82.95198543076097\n",
      "18 -96.99703020304443\n",
      "19 -0.5963668971864828\n",
      "20 -0.5963668971812579\n",
      "21 -0.5963668971827238\n",
      "22 -0.5963668971902385\n",
      "23 -0.5963668971794283\n",
      "24 -74.43691967665255\n",
      "25 -84.94809072712296\n",
      "26 -0.5963668971856311\n",
      "27 -0.596366897186446\n",
      "28 -63.840745073600495\n",
      "29 -37.57551846123814\n",
      "30 -0.5963668971885125\n",
      "31 -121.2442214877601\n",
      "32 -0.5963668971944973\n",
      "33 -78.19048965168408\n",
      "34 -0.5963668971838969\n",
      "35 -82.95198543075534\n",
      "36 -0.5963668971888549\n",
      "37 -96.99703020306714\n",
      "38 -63.91977942248527\n",
      "39 -99.19531761585726\n",
      "40 -60.34621527094648\n",
      "41 -0.6180037404777714\n",
      "42 -61.36824487511154\n",
      "43 -94.3463104657295\n",
      "44 -83.36453180184171\n",
      "45 -144.28018987581487\n",
      "46 -180.4052451536767\n",
      "47 -98.94124997626248\n",
      "48 -179.66697300082805\n",
      "49 -198.71242235266945\n",
      "50 -213.88043621157928\n",
      "51 -253.06273585458595\n",
      "52 -216.3178435772831\n",
      "53 -178.50326264438058\n",
      "54 -89.98300767151113\n",
      "55 -305.8210690518354\n",
      "56 -281.78502685891806\n",
      "57 -145.15846449726882\n",
      "58 -87.65090947171562\n",
      "59 -233.52018610613428\n",
      "60 -303.3699573427127\n",
      "61 -61.02700101544987\n",
      "62 -47.64656930581671\n",
      "63 -271.4651855621604\n",
      "64 -123.75818866679876\n",
      "65 -84.28524895920158\n",
      "66 -123.17325665352445\n",
      "67 -259.4542567862958\n"
     ]
    },
    {
     "name": "stderr",
     "output_type": "stream",
     "text": [
      "100%|████████████████████████████████████████████████████████████████████████████████████████████████████████████████████████████████████████████████████████████████████████████████████████████████████████████████| 68/68 [00:13<00:00,  5.18it/s]\n"
     ]
    },
    {
     "name": "stdout",
     "output_type": "stream",
     "text": [
      "No transists visible\n",
      "\n",
      "📂 Download directory: /var/folders/fs/c4gpqhmx5tbcbsv_cbs0yhn80000gn/T/tmp6gtyuyv3\n",
      "\n"
     ]
    }
   ],
   "source": [
    "for i in range(len(duos))[:]:   \n",
    "    # Create the output dir (we'll use this as cache for the data too)\n",
    "    output_dir = os.getcwd() + '/{:}'.format(duos['tic_id'][i])\n",
    "    os.system('mkdir -p {:}'.format(output_dir))\n",
    "    if os.path.isfile(output_dir + '/' + 'TIC-{:}_ALIASES.png'.format(duos['tic_id'][i])) : continue\n",
    "\n",
    "    # Now load the TESS data (SPOC, QLP)\n",
    "    # We are not making our own here like TESSTPF, not yet anyway...\n",
    "    # for data_type\n",
    "    #   single_product -> all sectors together\n",
    "    #   per_sector -> list of per-sector lightcurves\n",
    "    #   northern_duos -> YEARS 2 and 4, then a list of other sectors \n",
    "    #   southern -> YEARS 1 and 3, then a list of other sectors (NOT IMPLEMENTED YET) \n",
    "    t, data,data_labels, base_dir =  bruce.ambiguous_period.download_tess_data(duos['tic_id'][i], \n",
    "                                                              max_sector=None, \n",
    "                                                                   use_ffi=True, \n",
    "                                                                   download_dir=None, \n",
    "                                                                   bin_length=0.5/24)\n",
    "    \n",
    "    # Now flatten the data\n",
    "    for j, k in zip(data, data_labels):\n",
    "        # Flatten the data by SG filter, we need an odd kernel legth based on cadence\n",
    "        j.flatten_data_old(window_width=3, sigmaclip=3, dx_lim=0.1)\n",
    "\n",
    "\n",
    "#         for seg in bruce.data.find_nights_from_data(j.time, dx_lim=0.2):\n",
    "#             j.w = np.ones(j.time.shape[0])*np.median(j.flux)\n",
    "\n",
    "        # Optinally save the data\n",
    "        j.write_data(output_dir + '/' +'TESS_DATA_{:}.txt'.format(k))\n",
    "        fig, ax = j.plot_segments(dx_lim=0.5)\n",
    "        fig.savefig(output_dir + '/' + 'TESS_DATA_{:}.png'.format(k))\n",
    "        plt.close(fig)\n",
    "\n",
    "    # # Now re-order_datasets based on epochs given\n",
    "    # We will unpack now, (data with transits, and data without)\n",
    "    # We may need to change this for it to work properly (Sam is working on it)\n",
    "    # Its worth noting we can incorparate ground based data here too\n",
    "    # data_from_ground = bruce.ambiguous_period.mono_event.photometry_time_series(time, flux, flux_err, w = norm_model)\n",
    "    # Then this can go in data_other_sectors\n",
    "    data, data_labels = bruce.ambiguous_period.group_data_by_epochs(data, data_labels, duos['t_zero_1'][i], duos['t_zero_2'][i])\n",
    "    data, data_other_sectors = data[0], data[1:]\n",
    "\n",
    "\n",
    "\n",
    "    ############################\n",
    "    # FIT EVENT 1\n",
    "    ############################\n",
    "    # Mask data and create the mono_event object\n",
    "    nmask = 3\n",
    "    mask1 = (data.time > (duos['t_zero_1'][i] - nmask*duos['width_1'][i])) &  (data.time < (duos['t_zero_1'][i] + nmask*duos['width_1'][i]))\n",
    "    data_event_1 = bruce.ambiguous_period.photometry_time_series(data.time[mask1], data.flux[mask1], data.flux_err[mask1], w=data.w[mask1]) #np.percentile(data.flux[mask1], 50)*np.ones(data.time[mask1].shape[0])\n",
    "    m1 = bruce.ambiguous_period.mono_event(duos['t_zero_1'][i], duos['width_1'][i], duos['depth_1'][i], data_event_1, name='TIC-{:}'.format(duos['tic_id'][i]), median_bin_size = None,convolve_bin_size = None)\n",
    "    \n",
    "    # Fit the event and report plots\n",
    "    fig_initial, ax_initial, fig_final, ax_final, return_data_1 = m1.fit_event_with_fixed_period(fit_period=30., plot=True, )\n",
    "    fig_initial.tight_layout()\n",
    "    fig_final.tight_layout()\n",
    "    fig_initial.savefig(output_dir + '/' + 'TIC-{:}_EVENT_1_INITIAL_INITIAL.png'.format(duos['tic_id'][i]))\n",
    "    fig_final.savefig(output_dir + '/' + 'TIC-{:}_EVENT_1_INITIAL_FINAL.png'.format(duos['tic_id'][i]))\n",
    "    plt.close(fig_initial); plt.close(fig_final)\n",
    "\n",
    "\n",
    "    ############################\n",
    "    # FIT EVENT 2\n",
    "    ############################\n",
    "    # Mask data and create the mono_event object\n",
    "    mask2 = (data.time > (duos['t_zero_2'][i] - nmask*duos['width_2'][i])) &  (data.time < (duos['t_zero_2'][i] + nmask*duos['width_2'][i]))\n",
    "    data_event_2 = bruce.ambiguous_period.photometry_time_series(data.time[mask2], data.flux[mask2], data.flux_err[mask2], w=data.w[mask2]) #np.percentile(data.flux[mask2], 50)*np.ones(data.time[mask2].shape[0])\n",
    "    m2 = bruce.ambiguous_period.mono_event(duos['t_zero_2'][i], duos['width_2'][i], duos['depth_2'][i], data_event_2, name='TIC-{:}'.format(duos['tic_id'][i]), median_bin_size = None,convolve_bin_size = 3)\n",
    "\n",
    "    # Fit the event and report plots\n",
    "    fig_initial, ax_initial, fig_final, ax_final, return_data_2 = m2.fit_event_with_fixed_period(fit_period=30., plot=True, )\n",
    "    fig_initial.tight_layout()\n",
    "    fig_final.tight_layout()\n",
    "    fig_initial.savefig(output_dir + '/' + 'TIC-{:}_EVENT_2_INITIAL_INITIAL.png'.format(duos['tic_id'][i]))\n",
    "    fig_final.savefig(output_dir + '/' + 'TIC-{:}_EVENT_2_INITIAL_FINAL.png'.format(duos['tic_id'][i]))\n",
    "    plt.close(fig_initial); plt.close(fig_final)\n",
    "\n",
    "    # We are going to make a nice plot of the two events with their models\n",
    "    fig, ax = plt.subplots(1,2, gridspec_kw={'hspace' : 0, 'wspace' : 0}, figsize = (6.4, 3.8))\n",
    "    ax[0].errorbar(return_data_1[0], return_data_1[1], yerr=return_data_1[2], fmt='k.', alpha = 0.1)\n",
    "    ax[0].plot(return_data_1[3], return_data_1[4], c='orange')\n",
    "    ax[1].errorbar(return_data_2[0], return_data_2[1], yerr=return_data_2[2], fmt='k.', alpha = 0.1)\n",
    "    ax[1].plot(return_data_2[3], return_data_2[4], c='orange')\n",
    "    ax[1].set(yticks=[])\n",
    "    ylim1 = ax[0].get_ylim()\n",
    "    ylim2 = ax[1].get_ylim()\n",
    "    ylim = [min(ylim1[0],ylim2[0]), max(ylim1[1], ylim2[1])]\n",
    "    ax[0].set_ylim(ylim)\n",
    "    ax[1].set_ylim(ylim)\n",
    "    fig.supxlabel('Time from Transit [d]', fontsize=18, x=0.55, y = -0.005)\n",
    "    fig.supylabel('Flux', fontsize=18)\n",
    "    fig.suptitle(m2.name, y=0.95, x=0.55, bbox=dict(facecolor='white', edgecolor='black', boxstyle='round,pad=0.3', alpha=1.0), ha='center', fontsize=18)\n",
    "    plt.subplots_adjust(right=0.99, top=0.99, bottom=0.13)\n",
    "    fig.savefig(output_dir + '/' + 'TIC-{:}_BOTH_EVENTS.png'.format(duos['tic_id'][i]))\n",
    "    plt.close(fig)\n",
    "\n",
    "    ########################################################\n",
    "    # CREATE THE AMBIGUOUS PERIOD OBJECT\n",
    "    ########################################################\n",
    "    p = bruce.ambiguous_period.ambiguous_period(data, events=[m1,m2], name='TIC-{:}'.format(duos['tic_id'][i]),\n",
    "                        median_bin_size = 2,convolve_bin_size = 2)\n",
    "\n",
    "    # Now mask and filter \n",
    "    p.mask_and_filter_events()\n",
    "\n",
    "    # Calculate aliases\n",
    "    # Do not use nsolutions_events here (that is superceeded later)\n",
    "    nsolutions_events = p.calcualte_aliases(dx_lim=0.03, min_period=15)\n",
    "\n",
    "    # Now calcualte whether we saw a transit by comparing the model to a flat line\n",
    "    delta_L_data = p.calcualte_data_delta_L(data)\n",
    "    #delta_L_data = delta_L_data + 100 # THIS FUDGE IS OFTEN NEEDED\n",
    "    for j in range(delta_L_data.shape[0]):\n",
    "        print(j, delta_L_data[j])\n",
    "    delta_L_data_from_other_sectors_or_others = [p.calcualte_data_delta_L(j) for j in data_other_sectors]\n",
    "    p.delta_L = np.array([delta_L_data, *delta_L_data_from_other_sectors_or_others])\n",
    "\n",
    "\n",
    "    ########################################################\n",
    "    # Plot the aliases\n",
    "    ########################################################\n",
    "    fig, ax  = p.plot_aliases(phot_data=data_other_sectors, phot_data_labels=data_labels)\n",
    "    fig.savefig(output_dir + '/' + 'TIC-{:}_ALIASES.png'.format(duos['tic_id'][i]), dpi=300)\n",
    "    plt.close(fig)\n",
    "    \n",
    "    ########################################################\n",
    "    # Now report the aliases\n",
    "    ########################################################\n",
    "    aliases = (p.aliases)[p.alias_mask[:,-1]==p.alias_mask.max()]\n",
    "    periods = (p.max_period/p.aliases)[p.alias_mask[:,-1]==p.alias_mask.max()]\n",
    "    alaises = Table()\n",
    "    alaises.add_column(Column(duos['tic_id'][i]*np.ones(len(aliases), dtype=int), name='tic_id'))\n",
    "    alaises.add_column(Column(m1.de_get_epoch()*np.ones(len(aliases)), name='t_zero_1'))\n",
    "    alaises.add_column(Column(m1.de_get_radius_1()*np.ones(len(aliases)), name='radius_1_1'))\n",
    "    alaises.add_column(Column(m1.de_get_k()*np.ones(len(aliases)), name='k_1'))\n",
    "    alaises.add_column(Column(m1.de_get_b()*np.ones(len(aliases)), name='b_1'))\n",
    "    alaises.add_column(Column(m1.de_transit_width()*np.ones(len(aliases)), name='width_1'))\n",
    "    alaises.add_column(Column(m2.de_get_epoch()*np.ones(len(aliases)), name='t_zero_2'))\n",
    "    alaises.add_column(Column(m2.de_get_radius_1()*np.ones(len(aliases)), name='radius_1_2'))\n",
    "    alaises.add_column(Column(m2.de_get_k()*np.ones(len(aliases)), name='k_2'))\n",
    "    alaises.add_column(Column(m2.de_get_b()*np.ones(len(aliases)), name='b_2'))\n",
    "    alaises.add_column(Column(m2.de_transit_width()*np.ones(len(aliases)), name='width_2'))\n",
    "    alaises.add_column(Column(aliases, name='alias'))\n",
    "    alaises.add_column(Column(periods, name='period'))\n",
    "    alaises.write(output_dir + '/' + 'TIC-{:}_ALIASES.fits'.format(duos['tic_id'][i]), overwrite=True)\n",
    "\n",
    "    \n",
    "    ########################################################\n",
    "    # Now plan the aliases\n",
    "    ########################################################\n",
    "    transit_events = p.transit_plan(start=Time.now(), end = Time.now()+TimeDelta(30, format='jd'), resolution = 1*u.minute,\n",
    "                    tic_id=duos['tic_id'][i], observatory='Paranal',\n",
    "                    sun_max_alt=-15, target_min_alt=30, moon_min_seperation=20,\n",
    "                    min_time_in_transit=None, min_frac_in_transit=None)\n",
    "    transit_events.write(output_dir + '/' + 'TIC-{:}_ALIASES_WINDOWS_PARANAL.fits'.format(duos['tic_id'][i]), overwrite=True)\n",
    "        "
   ]
  },
  {
   "cell_type": "markdown",
   "id": "f1afb201",
   "metadata": {},
   "source": [
    "# Now lok for solved systems"
   ]
  },
  {
   "cell_type": "code",
   "execution_count": null,
   "id": "e7a835e3",
   "metadata": {},
   "outputs": [],
   "source": [
    "import glob\n",
    "files = glob.glob('*/TIC-*_ALIASES.fits')\n",
    "\n",
    "os.system('mkdir -p solved_systems; rm solved_systems/*')\n",
    "\n",
    "for i in range(len(files)):\n",
    "    tic_id  = int(files[i].split('/')[0])\n",
    "    t = Table.read(files[i])\n",
    "    if len(t)==1:\n",
    "        os.system('cp {:}/TIC-{:}_ALIASES.png solved_systems'.format(tic_id,tic_id))\n",
    "        \n",
    "        print('{:}, {:}, {:}'.format(tic_id,  t['t_zero_1'][0], t['period'][0]))\n",
    "        "
   ]
  },
  {
   "cell_type": "markdown",
   "id": "286f8440",
   "metadata": {},
   "source": [
    "# Now make predictions about when they will transit"
   ]
  },
  {
   "cell_type": "code",
   "execution_count": null,
   "id": "7537eac2",
   "metadata": {},
   "outputs": [],
   "source": [
    "from astropy.table import vstack\n",
    "vstack([Table.read(i) for i in files])"
   ]
  },
  {
   "cell_type": "code",
   "execution_count": null,
   "id": "4ca85204",
   "metadata": {},
   "outputs": [],
   "source": []
  }
 ],
 "metadata": {
  "kernelspec": {
   "display_name": "Python 3 (ipykernel)",
   "language": "python",
   "name": "python3"
  },
  "language_info": {
   "codemirror_mode": {
    "name": "ipython",
    "version": 3
   },
   "file_extension": ".py",
   "mimetype": "text/x-python",
   "name": "python",
   "nbconvert_exporter": "python",
   "pygments_lexer": "ipython3",
   "version": "3.9.13"
  }
 },
 "nbformat": 4,
 "nbformat_minor": 5
}
